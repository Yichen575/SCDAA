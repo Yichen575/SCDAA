{
 "cells": [
  {
   "cell_type": "code",
   "execution_count": 1,
   "metadata": {},
   "outputs": [],
   "source": [
    "import numpy as np\n",
    "from scipy.integrate import solve_ivp\n",
    "\n",
    "class LQR:\n",
    "    def __init__(self, A, B, Q, R, x0, t_span):\n",
    "        self.A = A\n",
    "        self.B = B\n",
    "        self.Q = Q\n",
    "        self.R = R\n",
    "        self.x0 = x0\n",
    "        self.t_span = t_span\n",
    "        \n",
    "        self.P = np.zeros_like(Q)\n",
    "        self.K = np.zeros((B.shape[1], A.shape[0]))\n",
    "        \n",
    "    def riccati_solver(self, t, P):\n",
    "        P = P.reshape(self.Q.shape)\n",
    "        dPdt = -self.Q - self.A.T @ P - P @ self.A + P @ self.B @ np.linalg.inv(self.R) @ self.B.T @ P\n",
    "        return dPdt.reshape(-1)\n",
    "    \n",
    "    def compute_gain_matrix(self):\n",
    "        sol = solve_ivp(self.riccati_solver, self.t_span, self.P.reshape(-1))\n",
    "        self.P = sol.y[:, -1].reshape(self.Q.shape)\n",
    "        self.K = np.linalg.inv(self.R) @ self.B.T @ self.P\n",
    "        \n",
    "    def compute_control_input(self, x):\n",
    "        return -self.K @ x\n",
    "    \n",
    "    def simulate(self):\n",
    "        sol = solve_ivp(lambda t, x: self.A @ x + self.B @ self.compute_control_input(x), self.t_span, self.x0)\n",
    "        return sol.t, sol.y\n"
   ]
  },
  {
   "cell_type": "code",
   "execution_count": 4,
   "metadata": {},
   "outputs": [
    {
     "data": {
      "text/plain": [
       "<__main__.LQR at 0x7fcd0063dbe0>"
      ]
     },
     "execution_count": 4,
     "metadata": {},
     "output_type": "execute_result"
    }
   ],
   "source": [
    "A = np.array([[0, 1], [-1, 0]])\n",
    "B = np.array([[0], [1]])\n",
    "Q = np.eye(2)\n",
    "R = np.array([[1]])\n",
    "x0 = np.array([1, 0])\n",
    "t_span = (0, 10)\n",
    "\n",
    "lqr = LQR(A, B, Q, R, x0, t_span)\n",
    "\n"
   ]
  },
  {
   "cell_type": "code",
   "execution_count": 6,
   "metadata": {},
   "outputs": [
    {
     "data": {
      "text/plain": [
       "array([[ 1.00000000e+00,  9.99999647e-01,  9.99957158e-01,\n",
       "         9.95498259e-01,  6.83578731e-01, -1.22157946e+00,\n",
       "        -5.14900650e+00, -8.76572393e+00, -8.27704518e-02,\n",
       "         3.22880784e+01,  7.21567130e+01,  3.83611519e+01,\n",
       "        -1.94879595e+02, -5.57266262e+02, -6.00144152e+02],\n",
       "       [ 0.00000000e+00, -9.99478165e-04, -1.10467895e-02,\n",
       "        -1.16811840e-01, -1.18252787e+00, -3.64266990e+00,\n",
       "        -5.34902144e+00, -2.86882614e-01,  2.02175595e+01,\n",
       "         4.47364897e+01,  2.74176521e+01, -1.18840985e+02,\n",
       "        -3.52420056e+02, -3.50110534e+02,  4.34675998e+02]])"
      ]
     },
     "execution_count": 6,
     "metadata": {},
     "output_type": "execute_result"
    }
   ],
   "source": [
    "lqr.compute_gain_matrix()\n",
    "\n",
    "t, x = lqr.simulate()\n",
    " \n"
   ]
  }
 ],
 "metadata": {
  "kernelspec": {
   "display_name": "Python 3.9.12 ('base')",
   "language": "python",
   "name": "python3"
  },
  "language_info": {
   "codemirror_mode": {
    "name": "ipython",
    "version": 3
   },
   "file_extension": ".py",
   "mimetype": "text/x-python",
   "name": "python",
   "nbconvert_exporter": "python",
   "pygments_lexer": "ipython3",
   "version": "3.9.12"
  },
  "orig_nbformat": 4,
  "vscode": {
   "interpreter": {
    "hash": "f695691c7675195da2229e392149ef068beb920cff0b2fc3ea04696403466e06"
   }
  }
 },
 "nbformat": 4,
 "nbformat_minor": 2
}
