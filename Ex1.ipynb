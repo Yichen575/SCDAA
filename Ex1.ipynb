{
 "cells": [
  {
   "cell_type": "code",
   "execution_count": 2,
   "id": "0ee37bf4",
   "metadata": {},
   "outputs": [],
   "source": [
    "import torch\n",
    "import numpy as np\n",
    "from scipy.integrate import solve_ivp\n",
    "import os\n",
    "os.environ[\"KMP_DUPLICATE_LIB_OK\"]=\"TRUE\""
   ]
  },
  {
   "cell_type": "code",
   "execution_count": 4,
   "id": "695ad1c9",
   "metadata": {},
   "outputs": [],
   "source": [
    "\n",
    "def matrix_riccati_ode(t, S, H, M, D_inv, C):\n",
    "    S = S.reshape((H.shape[0], H.shape[1]))\n",
    "    dS_dt = -2 * H.T @ S + S @ M @ D_inv @ M.T @ S - C\n",
    "    return dS_dt.reshape(-1)\n",
    "\n",
    "class LQR:\n",
    "    def __init__(self, H, M, sigma, C, R, D, T):\n",
    "        self.H = H\n",
    "        self.M = M\n",
    "        self.sigma = sigma\n",
    "        self.C = C\n",
    "        self.R = R\n",
    "        self.D = D\n",
    "        self.T = T\n",
    "\n",
    "    def solve(self, t, t_eval = None):\n",
    "        D_inv = np.linalg.inv(self.D)\n",
    "        if t == self.T:\n",
    "            return None, None\n",
    "        if t is None:\n",
    "            t = 0\n",
    "        if t_eval is None:\n",
    "            t_eval = np.linspace(self.T, t, 101)\n",
    "        sol = solve_ivp(matrix_riccati_ode, (self.T, t), self.R.reshape(-1), t_eval = t_eval, method='RK45', args=(self.H, self.M, D_inv, self.C))\n",
    "        return sol.t, sol.y.reshape((-1, self.H.shape[0], self.H.shape[1]))  # Reshape solution to matrix form\n",
    "\n",
    "    def getValue(self, ts, data):\n",
    "        batch_size = data.shape[0]\n",
    "        values = torch.zeros((batch_size, 1))\n",
    "        for i in range(batch_size):\n",
    "            t = ts[i]\n",
    "            x = data[i][0].numpy()\n",
    "            n = 101\n",
    "            ts, sols = self.solve(t, np.linspace(self.T, t, n))\n",
    "            values[i][0] = x.T @ sols[-1] @ x\n",
    "            for sol in sols:\n",
    "                values[i][0] += abs(self.T - t) / n * np.trace(self.sigma @ self.sigma.T @ sol)\n",
    "        return values\n",
    "\n",
    "    def getMarkovControl(self, ts, data):\n",
    "        batch_size = data.shape[0]\n",
    "        values = torch.zeros((batch_size, 2))\n",
    "        for i in range(batch_size):\n",
    "            t = ts[i]\n",
    "            x = data[i][0].numpy()\n",
    "            n = 101\n",
    "            ts, sols = self.solve(t, np.linspace(self.T, t, n))\n",
    "            values[i] = torch.from_numpy(-self.D @ self.M.T @ sols[-1] @ x)\n",
    "        return values\n",
    "\n",
    "    \n",
    "    def runMonteCarlo(self, num_steps, num_samples, x):\n",
    "        res = []\n",
    "        dt = self.T / num_steps\n",
    "        ts = np.linspace(0, self.T, num_steps)\n",
    "        for i in range(num_samples):\n",
    "            cur_x = np.array(x).reshape(-1,1)\n",
    "            for j in range(num_steps - 1):\n",
    "                increments = np.random.normal(0, 1, (1,2)).T\n",
    "                _, S_tn = self.solve(ts[j])\n",
    "                S_tn = S_tn[-1]\n",
    "                cur_x = cur_x + dt * (self.H @ cur_x - self.M @ self.D @ S_tn @ cur_x) + self.sigma @ increments\n",
    "            res.append(cur_x)\n",
    "        return res\n"
   ]
  },
  {
   "cell_type": "code",
   "execution_count": 5,
   "id": "b6b2a608",
   "metadata": {
    "pycharm": {
     "is_executing": true
    }
   },
   "outputs": [],
   "source": [
    "# Example usage:\n",
    "H = np.array([[0, 1], [0, 0]])\n",
    "M = np.array([[1, 0], [0, 1]])\n",
    "D = np.array([[1, 0], [0, 1]])\n",
    "T = 10\n",
    "R = np.array([[1, 0], [0, 1]])\n",
    "C = np.array([[0, 0], [0, 0]])\n",
    "sigma = np.array([[0.2, 0], [0, 0.4]])\n",
    "lqr = LQR(H, M, sigma, C, R, D, T)\n",
    "\n",
    "t, p = lqr.solve(1, [10, 9, 8,7,6,5,4,3,2,1])"
   ]
  },
  {
   "cell_type": "code",
   "execution_count": null,
   "id": "017238c4",
   "metadata": {},
   "outputs": [],
   "source": [
    "print(t)\n",
    "print(p)"
   ]
  },
  {
   "cell_type": "code",
   "execution_count": null,
   "id": "7461cf6f",
   "metadata": {},
   "outputs": [],
   "source": []
  },
  {
   "cell_type": "code",
   "execution_count": 27,
   "id": "e36d9e70",
   "metadata": {},
   "outputs": [],
   "source": [
    "ts = torch.tensor([1, 2])\n",
    "x = torch.tensor([[[2,1]], [[3,2]]])"
   ]
  },
  {
   "cell_type": "code",
   "execution_count": 7,
   "id": "8f62440d",
   "metadata": {},
   "outputs": [
    {
     "name": "stdout",
     "output_type": "stream",
     "text": [
      "(10,)\n"
     ]
    }
   ],
   "source": [
    "print(t.shape)"
   ]
  },
  {
   "cell_type": "code",
   "execution_count": 28,
   "id": "2b102092",
   "metadata": {},
   "outputs": [
    {
     "data": {
      "text/plain": [
       "tensor([[ 1.5519],\n",
       "        [22.9790]])"
      ]
     },
     "execution_count": 28,
     "metadata": {},
     "output_type": "execute_result"
    }
   ],
   "source": [
    "lqr.getValue(ts, x)"
   ]
  },
  {
   "cell_type": "code",
   "execution_count": 9,
   "id": "d88e215c",
   "metadata": {},
   "outputs": [
    {
     "data": {
      "text/plain": [
       "tensor([[-0.3080, -0.3024],\n",
       "        [-4.5970, -4.5894]])"
      ]
     },
     "execution_count": 9,
     "metadata": {},
     "output_type": "execute_result"
    }
   ],
   "source": [
    "lqr.getMarkovControl(ts, x)"
   ]
  },
  {
   "cell_type": "markdown",
   "id": "68b70289",
   "metadata": {},
   "source": [
    "From the above code, we define the class LQR with attribute 'H, M, sigma, C, R, D, T', which is mentioned in the definition of LQR. The class has three methods - solve, getValue, getMarkovControl. 'Solve' will solve the associated Ricatti ODE on a time grid. 'getValue' will return the control problem value $v(t,x)$. 'getMarkovControl' will return the Markov control function."
   ]
  },
  {
   "cell_type": "code",
   "execution_count": null,
   "id": "7ac5f4d1",
   "metadata": {},
   "outputs": [],
   "source": []
  },
  {
   "cell_type": "markdown",
   "id": "0e5714a2",
   "metadata": {},
   "source": [
    "We can choose MSE for error measure and we write following codes to show log-log plot."
   ]
  },
  {
   "cell_type": "code",
   "execution_count": null,
   "id": "7622ef74",
   "metadata": {},
   "outputs": [],
   "source": []
  },
  {
   "cell_type": "code",
   "execution_count": null,
   "id": "f6103198",
   "metadata": {},
   "outputs": [],
   "source": [
    "import matplotlib.pyplot as plt\n",
    "\n",
    "# Set number of Monte Carlo samples\n",
    "num_samples = 10**5\n",
    "\n",
    "# Set different numbers of time steps to simulate\n",
    "num_steps_list = [1, 10, 50, 100, 500, 1000, 5000]\n",
    "\n",
    "# Initialize list to store MSE for each number of time steps\n",
    "mse_list = []\n",
    "\n",
    "# initial value of x\n",
    "x = [1, 2]\n",
    "\n",
    "# Loop over different numbers of time steps and compute MSE\n",
    "for num_steps in num_steps_list:\n",
    "    # Run Monte Carlo simulation\n",
    "    # Here, we assume that the simulation returns the estimated value function as a numpy array\n",
    "    # and the true value function as a dictionary with state-value pairs\n",
    "    x_rets = lqr.runMonteCarlo(num_steps, num_samples, x)\n",
    "    _, x_true = lqr.solve(0)\n",
    "    x_true = x_true[-1]\n",
    "    \n",
    "    # Compute MSE\n",
    "    mse = np.mean([np.linalg.norm(x_ret - x_true)**2 for x_ret in x_rets])\n",
    "    \n",
    "    # Append MSE to list\n",
    "    mse_list.append(mse)\n",
    "\n",
    "\n",
    "plt.loglog(num_steps_list, mse_list, '-o')\n",
    "plt.xlabel('Number of time steps')\n",
    "plt.ylabel('Mean squared error')\n",
    "plt.show()\n"
   ]
  },
  {
   "cell_type": "code",
   "execution_count": null,
   "id": "5eb79410",
   "metadata": {},
   "outputs": [],
   "source": [
    "# Set number of Monte Carlo samples\n",
    "num_samples_list = [10, 50, 100, 500, 1000, 5000, 10000, 50000, 100000]\n",
    "\n",
    "# Set different numbers of time steps to simulate\n",
    "num_steps = 5000\n",
    "\n",
    "# Initialize list to store MSE for each number of time steps\n",
    "mse_list = []\n",
    "\n",
    "# initial value of x\n",
    "x = [1, 2]\n",
    "\n",
    "# Loop over different numbers of time steps and compute MSE\n",
    "for num_samples in num_samples_list:\n",
    "    # Run Monte Carlo simulation\n",
    "    # Here, we assume that the simulation returns the estimated value function as a numpy array\n",
    "    # and the true value function as a dictionary with state-value pairs\n",
    "    x_rets = lqr.runMonteCarlo(num_steps, num_samples, x)\n",
    "    _, x_true = lqr.solve(0)\n",
    "    x_true = x_true[-1]\n",
    "    \n",
    "    # Compute MSE\n",
    "    mse = np.mean([np.linalg.norm(x_ret - x_true)**2 for x_ret in x_rets])\n",
    "    \n",
    "    # Append MSE to list\n",
    "    mse_list.append(mse)\n",
    "\n",
    "\n",
    "plt.loglog(num_steps_list, mse_list, '-o')\n",
    "plt.xlabel('Number of samples')\n",
    "plt.ylabel('Mean squared error')\n",
    "plt.show()\n"
   ]
  },
  {
   "cell_type": "code",
   "execution_count": null,
   "id": "eb94abed",
   "metadata": {},
   "outputs": [],
   "source": []
  },
  {
   "cell_type": "markdown",
   "id": "807558d7",
   "metadata": {},
   "source": [
    "## Ex2\n",
    "Take the neural network [1, Net DGM class] with hidden layer size of 100.\n",
    "\n",
    "With T = 1, use Exercise 1.1 to generate training data v(t(i),x(i)) by sampling t uniformly on [0, T ] and x uniformly on [−3, 3] × [3, 3]."
   ]
  },
  {
   "cell_type": "code",
   "execution_count": null,
   "id": "43475ad3",
   "metadata": {},
   "outputs": [],
   "source": [
    "lqr.getValue()"
   ]
  },
  {
   "cell_type": "code",
   "execution_count": 34,
   "id": "03e39dfa",
   "metadata": {},
   "outputs": [
    {
     "data": {
      "text/plain": [
       "tensor([[ 0.6928],\n",
       "        [32.7821]])"
      ]
     },
     "execution_count": 34,
     "metadata": {},
     "output_type": "execute_result"
    }
   ],
   "source": [
    "ts = torch.tensor([0, 1])\n",
    "x = torch.tensor([[[-3,3]], [[3,3]]])\n",
    "lqr.getValue(ts, x)"
   ]
  },
  {
   "cell_type": "code",
   "execution_count": 25,
   "id": "fc7ebeef",
   "metadata": {},
   "outputs": [
    {
     "data": {
      "text/plain": [
       "tensor([[1.5519]])"
      ]
     },
     "execution_count": 25,
     "metadata": {},
     "output_type": "execute_result"
    }
   ],
   "source": []
  }
 ],
 "metadata": {
  "kernelspec": {
   "display_name": "Python 3.9.12 ('base')",
   "language": "python",
   "name": "python3"
  },
  "language_info": {
   "codemirror_mode": {
    "name": "ipython",
    "version": 3
   },
   "file_extension": ".py",
   "mimetype": "text/x-python",
   "name": "python",
   "nbconvert_exporter": "python",
   "pygments_lexer": "ipython3",
   "version": "3.9.12"
  },
  "vscode": {
   "interpreter": {
    "hash": "f695691c7675195da2229e392149ef068beb920cff0b2fc3ea04696403466e06"
   }
  }
 },
 "nbformat": 4,
 "nbformat_minor": 5
}
