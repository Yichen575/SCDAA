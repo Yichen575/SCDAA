{
 "cells": [
  {
   "cell_type": "code",
   "execution_count": 2,
   "id": "0ee37bf4",
   "metadata": {},
   "outputs": [],
   "source": [
    "import numpy as np\n",
    "from scipy.integrate import solve_ivp\n",
    "import os\n",
    "import torch\n",
    "import torch.nn as nn\n",
    "import numpy as np\n",
    "import tqdm\n",
    "import matplotlib.pyplot as plt\n",
    "os.environ[\"KMP_DUPLICATE_LIB_OK\"]=\"TRUE\""
   ]
  },
  {
   "cell_type": "code",
   "execution_count": 3,
   "id": "695ad1c9",
   "metadata": {},
   "outputs": [],
   "source": [
    "\n",
    "def matrix_riccati_ode(t, S, H, M, D_inv, C):\n",
    "    S = S.reshape((H.shape[0], H.shape[1]))\n",
    "    dS_dt = -2 * H.T @ S + S @ M @ D_inv @ M.T @ S - C\n",
    "    return dS_dt.reshape(-1)\n",
    "\n",
    "class LQR:\n",
    "    def __init__(self, H, M, sigma, C, R, D, T):\n",
    "        self.H = H\n",
    "        self.M = M\n",
    "        self.sigma = sigma\n",
    "        self.C = C\n",
    "        self.R = R\n",
    "        self.D = D\n",
    "        self.T = T\n",
    "\n",
    "    def solve(self, t, t_eval = None):\n",
    "        D_inv = np.linalg.inv(self.D)\n",
    "        if t == self.T:\n",
    "            return None, None\n",
    "        if t is None:\n",
    "            t = 0\n",
    "        if t_eval is None:\n",
    "            t_eval = np.linspace(self.T, t, 101)\n",
    "        sol = solve_ivp(matrix_riccati_ode, (self.T, t), self.R.reshape(-1), t_eval = t_eval, method='RK45', args=(self.H, self.M, D_inv, self.C))\n",
    "        return sol.t, sol.y.reshape((-1, self.H.shape[0], self.H.shape[1]))  # Reshape solution to matrix form\n",
    "\n",
    "    def getValue(self, ts, data):\n",
    "        batch_size = data.shape[0]\n",
    "        values = torch.zeros((batch_size, 1))\n",
    "        for i in range(batch_size):\n",
    "            t = ts[i]\n",
    "            x = data[i][0].numpy()\n",
    "            n = 101\n",
    "            ts, sols = self.solve(t, np.linspace(self.T, t, n))\n",
    "            values[i][0] = x.T @ sols[-1] @ x\n",
    "            for sol in sols:\n",
    "                values[i][0] += abs(self.T - t) / n * np.trace(self.sigma @ self.sigma.T @ sol)\n",
    "        return values\n",
    "\n",
    "    def getMarkovControl(self, ts, data):\n",
    "        batch_size = data.shape[0]\n",
    "        values = torch.zeros((batch_size, 2))\n",
    "        for i in range(batch_size):\n",
    "            t = ts[i]\n",
    "            x = data[i][0].numpy()\n",
    "            n = 101\n",
    "            ts, sols = self.solve(t, np.linspace(self.T, t, n))\n",
    "            values[i] = torch.from_numpy(-self.D @ self.M.T @ sols[-1] @ x)\n",
    "        return values\n",
    "\n",
    "    \n",
    "    def runMonteCarlo(self, num_steps, num_samples, x):\n",
    "        res = []\n",
    "        dt = self.T / num_steps\n",
    "        ts = np.linspace(0, self.T, num_steps)\n",
    "        for i in range(num_samples):\n",
    "            cur_x = np.array(x).reshape(-1,1)\n",
    "            for j in range(num_steps - 1):\n",
    "                increments = np.random.normal(0, 1, (1,2)).T\n",
    "                _, S_tn = self.solve(ts[j])\n",
    "                S_tn = S_tn[-1]\n",
    "                cur_x = cur_x + dt * (self.H @ cur_x - self.M @ self.D @ S_tn @ cur_x) + self.sigma @ increments\n",
    "            res.append(cur_x)\n",
    "        return res\n"
   ]
  },
  {
   "cell_type": "code",
   "execution_count": 4,
   "id": "b6b2a608",
   "metadata": {
    "pycharm": {
     "is_executing": true
    }
   },
   "outputs": [],
   "source": [
    "# Example usage:\n",
    "H = np.array([[0, 1], [0, 0]])\n",
    "M = np.array([[1, 0], [0, 1]])\n",
    "D = np.array([[1, 0], [0, 1]])\n",
    "T = 10\n",
    "R = np.array([[1, 0], [0, 1]])\n",
    "C = np.array([[0, 0], [0, 0]])\n",
    "sigma = np.array([[0.2, 0], [0, 0.4]])\n",
    "lqr = LQR(H, M, sigma, C, R, D, T)\n",
    "\n",
    "t, p = lqr.solve(1, [10, 9, 8,7,6,5,4,3,2,1])"
   ]
  },
  {
   "cell_type": "code",
   "execution_count": 5,
   "id": "e36d9e70",
   "metadata": {},
   "outputs": [],
   "source": [
    "ts = torch.tensor([1, 2])\n",
    "x = torch.tensor([[[2,1]], [[3,2]]])"
   ]
  },
  {
   "cell_type": "code",
   "execution_count": 6,
   "id": "8f62440d",
   "metadata": {},
   "outputs": [
    {
     "name": "stdout",
     "output_type": "stream",
     "text": [
      "(10,)\n"
     ]
    }
   ],
   "source": [
    "print(t.shape)"
   ]
  },
  {
   "cell_type": "code",
   "execution_count": 6,
   "id": "2b102092",
   "metadata": {},
   "outputs": [
    {
     "data": {
      "text/plain": [
       "tensor([[ 1.5519],\n",
       "        [22.9790]])"
      ]
     },
     "execution_count": 6,
     "metadata": {},
     "output_type": "execute_result"
    }
   ],
   "source": [
    "lqr.getValue(ts, x)"
   ]
  },
  {
   "cell_type": "code",
   "execution_count": 7,
   "id": "d88e215c",
   "metadata": {},
   "outputs": [
    {
     "data": {
      "text/plain": [
       "tensor([[-0.3080, -0.3024],\n",
       "        [-4.5970, -4.5894]])"
      ]
     },
     "execution_count": 7,
     "metadata": {},
     "output_type": "execute_result"
    }
   ],
   "source": [
    "lqr.getMarkovControl(ts, x)"
   ]
  },
  {
   "cell_type": "markdown",
   "id": "68b70289",
   "metadata": {},
   "source": [
    "From the above code, we define the class LQR with attribute 'H, M, sigma, C, R, D, T', which is mentioned in the definition of LQR. The class has three methods - solve, getValue, getMarkovControl. 'Solve' will solve the associated Ricatti ODE on a time grid. 'getValue' will return the control problem value $v(t,x)$. 'getMarkovControl' will return the Markov control function."
   ]
  },
  {
   "cell_type": "code",
   "execution_count": null,
   "id": "7ac5f4d1",
   "metadata": {},
   "outputs": [],
   "source": []
  },
  {
   "cell_type": "markdown",
   "id": "0e5714a2",
   "metadata": {},
   "source": [
    "We can choose MSE for error measure and we write following codes to show log-log plot."
   ]
  },
  {
   "cell_type": "code",
   "execution_count": null,
   "id": "7622ef74",
   "metadata": {},
   "outputs": [],
   "source": []
  },
  {
   "cell_type": "code",
   "execution_count": null,
   "id": "f6103198",
   "metadata": {},
   "outputs": [],
   "source": [
    "\n",
    "\n",
    "# Set number of Monte Carlo samples\n",
    "num_samples = 10000\n",
    "\n",
    "# Set different numbers of time steps to simulate\n",
    "num_steps_list = [1, 10, 50, 100, 500, 1000, 5000]\n",
    "\n",
    "# Initialize list to store MSE for each number of time steps\n",
    "mse_list = []\n",
    "\n",
    "# initial value of x\n",
    "x = [1, 2]\n",
    "\n",
    "# Loop over different numbers of time steps and compute MSE\n",
    "for num_steps in num_steps_list:\n",
    "    # Run Monte Carlo simulation\n",
    "    # Here, we assume that the simulation returns the estimated value function as a numpy array\n",
    "    # and the true value function as a dictionary with state-value pairs\n",
    "    x_rets = lqr.runMonteCarlo(num_steps, num_samples, x)\n",
    "    _, x_true = lqr.solve(0)\n",
    "    x_true = x_true[-1]\n",
    "    \n",
    "    # Compute MSE\n",
    "    mse = np.mean([np.linalg.norm(x_ret - x_true)**2 for x_ret in x_rets])\n",
    "    \n",
    "    # Append MSE to list\n",
    "    mse_list.append(mse)\n",
    "\n",
    "\n",
    "plt.loglog(num_steps_list, mse_list, '-o')\n",
    "plt.xlabel('Number of time steps')\n",
    "plt.ylabel('Mean squared error')\n",
    "plt.show()\n"
   ]
  },
  {
   "cell_type": "code",
   "execution_count": null,
   "id": "5eb79410",
   "metadata": {},
   "outputs": [],
   "source": [
    "# Set number of Monte Carlo samples\n",
    "num_samples_list = [10, 50, 100, 500, 1000, 5000, 10000, 50000, 100000]\n",
    "\n",
    "# Set different numbers of time steps to simulate\n",
    "num_steps = 5000\n",
    "\n",
    "# Initialize list to store MSE for each number of time steps\n",
    "mse_list = []\n",
    "\n",
    "# initial value of x\n",
    "x = [1, 2]\n",
    "\n",
    "# Loop over different numbers of time steps and compute MSE\n",
    "for num_samples in num_samples_list:\n",
    "    # Run Monte Carlo simulation\n",
    "    # Here, we assume that the simulation returns the estimated value function as a numpy array\n",
    "    # and the true value function as a dictionary with state-value pairs\n",
    "    x_rets = lqr.runMonteCarlo(num_steps, num_samples, x)\n",
    "    _, x_true = lqr.solve(0)\n",
    "    x_true = x_true[-1]\n",
    "    \n",
    "    # Compute MSE\n",
    "    mse = np.mean([np.linalg.norm(x_ret - x_true)**2 for x_ret in x_rets])\n",
    "    \n",
    "    # Append MSE to list\n",
    "    mse_list.append(mse)\n",
    "\n",
    "\n",
    "plt.loglog(num_steps_list, mse_list, '-o')\n",
    "plt.xlabel('Number of samples')\n",
    "plt.ylabel('Mean squared error')\n",
    "plt.show()\n"
   ]
  },
  {
   "cell_type": "code",
   "execution_count": null,
   "id": "84f0d63a",
   "metadata": {},
   "outputs": [],
   "source": []
  },
  {
   "cell_type": "markdown",
   "id": "e147471f",
   "metadata": {},
   "source": [
    "Exercise 2"
   ]
  },
  {
   "cell_type": "code",
   "execution_count": 8,
   "id": "43475ad3",
   "metadata": {},
   "outputs": [],
   "source": [
    "import torch\n",
    "from torch import nn, optim\n",
    "import numpy as np\n",
    "from tqdm import tqdm\n",
    "\n",
    "class DGM_Layer(nn.Module):\n",
    "    \"\"\" \n",
    "    Defines a PyTorch module DGM_Layer which implements a single layer of a deep gated network.\n",
    "    The activation parameter specifies the activation function to be used in the layer\n",
    "    \"\"\"\n",
    "    def __init__(self, dim_x, dim_S, activation='Tanh'):\n",
    "\n",
    "\n",
    "        super(DGM_Layer, self).__init__()\n",
    "        \n",
    "\n",
    "        if activation == 'ReLU':\n",
    "            self.activation = nn.ReLU()\n",
    "        elif activation == 'Tanh':\n",
    "            self.activation = nn.Tanh()\n",
    "        elif activation == 'Sigmoid':\n",
    "            self.activation = nn.Sigmoid()\n",
    "        elif activation == 'LogSigmoid':\n",
    "            self.activation = nn.LogSigmoid()\n",
    "        else:\n",
    "            raise ValueError(\"Unknown activation function {}\".format(activation))\n",
    "            \n",
    "        \n",
    "        # The module has four gates\n",
    "        # Z gate (update gate): controls how much of the previous state to keep and how much of the new input to include in the current state. \n",
    "        self.gate_Z = self.layer(dim_x+dim_S, dim_S)\n",
    "        # G gate (reset gate): controls how much of the previous state to forget and how much of the new input to remember. \n",
    "        self.gate_G = self.layer(dim_x+dim_S, dim_S)\n",
    "        # R gate (reset signal): controls how much of the input to use to modify the current state.\n",
    "        self.gate_R = self.layer(dim_x+dim_S, dim_S)\n",
    "        # H gate (hidden state): produces a candidate hidden state that can be added to the current state. \n",
    "        self.gate_H = self.layer(dim_x+dim_S, dim_S)\n",
    "            \n",
    "    def layer(self, nIn, nOut):\n",
    "        l = nn.Sequential(nn.Linear(nIn, nOut), self.activation)\n",
    "        return l\n",
    "    \n",
    "\n",
    "\n",
    "    def forward(self, x, S):\n",
    "        # concatenates  input 'x' and the hidden state 'S' along the feature dimension\n",
    "        x_S = torch.cat([x,S],1)\n",
    "        \n",
    "        \n",
    "        # passes the concatenated tensor through each of the four gates. \n",
    "        Z = self.gate_Z(x_S) # how much of the new state to keep\n",
    "        G = self.gate_G(x_S) # how much proportion of the previous state to keep\n",
    "        R = self.gate_R(x_S) # the proportion of the input to use to modify the current state.\n",
    "\n",
    "        \n",
    "        input_gate_H = torch.cat([x, S*R],1) # 'R*S' is modified state\n",
    "        H = self.gate_H(input_gate_H)  #  candidate hidden state, and is the amount of information from the current input to add to the new state\n",
    "\n",
    "        \n",
    "        # The resulting tensors are then combined to compute the new hidden state S for the next time step, which is returned as output.\n",
    "        output = ((1-G))*H + Z*S\n",
    "        return output\n",
    "\n",
    "\n",
    "class Net_DGM(nn.Module):\n",
    "\n",
    "    def __init__(self, dim_x, dim_S, activation='Tanh'):\n",
    "        \"\"\"\n",
    "        dim_x is the dimension of the input tensor,\n",
    "        dim_S is the number of hidden units in each of the three DGM_Layer objects,\n",
    "        activation is the activation function used in the hidden layers, which can be ReLU, Tanh, Sigmoid, or LogSigmoid.\n",
    "        The constructor initializes the class variables using the arguments, and creates the layers of the neural network.\n",
    "        \"\"\"\n",
    "        super(Net_DGM, self).__init__()\n",
    "      \n",
    "        self.dim = dim_x\n",
    "        if activation == 'ReLU':\n",
    "            self.activation = nn.ReLU()\n",
    "        elif activation == 'Tanh':\n",
    "            self.activation = nn.Tanh()\n",
    "        elif activation == 'Sigmoid':\n",
    "            self.activation = nn.Sigmoid()\n",
    "        elif activation == 'LogSigmoid':\n",
    "            self.activation = nn.LogSigmoid()\n",
    "        else:\n",
    "            raise ValueError(\"Unknown activation function {}\".format(activation))\n",
    "\n",
    "        self.input_layer = nn.Sequential(nn.Linear(dim_x+1, dim_S), self.activation)\n",
    "        # The input_layer is a linear layer followed by an activation function, which takes a concatenation of t and x as input\n",
    "        self.DGM1 = DGM_Layer(dim_x=dim_x+1, dim_S=dim_S, activation=activation)\n",
    "        self.DGM2 = DGM_Layer(dim_x=dim_x+1, dim_S=dim_S, activation=activation)\n",
    "        self.DGM3 = DGM_Layer(dim_x=dim_x+1, dim_S=dim_S, activation=activation)\n",
    "        \"\"\"\n",
    "        DGM1, DGM2, and DGM3 are three layers of the Deep Gaussian Process (DGP) model. \n",
    "        They are initialized with \n",
    "        dim_x+1 as input dimension (where the +1 accounts for the time input t), \n",
    "        dim_S as output dimension, and the activation function specified in the constructor.\n",
    "        \"\"\"\n",
    "        self.output_layer = nn.Linear(dim_S, 1)\n",
    "        # The output_layer is a linear layer that takes the output from the last DGM layer as input and produces a single output value.\n",
    "        \n",
    "    def forward(self,t,x):\n",
    "        # The forward method defines the forward pass of the neural network, which takes two input tensors t and x and returns a single output tensor.\n",
    "        # t and x are concatenated along the second dimension using torch.cat to create a single input tensor.\n",
    "        tx = torch.cat([t,x], 1)\n",
    "\n",
    "        # This input tensor is then passed through the input_layer to obtain S1, which is then passed through DGM1, DGM2, and DGM3 to obtain S4.\n",
    "        S1 = self.input_layer(tx)\n",
    "        S2 = self.DGM1(tx,S1)\n",
    "        S3 = self.DGM2(tx,S2)\n",
    "        S4 = self.DGM3(tx,S3)\n",
    "\n",
    "        # Finally, S4 is passed through the output_layer to obtain the output of the neural network, which is returned.\n",
    "        output = self.output_layer(S4)\n",
    "        return output\n",
    "\n",
    "\n",
    "      \n",
    "        "
   ]
  },
  {
   "cell_type": "code",
   "execution_count": 11,
   "id": "03e39dfa",
   "metadata": {},
   "outputs": [
    {
     "name": "stderr",
     "output_type": "stream",
     "text": [
      "  0%|          | 0/10000 [00:00<?, ?it/s]/var/folders/30/5npdvf4d7mb7d1df8ndd9dmm0000gn/T/ipykernel_22462/2836287028.py:26: UserWarning: To copy construct from a tensor, it is recommended to use sourceTensor.clone().detach() or sourceTensor.clone().detach().requires_grad_(True), rather than torch.tensor(sourceTensor).\n",
      "  y_true = torch.tensor(lqr.getValue(torch.tensor([t]), torch.tensor([[x]], dtype=torch.float32)))\n",
      "100%|██████████| 10000/10000 [01:01<00:00, 161.38it/s]\n"
     ]
    }
   ],
   "source": [
    "T = 1 # time horizon\n",
    "hidden_size = 100 # hidden layer size = 100\n",
    "lr = 0.01 # the learning rate for the optimizer\n",
    "num_epochs = 10000 # the number of iterations the optimizer will perform to train the neural network\n",
    "\n",
    "net = Net_DGM(2, hidden_size)\n",
    "# neural network is defined using the Net_DGM class with input dimension of 2 \n",
    "\n",
    "optimizer = optim.Adam(net.parameters(), lr=lr)\n",
    "# initializes the Adam optimizer with the learning rate lr and the parameters of the neural network net. \n",
    "# The net.parameters() method returns an iterable of all the trainable parameters in the neural network net. \n",
    "\n",
    "criterion = nn.MSELoss()\n",
    "# The mean squared error (MSE) loss function is defined using the nn.MSELoss() class.\n",
    "\n",
    "losses = [] # empty list prepared for value of the loss\n",
    "for epoch in tqdm(range(num_epochs)):\n",
    "    #  t is a randomly selected value between 0 and T, which can be used as a time parameter for some stochastic process.\n",
    "    t = np.random.uniform(0, T)\n",
    "    # Two random numbers between -3 and 3 are generated and stored in the list x\n",
    "    x = [np.random.uniform(-3, 3), np.random.uniform(-3, 3)]\n",
    "    # An LQR object is created\n",
    "    lqr = LQR(H, M, sigma, C, R, D, 1)\n",
    "\n",
    "    # true value of the solution to the LQR problem\n",
    "    y_true = torch.tensor(lqr.getValue(torch.tensor([t]), torch.tensor([[x]], dtype=torch.float32)))\n",
    "    # optimizer's gradient is reset to zero\n",
    "    optimizer.zero_grad()\n",
    "    # predict the value of the solution to the LQR problem at time t and state x\n",
    "    y_pred = net(torch.tensor([[t]], dtype=torch.float32), torch.tensor([x]))\n",
    "\n",
    "    # The MSE loss between the predicted value and the true value\n",
    "    loss = criterion(y_pred, y_true)\n",
    "\n",
    "    # gradients of the neural network's parameters\n",
    "    loss.backward()\n",
    "    # optimizer takes a step in the negative direction of the gradients\n",
    "    optimizer.step()\n",
    "\n",
    "    losses.append(loss.item())\n"
   ]
  },
  {
   "cell_type": "code",
   "execution_count": 12,
   "id": "0e8a5f90",
   "metadata": {},
   "outputs": [
    {
     "data": {
      "image/png": "[encoded data removed]",
      "text/plain": [
       "<Figure size 432x288 with 1 Axes>"
      ]
     },
     "metadata": {
      "needs_background": "light"
     },
     "output_type": "display_data"
    }
   ],
   "source": [
    "plt.plot(losses, '-')\n",
    "plt.xlabel('Epoch')\n",
    "plt.ylabel('MSE Loss')\n",
    "plt.show()"
   ]
  },
  {
   "cell_type": "code",
   "execution_count": 13,
   "id": "18053401",
   "metadata": {},
   "outputs": [],
   "source": [
    "class FFN(nn.Module):\n",
    "    \"\"\" \n",
    "    define a fully-connected feed-forward neural network.\n",
    "    sizes: a list of integers specifying the number of neurons in each layer of the neural network.\n",
    "    activation: an activation function to apply between hidden layers. By default, the ReLU activation function is used.\n",
    "    output_activation: an activation function to apply to the output layer. By default, the identity function is used.\n",
    "    batch_norm: a boolean flag indicating whether or not to apply batch normalization between layers. By default, this flag is set to False.\n",
    "    \"\"\"\n",
    "\n",
    "    def __init__(self, sizes, activation=nn.ReLU, output_activation=nn.Identity, batch_norm=False):\n",
    "        super().__init__()\n",
    "        \n",
    "        layers = [nn.BatchNorm1d(sizes[0]),] if batch_norm else []\n",
    "        for j in range(len(sizes)-1):\n",
    "            layers.append(nn.Linear(sizes[j], sizes[j+1]))\n",
    "            if batch_norm:\n",
    "                layers.append(nn.BatchNorm1d(sizes[j+1], affine=True))\n",
    "            if j<(len(sizes)-2):\n",
    "                layers.append(activation())\n",
    "            else:\n",
    "                layers.append(output_activation())\n",
    "\n",
    "        self.net = nn.Sequential(*layers)\n",
    "\n",
    "    \n",
    "\n",
    "\n",
    "    def freeze(self):\n",
    "        for p in self.parameters():\n",
    "            p.requires_grad=False\n",
    "\n",
    "    def unfreeze(self):\n",
    "        for p in self.parameters():\n",
    "            p.requires_grad=True\n",
    "\n",
    "    \"\"\" \n",
    "    used to freeze and unfreeze the weights of the neural network, respectively. \n",
    "    When the weights are frozen, their gradients are not computed during backpropagation, effectively making them untrainable. \n",
    "    When the weights are unfrozen, their gradients are computed during backpropagation and the weights can be trained.\n",
    "    \"\"\"\n",
    "\n",
    "\n",
    "    def forward(self, x):\n",
    "        return self.net(x)\n",
    "        # method is used to define the forward pass of the neural network. \n",
    "        # The output tensor of the last layer is returned as the output of the neural network."
   ]
  },
  {
   "cell_type": "code",
   "execution_count": null,
   "id": "7ef1271b",
   "metadata": {},
   "outputs": [],
   "source": [
    "net = FFN([3, 100, 100, 2]) # A feedforward neural network is defined\n",
    "optimizer = optim.Adam(net.parameters(), lr=lr) # Adam optimizer is defined with the learning rate specified\n",
    "criterion = nn.MSELoss() # A mean squared error loss function is defined.\n",
    "\n",
    "losses = []\n",
    "for epoch in tqdm(range(num_epochs)):\n",
    "    t = np.random.uniform(0, T)\n",
    "    x = [np.random.uniform(-3, 3), np.random.uniform(-3, 3)]\n",
    "\n",
    "    # obtain the true value of the output at time t given the initial state x.\n",
    "    lqr = LQR(H, M, sigma, C, R, D, 1)\n",
    "    y_true = torch.tensor(lqr.getValue(torch.tensor([t]), torch.tensor([[x]], dtype=torch.float32)))\n",
    "\n",
    "    # reset the gradients in the optimizer to zero\n",
    "    optimizer.zero_grad()\n",
    "\n",
    "    # Concatenate two tensors horizontally and pass through the neural network in a single operation\n",
    "    # ensure that the values of t and x are processed together by the neural network, rather than separately.\n",
    "    tx = torch.cat([torch.tensor([[t]], dtype=torch.float32), torch.tensor([x])], 1)\n",
    "    # use the neural network to predict the value of the solution to the LQR problem at time 't' and state 'x'\n",
    "    y_pred = net(tx)\n",
    "\n",
    "    # loss between the predicted value and the true value\n",
    "    loss = criterion(y_pred, y_true)\n",
    "    # gradients of the neural network's parameters\n",
    "    loss.backward()\n",
    "\n",
    "    # update the model parameters to optimize the model parameters such that the loss function is minimized.\n",
    "    optimizer.step()\n",
    "    losses.append(loss.item())"
   ]
  },
  {
   "cell_type": "code",
   "execution_count": 9,
   "id": "5229aacb",
   "metadata": {},
   "outputs": [
    {
     "data": {
      "image/png": "[encoded data removed]",
      "text/plain": [
       "<Figure size 640x480 with 1 Axes>"
      ]
     },
     "metadata": {},
     "output_type": "display_data"
    }
   ],
   "source": [
    "plt.plot(losses, '-')\n",
    "plt.xlabel('Epoch')\n",
    "plt.ylabel('MSE Loss')\n",
    "plt.show()"
   ]
  },
  {
   "cell_type": "markdown",
   "id": "9a8b2480",
   "metadata": {},
   "source": [
    "## Exercise 3"
   ]
  },
  {
   "cell_type": "code",
   "execution_count": 15,
   "id": "2ee55d98",
   "metadata": {},
   "outputs": [],
   "source": [
    "def get_gradient(output, x):\n",
    "    \"\"\" \n",
    "    The function takes two arguments: output and x, which are both PyTorch tensors.\n",
    "    'output': This is the tensor that we want to compute the gradient of.\n",
    "    'x': This is the tensor with respect to which we want to compute the gradient.\n",
    "    \"\"\" \n",
    "    grad = torch.autograd.grad(output, x, grad_outputs=torch.ones_like(output), create_graph=True, retain_graph=True, only_inputs=True)[0]\n",
    "    # returns the computed gradient tensor.\n",
    "    return grad\n",
    "\n",
    "def get_laplacian(grad, x):\n",
    "    \"\"\"\n",
    "    The function takes two arguments: grad and x, which are both PyTorch tensors.\n",
    "    'grad' represents the gradient tensor of some function with respect to x.\n",
    "    'x' represents the tensor with respect to which we want to compute the Laplacian of the function.\n",
    "    \"\"\"\n",
    "    hess = [] # empty list hess that will store the Hessian matrix for each dimension of x.\n",
    "    for d in range(x.shape[1]):\n",
    "        v = grad[:,d].view(-1,1) # This is a tensor that represents the gradient of a single component of grad with respect to x.\n",
    "        # calculate the Hessian matrices for each dimension of x, using torch.ones_like(v) to initialize the gradients to a tensor of ones with the same shape as the gradient tensor.\n",
    "        grad2 = torch.autograd.grad(v,x,grad_outputs=torch.ones_like(v), only_inputs=True, create_graph=True, retain_graph=True)[0]\n",
    "        hess.append(grad2)\n",
    "    return torch.cat(hess, 1)\n",
    "\n",
    "class PDE_DGM(nn.Module):\n",
    "    \"\"\" \n",
    "    Defines a PyTorch module called PDE_DGM, which stands for \"partial differential equation deep Galerkin method\". \n",
    "    This module is used to solve partial differential equations (PDEs) using deep learning.\n",
    "    \"\"\"\n",
    "    def __init__(self, d: int, hidden_dim: int, H, M, sigma, C, R, D, ts: torch.Tensor=None, device: str='cpu'):\n",
    "        # d: an integer representing the dimensionality of the PDE.\n",
    "        # hidden_dim: an integer representing the number of hidden units in the neural network.\n",
    "        # H, M, sigma, C, R, D: tensors representing the coefficients of the PDE.\n",
    "        # ts: a tensor representing the time points at which the PDE should be solved.\n",
    "        # device: a string representing the device (e.g., \"cpu\" or \"cuda\") on which to perform the computations.\n",
    "        super().__init__()\n",
    "        self.d = d \n",
    "        self.net_dgm = Net_DGM(d, hidden_dim, activation='Tanh')\n",
    "        self.H = torch.tensor(H, device=device)\n",
    "        self.M = torch.tensor(M, device=device)\n",
    "        self.sigma = torch.tensor(sigma, device=device)\n",
    "        self.C = torch.tensor(C, device=device)\n",
    "        self.R = torch.tensor(R, device=device)\n",
    "        self.D = torch.tensor(D, device=device)\n",
    "        self.alpha = torch.tensor([[1], [1]], device=device)\n",
    "        self.ts = ts\n",
    "\n",
    "    def fit(self, max_updates: int, batch_size: int, device):\n",
    "        \"\"\" \n",
    "        The fit method performs gradient descent on the neural network parameters \n",
    "        to minimize the mean squared error (MSE) between the predicted solution to the PDE and the actual solution.\n",
    "        \"\"\"\n",
    "        optimizer = torch.optim.Adam(self.net_dgm.parameters(), lr=0.001)\n",
    "        scheduler = torch.optim.lr_scheduler.MultiStepLR(optimizer, milestones = (10000,),gamma=0.1)\n",
    "        loss_fn = nn.MSELoss()\n",
    "    \n",
    "        pbar = tqdm(total=max_updates) # initializes a new progress bar with a maximum number of updates specified by max_updates. \n",
    "        \n",
    "        loss_value = []\n",
    "\n",
    "        # generates a random set of input points in the domain of the PDE, \n",
    "        # and evaluates the neural network at these points to obtain an approximate solution to the PDE.\n",
    "        for it in range(max_updates):\n",
    "            optimizer.zero_grad() # set all to zero\n",
    "            # generates a random tensor of shape (batch_size, self.d) with elements drawn uniformly from the range [-3, 3). \n",
    "            # ensures that the elements of the tensor are centered around zero\n",
    "            input_domain = 6 * torch.rand(batch_size, self.d, device=device, requires_grad=True) - 3\n",
    "            t0, T = self.ts[0], self.ts[-1] # time domain for the problem is defined by the range between t0 and T.\n",
    "            # generates a tensor of random numbers between 0 and 1 of shape (batch_size, 1) and assigns it to t. \n",
    "            t = t0 + T*torch.rand(batch_size, 1, device=device, requires_grad=True)\n",
    "\n",
    "            # t_T is a tensor of shape (batch_size, 1) containing the value of T for each batch element.\n",
    "            t_T = torch.ones(batch_size, 1, device=device) * T \n",
    "\n",
    "            # outputs of the neural network at t and T\n",
    "            u_of_tx = self.net_dgm(t, input_domain)\n",
    "            u_of_Tx = self.net_dgm(t_T, input_domain)\n",
    "\n",
    "            # the gradients of the neural network outputs with respect to the inputs 'input_domain' and 't'\n",
    "            grad_u_x = get_gradient(u_of_tx,input_domain)\n",
    "            grad_u_t = get_gradient(u_of_tx, t)\n",
    "\n",
    "            laplacian = get_laplacian(grad_u_x, input_domain)\n",
    "\n",
    "            # a target in the loss calculation for the PDE equation and boundary conditions\n",
    "            target = torch.zeros_like(u_of_tx)\n",
    "            R1, R2 = 0, 0\n",
    "            eqn = []\n",
    "            boundary = []\n",
    "\n",
    "            for i in range(laplacian.shape[0]):\n",
    "                x = laplacian[i]\n",
    "                temp_x = x.cpu().detach().numpy().reshape(2,2)\n",
    "                x_i = input_domain[i].cpu().detach().numpy()\n",
    "                grad_u_x_i = grad_u_x[i].cpu().detach().numpy()\n",
    "                alpha_np = self.alpha.cpu().numpy()\n",
    "                # for each sample in the batch, computes the temporary value for the PDE by evaluating the equation\n",
    "                temp_value = abs(grad_u_t[i].cpu().detach().numpy()\n",
    "                         + 1/2*np.trace(self.sigma.cpu().numpy() @ self.sigma.cpu().numpy().T @ temp_x)\n",
    "                         + grad_u_x_i.T @ self.H.cpu().numpy() @ x_i\n",
    "                         + grad_u_x_i.T @ self.M.cpu().numpy() @ alpha_np\n",
    "                         + grad_u_x_i.T @ self.M.cpu().numpy() @ alpha_np\n",
    "                         + x_i.T @ self.C.cpu().numpy() @ x_i\n",
    "                         + alpha_np.T @ self.D.cpu().numpy() @ alpha_np\n",
    "                        )**2\n",
    "                # appends this residual value to the list eqn.\n",
    "                eqn.append(temp_value.tolist()[0])\n",
    "\n",
    "                # computes the temporary value for the boundary condition by evaluating the equation:\n",
    "                temp_value = abs(u_of_Tx[i].cpu().detach().numpy() - x_i.T @ self.R.cpu().numpy() @ x_i)**2\n",
    "\n",
    "                # appends this residual value to the list boundary.\n",
    "                boundary.append(temp_value.tolist()[0])\n",
    "            \n",
    "            # lists are converted to PyTorch tensors\n",
    "            eqn = torch.tensor(eqn, device=device, requires_grad = True)\n",
    "            boundary = torch.tensor(boundary, device=device, requires_grad = True)\n",
    "            # loss values are calculated using the mean squared error (MSE) loss function\n",
    "            MSE_eqn = loss_fn(eqn, target) # the loss for the PDE equation\n",
    "            MSE_boundary = loss_fn(boundary, target) # the loss for the boundary conditions\n",
    "\n",
    "            loss = MSE_eqn + MSE_boundary # total loss\n",
    "            loss_value.append(loss.cpu().detach().item()) # stores the loss value in a list.\n",
    "            # computes the gradients of the loss with respect to all the learnable parameters in the neural network.\n",
    "            loss.backward()\n",
    "\n",
    "            # updates the weights of the network using the gradients computed in the previous step.\n",
    "            optimizer.step()\n",
    "            # updates the learning rate of the optimizer.\n",
    "            scheduler.step()\n",
    "            if it%10 == 0:\n",
    "                # update the progress bar (pbar) every 10 iterations and printing the current iteration number\n",
    "                pbar.update(10) \n",
    "                pbar.write(\"Iteration: {}/{}\\t MSE eqn: {:.4f}\\t MSE boundary: {:.4f}\\t Total Loss: {:.4f}\".format(it, max_updates, MSE_eqn.item(), MSE_boundary.item(), loss.item()))\n",
    "                \n",
    "        plt.plot(loss_value, '-')\n",
    "        plt.xlabel('Updates')\n",
    "        plt.ylabel('MSE Loss')\n",
    "        plt.show()"
   ]
  },
  {
   "cell_type": "code",
   "execution_count": 16,
   "id": "ad37ef24",
   "metadata": {},
   "outputs": [],
   "source": [
    "def train(T,\n",
    "        n_steps,\n",
    "        d,\n",
    "        hidden_dim,\n",
    "        max_updates,\n",
    "        batch_size, \n",
    "        base_dir,\n",
    "        device,\n",
    "        ):\n",
    "    \"\"\" \n",
    "    'T' is the maximum value of t\n",
    "    'n_steps' is the number of discrete points between 0 and T at which the function is sampled.\n",
    "    'd' is the dimension of the input space.\n",
    "    'hidden_dim' is the number of hidden units in the neural network.\n",
    "    'max_updates' is the maximum number of training steps to perform.\n",
    "    'batch_size' is the number of samples in each batch.\n",
    "    'base_dir' is the directory to save the trained model and log files.\n",
    "    'device' is the device on which to perform the computation (e.g., \"cpu\" or \"cuda\").\n",
    "    \"\"\"\n",
    "    # create a string that represents the path to the log file in the given directory\n",
    "    logfile = os.path.join(base_dir, \"log.txt\")\n",
    "\n",
    "    # create a tensor ts containing n_steps+1 equally spaced points between 0 and T.\n",
    "    ts = torch.linspace(0,T,n_steps+1, device=device)\n",
    "\n",
    "    # create 'PDE_DM' class\n",
    "    pde_solver = PDE_DGM(d, hidden_dim, H, M, sigma, C, R, D, ts=ts, device=device)\n",
    "    # move the model to the specified device \n",
    "    pde_solver.to(device)\n",
    "\n",
    "    # calls the fit method of the model to train it\n",
    "    pde_solver.fit(max_updates=max_updates,\n",
    "                     batch_size=batch_size, \n",
    "                     device=device)\n",
    "    \n"
   ]
  },
  {
   "cell_type": "code",
   "execution_count": 17,
   "id": "fa2cbdb1",
   "metadata": {},
   "outputs": [],
   "source": [
    "def set_seed(seed):\n",
    "    \"\"\" \n",
    "    set the seed value for the random number generators\n",
    "    ensure that the same sequence of random numbers will be generated each time running the code\n",
    "    \"\"\"\n",
    "    np.random.seed(seed)\n",
    "    torch.manual_seed(seed)"
   ]
  },
  {
   "cell_type": "code",
   "execution_count": 18,
   "id": "ed3d97bb",
   "metadata": {},
   "outputs": [
    {
     "name": "stderr",
     "output_type": "stream",
     "text": [
      "  0%|          | 0/5000 [00:00<?, ?it/s]/Users/shenyichen/opt/anaconda3/lib/python3.9/site-packages/torch/nn/modules/loss.py:536: UserWarning: Using a target size (torch.Size([500, 1])) that is different to the input size (torch.Size([500])). This will likely lead to incorrect results due to broadcasting. Please ensure they have the same size.\n",
      "  return F.mse_loss(input, target, reduction=self.reduction)\n",
      "  0%|          | 10/5000 [00:00<01:09, 71.82it/s]"
     ]
    },
    {
     "name": "stdout",
     "output_type": "stream",
     "text": [
      "Iteration: 0/5000\t MSE eqn: 11.8505\t MSE boundary: 5202.9175\t Total Loss: 5214.7681\n"
     ]
    },
    {
     "name": "stderr",
     "output_type": "stream",
     "text": [
      "  0%|          | 20/5000 [00:01<04:43, 17.55it/s]"
     ]
    },
    {
     "name": "stdout",
     "output_type": "stream",
     "text": [
      "Iteration: 10/5000\t MSE eqn: 11.6955\t MSE boundary: 7019.5161\t Total Loss: 7031.2114\n"
     ]
    },
    {
     "name": "stderr",
     "output_type": "stream",
     "text": [
      "  1%|          | 30/5000 [00:01<06:00, 13.78it/s]"
     ]
    },
    {
     "name": "stdout",
     "output_type": "stream",
     "text": [
      "Iteration: 20/5000\t MSE eqn: 11.8035\t MSE boundary: 5286.6055\t Total Loss: 5298.4092\n"
     ]
    },
    {
     "name": "stderr",
     "output_type": "stream",
     "text": [
      "  1%|          | 40/5000 [00:02<06:29, 12.73it/s]"
     ]
    },
    {
     "name": "stdout",
     "output_type": "stream",
     "text": [
      "Iteration: 30/5000\t MSE eqn: 11.7040\t MSE boundary: 5479.1904\t Total Loss: 5490.8945\n"
     ]
    },
    {
     "name": "stderr",
     "output_type": "stream",
     "text": [
      "  1%|          | 50/5000 [00:03<06:35, 12.51it/s]"
     ]
    },
    {
     "name": "stdout",
     "output_type": "stream",
     "text": [
      "Iteration: 40/5000\t MSE eqn: 11.7777\t MSE boundary: 5089.3506\t Total Loss: 5101.1284\n"
     ]
    },
    {
     "name": "stderr",
     "output_type": "stream",
     "text": [
      "  1%|          | 60/5000 [00:04<06:53, 11.94it/s]"
     ]
    },
    {
     "name": "stdout",
     "output_type": "stream",
     "text": [
      "Iteration: 50/5000\t MSE eqn: 11.9308\t MSE boundary: 6236.4570\t Total Loss: 6248.3877\n"
     ]
    },
    {
     "name": "stderr",
     "output_type": "stream",
     "text": [
      "  1%|▏         | 70/5000 [00:05<06:54, 11.88it/s]"
     ]
    },
    {
     "name": "stdout",
     "output_type": "stream",
     "text": [
      "Iteration: 60/5000\t MSE eqn: 11.7848\t MSE boundary: 5213.2231\t Total Loss: 5225.0078\n"
     ]
    },
    {
     "name": "stderr",
     "output_type": "stream",
     "text": [
      "  2%|▏         | 80/5000 [00:06<06:58, 11.75it/s]"
     ]
    },
    {
     "name": "stdout",
     "output_type": "stream",
     "text": [
      "Iteration: 70/5000\t MSE eqn: 11.8514\t MSE boundary: 5623.4912\t Total Loss: 5635.3428\n"
     ]
    },
    {
     "name": "stderr",
     "output_type": "stream",
     "text": [
      "  2%|▏         | 90/5000 [00:07<06:58, 11.72it/s]"
     ]
    },
    {
     "name": "stdout",
     "output_type": "stream",
     "text": [
      "Iteration: 80/5000\t MSE eqn: 11.8047\t MSE boundary: 4936.2310\t Total Loss: 4948.0356\n"
     ]
    },
    {
     "name": "stderr",
     "output_type": "stream",
     "text": [
      "  2%|▏         | 100/5000 [00:07<06:52, 11.87it/s]"
     ]
    },
    {
     "name": "stdout",
     "output_type": "stream",
     "text": [
      "Iteration: 90/5000\t MSE eqn: 11.6705\t MSE boundary: 5130.6392\t Total Loss: 5142.3096\n"
     ]
    },
    {
     "name": "stderr",
     "output_type": "stream",
     "text": [
      "  2%|▏         | 110/5000 [00:08<06:53, 11.83it/s]"
     ]
    },
    {
     "name": "stdout",
     "output_type": "stream",
     "text": [
      "Iteration: 100/5000\t MSE eqn: 11.8930\t MSE boundary: 5762.2139\t Total Loss: 5774.1069\n"
     ]
    },
    {
     "name": "stderr",
     "output_type": "stream",
     "text": [
      "  2%|▏         | 120/5000 [00:09<06:44, 12.05it/s]"
     ]
    },
    {
     "name": "stdout",
     "output_type": "stream",
     "text": [
      "Iteration: 110/5000\t MSE eqn: 11.6425\t MSE boundary: 5198.6040\t Total Loss: 5210.2466\n"
     ]
    },
    {
     "name": "stderr",
     "output_type": "stream",
     "text": [
      "  3%|▎         | 130/5000 [00:10<06:39, 12.18it/s]"
     ]
    },
    {
     "name": "stdout",
     "output_type": "stream",
     "text": [
      "Iteration: 120/5000\t MSE eqn: 11.6097\t MSE boundary: 5895.1089\t Total Loss: 5906.7188\n"
     ]
    },
    {
     "name": "stderr",
     "output_type": "stream",
     "text": [
      "  3%|▎         | 140/5000 [00:11<06:55, 11.69it/s]"
     ]
    },
    {
     "name": "stdout",
     "output_type": "stream",
     "text": [
      "Iteration: 130/5000\t MSE eqn: 11.7736\t MSE boundary: 6226.5107\t Total Loss: 6238.2842\n"
     ]
    },
    {
     "name": "stderr",
     "output_type": "stream",
     "text": [
      "  3%|▎         | 150/5000 [00:12<06:46, 11.93it/s]"
     ]
    },
    {
     "name": "stdout",
     "output_type": "stream",
     "text": [
      "Iteration: 140/5000\t MSE eqn: 11.8629\t MSE boundary: 5308.5562\t Total Loss: 5320.4189\n"
     ]
    },
    {
     "name": "stderr",
     "output_type": "stream",
     "text": [
      "  3%|▎         | 160/5000 [00:12<06:39, 12.12it/s]"
     ]
    },
    {
     "name": "stdout",
     "output_type": "stream",
     "text": [
      "Iteration: 150/5000\t MSE eqn: 11.8079\t MSE boundary: 6164.4351\t Total Loss: 6176.2432\n"
     ]
    },
    {
     "name": "stderr",
     "output_type": "stream",
     "text": [
      "  3%|▎         | 170/5000 [00:13<06:50, 11.77it/s]"
     ]
    },
    {
     "name": "stdout",
     "output_type": "stream",
     "text": [
      "Iteration: 160/5000\t MSE eqn: 11.7190\t MSE boundary: 5102.1855\t Total Loss: 5113.9048\n"
     ]
    },
    {
     "name": "stderr",
     "output_type": "stream",
     "text": [
      "  4%|▎         | 180/5000 [00:14<06:47, 11.82it/s]"
     ]
    },
    {
     "name": "stdout",
     "output_type": "stream",
     "text": [
      "Iteration: 170/5000\t MSE eqn: 11.5629\t MSE boundary: 5959.5449\t Total Loss: 5971.1079\n"
     ]
    },
    {
     "name": "stderr",
     "output_type": "stream",
     "text": [
      "  4%|▍         | 190/5000 [00:15<06:41, 11.98it/s]"
     ]
    },
    {
     "name": "stdout",
     "output_type": "stream",
     "text": [
      "Iteration: 180/5000\t MSE eqn: 11.9559\t MSE boundary: 4824.8618\t Total Loss: 4836.8179\n"
     ]
    },
    {
     "name": "stderr",
     "output_type": "stream",
     "text": [
      "  4%|▍         | 200/5000 [00:16<06:43, 11.90it/s]"
     ]
    },
    {
     "name": "stdout",
     "output_type": "stream",
     "text": [
      "Iteration: 190/5000\t MSE eqn: 11.7737\t MSE boundary: 6010.2549\t Total Loss: 6022.0288\n"
     ]
    },
    {
     "name": "stderr",
     "output_type": "stream",
     "text": [
      "  4%|▍         | 210/5000 [00:17<06:44, 11.83it/s]"
     ]
    },
    {
     "name": "stdout",
     "output_type": "stream",
     "text": [
      "Iteration: 200/5000\t MSE eqn: 11.6272\t MSE boundary: 6575.3257\t Total Loss: 6586.9531\n"
     ]
    },
    {
     "name": "stderr",
     "output_type": "stream",
     "text": [
      "  4%|▍         | 220/5000 [00:17<06:38, 12.00it/s]"
     ]
    },
    {
     "name": "stdout",
     "output_type": "stream",
     "text": [
      "Iteration: 210/5000\t MSE eqn: 11.7317\t MSE boundary: 5820.7412\t Total Loss: 5832.4727\n"
     ]
    },
    {
     "name": "stderr",
     "output_type": "stream",
     "text": [
      "  5%|▍         | 230/5000 [00:18<06:35, 12.06it/s]"
     ]
    },
    {
     "name": "stdout",
     "output_type": "stream",
     "text": [
      "Iteration: 220/5000\t MSE eqn: 11.7866\t MSE boundary: 6209.9600\t Total Loss: 6221.7466\n"
     ]
    },
    {
     "name": "stderr",
     "output_type": "stream",
     "text": [
      "  5%|▍         | 240/5000 [00:19<06:29, 12.23it/s]"
     ]
    },
    {
     "name": "stdout",
     "output_type": "stream",
     "text": [
      "Iteration: 230/5000\t MSE eqn: 11.7566\t MSE boundary: 6574.3696\t Total Loss: 6586.1265\n"
     ]
    },
    {
     "name": "stderr",
     "output_type": "stream",
     "text": [
      "  5%|▌         | 250/5000 [00:20<06:27, 12.27it/s]"
     ]
    },
    {
     "name": "stdout",
     "output_type": "stream",
     "text": [
      "Iteration: 240/5000\t MSE eqn: 11.9142\t MSE boundary: 6460.3247\t Total Loss: 6472.2388\n"
     ]
    },
    {
     "name": "stderr",
     "output_type": "stream",
     "text": [
      "  5%|▌         | 260/5000 [00:21<06:23, 12.35it/s]"
     ]
    },
    {
     "name": "stdout",
     "output_type": "stream",
     "text": [
      "Iteration: 250/5000\t MSE eqn: 11.6458\t MSE boundary: 4748.1733\t Total Loss: 4759.8193\n"
     ]
    },
    {
     "name": "stderr",
     "output_type": "stream",
     "text": [
      "  5%|▌         | 270/5000 [00:21<06:19, 12.46it/s]"
     ]
    },
    {
     "name": "stdout",
     "output_type": "stream",
     "text": [
      "Iteration: 260/5000\t MSE eqn: 11.7266\t MSE boundary: 6369.3423\t Total Loss: 6381.0688\n"
     ]
    },
    {
     "name": "stderr",
     "output_type": "stream",
     "text": [
      "  6%|▌         | 280/5000 [00:22<06:30, 12.09it/s]"
     ]
    },
    {
     "name": "stdout",
     "output_type": "stream",
     "text": [
      "Iteration: 270/5000\t MSE eqn: 11.9211\t MSE boundary: 5491.1089\t Total Loss: 5503.0298\n"
     ]
    },
    {
     "name": "stderr",
     "output_type": "stream",
     "text": [
      "  6%|▌         | 290/5000 [00:23<06:23, 12.29it/s]"
     ]
    },
    {
     "name": "stdout",
     "output_type": "stream",
     "text": [
      "Iteration: 280/5000\t MSE eqn: 11.7405\t MSE boundary: 6026.4844\t Total Loss: 6038.2251\n"
     ]
    },
    {
     "name": "stderr",
     "output_type": "stream",
     "text": [
      "  6%|▌         | 300/5000 [00:24<06:18, 12.43it/s]"
     ]
    },
    {
     "name": "stdout",
     "output_type": "stream",
     "text": [
      "Iteration: 290/5000\t MSE eqn: 11.7481\t MSE boundary: 5654.9438\t Total Loss: 5666.6919\n"
     ]
    },
    {
     "name": "stderr",
     "output_type": "stream",
     "text": [
      "  6%|▌         | 310/5000 [00:25<06:41, 11.69it/s]"
     ]
    },
    {
     "name": "stdout",
     "output_type": "stream",
     "text": [
      "Iteration: 300/5000\t MSE eqn: 11.7662\t MSE boundary: 5797.5737\t Total Loss: 5809.3398\n"
     ]
    },
    {
     "name": "stderr",
     "output_type": "stream",
     "text": [
      "  6%|▋         | 320/5000 [00:26<07:04, 11.03it/s]"
     ]
    },
    {
     "name": "stdout",
     "output_type": "stream",
     "text": [
      "Iteration: 310/5000\t MSE eqn: 11.7915\t MSE boundary: 5933.7515\t Total Loss: 5945.5430\n"
     ]
    },
    {
     "name": "stderr",
     "output_type": "stream",
     "text": [
      "  7%|▋         | 330/5000 [00:27<07:28, 10.41it/s]"
     ]
    },
    {
     "name": "stdout",
     "output_type": "stream",
     "text": [
      "Iteration: 320/5000\t MSE eqn: 11.8835\t MSE boundary: 4653.9058\t Total Loss: 4665.7891\n"
     ]
    },
    {
     "name": "stderr",
     "output_type": "stream",
     "text": [
      "  7%|▋         | 340/5000 [00:28<07:36, 10.21it/s]"
     ]
    },
    {
     "name": "stdout",
     "output_type": "stream",
     "text": [
      "Iteration: 330/5000\t MSE eqn: 11.9195\t MSE boundary: 4816.6152\t Total Loss: 4828.5347\n"
     ]
    },
    {
     "name": "stderr",
     "output_type": "stream",
     "text": [
      "  7%|▋         | 350/5000 [00:29<07:54,  9.81it/s]"
     ]
    },
    {
     "name": "stdout",
     "output_type": "stream",
     "text": [
      "Iteration: 340/5000\t MSE eqn: 11.8380\t MSE boundary: 5352.5693\t Total Loss: 5364.4072\n"
     ]
    },
    {
     "name": "stderr",
     "output_type": "stream",
     "text": [
      "  7%|▋         | 360/5000 [00:31<09:06,  8.50it/s]"
     ]
    },
    {
     "name": "stdout",
     "output_type": "stream",
     "text": [
      "Iteration: 350/5000\t MSE eqn: 11.8664\t MSE boundary: 6047.0806\t Total Loss: 6058.9468\n"
     ]
    },
    {
     "name": "stderr",
     "output_type": "stream",
     "text": [
      "  7%|▋         | 370/5000 [00:32<09:29,  8.14it/s]"
     ]
    },
    {
     "name": "stdout",
     "output_type": "stream",
     "text": [
      "Iteration: 360/5000\t MSE eqn: 11.7653\t MSE boundary: 6004.5537\t Total Loss: 6016.3188\n"
     ]
    },
    {
     "name": "stderr",
     "output_type": "stream",
     "text": [
      "  8%|▊         | 380/5000 [00:33<09:08,  8.43it/s]"
     ]
    },
    {
     "name": "stdout",
     "output_type": "stream",
     "text": [
      "Iteration: 370/5000\t MSE eqn: 11.7796\t MSE boundary: 6170.5278\t Total Loss: 6182.3076\n"
     ]
    },
    {
     "name": "stderr",
     "output_type": "stream",
     "text": [
      "  8%|▊         | 390/5000 [00:34<08:49,  8.71it/s]"
     ]
    },
    {
     "name": "stdout",
     "output_type": "stream",
     "text": [
      "Iteration: 380/5000\t MSE eqn: 11.7650\t MSE boundary: 6081.1387\t Total Loss: 6092.9038\n"
     ]
    },
    {
     "name": "stderr",
     "output_type": "stream",
     "text": [
      "  8%|▊         | 400/5000 [00:35<08:56,  8.57it/s]"
     ]
    },
    {
     "name": "stdout",
     "output_type": "stream",
     "text": [
      "Iteration: 390/5000\t MSE eqn: 11.7748\t MSE boundary: 6345.8428\t Total Loss: 6357.6177\n"
     ]
    },
    {
     "name": "stderr",
     "output_type": "stream",
     "text": [
      "  8%|▊         | 410/5000 [00:36<08:35,  8.91it/s]"
     ]
    },
    {
     "name": "stdout",
     "output_type": "stream",
     "text": [
      "Iteration: 400/5000\t MSE eqn: 11.8764\t MSE boundary: 5590.1855\t Total Loss: 5602.0620\n"
     ]
    },
    {
     "name": "stderr",
     "output_type": "stream",
     "text": [
      "  8%|▊         | 420/5000 [00:37<08:17,  9.20it/s]"
     ]
    },
    {
     "name": "stdout",
     "output_type": "stream",
     "text": [
      "Iteration: 410/5000\t MSE eqn: 11.8936\t MSE boundary: 5732.9766\t Total Loss: 5744.8701\n"
     ]
    },
    {
     "name": "stderr",
     "output_type": "stream",
     "text": [
      "  9%|▊         | 430/5000 [00:39<08:20,  9.14it/s]"
     ]
    },
    {
     "name": "stdout",
     "output_type": "stream",
     "text": [
      "Iteration: 420/5000\t MSE eqn: 11.7263\t MSE boundary: 5650.3867\t Total Loss: 5662.1128\n"
     ]
    },
    {
     "name": "stderr",
     "output_type": "stream",
     "text": [
      "  9%|▉         | 440/5000 [00:40<08:54,  8.54it/s]"
     ]
    },
    {
     "name": "stdout",
     "output_type": "stream",
     "text": [
      "Iteration: 430/5000\t MSE eqn: 11.6351\t MSE boundary: 5265.0757\t Total Loss: 5276.7109\n"
     ]
    },
    {
     "name": "stderr",
     "output_type": "stream",
     "text": [
      "  9%|▉         | 450/5000 [00:41<08:37,  8.80it/s]"
     ]
    },
    {
     "name": "stdout",
     "output_type": "stream",
     "text": [
      "Iteration: 440/5000\t MSE eqn: 11.7669\t MSE boundary: 5634.9658\t Total Loss: 5646.7329\n"
     ]
    },
    {
     "name": "stderr",
     "output_type": "stream",
     "text": [
      "  9%|▉         | 460/5000 [00:42<08:02,  9.42it/s]"
     ]
    },
    {
     "name": "stdout",
     "output_type": "stream",
     "text": [
      "Iteration: 450/5000\t MSE eqn: 11.6429\t MSE boundary: 5332.9932\t Total Loss: 5344.6362\n"
     ]
    },
    {
     "name": "stderr",
     "output_type": "stream",
     "text": [
      "  9%|▉         | 470/5000 [00:43<07:42,  9.79it/s]"
     ]
    },
    {
     "name": "stdout",
     "output_type": "stream",
     "text": [
      "Iteration: 460/5000\t MSE eqn: 11.6147\t MSE boundary: 5314.1069\t Total Loss: 5325.7217\n"
     ]
    },
    {
     "name": "stderr",
     "output_type": "stream",
     "text": [
      " 10%|▉         | 480/5000 [00:44<07:26, 10.13it/s]"
     ]
    },
    {
     "name": "stdout",
     "output_type": "stream",
     "text": [
      "Iteration: 470/5000\t MSE eqn: 11.6990\t MSE boundary: 6365.0283\t Total Loss: 6376.7275\n"
     ]
    },
    {
     "name": "stderr",
     "output_type": "stream",
     "text": [
      " 10%|▉         | 490/5000 [00:45<07:07, 10.55it/s]"
     ]
    },
    {
     "name": "stdout",
     "output_type": "stream",
     "text": [
      "Iteration: 480/5000\t MSE eqn: 11.7022\t MSE boundary: 5752.3193\t Total Loss: 5764.0215\n"
     ]
    },
    {
     "name": "stderr",
     "output_type": "stream",
     "text": [
      " 10%|█         | 500/5000 [00:45<06:49, 10.99it/s]"
     ]
    },
    {
     "name": "stdout",
     "output_type": "stream",
     "text": [
      "Iteration: 490/5000\t MSE eqn: 11.7742\t MSE boundary: 5783.1074\t Total Loss: 5794.8818\n"
     ]
    },
    {
     "name": "stderr",
     "output_type": "stream",
     "text": [
      " 10%|█         | 510/5000 [00:46<06:34, 11.39it/s]"
     ]
    },
    {
     "name": "stdout",
     "output_type": "stream",
     "text": [
      "Iteration: 500/5000\t MSE eqn: 11.8307\t MSE boundary: 5995.7886\t Total Loss: 6007.6191\n"
     ]
    },
    {
     "name": "stderr",
     "output_type": "stream",
     "text": [
      " 10%|█         | 520/5000 [00:47<06:25, 11.62it/s]"
     ]
    },
    {
     "name": "stdout",
     "output_type": "stream",
     "text": [
      "Iteration: 510/5000\t MSE eqn: 11.6974\t MSE boundary: 5789.5166\t Total Loss: 5801.2139\n"
     ]
    },
    {
     "name": "stderr",
     "output_type": "stream",
     "text": [
      " 11%|█         | 530/5000 [00:48<06:19, 11.78it/s]"
     ]
    },
    {
     "name": "stdout",
     "output_type": "stream",
     "text": [
      "Iteration: 520/5000\t MSE eqn: 11.7267\t MSE boundary: 5145.9067\t Total Loss: 5157.6333\n"
     ]
    },
    {
     "name": "stderr",
     "output_type": "stream",
     "text": [
      " 11%|█         | 540/5000 [00:49<06:18, 11.78it/s]"
     ]
    },
    {
     "name": "stdout",
     "output_type": "stream",
     "text": [
      "Iteration: 530/5000\t MSE eqn: 11.8692\t MSE boundary: 5666.9922\t Total Loss: 5678.8613\n"
     ]
    },
    {
     "name": "stderr",
     "output_type": "stream",
     "text": [
      " 11%|█         | 550/5000 [00:49<06:15, 11.84it/s]"
     ]
    },
    {
     "name": "stdout",
     "output_type": "stream",
     "text": [
      "Iteration: 540/5000\t MSE eqn: 11.6806\t MSE boundary: 5120.1890\t Total Loss: 5131.8696\n"
     ]
    },
    {
     "name": "stderr",
     "output_type": "stream",
     "text": [
      " 11%|█         | 560/5000 [00:50<06:29, 11.39it/s]"
     ]
    },
    {
     "name": "stdout",
     "output_type": "stream",
     "text": [
      "Iteration: 550/5000\t MSE eqn: 11.7213\t MSE boundary: 6022.6992\t Total Loss: 6034.4204\n"
     ]
    },
    {
     "name": "stderr",
     "output_type": "stream",
     "text": [
      " 11%|█▏        | 570/5000 [00:51<06:18, 11.71it/s]"
     ]
    },
    {
     "name": "stdout",
     "output_type": "stream",
     "text": [
      "Iteration: 560/5000\t MSE eqn: 11.6099\t MSE boundary: 5661.5967\t Total Loss: 5673.2065\n"
     ]
    },
    {
     "name": "stderr",
     "output_type": "stream",
     "text": [
      " 12%|█▏        | 580/5000 [00:52<06:19, 11.64it/s]"
     ]
    },
    {
     "name": "stdout",
     "output_type": "stream",
     "text": [
      "Iteration: 570/5000\t MSE eqn: 11.6238\t MSE boundary: 4854.5845\t Total Loss: 4866.2085\n"
     ]
    },
    {
     "name": "stderr",
     "output_type": "stream",
     "text": [
      " 12%|█▏        | 590/5000 [00:53<06:14, 11.78it/s]"
     ]
    },
    {
     "name": "stdout",
     "output_type": "stream",
     "text": [
      "Iteration: 580/5000\t MSE eqn: 11.5849\t MSE boundary: 6883.3125\t Total Loss: 6894.8975\n"
     ]
    },
    {
     "name": "stderr",
     "output_type": "stream",
     "text": [
      " 12%|█▏        | 600/5000 [00:54<06:05, 12.05it/s]"
     ]
    },
    {
     "name": "stdout",
     "output_type": "stream",
     "text": [
      "Iteration: 590/5000\t MSE eqn: 11.8610\t MSE boundary: 5405.5342\t Total Loss: 5417.3950\n"
     ]
    },
    {
     "name": "stderr",
     "output_type": "stream",
     "text": [
      " 12%|█▏        | 610/5000 [00:55<06:04, 12.05it/s]"
     ]
    },
    {
     "name": "stdout",
     "output_type": "stream",
     "text": [
      "Iteration: 600/5000\t MSE eqn: 11.9606\t MSE boundary: 6993.1440\t Total Loss: 7005.1045\n"
     ]
    },
    {
     "name": "stderr",
     "output_type": "stream",
     "text": [
      " 12%|█▏        | 620/5000 [00:56<06:27, 11.29it/s]"
     ]
    },
    {
     "name": "stdout",
     "output_type": "stream",
     "text": [
      "Iteration: 610/5000\t MSE eqn: 11.7868\t MSE boundary: 6516.4380\t Total Loss: 6528.2246\n"
     ]
    },
    {
     "name": "stderr",
     "output_type": "stream",
     "text": [
      " 13%|█▎        | 630/5000 [00:57<06:53, 10.57it/s]"
     ]
    },
    {
     "name": "stdout",
     "output_type": "stream",
     "text": [
      "Iteration: 620/5000\t MSE eqn: 11.7912\t MSE boundary: 5316.9009\t Total Loss: 5328.6919\n"
     ]
    },
    {
     "name": "stderr",
     "output_type": "stream",
     "text": [
      " 13%|█▎        | 640/5000 [00:58<07:06, 10.23it/s]"
     ]
    },
    {
     "name": "stdout",
     "output_type": "stream",
     "text": [
      "Iteration: 630/5000\t MSE eqn: 11.7989\t MSE boundary: 5960.6631\t Total Loss: 5972.4619\n"
     ]
    },
    {
     "name": "stderr",
     "output_type": "stream",
     "text": [
      " 13%|█▎        | 650/5000 [00:59<07:07, 10.18it/s]"
     ]
    },
    {
     "name": "stdout",
     "output_type": "stream",
     "text": [
      "Iteration: 640/5000\t MSE eqn: 11.7245\t MSE boundary: 6092.2690\t Total Loss: 6103.9937\n"
     ]
    },
    {
     "name": "stderr",
     "output_type": "stream",
     "text": [
      " 13%|█▎        | 660/5000 [01:00<06:53, 10.50it/s]"
     ]
    },
    {
     "name": "stdout",
     "output_type": "stream",
     "text": [
      "Iteration: 650/5000\t MSE eqn: 11.7330\t MSE boundary: 6322.5049\t Total Loss: 6334.2378\n"
     ]
    },
    {
     "name": "stderr",
     "output_type": "stream",
     "text": [
      " 13%|█▎        | 670/5000 [01:00<06:40, 10.81it/s]"
     ]
    },
    {
     "name": "stdout",
     "output_type": "stream",
     "text": [
      "Iteration: 660/5000\t MSE eqn: 11.8430\t MSE boundary: 5313.7476\t Total Loss: 5325.5908\n"
     ]
    },
    {
     "name": "stderr",
     "output_type": "stream",
     "text": [
      " 14%|█▎        | 680/5000 [01:01<06:29, 11.08it/s]"
     ]
    },
    {
     "name": "stdout",
     "output_type": "stream",
     "text": [
      "Iteration: 670/5000\t MSE eqn: 11.8918\t MSE boundary: 5627.4106\t Total Loss: 5639.3022\n"
     ]
    },
    {
     "name": "stderr",
     "output_type": "stream",
     "text": [
      " 14%|█▍        | 690/5000 [01:02<06:22, 11.28it/s]"
     ]
    },
    {
     "name": "stdout",
     "output_type": "stream",
     "text": [
      "Iteration: 680/5000\t MSE eqn: 11.7778\t MSE boundary: 4577.2026\t Total Loss: 4588.9805\n"
     ]
    },
    {
     "name": "stderr",
     "output_type": "stream",
     "text": [
      " 14%|█▍        | 700/5000 [01:03<06:09, 11.63it/s]"
     ]
    },
    {
     "name": "stdout",
     "output_type": "stream",
     "text": [
      "Iteration: 690/5000\t MSE eqn: 11.7383\t MSE boundary: 4884.4727\t Total Loss: 4896.2109\n"
     ]
    },
    {
     "name": "stderr",
     "output_type": "stream",
     "text": [
      " 14%|█▍        | 710/5000 [01:04<06:09, 11.62it/s]"
     ]
    },
    {
     "name": "stdout",
     "output_type": "stream",
     "text": [
      "Iteration: 700/5000\t MSE eqn: 11.7149\t MSE boundary: 6055.7549\t Total Loss: 6067.4697\n"
     ]
    },
    {
     "name": "stderr",
     "output_type": "stream",
     "text": [
      " 14%|█▍        | 720/5000 [01:05<06:03, 11.77it/s]"
     ]
    },
    {
     "name": "stdout",
     "output_type": "stream",
     "text": [
      "Iteration: 710/5000\t MSE eqn: 11.8122\t MSE boundary: 6101.9834\t Total Loss: 6113.7954\n"
     ]
    },
    {
     "name": "stderr",
     "output_type": "stream",
     "text": [
      " 15%|█▍        | 730/5000 [01:05<05:55, 12.03it/s]"
     ]
    },
    {
     "name": "stdout",
     "output_type": "stream",
     "text": [
      "Iteration: 720/5000\t MSE eqn: 11.7053\t MSE boundary: 5893.9282\t Total Loss: 5905.6333\n"
     ]
    },
    {
     "name": "stderr",
     "output_type": "stream",
     "text": [
      " 15%|█▍        | 740/5000 [01:06<05:53, 12.04it/s]"
     ]
    },
    {
     "name": "stdout",
     "output_type": "stream",
     "text": [
      "Iteration: 730/5000\t MSE eqn: 11.6749\t MSE boundary: 6261.1465\t Total Loss: 6272.8213\n"
     ]
    },
    {
     "name": "stderr",
     "output_type": "stream",
     "text": [
      " 15%|█▌        | 750/5000 [01:07<06:00, 11.77it/s]"
     ]
    },
    {
     "name": "stdout",
     "output_type": "stream",
     "text": [
      "Iteration: 740/5000\t MSE eqn: 11.8504\t MSE boundary: 5467.7642\t Total Loss: 5479.6147\n"
     ]
    },
    {
     "name": "stderr",
     "output_type": "stream",
     "text": [
      " 15%|█▌        | 760/5000 [01:08<05:58, 11.83it/s]"
     ]
    },
    {
     "name": "stdout",
     "output_type": "stream",
     "text": [
      "Iteration: 750/5000\t MSE eqn: 11.7333\t MSE boundary: 6250.1948\t Total Loss: 6261.9282\n"
     ]
    },
    {
     "name": "stderr",
     "output_type": "stream",
     "text": [
      " 15%|█▌        | 770/5000 [01:09<05:56, 11.87it/s]"
     ]
    },
    {
     "name": "stdout",
     "output_type": "stream",
     "text": [
      "Iteration: 760/5000\t MSE eqn: 11.7327\t MSE boundary: 5305.6924\t Total Loss: 5317.4253\n"
     ]
    },
    {
     "name": "stderr",
     "output_type": "stream",
     "text": [
      " 16%|█▌        | 780/5000 [01:10<06:01, 11.66it/s]"
     ]
    },
    {
     "name": "stdout",
     "output_type": "stream",
     "text": [
      "Iteration: 770/5000\t MSE eqn: 11.7585\t MSE boundary: 5804.0073\t Total Loss: 5815.7656\n"
     ]
    },
    {
     "name": "stderr",
     "output_type": "stream",
     "text": [
      " 16%|█▌        | 790/5000 [01:11<06:01, 11.65it/s]"
     ]
    },
    {
     "name": "stdout",
     "output_type": "stream",
     "text": [
      "Iteration: 780/5000\t MSE eqn: 11.7217\t MSE boundary: 5769.7725\t Total Loss: 5781.4941\n"
     ]
    },
    {
     "name": "stderr",
     "output_type": "stream",
     "text": [
      " 16%|█▌        | 800/5000 [01:11<05:58, 11.71it/s]"
     ]
    },
    {
     "name": "stdout",
     "output_type": "stream",
     "text": [
      "Iteration: 790/5000\t MSE eqn: 11.7625\t MSE boundary: 5922.6011\t Total Loss: 5934.3638\n"
     ]
    },
    {
     "name": "stderr",
     "output_type": "stream",
     "text": [
      " 16%|█▌        | 810/5000 [01:12<06:00, 11.61it/s]"
     ]
    },
    {
     "name": "stdout",
     "output_type": "stream",
     "text": [
      "Iteration: 800/5000\t MSE eqn: 11.7097\t MSE boundary: 6164.5869\t Total Loss: 6176.2964\n"
     ]
    },
    {
     "name": "stderr",
     "output_type": "stream",
     "text": [
      " 16%|█▋        | 820/5000 [01:13<06:10, 11.29it/s]"
     ]
    },
    {
     "name": "stdout",
     "output_type": "stream",
     "text": [
      "Iteration: 810/5000\t MSE eqn: 11.8067\t MSE boundary: 5928.0493\t Total Loss: 5939.8560\n"
     ]
    },
    {
     "name": "stderr",
     "output_type": "stream",
     "text": [
      " 17%|█▋        | 830/5000 [01:14<06:00, 11.57it/s]"
     ]
    },
    {
     "name": "stdout",
     "output_type": "stream",
     "text": [
      "Iteration: 820/5000\t MSE eqn: 11.7227\t MSE boundary: 5716.3599\t Total Loss: 5728.0825\n"
     ]
    },
    {
     "name": "stderr",
     "output_type": "stream",
     "text": [
      " 17%|█▋        | 840/5000 [01:15<05:53, 11.76it/s]"
     ]
    },
    {
     "name": "stdout",
     "output_type": "stream",
     "text": [
      "Iteration: 830/5000\t MSE eqn: 11.8200\t MSE boundary: 4871.3525\t Total Loss: 4883.1724\n"
     ]
    },
    {
     "name": "stderr",
     "output_type": "stream",
     "text": [
      " 17%|█▋        | 850/5000 [01:16<05:52, 11.77it/s]"
     ]
    },
    {
     "name": "stdout",
     "output_type": "stream",
     "text": [
      "Iteration: 840/5000\t MSE eqn: 11.7451\t MSE boundary: 6390.8350\t Total Loss: 6402.5801\n"
     ]
    },
    {
     "name": "stderr",
     "output_type": "stream",
     "text": [
      " 17%|█▋        | 860/5000 [01:17<05:50, 11.83it/s]"
     ]
    },
    {
     "name": "stdout",
     "output_type": "stream",
     "text": [
      "Iteration: 850/5000\t MSE eqn: 11.8249\t MSE boundary: 5946.1807\t Total Loss: 5958.0054\n"
     ]
    },
    {
     "name": "stderr",
     "output_type": "stream",
     "text": [
      " 17%|█▋        | 870/5000 [01:17<06:02, 11.40it/s]"
     ]
    },
    {
     "name": "stdout",
     "output_type": "stream",
     "text": [
      "Iteration: 860/5000\t MSE eqn: 11.9059\t MSE boundary: 6066.4219\t Total Loss: 6078.3276\n"
     ]
    },
    {
     "name": "stderr",
     "output_type": "stream",
     "text": [
      " 18%|█▊        | 880/5000 [01:18<06:03, 11.35it/s]"
     ]
    },
    {
     "name": "stdout",
     "output_type": "stream",
     "text": [
      "Iteration: 870/5000\t MSE eqn: 11.9245\t MSE boundary: 5242.3325\t Total Loss: 5254.2568\n"
     ]
    },
    {
     "name": "stderr",
     "output_type": "stream",
     "text": [
      " 18%|█▊        | 890/5000 [01:19<06:06, 11.20it/s]"
     ]
    },
    {
     "name": "stdout",
     "output_type": "stream",
     "text": [
      "Iteration: 880/5000\t MSE eqn: 11.7049\t MSE boundary: 7026.1846\t Total Loss: 7037.8896\n"
     ]
    },
    {
     "name": "stderr",
     "output_type": "stream",
     "text": [
      " 18%|█▊        | 900/5000 [01:20<05:58, 11.44it/s]"
     ]
    },
    {
     "name": "stdout",
     "output_type": "stream",
     "text": [
      "Iteration: 890/5000\t MSE eqn: 11.8349\t MSE boundary: 5776.6558\t Total Loss: 5788.4907\n"
     ]
    },
    {
     "name": "stderr",
     "output_type": "stream",
     "text": [
      " 18%|█▊        | 910/5000 [01:21<05:48, 11.74it/s]"
     ]
    },
    {
     "name": "stdout",
     "output_type": "stream",
     "text": [
      "Iteration: 900/5000\t MSE eqn: 11.8470\t MSE boundary: 5863.2720\t Total Loss: 5875.1191\n"
     ]
    },
    {
     "name": "stderr",
     "output_type": "stream",
     "text": [
      " 18%|█▊        | 920/5000 [01:22<05:44, 11.84it/s]"
     ]
    },
    {
     "name": "stdout",
     "output_type": "stream",
     "text": [
      "Iteration: 910/5000\t MSE eqn: 11.7106\t MSE boundary: 5656.6763\t Total Loss: 5668.3867\n"
     ]
    },
    {
     "name": "stderr",
     "output_type": "stream",
     "text": [
      " 19%|█▊        | 930/5000 [01:23<05:46, 11.75it/s]"
     ]
    },
    {
     "name": "stdout",
     "output_type": "stream",
     "text": [
      "Iteration: 920/5000\t MSE eqn: 11.7291\t MSE boundary: 6219.9272\t Total Loss: 6231.6562\n"
     ]
    },
    {
     "name": "stderr",
     "output_type": "stream",
     "text": [
      " 19%|█▉        | 940/5000 [01:23<05:50, 11.59it/s]"
     ]
    },
    {
     "name": "stdout",
     "output_type": "stream",
     "text": [
      "Iteration: 930/5000\t MSE eqn: 11.7472\t MSE boundary: 6062.7690\t Total Loss: 6074.5161\n"
     ]
    },
    {
     "name": "stderr",
     "output_type": "stream",
     "text": [
      " 19%|█▉        | 950/5000 [01:24<05:48, 11.62it/s]"
     ]
    },
    {
     "name": "stdout",
     "output_type": "stream",
     "text": [
      "Iteration: 940/5000\t MSE eqn: 11.8148\t MSE boundary: 4983.6011\t Total Loss: 4995.4160\n"
     ]
    },
    {
     "name": "stderr",
     "output_type": "stream",
     "text": [
      " 19%|█▉        | 960/5000 [01:25<05:39, 11.88it/s]"
     ]
    },
    {
     "name": "stdout",
     "output_type": "stream",
     "text": [
      "Iteration: 950/5000\t MSE eqn: 11.7895\t MSE boundary: 5559.8721\t Total Loss: 5571.6616\n"
     ]
    },
    {
     "name": "stderr",
     "output_type": "stream",
     "text": [
      " 19%|█▉        | 970/5000 [01:26<05:35, 12.00it/s]"
     ]
    },
    {
     "name": "stdout",
     "output_type": "stream",
     "text": [
      "Iteration: 960/5000\t MSE eqn: 11.8765\t MSE boundary: 4965.0674\t Total Loss: 4976.9438\n"
     ]
    },
    {
     "name": "stderr",
     "output_type": "stream",
     "text": [
      " 20%|█▉        | 980/5000 [01:27<05:28, 12.24it/s]"
     ]
    },
    {
     "name": "stdout",
     "output_type": "stream",
     "text": [
      "Iteration: 970/5000\t MSE eqn: 11.7906\t MSE boundary: 5623.0859\t Total Loss: 5634.8765\n"
     ]
    },
    {
     "name": "stderr",
     "output_type": "stream",
     "text": [
      " 20%|█▉        | 990/5000 [01:28<05:26, 12.29it/s]"
     ]
    },
    {
     "name": "stdout",
     "output_type": "stream",
     "text": [
      "Iteration: 980/5000\t MSE eqn: 11.8326\t MSE boundary: 6500.2910\t Total Loss: 6512.1235\n"
     ]
    },
    {
     "name": "stderr",
     "output_type": "stream",
     "text": [
      " 20%|██        | 1000/5000 [01:28<05:30, 12.09it/s]"
     ]
    },
    {
     "name": "stdout",
     "output_type": "stream",
     "text": [
      "Iteration: 990/5000\t MSE eqn: 11.7101\t MSE boundary: 5596.7417\t Total Loss: 5608.4517\n"
     ]
    },
    {
     "name": "stderr",
     "output_type": "stream",
     "text": [
      " 20%|██        | 1010/5000 [01:29<05:40, 11.73it/s]"
     ]
    },
    {
     "name": "stdout",
     "output_type": "stream",
     "text": [
      "Iteration: 1000/5000\t MSE eqn: 11.7259\t MSE boundary: 5835.7920\t Total Loss: 5847.5181\n"
     ]
    },
    {
     "name": "stderr",
     "output_type": "stream",
     "text": [
      " 20%|██        | 1020/5000 [01:30<06:00, 11.05it/s]"
     ]
    },
    {
     "name": "stdout",
     "output_type": "stream",
     "text": [
      "Iteration: 1010/5000\t MSE eqn: 11.6868\t MSE boundary: 6174.9736\t Total Loss: 6186.6606\n"
     ]
    },
    {
     "name": "stderr",
     "output_type": "stream",
     "text": [
      " 21%|██        | 1030/5000 [01:31<05:50, 11.33it/s]"
     ]
    },
    {
     "name": "stdout",
     "output_type": "stream",
     "text": [
      "Iteration: 1020/5000\t MSE eqn: 11.9046\t MSE boundary: 5910.7729\t Total Loss: 5922.6777\n"
     ]
    },
    {
     "name": "stderr",
     "output_type": "stream",
     "text": [
      " 21%|██        | 1040/5000 [01:32<05:49, 11.32it/s]"
     ]
    },
    {
     "name": "stdout",
     "output_type": "stream",
     "text": [
      "Iteration: 1030/5000\t MSE eqn: 11.6503\t MSE boundary: 6019.8901\t Total Loss: 6031.5405\n"
     ]
    },
    {
     "name": "stderr",
     "output_type": "stream",
     "text": [
      " 21%|██        | 1050/5000 [01:33<05:40, 11.59it/s]"
     ]
    },
    {
     "name": "stdout",
     "output_type": "stream",
     "text": [
      "Iteration: 1040/5000\t MSE eqn: 11.7526\t MSE boundary: 5610.8667\t Total Loss: 5622.6191\n"
     ]
    },
    {
     "name": "stderr",
     "output_type": "stream",
     "text": [
      " 21%|██        | 1060/5000 [01:34<05:42, 11.49it/s]"
     ]
    },
    {
     "name": "stdout",
     "output_type": "stream",
     "text": [
      "Iteration: 1050/5000\t MSE eqn: 11.8452\t MSE boundary: 6012.7959\t Total Loss: 6024.6411\n"
     ]
    },
    {
     "name": "stderr",
     "output_type": "stream",
     "text": [
      " 21%|██▏       | 1070/5000 [01:35<05:33, 11.78it/s]"
     ]
    },
    {
     "name": "stdout",
     "output_type": "stream",
     "text": [
      "Iteration: 1060/5000\t MSE eqn: 11.8495\t MSE boundary: 5739.5796\t Total Loss: 5751.4292\n"
     ]
    },
    {
     "name": "stderr",
     "output_type": "stream",
     "text": [
      " 22%|██▏       | 1080/5000 [01:35<05:25, 12.05it/s]"
     ]
    },
    {
     "name": "stdout",
     "output_type": "stream",
     "text": [
      "Iteration: 1070/5000\t MSE eqn: 11.6221\t MSE boundary: 5768.2432\t Total Loss: 5779.8652\n"
     ]
    },
    {
     "name": "stderr",
     "output_type": "stream",
     "text": [
      " 22%|██▏       | 1090/5000 [01:36<05:21, 12.16it/s]"
     ]
    },
    {
     "name": "stdout",
     "output_type": "stream",
     "text": [
      "Iteration: 1080/5000\t MSE eqn: 11.8566\t MSE boundary: 6139.8901\t Total Loss: 6151.7466\n"
     ]
    },
    {
     "name": "stderr",
     "output_type": "stream",
     "text": [
      " 22%|██▏       | 1100/5000 [01:37<05:22, 12.11it/s]"
     ]
    },
    {
     "name": "stdout",
     "output_type": "stream",
     "text": [
      "Iteration: 1090/5000\t MSE eqn: 11.8661\t MSE boundary: 4952.6396\t Total Loss: 4964.5059\n"
     ]
    },
    {
     "name": "stderr",
     "output_type": "stream",
     "text": [
      " 22%|██▏       | 1110/5000 [01:38<05:18, 12.23it/s]"
     ]
    },
    {
     "name": "stdout",
     "output_type": "stream",
     "text": [
      "Iteration: 1100/5000\t MSE eqn: 11.8214\t MSE boundary: 5428.4785\t Total Loss: 5440.2998\n"
     ]
    },
    {
     "name": "stderr",
     "output_type": "stream",
     "text": [
      " 22%|██▏       | 1120/5000 [01:39<05:19, 12.15it/s]"
     ]
    },
    {
     "name": "stdout",
     "output_type": "stream",
     "text": [
      "Iteration: 1110/5000\t MSE eqn: 11.6054\t MSE boundary: 5466.5474\t Total Loss: 5478.1528\n"
     ]
    },
    {
     "name": "stderr",
     "output_type": "stream",
     "text": [
      " 23%|██▎       | 1130/5000 [01:40<05:32, 11.64it/s]"
     ]
    },
    {
     "name": "stdout",
     "output_type": "stream",
     "text": [
      "Iteration: 1120/5000\t MSE eqn: 11.6271\t MSE boundary: 6376.6611\t Total Loss: 6388.2881\n"
     ]
    },
    {
     "name": "stderr",
     "output_type": "stream",
     "text": [
      " 23%|██▎       | 1140/5000 [01:40<05:36, 11.48it/s]"
     ]
    },
    {
     "name": "stdout",
     "output_type": "stream",
     "text": [
      "Iteration: 1130/5000\t MSE eqn: 11.9452\t MSE boundary: 6154.0786\t Total Loss: 6166.0239\n"
     ]
    },
    {
     "name": "stderr",
     "output_type": "stream",
     "text": [
      " 23%|██▎       | 1150/5000 [01:41<05:29, 11.68it/s]"
     ]
    },
    {
     "name": "stdout",
     "output_type": "stream",
     "text": [
      "Iteration: 1140/5000\t MSE eqn: 11.8903\t MSE boundary: 5489.1787\t Total Loss: 5501.0688\n"
     ]
    },
    {
     "name": "stderr",
     "output_type": "stream",
     "text": [
      " 23%|██▎       | 1160/5000 [01:42<05:28, 11.70it/s]"
     ]
    },
    {
     "name": "stdout",
     "output_type": "stream",
     "text": [
      "Iteration: 1150/5000\t MSE eqn: 11.8937\t MSE boundary: 6584.2646\t Total Loss: 6596.1582\n"
     ]
    },
    {
     "name": "stderr",
     "output_type": "stream",
     "text": [
      " 23%|██▎       | 1170/5000 [01:43<05:26, 11.72it/s]"
     ]
    },
    {
     "name": "stdout",
     "output_type": "stream",
     "text": [
      "Iteration: 1160/5000\t MSE eqn: 11.7706\t MSE boundary: 6997.3652\t Total Loss: 7009.1357\n"
     ]
    },
    {
     "name": "stderr",
     "output_type": "stream",
     "text": [
      " 24%|██▎       | 1180/5000 [01:44<05:26, 11.72it/s]"
     ]
    },
    {
     "name": "stdout",
     "output_type": "stream",
     "text": [
      "Iteration: 1170/5000\t MSE eqn: 11.7954\t MSE boundary: 5704.3682\t Total Loss: 5716.1636\n"
     ]
    },
    {
     "name": "stderr",
     "output_type": "stream",
     "text": [
      " 24%|██▍       | 1190/5000 [01:45<05:19, 11.93it/s]"
     ]
    },
    {
     "name": "stdout",
     "output_type": "stream",
     "text": [
      "Iteration: 1180/5000\t MSE eqn: 11.6749\t MSE boundary: 5712.1221\t Total Loss: 5723.7969\n"
     ]
    },
    {
     "name": "stderr",
     "output_type": "stream",
     "text": [
      " 24%|██▍       | 1200/5000 [01:45<05:17, 11.97it/s]"
     ]
    },
    {
     "name": "stdout",
     "output_type": "stream",
     "text": [
      "Iteration: 1190/5000\t MSE eqn: 11.8064\t MSE boundary: 5836.7476\t Total Loss: 5848.5542\n"
     ]
    },
    {
     "name": "stderr",
     "output_type": "stream",
     "text": [
      " 24%|██▍       | 1210/5000 [01:46<05:14, 12.05it/s]"
     ]
    },
    {
     "name": "stdout",
     "output_type": "stream",
     "text": [
      "Iteration: 1200/5000\t MSE eqn: 11.7375\t MSE boundary: 6320.5044\t Total Loss: 6332.2417\n"
     ]
    },
    {
     "name": "stderr",
     "output_type": "stream",
     "text": [
      " 24%|██▍       | 1220/5000 [01:47<05:24, 11.65it/s]"
     ]
    },
    {
     "name": "stdout",
     "output_type": "stream",
     "text": [
      "Iteration: 1210/5000\t MSE eqn: 11.7477\t MSE boundary: 5097.1475\t Total Loss: 5108.8950\n"
     ]
    },
    {
     "name": "stderr",
     "output_type": "stream",
     "text": [
      " 25%|██▍       | 1230/5000 [01:48<05:22, 11.69it/s]"
     ]
    },
    {
     "name": "stdout",
     "output_type": "stream",
     "text": [
      "Iteration: 1220/5000\t MSE eqn: 11.6984\t MSE boundary: 6600.4380\t Total Loss: 6612.1362\n"
     ]
    },
    {
     "name": "stderr",
     "output_type": "stream",
     "text": [
      " 25%|██▍       | 1240/5000 [01:49<05:20, 11.74it/s]"
     ]
    },
    {
     "name": "stdout",
     "output_type": "stream",
     "text": [
      "Iteration: 1230/5000\t MSE eqn: 11.7500\t MSE boundary: 4799.5259\t Total Loss: 4811.2759\n"
     ]
    },
    {
     "name": "stderr",
     "output_type": "stream",
     "text": [
      " 25%|██▌       | 1250/5000 [01:50<05:22, 11.62it/s]"
     ]
    },
    {
     "name": "stdout",
     "output_type": "stream",
     "text": [
      "Iteration: 1240/5000\t MSE eqn: 11.7276\t MSE boundary: 6343.3154\t Total Loss: 6355.0430\n"
     ]
    },
    {
     "name": "stderr",
     "output_type": "stream",
     "text": [
      " 25%|██▌       | 1260/5000 [01:51<05:20, 11.65it/s]"
     ]
    },
    {
     "name": "stdout",
     "output_type": "stream",
     "text": [
      "Iteration: 1250/5000\t MSE eqn: 11.7801\t MSE boundary: 5741.1436\t Total Loss: 5752.9238\n"
     ]
    },
    {
     "name": "stderr",
     "output_type": "stream",
     "text": [
      " 25%|██▌       | 1270/5000 [01:51<05:15, 11.83it/s]"
     ]
    },
    {
     "name": "stdout",
     "output_type": "stream",
     "text": [
      "Iteration: 1260/5000\t MSE eqn: 11.8929\t MSE boundary: 4849.3130\t Total Loss: 4861.2061\n"
     ]
    },
    {
     "name": "stderr",
     "output_type": "stream",
     "text": [
      " 26%|██▌       | 1280/5000 [01:52<05:17, 11.73it/s]"
     ]
    },
    {
     "name": "stdout",
     "output_type": "stream",
     "text": [
      "Iteration: 1270/5000\t MSE eqn: 11.7484\t MSE boundary: 5366.2700\t Total Loss: 5378.0186\n"
     ]
    },
    {
     "name": "stderr",
     "output_type": "stream",
     "text": [
      " 26%|██▌       | 1290/5000 [01:53<05:15, 11.77it/s]"
     ]
    },
    {
     "name": "stdout",
     "output_type": "stream",
     "text": [
      "Iteration: 1280/5000\t MSE eqn: 11.9433\t MSE boundary: 5865.4053\t Total Loss: 5877.3486\n"
     ]
    },
    {
     "name": "stderr",
     "output_type": "stream",
     "text": [
      " 26%|██▌       | 1300/5000 [01:54<05:14, 11.75it/s]"
     ]
    },
    {
     "name": "stdout",
     "output_type": "stream",
     "text": [
      "Iteration: 1290/5000\t MSE eqn: 11.7141\t MSE boundary: 6109.0625\t Total Loss: 6120.7769\n"
     ]
    },
    {
     "name": "stderr",
     "output_type": "stream",
     "text": [
      " 26%|██▌       | 1310/5000 [01:55<05:07, 12.02it/s]"
     ]
    },
    {
     "name": "stdout",
     "output_type": "stream",
     "text": [
      "Iteration: 1300/5000\t MSE eqn: 11.7718\t MSE boundary: 5417.6133\t Total Loss: 5429.3853\n"
     ]
    },
    {
     "name": "stderr",
     "output_type": "stream",
     "text": [
      " 26%|██▋       | 1320/5000 [01:56<05:04, 12.10it/s]"
     ]
    },
    {
     "name": "stdout",
     "output_type": "stream",
     "text": [
      "Iteration: 1310/5000\t MSE eqn: 11.9361\t MSE boundary: 5495.9585\t Total Loss: 5507.8945\n"
     ]
    },
    {
     "name": "stderr",
     "output_type": "stream",
     "text": [
      " 27%|██▋       | 1330/5000 [01:56<04:59, 12.24it/s]"
     ]
    },
    {
     "name": "stdout",
     "output_type": "stream",
     "text": [
      "Iteration: 1320/5000\t MSE eqn: 11.6972\t MSE boundary: 5838.4424\t Total Loss: 5850.1396\n"
     ]
    },
    {
     "name": "stderr",
     "output_type": "stream",
     "text": [
      " 27%|██▋       | 1340/5000 [01:57<04:58, 12.28it/s]"
     ]
    },
    {
     "name": "stdout",
     "output_type": "stream",
     "text": [
      "Iteration: 1330/5000\t MSE eqn: 11.7807\t MSE boundary: 5458.4727\t Total Loss: 5470.2534\n"
     ]
    },
    {
     "name": "stderr",
     "output_type": "stream",
     "text": [
      " 27%|██▋       | 1350/5000 [01:58<04:57, 12.26it/s]"
     ]
    },
    {
     "name": "stdout",
     "output_type": "stream",
     "text": [
      "Iteration: 1340/5000\t MSE eqn: 11.7533\t MSE boundary: 5357.7827\t Total Loss: 5369.5361\n"
     ]
    },
    {
     "name": "stderr",
     "output_type": "stream",
     "text": [
      " 27%|██▋       | 1360/5000 [01:59<04:54, 12.37it/s]"
     ]
    },
    {
     "name": "stdout",
     "output_type": "stream",
     "text": [
      "Iteration: 1350/5000\t MSE eqn: 11.6631\t MSE boundary: 5286.6304\t Total Loss: 5298.2935\n"
     ]
    },
    {
     "name": "stderr",
     "output_type": "stream",
     "text": [
      " 27%|██▋       | 1370/5000 [02:00<04:57, 12.18it/s]"
     ]
    },
    {
     "name": "stdout",
     "output_type": "stream",
     "text": [
      "Iteration: 1360/5000\t MSE eqn: 11.7922\t MSE boundary: 5454.2314\t Total Loss: 5466.0234\n"
     ]
    },
    {
     "name": "stderr",
     "output_type": "stream",
     "text": [
      " 28%|██▊       | 1380/5000 [02:01<05:21, 11.27it/s]"
     ]
    },
    {
     "name": "stdout",
     "output_type": "stream",
     "text": [
      "Iteration: 1370/5000\t MSE eqn: 11.7249\t MSE boundary: 5119.5166\t Total Loss: 5131.2417\n"
     ]
    },
    {
     "name": "stderr",
     "output_type": "stream",
     "text": [
      " 28%|██▊       | 1390/5000 [02:02<05:18, 11.33it/s]"
     ]
    },
    {
     "name": "stdout",
     "output_type": "stream",
     "text": [
      "Iteration: 1380/5000\t MSE eqn: 11.8750\t MSE boundary: 5192.3745\t Total Loss: 5204.2495\n"
     ]
    },
    {
     "name": "stderr",
     "output_type": "stream",
     "text": [
      " 28%|██▊       | 1400/5000 [02:02<05:10, 11.59it/s]"
     ]
    },
    {
     "name": "stdout",
     "output_type": "stream",
     "text": [
      "Iteration: 1390/5000\t MSE eqn: 11.8265\t MSE boundary: 5262.7837\t Total Loss: 5274.6104\n"
     ]
    },
    {
     "name": "stderr",
     "output_type": "stream",
     "text": [
      " 28%|██▊       | 1410/5000 [02:03<05:06, 11.71it/s]"
     ]
    },
    {
     "name": "stdout",
     "output_type": "stream",
     "text": [
      "Iteration: 1400/5000\t MSE eqn: 11.7722\t MSE boundary: 5900.4141\t Total Loss: 5912.1860\n"
     ]
    },
    {
     "name": "stderr",
     "output_type": "stream",
     "text": [
      " 28%|██▊       | 1420/5000 [02:04<04:57, 12.03it/s]"
     ]
    },
    {
     "name": "stdout",
     "output_type": "stream",
     "text": [
      "Iteration: 1410/5000\t MSE eqn: 11.8121\t MSE boundary: 5279.3047\t Total Loss: 5291.1167\n"
     ]
    },
    {
     "name": "stderr",
     "output_type": "stream",
     "text": [
      " 29%|██▊       | 1430/5000 [02:05<05:02, 11.81it/s]"
     ]
    },
    {
     "name": "stdout",
     "output_type": "stream",
     "text": [
      "Iteration: 1420/5000\t MSE eqn: 11.7643\t MSE boundary: 5808.5806\t Total Loss: 5820.3447\n"
     ]
    },
    {
     "name": "stderr",
     "output_type": "stream",
     "text": [
      " 29%|██▉       | 1440/5000 [02:06<05:07, 11.58it/s]"
     ]
    },
    {
     "name": "stdout",
     "output_type": "stream",
     "text": [
      "Iteration: 1430/5000\t MSE eqn: 11.6526\t MSE boundary: 6570.2256\t Total Loss: 6581.8784\n"
     ]
    },
    {
     "name": "stderr",
     "output_type": "stream",
     "text": [
      " 29%|██▉       | 1450/5000 [02:07<05:03, 11.68it/s]"
     ]
    },
    {
     "name": "stdout",
     "output_type": "stream",
     "text": [
      "Iteration: 1440/5000\t MSE eqn: 11.8137\t MSE boundary: 5754.7529\t Total Loss: 5766.5669\n"
     ]
    },
    {
     "name": "stderr",
     "output_type": "stream",
     "text": [
      " 29%|██▉       | 1460/5000 [02:08<05:07, 11.50it/s]"
     ]
    },
    {
     "name": "stdout",
     "output_type": "stream",
     "text": [
      "Iteration: 1450/5000\t MSE eqn: 11.6938\t MSE boundary: 6437.4844\t Total Loss: 6449.1782\n"
     ]
    },
    {
     "name": "stderr",
     "output_type": "stream",
     "text": [
      " 29%|██▉       | 1470/5000 [02:08<05:00, 11.75it/s]"
     ]
    },
    {
     "name": "stdout",
     "output_type": "stream",
     "text": [
      "Iteration: 1460/5000\t MSE eqn: 11.9347\t MSE boundary: 5438.6904\t Total Loss: 5450.6250\n"
     ]
    },
    {
     "name": "stderr",
     "output_type": "stream",
     "text": [
      " 30%|██▉       | 1480/5000 [02:09<05:02, 11.63it/s]"
     ]
    },
    {
     "name": "stdout",
     "output_type": "stream",
     "text": [
      "Iteration: 1470/5000\t MSE eqn: 11.7131\t MSE boundary: 6015.6353\t Total Loss: 6027.3481\n"
     ]
    },
    {
     "name": "stderr",
     "output_type": "stream",
     "text": [
      " 30%|██▉       | 1490/5000 [02:10<05:03, 11.56it/s]"
     ]
    },
    {
     "name": "stdout",
     "output_type": "stream",
     "text": [
      "Iteration: 1480/5000\t MSE eqn: 11.8083\t MSE boundary: 5514.4639\t Total Loss: 5526.2720\n"
     ]
    },
    {
     "name": "stderr",
     "output_type": "stream",
     "text": [
      " 30%|███       | 1500/5000 [02:11<04:57, 11.78it/s]"
     ]
    },
    {
     "name": "stdout",
     "output_type": "stream",
     "text": [
      "Iteration: 1490/5000\t MSE eqn: 11.6722\t MSE boundary: 5230.7583\t Total Loss: 5242.4307\n"
     ]
    },
    {
     "name": "stderr",
     "output_type": "stream",
     "text": [
      " 30%|███       | 1510/5000 [02:12<04:56, 11.75it/s]"
     ]
    },
    {
     "name": "stdout",
     "output_type": "stream",
     "text": [
      "Iteration: 1500/5000\t MSE eqn: 11.6883\t MSE boundary: 6356.9155\t Total Loss: 6368.6040\n"
     ]
    },
    {
     "name": "stderr",
     "output_type": "stream",
     "text": [
      " 30%|███       | 1520/5000 [02:13<05:14, 11.07it/s]"
     ]
    },
    {
     "name": "stdout",
     "output_type": "stream",
     "text": [
      "Iteration: 1510/5000\t MSE eqn: 11.8710\t MSE boundary: 5307.6870\t Total Loss: 5319.5581\n"
     ]
    },
    {
     "name": "stderr",
     "output_type": "stream",
     "text": [
      " 31%|███       | 1530/5000 [02:14<05:36, 10.32it/s]"
     ]
    },
    {
     "name": "stdout",
     "output_type": "stream",
     "text": [
      "Iteration: 1520/5000\t MSE eqn: 11.6723\t MSE boundary: 6192.5063\t Total Loss: 6204.1787\n"
     ]
    },
    {
     "name": "stderr",
     "output_type": "stream",
     "text": [
      " 31%|███       | 1540/5000 [02:15<05:32, 10.41it/s]"
     ]
    },
    {
     "name": "stdout",
     "output_type": "stream",
     "text": [
      "Iteration: 1530/5000\t MSE eqn: 11.6006\t MSE boundary: 5851.8115\t Total Loss: 5863.4121\n"
     ]
    },
    {
     "name": "stderr",
     "output_type": "stream",
     "text": [
      " 31%|███       | 1550/5000 [02:16<05:40, 10.14it/s]"
     ]
    },
    {
     "name": "stdout",
     "output_type": "stream",
     "text": [
      "Iteration: 1540/5000\t MSE eqn: 11.7305\t MSE boundary: 5794.4292\t Total Loss: 5806.1597\n"
     ]
    },
    {
     "name": "stderr",
     "output_type": "stream",
     "text": [
      " 31%|███       | 1560/5000 [02:17<05:56,  9.66it/s]"
     ]
    },
    {
     "name": "stdout",
     "output_type": "stream",
     "text": [
      "Iteration: 1550/5000\t MSE eqn: 11.7577\t MSE boundary: 5808.3286\t Total Loss: 5820.0864\n"
     ]
    },
    {
     "name": "stderr",
     "output_type": "stream",
     "text": [
      " 31%|███▏      | 1570/5000 [02:18<05:40, 10.07it/s]"
     ]
    },
    {
     "name": "stdout",
     "output_type": "stream",
     "text": [
      "Iteration: 1560/5000\t MSE eqn: 11.8012\t MSE boundary: 5598.4614\t Total Loss: 5610.2627\n"
     ]
    },
    {
     "name": "stderr",
     "output_type": "stream",
     "text": [
      " 32%|███▏      | 1580/5000 [02:19<05:30, 10.34it/s]"
     ]
    },
    {
     "name": "stdout",
     "output_type": "stream",
     "text": [
      "Iteration: 1570/5000\t MSE eqn: 11.6835\t MSE boundary: 5510.8740\t Total Loss: 5522.5576\n"
     ]
    },
    {
     "name": "stderr",
     "output_type": "stream",
     "text": [
      " 32%|███▏      | 1590/5000 [02:20<05:28, 10.39it/s]"
     ]
    },
    {
     "name": "stdout",
     "output_type": "stream",
     "text": [
      "Iteration: 1580/5000\t MSE eqn: 11.7859\t MSE boundary: 4963.7002\t Total Loss: 4975.4863\n"
     ]
    },
    {
     "name": "stderr",
     "output_type": "stream",
     "text": [
      " 32%|███▏      | 1600/5000 [02:21<05:33, 10.19it/s]"
     ]
    },
    {
     "name": "stdout",
     "output_type": "stream",
     "text": [
      "Iteration: 1590/5000\t MSE eqn: 11.7727\t MSE boundary: 5040.4917\t Total Loss: 5052.2642\n"
     ]
    },
    {
     "name": "stderr",
     "output_type": "stream",
     "text": [
      " 32%|███▏      | 1610/5000 [02:22<05:26, 10.39it/s]"
     ]
    },
    {
     "name": "stdout",
     "output_type": "stream",
     "text": [
      "Iteration: 1600/5000\t MSE eqn: 11.6217\t MSE boundary: 5522.7148\t Total Loss: 5534.3364\n"
     ]
    },
    {
     "name": "stderr",
     "output_type": "stream",
     "text": [
      " 32%|███▏      | 1620/5000 [02:23<05:16, 10.68it/s]"
     ]
    },
    {
     "name": "stdout",
     "output_type": "stream",
     "text": [
      "Iteration: 1610/5000\t MSE eqn: 11.7696\t MSE boundary: 5247.3418\t Total Loss: 5259.1113\n"
     ]
    },
    {
     "name": "stderr",
     "output_type": "stream",
     "text": [
      " 33%|███▎      | 1630/5000 [02:24<05:33, 10.10it/s]"
     ]
    },
    {
     "name": "stdout",
     "output_type": "stream",
     "text": [
      "Iteration: 1620/5000\t MSE eqn: 11.7227\t MSE boundary: 5497.8916\t Total Loss: 5509.6143\n"
     ]
    },
    {
     "name": "stderr",
     "output_type": "stream",
     "text": [
      " 33%|███▎      | 1640/5000 [02:25<05:22, 10.42it/s]"
     ]
    },
    {
     "name": "stdout",
     "output_type": "stream",
     "text": [
      "Iteration: 1630/5000\t MSE eqn: 11.7207\t MSE boundary: 5617.0474\t Total Loss: 5628.7681\n"
     ]
    },
    {
     "name": "stderr",
     "output_type": "stream",
     "text": [
      " 33%|███▎      | 1650/5000 [02:25<05:07, 10.89it/s]"
     ]
    },
    {
     "name": "stdout",
     "output_type": "stream",
     "text": [
      "Iteration: 1640/5000\t MSE eqn: 11.7834\t MSE boundary: 6573.1763\t Total Loss: 6584.9595\n"
     ]
    },
    {
     "name": "stderr",
     "output_type": "stream",
     "text": [
      " 33%|███▎      | 1660/5000 [02:26<04:57, 11.21it/s]"
     ]
    },
    {
     "name": "stdout",
     "output_type": "stream",
     "text": [
      "Iteration: 1650/5000\t MSE eqn: 11.6970\t MSE boundary: 5821.4453\t Total Loss: 5833.1421\n"
     ]
    },
    {
     "name": "stderr",
     "output_type": "stream",
     "text": [
      " 33%|███▎      | 1670/5000 [02:27<04:48, 11.56it/s]"
     ]
    },
    {
     "name": "stdout",
     "output_type": "stream",
     "text": [
      "Iteration: 1660/5000\t MSE eqn: 11.7739\t MSE boundary: 5586.4814\t Total Loss: 5598.2554\n"
     ]
    },
    {
     "name": "stderr",
     "output_type": "stream",
     "text": [
      " 34%|███▎      | 1680/5000 [02:28<04:46, 11.59it/s]"
     ]
    },
    {
     "name": "stdout",
     "output_type": "stream",
     "text": [
      "Iteration: 1670/5000\t MSE eqn: 11.8740\t MSE boundary: 5595.1431\t Total Loss: 5607.0171\n"
     ]
    },
    {
     "name": "stderr",
     "output_type": "stream",
     "text": [
      " 34%|███▍      | 1690/5000 [02:29<05:03, 10.90it/s]"
     ]
    },
    {
     "name": "stdout",
     "output_type": "stream",
     "text": [
      "Iteration: 1680/5000\t MSE eqn: 11.7018\t MSE boundary: 5428.8818\t Total Loss: 5440.5835\n"
     ]
    },
    {
     "name": "stderr",
     "output_type": "stream",
     "text": [
      " 34%|███▍      | 1700/5000 [02:30<05:16, 10.42it/s]"
     ]
    },
    {
     "name": "stdout",
     "output_type": "stream",
     "text": [
      "Iteration: 1690/5000\t MSE eqn: 11.7165\t MSE boundary: 6601.9673\t Total Loss: 6613.6836\n"
     ]
    },
    {
     "name": "stderr",
     "output_type": "stream",
     "text": [
      " 34%|███▍      | 1710/5000 [02:31<05:06, 10.74it/s]"
     ]
    },
    {
     "name": "stdout",
     "output_type": "stream",
     "text": [
      "Iteration: 1700/5000\t MSE eqn: 11.7879\t MSE boundary: 5629.7070\t Total Loss: 5641.4951\n"
     ]
    },
    {
     "name": "stderr",
     "output_type": "stream",
     "text": [
      " 34%|███▍      | 1720/5000 [02:32<05:05, 10.75it/s]"
     ]
    },
    {
     "name": "stdout",
     "output_type": "stream",
     "text": [
      "Iteration: 1710/5000\t MSE eqn: 11.8367\t MSE boundary: 5911.1953\t Total Loss: 5923.0317\n"
     ]
    },
    {
     "name": "stderr",
     "output_type": "stream",
     "text": [
      " 35%|███▍      | 1730/5000 [02:33<05:51,  9.30it/s]"
     ]
    },
    {
     "name": "stdout",
     "output_type": "stream",
     "text": [
      "Iteration: 1720/5000\t MSE eqn: 11.7242\t MSE boundary: 6193.4893\t Total Loss: 6205.2134\n"
     ]
    },
    {
     "name": "stderr",
     "output_type": "stream",
     "text": [
      " 35%|███▍      | 1740/5000 [02:34<05:52,  9.24it/s]"
     ]
    },
    {
     "name": "stdout",
     "output_type": "stream",
     "text": [
      "Iteration: 1730/5000\t MSE eqn: 11.7163\t MSE boundary: 5820.9507\t Total Loss: 5832.6670\n"
     ]
    },
    {
     "name": "stderr",
     "output_type": "stream",
     "text": [
      " 35%|███▌      | 1750/5000 [02:35<05:25,  9.98it/s]"
     ]
    },
    {
     "name": "stdout",
     "output_type": "stream",
     "text": [
      "Iteration: 1740/5000\t MSE eqn: 11.5438\t MSE boundary: 6175.7329\t Total Loss: 6187.2769\n"
     ]
    },
    {
     "name": "stderr",
     "output_type": "stream",
     "text": [
      " 35%|███▌      | 1760/5000 [02:36<05:06, 10.56it/s]"
     ]
    },
    {
     "name": "stdout",
     "output_type": "stream",
     "text": [
      "Iteration: 1750/5000\t MSE eqn: 11.6860\t MSE boundary: 6422.4258\t Total Loss: 6434.1118\n"
     ]
    },
    {
     "name": "stderr",
     "output_type": "stream",
     "text": [
      " 35%|███▌      | 1770/5000 [02:37<04:50, 11.11it/s]"
     ]
    },
    {
     "name": "stdout",
     "output_type": "stream",
     "text": [
      "Iteration: 1760/5000\t MSE eqn: 11.7693\t MSE boundary: 5663.7993\t Total Loss: 5675.5684\n"
     ]
    },
    {
     "name": "stderr",
     "output_type": "stream",
     "text": [
      " 36%|███▌      | 1780/5000 [02:38<04:39, 11.52it/s]"
     ]
    },
    {
     "name": "stdout",
     "output_type": "stream",
     "text": [
      "Iteration: 1770/5000\t MSE eqn: 11.7885\t MSE boundary: 5951.9834\t Total Loss: 5963.7720\n"
     ]
    },
    {
     "name": "stderr",
     "output_type": "stream",
     "text": [
      " 36%|███▌      | 1790/5000 [02:38<04:32, 11.76it/s]"
     ]
    },
    {
     "name": "stdout",
     "output_type": "stream",
     "text": [
      "Iteration: 1780/5000\t MSE eqn: 11.6429\t MSE boundary: 6093.9438\t Total Loss: 6105.5869\n"
     ]
    },
    {
     "name": "stderr",
     "output_type": "stream",
     "text": [
      " 36%|███▌      | 1800/5000 [02:39<04:28, 11.90it/s]"
     ]
    },
    {
     "name": "stdout",
     "output_type": "stream",
     "text": [
      "Iteration: 1790/5000\t MSE eqn: 11.9064\t MSE boundary: 5232.2852\t Total Loss: 5244.1914\n"
     ]
    },
    {
     "name": "stderr",
     "output_type": "stream",
     "text": [
      " 36%|███▌      | 1810/5000 [02:40<04:25, 12.02it/s]"
     ]
    },
    {
     "name": "stdout",
     "output_type": "stream",
     "text": [
      "Iteration: 1800/5000\t MSE eqn: 11.8039\t MSE boundary: 6599.5283\t Total Loss: 6611.3320\n"
     ]
    },
    {
     "name": "stderr",
     "output_type": "stream",
     "text": [
      " 36%|███▋      | 1820/5000 [02:41<04:17, 12.35it/s]"
     ]
    },
    {
     "name": "stdout",
     "output_type": "stream",
     "text": [
      "Iteration: 1810/5000\t MSE eqn: 11.8312\t MSE boundary: 6217.5459\t Total Loss: 6229.3770\n"
     ]
    },
    {
     "name": "stderr",
     "output_type": "stream",
     "text": [
      " 37%|███▋      | 1830/5000 [02:42<04:18, 12.24it/s]"
     ]
    },
    {
     "name": "stdout",
     "output_type": "stream",
     "text": [
      "Iteration: 1820/5000\t MSE eqn: 11.6527\t MSE boundary: 5433.9019\t Total Loss: 5445.5547\n"
     ]
    },
    {
     "name": "stderr",
     "output_type": "stream",
     "text": [
      " 37%|███▋      | 1840/5000 [02:42<04:15, 12.39it/s]"
     ]
    },
    {
     "name": "stdout",
     "output_type": "stream",
     "text": [
      "Iteration: 1830/5000\t MSE eqn: 11.7473\t MSE boundary: 6586.0718\t Total Loss: 6597.8188\n"
     ]
    },
    {
     "name": "stderr",
     "output_type": "stream",
     "text": [
      " 37%|███▋      | 1850/5000 [02:43<04:14, 12.40it/s]"
     ]
    },
    {
     "name": "stdout",
     "output_type": "stream",
     "text": [
      "Iteration: 1840/5000\t MSE eqn: 11.7587\t MSE boundary: 6353.6143\t Total Loss: 6365.3730\n"
     ]
    },
    {
     "name": "stderr",
     "output_type": "stream",
     "text": [
      " 37%|███▋      | 1860/5000 [02:44<04:08, 12.65it/s]"
     ]
    },
    {
     "name": "stdout",
     "output_type": "stream",
     "text": [
      "Iteration: 1850/5000\t MSE eqn: 11.7999\t MSE boundary: 6311.2480\t Total Loss: 6323.0479\n"
     ]
    },
    {
     "name": "stderr",
     "output_type": "stream",
     "text": [
      " 37%|███▋      | 1870/5000 [02:45<04:04, 12.79it/s]"
     ]
    },
    {
     "name": "stdout",
     "output_type": "stream",
     "text": [
      "Iteration: 1860/5000\t MSE eqn: 11.7401\t MSE boundary: 5986.3462\t Total Loss: 5998.0864\n"
     ]
    },
    {
     "name": "stderr",
     "output_type": "stream",
     "text": [
      " 38%|███▊      | 1880/5000 [02:45<04:00, 12.97it/s]"
     ]
    },
    {
     "name": "stdout",
     "output_type": "stream",
     "text": [
      "Iteration: 1870/5000\t MSE eqn: 11.8725\t MSE boundary: 4950.2412\t Total Loss: 4962.1138\n"
     ]
    },
    {
     "name": "stderr",
     "output_type": "stream",
     "text": [
      " 38%|███▊      | 1890/5000 [02:46<03:58, 13.05it/s]"
     ]
    },
    {
     "name": "stdout",
     "output_type": "stream",
     "text": [
      "Iteration: 1880/5000\t MSE eqn: 11.7339\t MSE boundary: 5241.9360\t Total Loss: 5253.6699\n"
     ]
    },
    {
     "name": "stderr",
     "output_type": "stream",
     "text": [
      " 38%|███▊      | 1900/5000 [02:47<03:58, 13.01it/s]"
     ]
    },
    {
     "name": "stdout",
     "output_type": "stream",
     "text": [
      "Iteration: 1890/5000\t MSE eqn: 11.7844\t MSE boundary: 5648.7163\t Total Loss: 5660.5010\n"
     ]
    },
    {
     "name": "stderr",
     "output_type": "stream",
     "text": [
      " 38%|███▊      | 1910/5000 [02:48<03:57, 12.99it/s]"
     ]
    },
    {
     "name": "stdout",
     "output_type": "stream",
     "text": [
      "Iteration: 1900/5000\t MSE eqn: 11.7287\t MSE boundary: 6617.0811\t Total Loss: 6628.8096\n"
     ]
    },
    {
     "name": "stderr",
     "output_type": "stream",
     "text": [
      " 38%|███▊      | 1920/5000 [02:49<03:55, 13.06it/s]"
     ]
    },
    {
     "name": "stdout",
     "output_type": "stream",
     "text": [
      "Iteration: 1910/5000\t MSE eqn: 11.7209\t MSE boundary: 5394.7471\t Total Loss: 5406.4678\n"
     ]
    },
    {
     "name": "stderr",
     "output_type": "stream",
     "text": [
      " 39%|███▊      | 1930/5000 [02:49<03:52, 13.18it/s]"
     ]
    },
    {
     "name": "stdout",
     "output_type": "stream",
     "text": [
      "Iteration: 1920/5000\t MSE eqn: 11.7756\t MSE boundary: 5822.4907\t Total Loss: 5834.2666\n"
     ]
    },
    {
     "name": "stderr",
     "output_type": "stream",
     "text": [
      " 39%|███▉      | 1940/5000 [02:50<03:53, 13.13it/s]"
     ]
    },
    {
     "name": "stdout",
     "output_type": "stream",
     "text": [
      "Iteration: 1930/5000\t MSE eqn: 11.8059\t MSE boundary: 6825.6069\t Total Loss: 6837.4131\n"
     ]
    },
    {
     "name": "stderr",
     "output_type": "stream",
     "text": [
      " 39%|███▉      | 1950/5000 [02:51<03:52, 13.12it/s]"
     ]
    },
    {
     "name": "stdout",
     "output_type": "stream",
     "text": [
      "Iteration: 1940/5000\t MSE eqn: 11.7700\t MSE boundary: 5705.7754\t Total Loss: 5717.5454\n"
     ]
    },
    {
     "name": "stderr",
     "output_type": "stream",
     "text": [
      " 39%|███▉      | 1960/5000 [02:52<03:50, 13.18it/s]"
     ]
    },
    {
     "name": "stdout",
     "output_type": "stream",
     "text": [
      "Iteration: 1950/5000\t MSE eqn: 11.7780\t MSE boundary: 5469.7578\t Total Loss: 5481.5356\n"
     ]
    },
    {
     "name": "stderr",
     "output_type": "stream",
     "text": [
      " 39%|███▉      | 1970/5000 [02:52<03:48, 13.24it/s]"
     ]
    },
    {
     "name": "stdout",
     "output_type": "stream",
     "text": [
      "Iteration: 1960/5000\t MSE eqn: 11.8062\t MSE boundary: 5381.6494\t Total Loss: 5393.4556\n"
     ]
    },
    {
     "name": "stderr",
     "output_type": "stream",
     "text": [
      " 40%|███▉      | 1980/5000 [02:53<03:49, 13.14it/s]"
     ]
    },
    {
     "name": "stdout",
     "output_type": "stream",
     "text": [
      "Iteration: 1970/5000\t MSE eqn: 11.7113\t MSE boundary: 5967.6323\t Total Loss: 5979.3438\n"
     ]
    },
    {
     "name": "stderr",
     "output_type": "stream",
     "text": [
      " 40%|███▉      | 1990/5000 [02:54<03:51, 13.02it/s]"
     ]
    },
    {
     "name": "stdout",
     "output_type": "stream",
     "text": [
      "Iteration: 1980/5000\t MSE eqn: 11.7212\t MSE boundary: 5430.0981\t Total Loss: 5441.8193\n"
     ]
    },
    {
     "name": "stderr",
     "output_type": "stream",
     "text": [
      " 40%|████      | 2000/5000 [02:55<03:50, 13.02it/s]"
     ]
    },
    {
     "name": "stdout",
     "output_type": "stream",
     "text": [
      "Iteration: 1990/5000\t MSE eqn: 11.6992\t MSE boundary: 6224.9980\t Total Loss: 6236.6973\n"
     ]
    },
    {
     "name": "stderr",
     "output_type": "stream",
     "text": [
      " 40%|████      | 2010/5000 [02:55<03:52, 12.87it/s]"
     ]
    },
    {
     "name": "stdout",
     "output_type": "stream",
     "text": [
      "Iteration: 2000/5000\t MSE eqn: 11.7219\t MSE boundary: 7057.0420\t Total Loss: 7068.7637\n"
     ]
    },
    {
     "name": "stderr",
     "output_type": "stream",
     "text": [
      " 40%|████      | 2020/5000 [02:56<03:53, 12.74it/s]"
     ]
    },
    {
     "name": "stdout",
     "output_type": "stream",
     "text": [
      "Iteration: 2010/5000\t MSE eqn: 11.8280\t MSE boundary: 6143.3936\t Total Loss: 6155.2217\n"
     ]
    },
    {
     "name": "stderr",
     "output_type": "stream",
     "text": [
      " 41%|████      | 2030/5000 [02:57<03:52, 12.80it/s]"
     ]
    },
    {
     "name": "stdout",
     "output_type": "stream",
     "text": [
      "Iteration: 2020/5000\t MSE eqn: 11.6628\t MSE boundary: 5569.9512\t Total Loss: 5581.6138\n"
     ]
    },
    {
     "name": "stderr",
     "output_type": "stream",
     "text": [
      " 41%|████      | 2040/5000 [02:58<03:48, 12.95it/s]"
     ]
    },
    {
     "name": "stdout",
     "output_type": "stream",
     "text": [
      "Iteration: 2030/5000\t MSE eqn: 11.8022\t MSE boundary: 5080.8506\t Total Loss: 5092.6528\n"
     ]
    },
    {
     "name": "stderr",
     "output_type": "stream",
     "text": [
      " 41%|████      | 2050/5000 [02:59<03:45, 13.06it/s]"
     ]
    },
    {
     "name": "stdout",
     "output_type": "stream",
     "text": [
      "Iteration: 2040/5000\t MSE eqn: 11.6267\t MSE boundary: 5588.9302\t Total Loss: 5600.5571\n"
     ]
    },
    {
     "name": "stderr",
     "output_type": "stream",
     "text": [
      " 41%|████      | 2060/5000 [02:59<03:44, 13.08it/s]"
     ]
    },
    {
     "name": "stdout",
     "output_type": "stream",
     "text": [
      "Iteration: 2050/5000\t MSE eqn: 11.7977\t MSE boundary: 5654.5601\t Total Loss: 5666.3579\n"
     ]
    },
    {
     "name": "stderr",
     "output_type": "stream",
     "text": [
      " 41%|████▏     | 2070/5000 [03:00<03:48, 12.82it/s]"
     ]
    },
    {
     "name": "stdout",
     "output_type": "stream",
     "text": [
      "Iteration: 2060/5000\t MSE eqn: 11.8258\t MSE boundary: 5431.8354\t Total Loss: 5443.6611\n"
     ]
    },
    {
     "name": "stderr",
     "output_type": "stream",
     "text": [
      " 42%|████▏     | 2080/5000 [03:01<03:53, 12.51it/s]"
     ]
    },
    {
     "name": "stdout",
     "output_type": "stream",
     "text": [
      "Iteration: 2070/5000\t MSE eqn: 11.7955\t MSE boundary: 6232.2720\t Total Loss: 6244.0674\n"
     ]
    },
    {
     "name": "stderr",
     "output_type": "stream",
     "text": [
      " 42%|████▏     | 2090/5000 [03:02<03:52, 12.54it/s]"
     ]
    },
    {
     "name": "stdout",
     "output_type": "stream",
     "text": [
      "Iteration: 2080/5000\t MSE eqn: 11.8244\t MSE boundary: 6183.0029\t Total Loss: 6194.8271\n"
     ]
    },
    {
     "name": "stderr",
     "output_type": "stream",
     "text": [
      " 42%|████▏     | 2100/5000 [03:03<03:49, 12.61it/s]"
     ]
    },
    {
     "name": "stdout",
     "output_type": "stream",
     "text": [
      "Iteration: 2090/5000\t MSE eqn: 11.6209\t MSE boundary: 6459.0254\t Total Loss: 6470.6465\n"
     ]
    },
    {
     "name": "stderr",
     "output_type": "stream",
     "text": [
      " 42%|████▏     | 2110/5000 [03:03<03:45, 12.80it/s]"
     ]
    },
    {
     "name": "stdout",
     "output_type": "stream",
     "text": [
      "Iteration: 2100/5000\t MSE eqn: 11.7065\t MSE boundary: 5499.0972\t Total Loss: 5510.8037\n"
     ]
    },
    {
     "name": "stderr",
     "output_type": "stream",
     "text": [
      " 42%|████▏     | 2120/5000 [03:04<03:49, 12.53it/s]"
     ]
    },
    {
     "name": "stdout",
     "output_type": "stream",
     "text": [
      "Iteration: 2110/5000\t MSE eqn: 11.8459\t MSE boundary: 5472.0771\t Total Loss: 5483.9229\n"
     ]
    },
    {
     "name": "stderr",
     "output_type": "stream",
     "text": [
      " 43%|████▎     | 2130/5000 [03:05<03:46, 12.69it/s]"
     ]
    },
    {
     "name": "stdout",
     "output_type": "stream",
     "text": [
      "Iteration: 2120/5000\t MSE eqn: 11.9173\t MSE boundary: 5501.6714\t Total Loss: 5513.5889\n"
     ]
    },
    {
     "name": "stderr",
     "output_type": "stream",
     "text": [
      " 43%|████▎     | 2140/5000 [03:06<03:42, 12.83it/s]"
     ]
    },
    {
     "name": "stdout",
     "output_type": "stream",
     "text": [
      "Iteration: 2130/5000\t MSE eqn: 11.5836\t MSE boundary: 6023.0444\t Total Loss: 6034.6279\n"
     ]
    },
    {
     "name": "stderr",
     "output_type": "stream",
     "text": [
      " 43%|████▎     | 2150/5000 [03:06<03:38, 13.07it/s]"
     ]
    },
    {
     "name": "stdout",
     "output_type": "stream",
     "text": [
      "Iteration: 2140/5000\t MSE eqn: 11.7106\t MSE boundary: 6347.2720\t Total Loss: 6358.9824\n"
     ]
    },
    {
     "name": "stderr",
     "output_type": "stream",
     "text": [
      " 43%|████▎     | 2160/5000 [03:07<03:35, 13.17it/s]"
     ]
    },
    {
     "name": "stdout",
     "output_type": "stream",
     "text": [
      "Iteration: 2150/5000\t MSE eqn: 11.7782\t MSE boundary: 6262.9233\t Total Loss: 6274.7017\n"
     ]
    },
    {
     "name": "stderr",
     "output_type": "stream",
     "text": [
      " 43%|████▎     | 2170/5000 [03:08<03:35, 13.13it/s]"
     ]
    },
    {
     "name": "stdout",
     "output_type": "stream",
     "text": [
      "Iteration: 2160/5000\t MSE eqn: 11.7764\t MSE boundary: 5487.5054\t Total Loss: 5499.2817\n"
     ]
    },
    {
     "name": "stderr",
     "output_type": "stream",
     "text": [
      " 44%|████▎     | 2180/5000 [03:09<03:34, 13.13it/s]"
     ]
    },
    {
     "name": "stdout",
     "output_type": "stream",
     "text": [
      "Iteration: 2170/5000\t MSE eqn: 11.8865\t MSE boundary: 6114.7656\t Total Loss: 6126.6523\n"
     ]
    },
    {
     "name": "stderr",
     "output_type": "stream",
     "text": [
      " 44%|████▍     | 2190/5000 [03:09<03:34, 13.13it/s]"
     ]
    },
    {
     "name": "stdout",
     "output_type": "stream",
     "text": [
      "Iteration: 2180/5000\t MSE eqn: 11.7388\t MSE boundary: 6542.4302\t Total Loss: 6554.1689\n"
     ]
    },
    {
     "name": "stderr",
     "output_type": "stream",
     "text": [
      " 44%|████▍     | 2200/5000 [03:10<03:33, 13.10it/s]"
     ]
    },
    {
     "name": "stdout",
     "output_type": "stream",
     "text": [
      "Iteration: 2190/5000\t MSE eqn: 11.6922\t MSE boundary: 5438.1064\t Total Loss: 5449.7988\n"
     ]
    },
    {
     "name": "stderr",
     "output_type": "stream",
     "text": [
      " 44%|████▍     | 2210/5000 [03:11<03:38, 12.76it/s]"
     ]
    },
    {
     "name": "stdout",
     "output_type": "stream",
     "text": [
      "Iteration: 2200/5000\t MSE eqn: 11.6663\t MSE boundary: 6138.2559\t Total Loss: 6149.9224\n"
     ]
    },
    {
     "name": "stderr",
     "output_type": "stream",
     "text": [
      " 44%|████▍     | 2220/5000 [03:12<03:40, 12.61it/s]"
     ]
    },
    {
     "name": "stdout",
     "output_type": "stream",
     "text": [
      "Iteration: 2210/5000\t MSE eqn: 11.7971\t MSE boundary: 5352.5190\t Total Loss: 5364.3164\n"
     ]
    },
    {
     "name": "stderr",
     "output_type": "stream",
     "text": [
      " 45%|████▍     | 2230/5000 [03:13<03:40, 12.54it/s]"
     ]
    },
    {
     "name": "stdout",
     "output_type": "stream",
     "text": [
      "Iteration: 2220/5000\t MSE eqn: 11.7702\t MSE boundary: 6189.5640\t Total Loss: 6201.3340\n"
     ]
    },
    {
     "name": "stderr",
     "output_type": "stream",
     "text": [
      " 45%|████▍     | 2240/5000 [03:13<03:43, 12.37it/s]"
     ]
    },
    {
     "name": "stdout",
     "output_type": "stream",
     "text": [
      "Iteration: 2230/5000\t MSE eqn: 11.7770\t MSE boundary: 6011.7988\t Total Loss: 6023.5757\n"
     ]
    },
    {
     "name": "stderr",
     "output_type": "stream",
     "text": [
      " 45%|████▌     | 2250/5000 [03:14<03:39, 12.50it/s]"
     ]
    },
    {
     "name": "stdout",
     "output_type": "stream",
     "text": [
      "Iteration: 2240/5000\t MSE eqn: 11.6459\t MSE boundary: 6892.7944\t Total Loss: 6904.4404\n"
     ]
    },
    {
     "name": "stderr",
     "output_type": "stream",
     "text": [
      " 45%|████▌     | 2260/5000 [03:15<03:37, 12.59it/s]"
     ]
    },
    {
     "name": "stdout",
     "output_type": "stream",
     "text": [
      "Iteration: 2250/5000\t MSE eqn: 11.8750\t MSE boundary: 4962.3706\t Total Loss: 4974.2456\n"
     ]
    },
    {
     "name": "stderr",
     "output_type": "stream",
     "text": [
      " 45%|████▌     | 2270/5000 [03:16<03:37, 12.54it/s]"
     ]
    },
    {
     "name": "stdout",
     "output_type": "stream",
     "text": [
      "Iteration: 2260/5000\t MSE eqn: 11.6927\t MSE boundary: 5604.3999\t Total Loss: 5616.0928\n"
     ]
    },
    {
     "name": "stderr",
     "output_type": "stream",
     "text": [
      " 46%|████▌     | 2280/5000 [03:17<03:34, 12.66it/s]"
     ]
    },
    {
     "name": "stdout",
     "output_type": "stream",
     "text": [
      "Iteration: 2270/5000\t MSE eqn: 11.9099\t MSE boundary: 5505.7300\t Total Loss: 5517.6401\n"
     ]
    },
    {
     "name": "stderr",
     "output_type": "stream",
     "text": [
      " 46%|████▌     | 2290/5000 [03:17<03:32, 12.76it/s]"
     ]
    },
    {
     "name": "stdout",
     "output_type": "stream",
     "text": [
      "Iteration: 2280/5000\t MSE eqn: 11.8245\t MSE boundary: 6513.0503\t Total Loss: 6524.8750\n"
     ]
    },
    {
     "name": "stderr",
     "output_type": "stream",
     "text": [
      " 46%|████▌     | 2300/5000 [03:18<03:30, 12.82it/s]"
     ]
    },
    {
     "name": "stdout",
     "output_type": "stream",
     "text": [
      "Iteration: 2290/5000\t MSE eqn: 11.7915\t MSE boundary: 5899.4976\t Total Loss: 5911.2891\n"
     ]
    },
    {
     "name": "stderr",
     "output_type": "stream",
     "text": [
      " 46%|████▌     | 2310/5000 [03:19<03:30, 12.77it/s]"
     ]
    },
    {
     "name": "stdout",
     "output_type": "stream",
     "text": [
      "Iteration: 2300/5000\t MSE eqn: 11.7442\t MSE boundary: 6680.5078\t Total Loss: 6692.2520\n"
     ]
    },
    {
     "name": "stderr",
     "output_type": "stream",
     "text": [
      " 46%|████▋     | 2320/5000 [03:20<03:28, 12.88it/s]"
     ]
    },
    {
     "name": "stdout",
     "output_type": "stream",
     "text": [
      "Iteration: 2310/5000\t MSE eqn: 11.7815\t MSE boundary: 5820.2329\t Total Loss: 5832.0142\n"
     ]
    },
    {
     "name": "stderr",
     "output_type": "stream",
     "text": [
      " 47%|████▋     | 2330/5000 [03:20<03:24, 13.06it/s]"
     ]
    },
    {
     "name": "stdout",
     "output_type": "stream",
     "text": [
      "Iteration: 2320/5000\t MSE eqn: 11.8289\t MSE boundary: 6222.5303\t Total Loss: 6234.3594\n"
     ]
    },
    {
     "name": "stderr",
     "output_type": "stream",
     "text": [
      " 47%|████▋     | 2340/5000 [03:21<03:22, 13.11it/s]"
     ]
    },
    {
     "name": "stdout",
     "output_type": "stream",
     "text": [
      "Iteration: 2330/5000\t MSE eqn: 11.6918\t MSE boundary: 5640.2729\t Total Loss: 5651.9648\n"
     ]
    },
    {
     "name": "stderr",
     "output_type": "stream",
     "text": [
      " 47%|████▋     | 2350/5000 [03:22<03:22, 13.06it/s]"
     ]
    },
    {
     "name": "stdout",
     "output_type": "stream",
     "text": [
      "Iteration: 2340/5000\t MSE eqn: 11.7349\t MSE boundary: 6003.3247\t Total Loss: 6015.0596\n"
     ]
    },
    {
     "name": "stderr",
     "output_type": "stream",
     "text": [
      " 47%|████▋     | 2360/5000 [03:23<03:23, 12.95it/s]"
     ]
    },
    {
     "name": "stdout",
     "output_type": "stream",
     "text": [
      "Iteration: 2350/5000\t MSE eqn: 11.7959\t MSE boundary: 5138.4136\t Total Loss: 5150.2095\n"
     ]
    },
    {
     "name": "stderr",
     "output_type": "stream",
     "text": [
      " 47%|████▋     | 2370/5000 [03:23<03:21, 13.06it/s]"
     ]
    },
    {
     "name": "stdout",
     "output_type": "stream",
     "text": [
      "Iteration: 2360/5000\t MSE eqn: 11.8381\t MSE boundary: 6096.6064\t Total Loss: 6108.4443\n"
     ]
    },
    {
     "name": "stderr",
     "output_type": "stream",
     "text": [
      " 48%|████▊     | 2380/5000 [03:24<03:20, 13.05it/s]"
     ]
    },
    {
     "name": "stdout",
     "output_type": "stream",
     "text": [
      "Iteration: 2370/5000\t MSE eqn: 11.8014\t MSE boundary: 5671.2695\t Total Loss: 5683.0708\n"
     ]
    },
    {
     "name": "stderr",
     "output_type": "stream",
     "text": [
      " 48%|████▊     | 2390/5000 [03:25<03:23, 12.80it/s]"
     ]
    },
    {
     "name": "stdout",
     "output_type": "stream",
     "text": [
      "Iteration: 2380/5000\t MSE eqn: 11.7142\t MSE boundary: 5031.0752\t Total Loss: 5042.7896\n"
     ]
    },
    {
     "name": "stderr",
     "output_type": "stream",
     "text": [
      " 48%|████▊     | 2400/5000 [03:26<03:22, 12.81it/s]"
     ]
    },
    {
     "name": "stdout",
     "output_type": "stream",
     "text": [
      "Iteration: 2390/5000\t MSE eqn: 11.7748\t MSE boundary: 5642.0947\t Total Loss: 5653.8696\n"
     ]
    },
    {
     "name": "stderr",
     "output_type": "stream",
     "text": [
      " 48%|████▊     | 2410/5000 [03:27<03:20, 12.95it/s]"
     ]
    },
    {
     "name": "stdout",
     "output_type": "stream",
     "text": [
      "Iteration: 2400/5000\t MSE eqn: 11.8601\t MSE boundary: 5817.1382\t Total Loss: 5828.9985\n"
     ]
    },
    {
     "name": "stderr",
     "output_type": "stream",
     "text": [
      " 48%|████▊     | 2420/5000 [03:27<03:19, 12.91it/s]"
     ]
    },
    {
     "name": "stdout",
     "output_type": "stream",
     "text": [
      "Iteration: 2410/5000\t MSE eqn: 11.8364\t MSE boundary: 5789.5903\t Total Loss: 5801.4268\n"
     ]
    },
    {
     "name": "stderr",
     "output_type": "stream",
     "text": [
      " 49%|████▊     | 2430/5000 [03:28<03:20, 12.79it/s]"
     ]
    },
    {
     "name": "stdout",
     "output_type": "stream",
     "text": [
      "Iteration: 2420/5000\t MSE eqn: 12.0196\t MSE boundary: 5567.8447\t Total Loss: 5579.8643\n"
     ]
    },
    {
     "name": "stderr",
     "output_type": "stream",
     "text": [
      " 49%|████▉     | 2440/5000 [03:29<03:16, 13.06it/s]"
     ]
    },
    {
     "name": "stdout",
     "output_type": "stream",
     "text": [
      "Iteration: 2430/5000\t MSE eqn: 11.8393\t MSE boundary: 5360.6533\t Total Loss: 5372.4927\n"
     ]
    },
    {
     "name": "stderr",
     "output_type": "stream",
     "text": [
      " 49%|████▉     | 2450/5000 [03:30<03:17, 12.89it/s]"
     ]
    },
    {
     "name": "stdout",
     "output_type": "stream",
     "text": [
      "Iteration: 2440/5000\t MSE eqn: 11.7332\t MSE boundary: 5131.4390\t Total Loss: 5143.1724\n"
     ]
    },
    {
     "name": "stderr",
     "output_type": "stream",
     "text": [
      " 49%|████▉     | 2460/5000 [03:31<03:19, 12.74it/s]"
     ]
    },
    {
     "name": "stdout",
     "output_type": "stream",
     "text": [
      "Iteration: 2450/5000\t MSE eqn: 11.6493\t MSE boundary: 5439.1421\t Total Loss: 5450.7915\n"
     ]
    },
    {
     "name": "stderr",
     "output_type": "stream",
     "text": [
      " 49%|████▉     | 2470/5000 [03:32<03:35, 11.75it/s]"
     ]
    },
    {
     "name": "stdout",
     "output_type": "stream",
     "text": [
      "Iteration: 2460/5000\t MSE eqn: 11.6796\t MSE boundary: 5833.6421\t Total Loss: 5845.3218\n"
     ]
    },
    {
     "name": "stderr",
     "output_type": "stream",
     "text": [
      " 50%|████▉     | 2480/5000 [03:32<03:35, 11.67it/s]"
     ]
    },
    {
     "name": "stdout",
     "output_type": "stream",
     "text": [
      "Iteration: 2470/5000\t MSE eqn: 11.8107\t MSE boundary: 5429.9810\t Total Loss: 5441.7915\n"
     ]
    },
    {
     "name": "stderr",
     "output_type": "stream",
     "text": [
      " 50%|████▉     | 2490/5000 [03:33<03:33, 11.74it/s]"
     ]
    },
    {
     "name": "stdout",
     "output_type": "stream",
     "text": [
      "Iteration: 2480/5000\t MSE eqn: 11.7503\t MSE boundary: 6087.1289\t Total Loss: 6098.8794\n"
     ]
    },
    {
     "name": "stderr",
     "output_type": "stream",
     "text": [
      " 50%|█████     | 2500/5000 [03:34<03:31, 11.82it/s]"
     ]
    },
    {
     "name": "stdout",
     "output_type": "stream",
     "text": [
      "Iteration: 2490/5000\t MSE eqn: 11.8591\t MSE boundary: 6077.5024\t Total Loss: 6089.3613\n"
     ]
    },
    {
     "name": "stderr",
     "output_type": "stream",
     "text": [
      " 50%|█████     | 2510/5000 [03:35<03:29, 11.86it/s]"
     ]
    },
    {
     "name": "stdout",
     "output_type": "stream",
     "text": [
      "Iteration: 2500/5000\t MSE eqn: 11.7237\t MSE boundary: 6321.3037\t Total Loss: 6333.0273\n"
     ]
    },
    {
     "name": "stderr",
     "output_type": "stream",
     "text": [
      " 50%|█████     | 2520/5000 [03:36<03:24, 12.11it/s]"
     ]
    },
    {
     "name": "stdout",
     "output_type": "stream",
     "text": [
      "Iteration: 2510/5000\t MSE eqn: 11.8024\t MSE boundary: 6023.4658\t Total Loss: 6035.2681\n"
     ]
    },
    {
     "name": "stderr",
     "output_type": "stream",
     "text": [
      " 51%|█████     | 2530/5000 [03:36<03:22, 12.22it/s]"
     ]
    },
    {
     "name": "stdout",
     "output_type": "stream",
     "text": [
      "Iteration: 2520/5000\t MSE eqn: 11.7542\t MSE boundary: 5340.9502\t Total Loss: 5352.7046\n"
     ]
    },
    {
     "name": "stderr",
     "output_type": "stream",
     "text": [
      " 51%|█████     | 2540/5000 [03:37<03:19, 12.31it/s]"
     ]
    },
    {
     "name": "stdout",
     "output_type": "stream",
     "text": [
      "Iteration: 2530/5000\t MSE eqn: 11.6379\t MSE boundary: 7518.1724\t Total Loss: 7529.8101\n"
     ]
    },
    {
     "name": "stderr",
     "output_type": "stream",
     "text": [
      " 51%|█████     | 2550/5000 [03:38<03:16, 12.45it/s]"
     ]
    },
    {
     "name": "stdout",
     "output_type": "stream",
     "text": [
      "Iteration: 2540/5000\t MSE eqn: 11.7757\t MSE boundary: 6154.2651\t Total Loss: 6166.0410\n"
     ]
    },
    {
     "name": "stderr",
     "output_type": "stream",
     "text": [
      " 51%|█████     | 2560/5000 [03:39<03:18, 12.31it/s]"
     ]
    },
    {
     "name": "stdout",
     "output_type": "stream",
     "text": [
      "Iteration: 2550/5000\t MSE eqn: 11.7058\t MSE boundary: 5888.3062\t Total Loss: 5900.0117\n"
     ]
    },
    {
     "name": "stderr",
     "output_type": "stream",
     "text": [
      " 51%|█████▏    | 2570/5000 [03:40<03:17, 12.30it/s]"
     ]
    },
    {
     "name": "stdout",
     "output_type": "stream",
     "text": [
      "Iteration: 2560/5000\t MSE eqn: 11.8195\t MSE boundary: 6517.6553\t Total Loss: 6529.4746\n"
     ]
    },
    {
     "name": "stderr",
     "output_type": "stream",
     "text": [
      " 52%|█████▏    | 2580/5000 [03:41<03:17, 12.24it/s]"
     ]
    },
    {
     "name": "stdout",
     "output_type": "stream",
     "text": [
      "Iteration: 2570/5000\t MSE eqn: 11.8832\t MSE boundary: 5514.0181\t Total Loss: 5525.9014\n"
     ]
    },
    {
     "name": "stderr",
     "output_type": "stream",
     "text": [
      " 52%|█████▏    | 2590/5000 [03:41<03:20, 12.01it/s]"
     ]
    },
    {
     "name": "stdout",
     "output_type": "stream",
     "text": [
      "Iteration: 2580/5000\t MSE eqn: 11.7429\t MSE boundary: 5740.4307\t Total Loss: 5752.1733\n"
     ]
    },
    {
     "name": "stderr",
     "output_type": "stream",
     "text": [
      " 52%|█████▏    | 2600/5000 [03:42<03:15, 12.25it/s]"
     ]
    },
    {
     "name": "stdout",
     "output_type": "stream",
     "text": [
      "Iteration: 2590/5000\t MSE eqn: 11.7775\t MSE boundary: 6558.6650\t Total Loss: 6570.4424\n"
     ]
    },
    {
     "name": "stderr",
     "output_type": "stream",
     "text": [
      " 52%|█████▏    | 2610/5000 [03:43<03:12, 12.40it/s]"
     ]
    },
    {
     "name": "stdout",
     "output_type": "stream",
     "text": [
      "Iteration: 2600/5000\t MSE eqn: 11.7484\t MSE boundary: 6005.6055\t Total Loss: 6017.3540\n"
     ]
    },
    {
     "name": "stderr",
     "output_type": "stream",
     "text": [
      " 52%|█████▏    | 2620/5000 [03:44<03:12, 12.39it/s]"
     ]
    },
    {
     "name": "stdout",
     "output_type": "stream",
     "text": [
      "Iteration: 2610/5000\t MSE eqn: 11.8735\t MSE boundary: 6327.5010\t Total Loss: 6339.3745\n"
     ]
    },
    {
     "name": "stderr",
     "output_type": "stream",
     "text": [
      " 53%|█████▎    | 2630/5000 [03:45<03:06, 12.69it/s]"
     ]
    },
    {
     "name": "stdout",
     "output_type": "stream",
     "text": [
      "Iteration: 2620/5000\t MSE eqn: 11.6590\t MSE boundary: 5388.3179\t Total Loss: 5399.9771\n"
     ]
    },
    {
     "name": "stderr",
     "output_type": "stream",
     "text": [
      " 53%|█████▎    | 2640/5000 [03:45<03:05, 12.72it/s]"
     ]
    },
    {
     "name": "stdout",
     "output_type": "stream",
     "text": [
      "Iteration: 2630/5000\t MSE eqn: 11.8994\t MSE boundary: 6435.9844\t Total Loss: 6447.8838\n"
     ]
    },
    {
     "name": "stderr",
     "output_type": "stream",
     "text": [
      " 53%|█████▎    | 2650/5000 [03:46<03:01, 12.96it/s]"
     ]
    },
    {
     "name": "stdout",
     "output_type": "stream",
     "text": [
      "Iteration: 2640/5000\t MSE eqn: 11.7107\t MSE boundary: 6643.0371\t Total Loss: 6654.7476\n"
     ]
    },
    {
     "name": "stderr",
     "output_type": "stream",
     "text": [
      " 53%|█████▎    | 2660/5000 [03:47<03:09, 12.36it/s]"
     ]
    },
    {
     "name": "stdout",
     "output_type": "stream",
     "text": [
      "Iteration: 2650/5000\t MSE eqn: 11.8174\t MSE boundary: 5138.3594\t Total Loss: 5150.1768\n"
     ]
    },
    {
     "name": "stderr",
     "output_type": "stream",
     "text": [
      " 53%|█████▎    | 2670/5000 [03:48<03:06, 12.47it/s]"
     ]
    },
    {
     "name": "stdout",
     "output_type": "stream",
     "text": [
      "Iteration: 2660/5000\t MSE eqn: 11.8222\t MSE boundary: 5719.6416\t Total Loss: 5731.4639\n"
     ]
    },
    {
     "name": "stderr",
     "output_type": "stream",
     "text": [
      " 54%|█████▎    | 2680/5000 [03:49<03:06, 12.45it/s]"
     ]
    },
    {
     "name": "stdout",
     "output_type": "stream",
     "text": [
      "Iteration: 2670/5000\t MSE eqn: 11.7372\t MSE boundary: 6331.3306\t Total Loss: 6343.0679\n"
     ]
    },
    {
     "name": "stderr",
     "output_type": "stream",
     "text": [
      " 54%|█████▍    | 2690/5000 [03:49<03:05, 12.42it/s]"
     ]
    },
    {
     "name": "stdout",
     "output_type": "stream",
     "text": [
      "Iteration: 2680/5000\t MSE eqn: 11.7876\t MSE boundary: 5934.1357\t Total Loss: 5945.9233\n"
     ]
    },
    {
     "name": "stderr",
     "output_type": "stream",
     "text": [
      " 54%|█████▍    | 2700/5000 [03:50<03:02, 12.58it/s]"
     ]
    },
    {
     "name": "stdout",
     "output_type": "stream",
     "text": [
      "Iteration: 2690/5000\t MSE eqn: 11.8694\t MSE boundary: 4887.5757\t Total Loss: 4899.4453\n"
     ]
    },
    {
     "name": "stderr",
     "output_type": "stream",
     "text": [
      " 54%|█████▍    | 2710/5000 [03:51<03:02, 12.55it/s]"
     ]
    },
    {
     "name": "stdout",
     "output_type": "stream",
     "text": [
      "Iteration: 2700/5000\t MSE eqn: 11.7990\t MSE boundary: 6124.9473\t Total Loss: 6136.7461\n"
     ]
    },
    {
     "name": "stderr",
     "output_type": "stream",
     "text": [
      " 54%|█████▍    | 2720/5000 [03:52<03:01, 12.59it/s]"
     ]
    },
    {
     "name": "stdout",
     "output_type": "stream",
     "text": [
      "Iteration: 2710/5000\t MSE eqn: 11.7859\t MSE boundary: 6408.6221\t Total Loss: 6420.4077\n"
     ]
    },
    {
     "name": "stderr",
     "output_type": "stream",
     "text": [
      " 55%|█████▍    | 2730/5000 [03:52<03:00, 12.56it/s]"
     ]
    },
    {
     "name": "stdout",
     "output_type": "stream",
     "text": [
      "Iteration: 2720/5000\t MSE eqn: 11.7753\t MSE boundary: 5558.8408\t Total Loss: 5570.6162\n"
     ]
    },
    {
     "name": "stderr",
     "output_type": "stream",
     "text": [
      " 55%|█████▍    | 2740/5000 [03:53<02:58, 12.64it/s]"
     ]
    },
    {
     "name": "stdout",
     "output_type": "stream",
     "text": [
      "Iteration: 2730/5000\t MSE eqn: 11.8176\t MSE boundary: 6776.8594\t Total Loss: 6788.6768\n"
     ]
    },
    {
     "name": "stderr",
     "output_type": "stream",
     "text": [
      " 55%|█████▌    | 2750/5000 [03:54<02:59, 12.57it/s]"
     ]
    },
    {
     "name": "stdout",
     "output_type": "stream",
     "text": [
      "Iteration: 2740/5000\t MSE eqn: 11.6194\t MSE boundary: 6275.1260\t Total Loss: 6286.7456\n"
     ]
    },
    {
     "name": "stderr",
     "output_type": "stream",
     "text": [
      " 55%|█████▌    | 2760/5000 [03:55<02:58, 12.57it/s]"
     ]
    },
    {
     "name": "stdout",
     "output_type": "stream",
     "text": [
      "Iteration: 2750/5000\t MSE eqn: 11.9101\t MSE boundary: 6217.4595\t Total Loss: 6229.3696\n"
     ]
    },
    {
     "name": "stderr",
     "output_type": "stream",
     "text": [
      " 55%|█████▌    | 2770/5000 [03:56<02:57, 12.56it/s]"
     ]
    },
    {
     "name": "stdout",
     "output_type": "stream",
     "text": [
      "Iteration: 2760/5000\t MSE eqn: 11.6955\t MSE boundary: 6022.2471\t Total Loss: 6033.9424\n"
     ]
    },
    {
     "name": "stderr",
     "output_type": "stream",
     "text": [
      " 56%|█████▌    | 2780/5000 [03:56<02:58, 12.41it/s]"
     ]
    },
    {
     "name": "stdout",
     "output_type": "stream",
     "text": [
      "Iteration: 2770/5000\t MSE eqn: 11.8847\t MSE boundary: 5744.1055\t Total Loss: 5755.9902\n"
     ]
    },
    {
     "name": "stderr",
     "output_type": "stream",
     "text": [
      " 56%|█████▌    | 2790/5000 [03:57<02:54, 12.63it/s]"
     ]
    },
    {
     "name": "stdout",
     "output_type": "stream",
     "text": [
      "Iteration: 2780/5000\t MSE eqn: 11.8292\t MSE boundary: 5215.5654\t Total Loss: 5227.3945\n"
     ]
    },
    {
     "name": "stderr",
     "output_type": "stream",
     "text": [
      " 56%|█████▌    | 2800/5000 [03:58<02:52, 12.74it/s]"
     ]
    },
    {
     "name": "stdout",
     "output_type": "stream",
     "text": [
      "Iteration: 2790/5000\t MSE eqn: 11.6647\t MSE boundary: 5730.7075\t Total Loss: 5742.3721\n"
     ]
    },
    {
     "name": "stderr",
     "output_type": "stream",
     "text": [
      " 56%|█████▌    | 2810/5000 [03:59<02:51, 12.78it/s]"
     ]
    },
    {
     "name": "stdout",
     "output_type": "stream",
     "text": [
      "Iteration: 2800/5000\t MSE eqn: 11.7073\t MSE boundary: 5302.0542\t Total Loss: 5313.7617\n"
     ]
    },
    {
     "name": "stderr",
     "output_type": "stream",
     "text": [
      " 56%|█████▋    | 2820/5000 [04:00<02:51, 12.68it/s]"
     ]
    },
    {
     "name": "stdout",
     "output_type": "stream",
     "text": [
      "Iteration: 2810/5000\t MSE eqn: 11.7411\t MSE boundary: 6178.2671\t Total Loss: 6190.0083\n"
     ]
    },
    {
     "name": "stderr",
     "output_type": "stream",
     "text": [
      " 57%|█████▋    | 2830/5000 [04:00<02:53, 12.52it/s]"
     ]
    },
    {
     "name": "stdout",
     "output_type": "stream",
     "text": [
      "Iteration: 2820/5000\t MSE eqn: 11.8556\t MSE boundary: 5804.8540\t Total Loss: 5816.7095\n"
     ]
    },
    {
     "name": "stderr",
     "output_type": "stream",
     "text": [
      " 57%|█████▋    | 2840/5000 [04:01<02:53, 12.48it/s]"
     ]
    },
    {
     "name": "stdout",
     "output_type": "stream",
     "text": [
      "Iteration: 2830/5000\t MSE eqn: 11.7282\t MSE boundary: 6608.1733\t Total Loss: 6619.9014\n"
     ]
    },
    {
     "name": "stderr",
     "output_type": "stream",
     "text": [
      " 57%|█████▋    | 2850/5000 [04:02<02:50, 12.63it/s]"
     ]
    },
    {
     "name": "stdout",
     "output_type": "stream",
     "text": [
      "Iteration: 2840/5000\t MSE eqn: 11.6643\t MSE boundary: 5518.6367\t Total Loss: 5530.3013\n"
     ]
    },
    {
     "name": "stderr",
     "output_type": "stream",
     "text": [
      " 57%|█████▋    | 2860/5000 [04:03<02:48, 12.70it/s]"
     ]
    },
    {
     "name": "stdout",
     "output_type": "stream",
     "text": [
      "Iteration: 2850/5000\t MSE eqn: 11.7923\t MSE boundary: 5959.4585\t Total Loss: 5971.2510\n"
     ]
    },
    {
     "name": "stderr",
     "output_type": "stream",
     "text": [
      " 57%|█████▋    | 2870/5000 [04:04<02:53, 12.31it/s]"
     ]
    },
    {
     "name": "stdout",
     "output_type": "stream",
     "text": [
      "Iteration: 2860/5000\t MSE eqn: 11.6591\t MSE boundary: 6307.1924\t Total Loss: 6318.8516\n"
     ]
    },
    {
     "name": "stderr",
     "output_type": "stream",
     "text": [
      " 58%|█████▊    | 2880/5000 [04:04<02:52, 12.28it/s]"
     ]
    },
    {
     "name": "stdout",
     "output_type": "stream",
     "text": [
      "Iteration: 2870/5000\t MSE eqn: 11.7478\t MSE boundary: 5425.2251\t Total Loss: 5436.9731\n"
     ]
    },
    {
     "name": "stderr",
     "output_type": "stream",
     "text": [
      " 58%|█████▊    | 2890/5000 [04:05<02:51, 12.28it/s]"
     ]
    },
    {
     "name": "stdout",
     "output_type": "stream",
     "text": [
      "Iteration: 2880/5000\t MSE eqn: 11.7936\t MSE boundary: 5832.6509\t Total Loss: 5844.4443\n"
     ]
    },
    {
     "name": "stderr",
     "output_type": "stream",
     "text": [
      " 58%|█████▊    | 2900/5000 [04:06<02:53, 12.08it/s]"
     ]
    },
    {
     "name": "stdout",
     "output_type": "stream",
     "text": [
      "Iteration: 2890/5000\t MSE eqn: 11.7573\t MSE boundary: 5566.1494\t Total Loss: 5577.9067\n"
     ]
    },
    {
     "name": "stderr",
     "output_type": "stream",
     "text": [
      " 58%|█████▊    | 2910/5000 [04:07<02:51, 12.18it/s]"
     ]
    },
    {
     "name": "stdout",
     "output_type": "stream",
     "text": [
      "Iteration: 2900/5000\t MSE eqn: 11.7417\t MSE boundary: 5855.8433\t Total Loss: 5867.5850\n"
     ]
    },
    {
     "name": "stderr",
     "output_type": "stream",
     "text": [
      " 58%|█████▊    | 2920/5000 [04:08<02:53, 12.00it/s]"
     ]
    },
    {
     "name": "stdout",
     "output_type": "stream",
     "text": [
      "Iteration: 2910/5000\t MSE eqn: 11.7236\t MSE boundary: 5444.6201\t Total Loss: 5456.3438\n"
     ]
    },
    {
     "name": "stderr",
     "output_type": "stream",
     "text": [
      " 59%|█████▊    | 2930/5000 [04:09<02:51, 12.10it/s]"
     ]
    },
    {
     "name": "stdout",
     "output_type": "stream",
     "text": [
      "Iteration: 2920/5000\t MSE eqn: 11.9260\t MSE boundary: 6198.1973\t Total Loss: 6210.1230\n"
     ]
    },
    {
     "name": "stderr",
     "output_type": "stream",
     "text": [
      " 59%|█████▉    | 2940/5000 [04:09<02:50, 12.06it/s]"
     ]
    },
    {
     "name": "stdout",
     "output_type": "stream",
     "text": [
      "Iteration: 2930/5000\t MSE eqn: 11.8092\t MSE boundary: 5790.8716\t Total Loss: 5802.6807\n"
     ]
    },
    {
     "name": "stderr",
     "output_type": "stream",
     "text": [
      " 59%|█████▉    | 2950/5000 [04:10<03:01, 11.27it/s]"
     ]
    },
    {
     "name": "stdout",
     "output_type": "stream",
     "text": [
      "Iteration: 2940/5000\t MSE eqn: 11.7727\t MSE boundary: 5238.1797\t Total Loss: 5249.9526\n"
     ]
    },
    {
     "name": "stderr",
     "output_type": "stream",
     "text": [
      " 59%|█████▉    | 2960/5000 [04:11<02:59, 11.36it/s]"
     ]
    },
    {
     "name": "stdout",
     "output_type": "stream",
     "text": [
      "Iteration: 2950/5000\t MSE eqn: 11.7171\t MSE boundary: 5045.3901\t Total Loss: 5057.1074\n"
     ]
    },
    {
     "name": "stderr",
     "output_type": "stream",
     "text": [
      " 59%|█████▉    | 2970/5000 [04:12<02:53, 11.68it/s]"
     ]
    },
    {
     "name": "stdout",
     "output_type": "stream",
     "text": [
      "Iteration: 2960/5000\t MSE eqn: 11.7461\t MSE boundary: 6944.1128\t Total Loss: 6955.8589\n"
     ]
    },
    {
     "name": "stderr",
     "output_type": "stream",
     "text": [
      " 60%|█████▉    | 2980/5000 [04:13<02:47, 12.07it/s]"
     ]
    },
    {
     "name": "stdout",
     "output_type": "stream",
     "text": [
      "Iteration: 2970/5000\t MSE eqn: 11.6902\t MSE boundary: 6128.1851\t Total Loss: 6139.8755\n"
     ]
    },
    {
     "name": "stderr",
     "output_type": "stream",
     "text": [
      " 60%|█████▉    | 2990/5000 [04:14<02:41, 12.46it/s]"
     ]
    },
    {
     "name": "stdout",
     "output_type": "stream",
     "text": [
      "Iteration: 2980/5000\t MSE eqn: 11.6022\t MSE boundary: 6593.6509\t Total Loss: 6605.2529\n"
     ]
    },
    {
     "name": "stderr",
     "output_type": "stream",
     "text": [
      " 60%|██████    | 3000/5000 [04:14<02:36, 12.74it/s]"
     ]
    },
    {
     "name": "stdout",
     "output_type": "stream",
     "text": [
      "Iteration: 2990/5000\t MSE eqn: 11.9289\t MSE boundary: 5612.4604\t Total Loss: 5624.3892\n"
     ]
    },
    {
     "name": "stderr",
     "output_type": "stream",
     "text": [
      " 60%|██████    | 3010/5000 [04:15<02:34, 12.87it/s]"
     ]
    },
    {
     "name": "stdout",
     "output_type": "stream",
     "text": [
      "Iteration: 3000/5000\t MSE eqn: 11.7314\t MSE boundary: 5915.9409\t Total Loss: 5927.6724\n"
     ]
    },
    {
     "name": "stderr",
     "output_type": "stream",
     "text": [
      " 60%|██████    | 3020/5000 [04:16<02:32, 12.97it/s]"
     ]
    },
    {
     "name": "stdout",
     "output_type": "stream",
     "text": [
      "Iteration: 3010/5000\t MSE eqn: 11.7536\t MSE boundary: 6362.4019\t Total Loss: 6374.1553\n"
     ]
    },
    {
     "name": "stderr",
     "output_type": "stream",
     "text": [
      " 61%|██████    | 3030/5000 [04:17<02:31, 13.03it/s]"
     ]
    },
    {
     "name": "stdout",
     "output_type": "stream",
     "text": [
      "Iteration: 3020/5000\t MSE eqn: 11.7312\t MSE boundary: 5146.8901\t Total Loss: 5158.6211\n"
     ]
    },
    {
     "name": "stderr",
     "output_type": "stream",
     "text": [
      " 61%|██████    | 3040/5000 [04:17<02:28, 13.16it/s]"
     ]
    },
    {
     "name": "stdout",
     "output_type": "stream",
     "text": [
      "Iteration: 3030/5000\t MSE eqn: 11.6910\t MSE boundary: 5901.1812\t Total Loss: 5912.8721\n"
     ]
    },
    {
     "name": "stderr",
     "output_type": "stream",
     "text": [
      " 61%|██████    | 3050/5000 [04:18<02:28, 13.16it/s]"
     ]
    },
    {
     "name": "stdout",
     "output_type": "stream",
     "text": [
      "Iteration: 3040/5000\t MSE eqn: 11.6832\t MSE boundary: 6385.4873\t Total Loss: 6397.1704\n"
     ]
    },
    {
     "name": "stderr",
     "output_type": "stream",
     "text": [
      " 61%|██████    | 3060/5000 [04:19<02:30, 12.90it/s]"
     ]
    },
    {
     "name": "stdout",
     "output_type": "stream",
     "text": [
      "Iteration: 3050/5000\t MSE eqn: 11.8332\t MSE boundary: 6729.5825\t Total Loss: 6741.4155\n"
     ]
    },
    {
     "name": "stderr",
     "output_type": "stream",
     "text": [
      " 61%|██████▏   | 3070/5000 [04:20<02:27, 13.06it/s]"
     ]
    },
    {
     "name": "stdout",
     "output_type": "stream",
     "text": [
      "Iteration: 3060/5000\t MSE eqn: 11.7733\t MSE boundary: 6229.6045\t Total Loss: 6241.3779\n"
     ]
    },
    {
     "name": "stderr",
     "output_type": "stream",
     "text": [
      " 62%|██████▏   | 3080/5000 [04:20<02:24, 13.25it/s]"
     ]
    },
    {
     "name": "stdout",
     "output_type": "stream",
     "text": [
      "Iteration: 3070/5000\t MSE eqn: 11.6361\t MSE boundary: 5783.4248\t Total Loss: 5795.0610\n"
     ]
    },
    {
     "name": "stderr",
     "output_type": "stream",
     "text": [
      " 62%|██████▏   | 3090/5000 [04:21<02:23, 13.33it/s]"
     ]
    },
    {
     "name": "stdout",
     "output_type": "stream",
     "text": [
      "Iteration: 3080/5000\t MSE eqn: 11.7266\t MSE boundary: 5868.6147\t Total Loss: 5880.3413\n"
     ]
    },
    {
     "name": "stderr",
     "output_type": "stream",
     "text": [
      " 62%|██████▏   | 3100/5000 [04:22<02:23, 13.22it/s]"
     ]
    },
    {
     "name": "stdout",
     "output_type": "stream",
     "text": [
      "Iteration: 3090/5000\t MSE eqn: 11.8136\t MSE boundary: 5018.0015\t Total Loss: 5029.8149\n"
     ]
    },
    {
     "name": "stderr",
     "output_type": "stream",
     "text": [
      " 62%|██████▏   | 3110/5000 [04:23<02:22, 13.25it/s]"
     ]
    },
    {
     "name": "stdout",
     "output_type": "stream",
     "text": [
      "Iteration: 3100/5000\t MSE eqn: 11.8159\t MSE boundary: 5888.9199\t Total Loss: 5900.7358\n"
     ]
    },
    {
     "name": "stderr",
     "output_type": "stream",
     "text": [
      " 62%|██████▏   | 3120/5000 [04:23<02:21, 13.33it/s]"
     ]
    },
    {
     "name": "stdout",
     "output_type": "stream",
     "text": [
      "Iteration: 3110/5000\t MSE eqn: 11.7350\t MSE boundary: 6157.4507\t Total Loss: 6169.1855\n"
     ]
    },
    {
     "name": "stderr",
     "output_type": "stream",
     "text": [
      " 63%|██████▎   | 3130/5000 [04:24<02:20, 13.33it/s]"
     ]
    },
    {
     "name": "stdout",
     "output_type": "stream",
     "text": [
      "Iteration: 3120/5000\t MSE eqn: 11.7878\t MSE boundary: 6537.3252\t Total Loss: 6549.1128\n"
     ]
    },
    {
     "name": "stderr",
     "output_type": "stream",
     "text": [
      " 63%|██████▎   | 3140/5000 [04:25<02:18, 13.42it/s]"
     ]
    },
    {
     "name": "stdout",
     "output_type": "stream",
     "text": [
      "Iteration: 3130/5000\t MSE eqn: 11.7389\t MSE boundary: 5268.9546\t Total Loss: 5280.6934\n"
     ]
    },
    {
     "name": "stderr",
     "output_type": "stream",
     "text": [
      " 63%|██████▎   | 3150/5000 [04:26<02:17, 13.48it/s]"
     ]
    },
    {
     "name": "stdout",
     "output_type": "stream",
     "text": [
      "Iteration: 3140/5000\t MSE eqn: 11.7179\t MSE boundary: 6161.9966\t Total Loss: 6173.7144\n"
     ]
    },
    {
     "name": "stderr",
     "output_type": "stream",
     "text": [
      " 63%|██████▎   | 3160/5000 [04:26<02:16, 13.45it/s]"
     ]
    },
    {
     "name": "stdout",
     "output_type": "stream",
     "text": [
      "Iteration: 3150/5000\t MSE eqn: 11.7159\t MSE boundary: 6563.5615\t Total Loss: 6575.2773\n"
     ]
    },
    {
     "name": "stderr",
     "output_type": "stream",
     "text": [
      " 63%|██████▎   | 3170/5000 [04:27<02:16, 13.41it/s]"
     ]
    },
    {
     "name": "stdout",
     "output_type": "stream",
     "text": [
      "Iteration: 3160/5000\t MSE eqn: 11.7898\t MSE boundary: 5642.0210\t Total Loss: 5653.8110\n"
     ]
    },
    {
     "name": "stderr",
     "output_type": "stream",
     "text": [
      " 64%|██████▎   | 3180/5000 [04:28<02:17, 13.22it/s]"
     ]
    },
    {
     "name": "stdout",
     "output_type": "stream",
     "text": [
      "Iteration: 3170/5000\t MSE eqn: 11.7792\t MSE boundary: 6512.0088\t Total Loss: 6523.7881\n"
     ]
    },
    {
     "name": "stderr",
     "output_type": "stream",
     "text": [
      " 64%|██████▍   | 3190/5000 [04:29<02:30, 12.02it/s]"
     ]
    },
    {
     "name": "stdout",
     "output_type": "stream",
     "text": [
      "Iteration: 3180/5000\t MSE eqn: 11.7404\t MSE boundary: 5986.0522\t Total Loss: 5997.7925\n"
     ]
    },
    {
     "name": "stderr",
     "output_type": "stream",
     "text": [
      " 64%|██████▍   | 3200/5000 [04:30<02:29, 12.07it/s]"
     ]
    },
    {
     "name": "stdout",
     "output_type": "stream",
     "text": [
      "Iteration: 3190/5000\t MSE eqn: 11.6568\t MSE boundary: 5915.0190\t Total Loss: 5926.6758\n"
     ]
    },
    {
     "name": "stderr",
     "output_type": "stream",
     "text": [
      " 64%|██████▍   | 3210/5000 [04:31<02:27, 12.11it/s]"
     ]
    },
    {
     "name": "stdout",
     "output_type": "stream",
     "text": [
      "Iteration: 3200/5000\t MSE eqn: 11.7853\t MSE boundary: 6571.4121\t Total Loss: 6583.1973\n"
     ]
    },
    {
     "name": "stderr",
     "output_type": "stream",
     "text": [
      " 64%|██████▍   | 3220/5000 [04:31<02:25, 12.27it/s]"
     ]
    },
    {
     "name": "stdout",
     "output_type": "stream",
     "text": [
      "Iteration: 3210/5000\t MSE eqn: 11.7981\t MSE boundary: 6406.7788\t Total Loss: 6418.5771\n"
     ]
    },
    {
     "name": "stderr",
     "output_type": "stream",
     "text": [
      " 65%|██████▍   | 3230/5000 [04:32<02:21, 12.54it/s]"
     ]
    },
    {
     "name": "stdout",
     "output_type": "stream",
     "text": [
      "Iteration: 3220/5000\t MSE eqn: 11.8183\t MSE boundary: 5648.7812\t Total Loss: 5660.5996\n"
     ]
    },
    {
     "name": "stderr",
     "output_type": "stream",
     "text": [
      " 65%|██████▍   | 3240/5000 [04:33<02:46, 10.58it/s]"
     ]
    },
    {
     "name": "stdout",
     "output_type": "stream",
     "text": [
      "Iteration: 3230/5000\t MSE eqn: 11.7946\t MSE boundary: 5872.7637\t Total Loss: 5884.5581\n"
     ]
    },
    {
     "name": "stderr",
     "output_type": "stream",
     "text": [
      " 65%|██████▌   | 3250/5000 [04:35<02:53, 10.08it/s]"
     ]
    },
    {
     "name": "stdout",
     "output_type": "stream",
     "text": [
      "Iteration: 3240/5000\t MSE eqn: 11.7359\t MSE boundary: 6011.7979\t Total Loss: 6023.5337\n"
     ]
    },
    {
     "name": "stderr",
     "output_type": "stream",
     "text": [
      " 65%|██████▌   | 3260/5000 [04:35<02:48, 10.32it/s]"
     ]
    },
    {
     "name": "stdout",
     "output_type": "stream",
     "text": [
      "Iteration: 3250/5000\t MSE eqn: 11.9121\t MSE boundary: 6041.1182\t Total Loss: 6053.0303\n"
     ]
    },
    {
     "name": "stderr",
     "output_type": "stream",
     "text": [
      " 65%|██████▌   | 3270/5000 [04:36<02:46, 10.41it/s]"
     ]
    },
    {
     "name": "stdout",
     "output_type": "stream",
     "text": [
      "Iteration: 3260/5000\t MSE eqn: 11.7965\t MSE boundary: 5535.7095\t Total Loss: 5547.5059\n"
     ]
    },
    {
     "name": "stderr",
     "output_type": "stream",
     "text": [
      " 66%|██████▌   | 3280/5000 [04:37<02:43, 10.53it/s]"
     ]
    },
    {
     "name": "stdout",
     "output_type": "stream",
     "text": [
      "Iteration: 3270/5000\t MSE eqn: 11.7113\t MSE boundary: 6297.2090\t Total Loss: 6308.9204\n"
     ]
    },
    {
     "name": "stderr",
     "output_type": "stream",
     "text": [
      " 66%|██████▌   | 3290/5000 [04:38<02:38, 10.78it/s]"
     ]
    },
    {
     "name": "stdout",
     "output_type": "stream",
     "text": [
      "Iteration: 3280/5000\t MSE eqn: 11.6827\t MSE boundary: 5557.8525\t Total Loss: 5569.5352\n"
     ]
    },
    {
     "name": "stderr",
     "output_type": "stream",
     "text": [
      " 66%|██████▌   | 3300/5000 [04:39<02:38, 10.75it/s]"
     ]
    },
    {
     "name": "stdout",
     "output_type": "stream",
     "text": [
      "Iteration: 3290/5000\t MSE eqn: 11.7950\t MSE boundary: 6646.1655\t Total Loss: 6657.9604\n"
     ]
    },
    {
     "name": "stderr",
     "output_type": "stream",
     "text": [
      " 66%|██████▌   | 3310/5000 [04:40<02:32, 11.10it/s]"
     ]
    },
    {
     "name": "stdout",
     "output_type": "stream",
     "text": [
      "Iteration: 3300/5000\t MSE eqn: 11.8046\t MSE boundary: 5078.6782\t Total Loss: 5090.4829\n"
     ]
    },
    {
     "name": "stderr",
     "output_type": "stream",
     "text": [
      " 66%|██████▋   | 3320/5000 [04:41<02:31, 11.12it/s]"
     ]
    },
    {
     "name": "stdout",
     "output_type": "stream",
     "text": [
      "Iteration: 3310/5000\t MSE eqn: 11.5555\t MSE boundary: 6318.9297\t Total Loss: 6330.4854\n"
     ]
    },
    {
     "name": "stderr",
     "output_type": "stream",
     "text": [
      " 67%|██████▋   | 3330/5000 [04:42<02:29, 11.20it/s]"
     ]
    },
    {
     "name": "stdout",
     "output_type": "stream",
     "text": [
      "Iteration: 3320/5000\t MSE eqn: 11.7928\t MSE boundary: 6252.5210\t Total Loss: 6264.3140\n"
     ]
    },
    {
     "name": "stderr",
     "output_type": "stream",
     "text": [
      " 67%|██████▋   | 3340/5000 [04:43<02:26, 11.36it/s]"
     ]
    },
    {
     "name": "stdout",
     "output_type": "stream",
     "text": [
      "Iteration: 3330/5000\t MSE eqn: 11.5867\t MSE boundary: 6005.5044\t Total Loss: 6017.0908\n"
     ]
    },
    {
     "name": "stderr",
     "output_type": "stream",
     "text": [
      " 67%|██████▋   | 3350/5000 [04:43<02:23, 11.53it/s]"
     ]
    },
    {
     "name": "stdout",
     "output_type": "stream",
     "text": [
      "Iteration: 3340/5000\t MSE eqn: 11.6194\t MSE boundary: 4937.9033\t Total Loss: 4949.5229\n"
     ]
    },
    {
     "name": "stderr",
     "output_type": "stream",
     "text": [
      " 67%|██████▋   | 3360/5000 [04:44<02:21, 11.60it/s]"
     ]
    },
    {
     "name": "stdout",
     "output_type": "stream",
     "text": [
      "Iteration: 3350/5000\t MSE eqn: 11.7609\t MSE boundary: 5772.2705\t Total Loss: 5784.0312\n"
     ]
    },
    {
     "name": "stderr",
     "output_type": "stream",
     "text": [
      " 67%|██████▋   | 3370/5000 [04:45<02:22, 11.47it/s]"
     ]
    },
    {
     "name": "stdout",
     "output_type": "stream",
     "text": [
      "Iteration: 3360/5000\t MSE eqn: 11.6488\t MSE boundary: 6012.5825\t Total Loss: 6024.2314\n"
     ]
    },
    {
     "name": "stderr",
     "output_type": "stream",
     "text": [
      " 68%|██████▊   | 3380/5000 [04:46<02:23, 11.33it/s]"
     ]
    },
    {
     "name": "stdout",
     "output_type": "stream",
     "text": [
      "Iteration: 3370/5000\t MSE eqn: 11.7265\t MSE boundary: 5107.1694\t Total Loss: 5118.8960\n"
     ]
    },
    {
     "name": "stderr",
     "output_type": "stream",
     "text": [
      " 68%|██████▊   | 3390/5000 [04:47<02:20, 11.46it/s]"
     ]
    },
    {
     "name": "stdout",
     "output_type": "stream",
     "text": [
      "Iteration: 3380/5000\t MSE eqn: 11.8265\t MSE boundary: 6390.3813\t Total Loss: 6402.2080\n"
     ]
    },
    {
     "name": "stderr",
     "output_type": "stream",
     "text": [
      " 68%|██████▊   | 3400/5000 [04:48<02:22, 11.22it/s]"
     ]
    },
    {
     "name": "stdout",
     "output_type": "stream",
     "text": [
      "Iteration: 3390/5000\t MSE eqn: 11.7068\t MSE boundary: 5639.8081\t Total Loss: 5651.5151\n"
     ]
    },
    {
     "name": "stderr",
     "output_type": "stream",
     "text": [
      " 68%|██████▊   | 3410/5000 [04:49<02:27, 10.79it/s]"
     ]
    },
    {
     "name": "stdout",
     "output_type": "stream",
     "text": [
      "Iteration: 3400/5000\t MSE eqn: 11.9601\t MSE boundary: 5304.8506\t Total Loss: 5316.8105\n"
     ]
    },
    {
     "name": "stderr",
     "output_type": "stream",
     "text": [
      " 68%|██████▊   | 3420/5000 [04:50<02:41,  9.78it/s]"
     ]
    },
    {
     "name": "stdout",
     "output_type": "stream",
     "text": [
      "Iteration: 3410/5000\t MSE eqn: 11.6475\t MSE boundary: 6638.3364\t Total Loss: 6649.9839\n"
     ]
    },
    {
     "name": "stderr",
     "output_type": "stream",
     "text": [
      " 69%|██████▊   | 3430/5000 [04:51<02:45,  9.46it/s]"
     ]
    },
    {
     "name": "stdout",
     "output_type": "stream",
     "text": [
      "Iteration: 3420/5000\t MSE eqn: 11.7356\t MSE boundary: 5633.9639\t Total Loss: 5645.6992\n"
     ]
    },
    {
     "name": "stderr",
     "output_type": "stream",
     "text": [
      " 69%|██████▉   | 3440/5000 [04:52<02:41,  9.68it/s]"
     ]
    },
    {
     "name": "stdout",
     "output_type": "stream",
     "text": [
      "Iteration: 3430/5000\t MSE eqn: 11.7377\t MSE boundary: 6598.1890\t Total Loss: 6609.9268\n"
     ]
    },
    {
     "name": "stderr",
     "output_type": "stream",
     "text": [
      " 69%|██████▉   | 3450/5000 [04:53<02:37,  9.82it/s]"
     ]
    },
    {
     "name": "stdout",
     "output_type": "stream",
     "text": [
      "Iteration: 3440/5000\t MSE eqn: 11.8228\t MSE boundary: 5425.8311\t Total Loss: 5437.6538\n"
     ]
    },
    {
     "name": "stderr",
     "output_type": "stream",
     "text": [
      " 69%|██████▉   | 3460/5000 [04:54<02:33, 10.02it/s]"
     ]
    },
    {
     "name": "stdout",
     "output_type": "stream",
     "text": [
      "Iteration: 3450/5000\t MSE eqn: 11.8079\t MSE boundary: 5953.6089\t Total Loss: 5965.4170\n"
     ]
    },
    {
     "name": "stderr",
     "output_type": "stream",
     "text": [
      " 69%|██████▉   | 3470/5000 [04:55<02:34,  9.92it/s]"
     ]
    },
    {
     "name": "stdout",
     "output_type": "stream",
     "text": [
      "Iteration: 3460/5000\t MSE eqn: 11.7450\t MSE boundary: 5796.6626\t Total Loss: 5808.4077\n"
     ]
    },
    {
     "name": "stderr",
     "output_type": "stream",
     "text": [
      " 70%|██████▉   | 3480/5000 [04:56<02:30, 10.13it/s]"
     ]
    },
    {
     "name": "stdout",
     "output_type": "stream",
     "text": [
      "Iteration: 3470/5000\t MSE eqn: 11.7602\t MSE boundary: 6260.8462\t Total Loss: 6272.6064\n"
     ]
    },
    {
     "name": "stderr",
     "output_type": "stream",
     "text": [
      " 70%|██████▉   | 3490/5000 [04:57<02:19, 10.82it/s]"
     ]
    },
    {
     "name": "stdout",
     "output_type": "stream",
     "text": [
      "Iteration: 3480/5000\t MSE eqn: 11.6802\t MSE boundary: 5396.8159\t Total Loss: 5408.4961\n"
     ]
    },
    {
     "name": "stderr",
     "output_type": "stream",
     "text": [
      " 70%|███████   | 3500/5000 [04:58<02:12, 11.29it/s]"
     ]
    },
    {
     "name": "stdout",
     "output_type": "stream",
     "text": [
      "Iteration: 3490/5000\t MSE eqn: 11.7893\t MSE boundary: 5811.9976\t Total Loss: 5823.7871\n"
     ]
    },
    {
     "name": "stderr",
     "output_type": "stream",
     "text": [
      " 70%|███████   | 3510/5000 [04:58<02:07, 11.67it/s]"
     ]
    },
    {
     "name": "stdout",
     "output_type": "stream",
     "text": [
      "Iteration: 3500/5000\t MSE eqn: 11.7184\t MSE boundary: 5855.5332\t Total Loss: 5867.2515\n"
     ]
    },
    {
     "name": "stderr",
     "output_type": "stream",
     "text": [
      " 70%|███████   | 3520/5000 [04:59<02:05, 11.81it/s]"
     ]
    },
    {
     "name": "stdout",
     "output_type": "stream",
     "text": [
      "Iteration: 3510/5000\t MSE eqn: 11.8280\t MSE boundary: 5916.7070\t Total Loss: 5928.5352\n"
     ]
    },
    {
     "name": "stderr",
     "output_type": "stream",
     "text": [
      " 71%|███████   | 3530/5000 [05:00<02:05, 11.73it/s]"
     ]
    },
    {
     "name": "stdout",
     "output_type": "stream",
     "text": [
      "Iteration: 3520/5000\t MSE eqn: 11.6504\t MSE boundary: 6694.0908\t Total Loss: 6705.7412\n"
     ]
    },
    {
     "name": "stderr",
     "output_type": "stream",
     "text": [
      " 71%|███████   | 3540/5000 [05:01<02:03, 11.78it/s]"
     ]
    },
    {
     "name": "stdout",
     "output_type": "stream",
     "text": [
      "Iteration: 3530/5000\t MSE eqn: 11.8536\t MSE boundary: 5681.7876\t Total Loss: 5693.6411\n"
     ]
    },
    {
     "name": "stderr",
     "output_type": "stream",
     "text": [
      " 71%|███████   | 3550/5000 [05:02<02:19, 10.43it/s]"
     ]
    },
    {
     "name": "stdout",
     "output_type": "stream",
     "text": [
      "Iteration: 3540/5000\t MSE eqn: 11.8770\t MSE boundary: 5718.2588\t Total Loss: 5730.1357\n"
     ]
    },
    {
     "name": "stderr",
     "output_type": "stream",
     "text": [
      " 71%|███████   | 3560/5000 [05:03<02:23, 10.05it/s]"
     ]
    },
    {
     "name": "stdout",
     "output_type": "stream",
     "text": [
      "Iteration: 3550/5000\t MSE eqn: 11.8821\t MSE boundary: 5721.0752\t Total Loss: 5732.9575\n"
     ]
    },
    {
     "name": "stderr",
     "output_type": "stream",
     "text": [
      " 71%|███████▏  | 3570/5000 [05:04<02:19, 10.24it/s]"
     ]
    },
    {
     "name": "stdout",
     "output_type": "stream",
     "text": [
      "Iteration: 3560/5000\t MSE eqn: 11.7327\t MSE boundary: 5531.9194\t Total Loss: 5543.6523\n"
     ]
    },
    {
     "name": "stderr",
     "output_type": "stream",
     "text": [
      " 72%|███████▏  | 3580/5000 [05:05<02:12, 10.71it/s]"
     ]
    },
    {
     "name": "stdout",
     "output_type": "stream",
     "text": [
      "Iteration: 3570/5000\t MSE eqn: 11.7584\t MSE boundary: 5721.9248\t Total Loss: 5733.6831\n"
     ]
    },
    {
     "name": "stderr",
     "output_type": "stream",
     "text": [
      " 72%|███████▏  | 3590/5000 [05:06<02:07, 11.08it/s]"
     ]
    },
    {
     "name": "stdout",
     "output_type": "stream",
     "text": [
      "Iteration: 3580/5000\t MSE eqn: 11.7597\t MSE boundary: 6319.0405\t Total Loss: 6330.8003\n"
     ]
    },
    {
     "name": "stderr",
     "output_type": "stream",
     "text": [
      " 72%|███████▏  | 3600/5000 [05:07<02:06, 11.09it/s]"
     ]
    },
    {
     "name": "stdout",
     "output_type": "stream",
     "text": [
      "Iteration: 3590/5000\t MSE eqn: 11.9347\t MSE boundary: 5317.1816\t Total Loss: 5329.1162\n"
     ]
    },
    {
     "name": "stderr",
     "output_type": "stream",
     "text": [
      " 72%|███████▏  | 3610/5000 [05:08<02:02, 11.33it/s]"
     ]
    },
    {
     "name": "stdout",
     "output_type": "stream",
     "text": [
      "Iteration: 3600/5000\t MSE eqn: 11.7987\t MSE boundary: 5863.9590\t Total Loss: 5875.7578\n"
     ]
    },
    {
     "name": "stderr",
     "output_type": "stream",
     "text": [
      " 72%|███████▏  | 3620/5000 [05:09<02:01, 11.40it/s]"
     ]
    },
    {
     "name": "stdout",
     "output_type": "stream",
     "text": [
      "Iteration: 3610/5000\t MSE eqn: 11.6681\t MSE boundary: 6580.3369\t Total Loss: 6592.0049\n"
     ]
    },
    {
     "name": "stderr",
     "output_type": "stream",
     "text": [
      " 73%|███████▎  | 3630/5000 [05:09<01:58, 11.60it/s]"
     ]
    },
    {
     "name": "stdout",
     "output_type": "stream",
     "text": [
      "Iteration: 3620/5000\t MSE eqn: 11.9283\t MSE boundary: 5818.0801\t Total Loss: 5830.0083\n"
     ]
    },
    {
     "name": "stderr",
     "output_type": "stream",
     "text": [
      " 73%|███████▎  | 3640/5000 [05:10<01:59, 11.39it/s]"
     ]
    },
    {
     "name": "stdout",
     "output_type": "stream",
     "text": [
      "Iteration: 3630/5000\t MSE eqn: 11.8389\t MSE boundary: 5767.2026\t Total Loss: 5779.0415\n"
     ]
    },
    {
     "name": "stderr",
     "output_type": "stream",
     "text": [
      " 73%|███████▎  | 3650/5000 [05:11<01:56, 11.62it/s]"
     ]
    },
    {
     "name": "stdout",
     "output_type": "stream",
     "text": [
      "Iteration: 3640/5000\t MSE eqn: 11.7969\t MSE boundary: 5913.1699\t Total Loss: 5924.9668\n"
     ]
    },
    {
     "name": "stderr",
     "output_type": "stream",
     "text": [
      " 73%|███████▎  | 3660/5000 [05:12<02:10, 10.25it/s]"
     ]
    },
    {
     "name": "stdout",
     "output_type": "stream",
     "text": [
      "Iteration: 3650/5000\t MSE eqn: 11.9225\t MSE boundary: 5490.8086\t Total Loss: 5502.7310\n"
     ]
    },
    {
     "name": "stderr",
     "output_type": "stream",
     "text": [
      " 73%|███████▎  | 3670/5000 [05:13<02:06, 10.49it/s]"
     ]
    },
    {
     "name": "stdout",
     "output_type": "stream",
     "text": [
      "Iteration: 3660/5000\t MSE eqn: 11.7996\t MSE boundary: 5118.3691\t Total Loss: 5130.1689\n"
     ]
    },
    {
     "name": "stderr",
     "output_type": "stream",
     "text": [
      " 74%|███████▎  | 3680/5000 [05:14<02:07, 10.39it/s]"
     ]
    },
    {
     "name": "stdout",
     "output_type": "stream",
     "text": [
      "Iteration: 3670/5000\t MSE eqn: 11.8181\t MSE boundary: 5900.4746\t Total Loss: 5912.2925\n"
     ]
    },
    {
     "name": "stderr",
     "output_type": "stream",
     "text": [
      " 74%|███████▍  | 3690/5000 [05:15<02:05, 10.44it/s]"
     ]
    },
    {
     "name": "stdout",
     "output_type": "stream",
     "text": [
      "Iteration: 3680/5000\t MSE eqn: 11.6744\t MSE boundary: 5344.7402\t Total Loss: 5356.4146\n"
     ]
    },
    {
     "name": "stderr",
     "output_type": "stream",
     "text": [
      " 74%|███████▍  | 3700/5000 [05:16<02:01, 10.69it/s]"
     ]
    },
    {
     "name": "stdout",
     "output_type": "stream",
     "text": [
      "Iteration: 3690/5000\t MSE eqn: 11.8424\t MSE boundary: 5671.6226\t Total Loss: 5683.4648\n"
     ]
    },
    {
     "name": "stderr",
     "output_type": "stream",
     "text": [
      " 74%|███████▍  | 3710/5000 [05:17<01:57, 11.01it/s]"
     ]
    },
    {
     "name": "stdout",
     "output_type": "stream",
     "text": [
      "Iteration: 3700/5000\t MSE eqn: 11.7252\t MSE boundary: 5169.4868\t Total Loss: 5181.2119\n"
     ]
    },
    {
     "name": "stderr",
     "output_type": "stream",
     "text": [
      " 74%|███████▍  | 3720/5000 [05:18<01:54, 11.17it/s]"
     ]
    },
    {
     "name": "stdout",
     "output_type": "stream",
     "text": [
      "Iteration: 3710/5000\t MSE eqn: 11.7714\t MSE boundary: 5119.1704\t Total Loss: 5130.9419\n"
     ]
    },
    {
     "name": "stderr",
     "output_type": "stream",
     "text": [
      " 75%|███████▍  | 3730/5000 [05:19<01:51, 11.39it/s]"
     ]
    },
    {
     "name": "stdout",
     "output_type": "stream",
     "text": [
      "Iteration: 3720/5000\t MSE eqn: 11.8053\t MSE boundary: 6285.8774\t Total Loss: 6297.6826\n"
     ]
    },
    {
     "name": "stderr",
     "output_type": "stream",
     "text": [
      " 75%|███████▍  | 3740/5000 [05:19<01:50, 11.37it/s]"
     ]
    },
    {
     "name": "stdout",
     "output_type": "stream",
     "text": [
      "Iteration: 3730/5000\t MSE eqn: 11.7307\t MSE boundary: 6466.4902\t Total Loss: 6478.2207\n"
     ]
    },
    {
     "name": "stderr",
     "output_type": "stream",
     "text": [
      " 75%|███████▌  | 3750/5000 [05:21<02:01, 10.30it/s]"
     ]
    },
    {
     "name": "stdout",
     "output_type": "stream",
     "text": [
      "Iteration: 3740/5000\t MSE eqn: 11.7370\t MSE boundary: 5383.5635\t Total Loss: 5395.3003\n"
     ]
    },
    {
     "name": "stderr",
     "output_type": "stream",
     "text": [
      " 75%|███████▌  | 3760/5000 [05:22<02:01, 10.20it/s]"
     ]
    },
    {
     "name": "stdout",
     "output_type": "stream",
     "text": [
      "Iteration: 3750/5000\t MSE eqn: 11.7604\t MSE boundary: 5954.8057\t Total Loss: 5966.5659\n"
     ]
    },
    {
     "name": "stderr",
     "output_type": "stream",
     "text": [
      " 75%|███████▌  | 3770/5000 [05:23<02:00, 10.20it/s]"
     ]
    },
    {
     "name": "stdout",
     "output_type": "stream",
     "text": [
      "Iteration: 3760/5000\t MSE eqn: 11.9094\t MSE boundary: 5796.5986\t Total Loss: 5808.5078\n"
     ]
    },
    {
     "name": "stderr",
     "output_type": "stream",
     "text": [
      " 76%|███████▌  | 3780/5000 [05:24<02:05,  9.74it/s]"
     ]
    },
    {
     "name": "stdout",
     "output_type": "stream",
     "text": [
      "Iteration: 3770/5000\t MSE eqn: 11.7718\t MSE boundary: 5506.3740\t Total Loss: 5518.1460\n"
     ]
    },
    {
     "name": "stderr",
     "output_type": "stream",
     "text": [
      " 76%|███████▌  | 3790/5000 [05:25<01:58, 10.18it/s]"
     ]
    },
    {
     "name": "stdout",
     "output_type": "stream",
     "text": [
      "Iteration: 3780/5000\t MSE eqn: 11.6147\t MSE boundary: 5815.4561\t Total Loss: 5827.0708\n"
     ]
    },
    {
     "name": "stderr",
     "output_type": "stream",
     "text": [
      " 76%|███████▌  | 3800/5000 [05:26<02:00,  9.97it/s]"
     ]
    },
    {
     "name": "stdout",
     "output_type": "stream",
     "text": [
      "Iteration: 3790/5000\t MSE eqn: 11.9250\t MSE boundary: 6249.9053\t Total Loss: 6261.8301\n"
     ]
    },
    {
     "name": "stderr",
     "output_type": "stream",
     "text": [
      " 76%|███████▌  | 3810/5000 [05:27<01:56, 10.18it/s]"
     ]
    },
    {
     "name": "stdout",
     "output_type": "stream",
     "text": [
      "Iteration: 3800/5000\t MSE eqn: 11.7858\t MSE boundary: 6022.9404\t Total Loss: 6034.7261\n"
     ]
    },
    {
     "name": "stderr",
     "output_type": "stream",
     "text": [
      " 76%|███████▋  | 3820/5000 [05:28<01:54, 10.28it/s]"
     ]
    },
    {
     "name": "stdout",
     "output_type": "stream",
     "text": [
      "Iteration: 3810/5000\t MSE eqn: 11.7026\t MSE boundary: 6148.0723\t Total Loss: 6159.7749\n"
     ]
    },
    {
     "name": "stderr",
     "output_type": "stream",
     "text": [
      " 77%|███████▋  | 3830/5000 [05:29<02:08,  9.08it/s]"
     ]
    },
    {
     "name": "stdout",
     "output_type": "stream",
     "text": [
      "Iteration: 3820/5000\t MSE eqn: 11.8895\t MSE boundary: 6106.9614\t Total Loss: 6118.8511\n"
     ]
    },
    {
     "name": "stderr",
     "output_type": "stream",
     "text": [
      " 77%|███████▋  | 3840/5000 [05:30<01:59,  9.71it/s]"
     ]
    },
    {
     "name": "stdout",
     "output_type": "stream",
     "text": [
      "Iteration: 3830/5000\t MSE eqn: 11.7955\t MSE boundary: 5756.6265\t Total Loss: 5768.4219\n"
     ]
    },
    {
     "name": "stderr",
     "output_type": "stream",
     "text": [
      " 77%|███████▋  | 3850/5000 [05:31<01:51, 10.30it/s]"
     ]
    },
    {
     "name": "stdout",
     "output_type": "stream",
     "text": [
      "Iteration: 3840/5000\t MSE eqn: 11.8131\t MSE boundary: 5262.0288\t Total Loss: 5273.8418\n"
     ]
    },
    {
     "name": "stderr",
     "output_type": "stream",
     "text": [
      " 77%|███████▋  | 3860/5000 [05:32<01:50, 10.33it/s]"
     ]
    },
    {
     "name": "stdout",
     "output_type": "stream",
     "text": [
      "Iteration: 3850/5000\t MSE eqn: 11.7067\t MSE boundary: 5618.3970\t Total Loss: 5630.1035\n"
     ]
    },
    {
     "name": "stderr",
     "output_type": "stream",
     "text": [
      " 77%|███████▋  | 3870/5000 [05:32<01:45, 10.76it/s]"
     ]
    },
    {
     "name": "stdout",
     "output_type": "stream",
     "text": [
      "Iteration: 3860/5000\t MSE eqn: 11.7653\t MSE boundary: 5165.7729\t Total Loss: 5177.5381\n"
     ]
    },
    {
     "name": "stderr",
     "output_type": "stream",
     "text": [
      " 78%|███████▊  | 3880/5000 [05:33<01:40, 11.11it/s]"
     ]
    },
    {
     "name": "stdout",
     "output_type": "stream",
     "text": [
      "Iteration: 3870/5000\t MSE eqn: 11.7289\t MSE boundary: 6518.7939\t Total Loss: 6530.5229\n"
     ]
    },
    {
     "name": "stderr",
     "output_type": "stream",
     "text": [
      " 78%|███████▊  | 3890/5000 [05:34<01:46, 10.42it/s]"
     ]
    },
    {
     "name": "stdout",
     "output_type": "stream",
     "text": [
      "Iteration: 3880/5000\t MSE eqn: 11.7372\t MSE boundary: 6520.2134\t Total Loss: 6531.9507\n"
     ]
    },
    {
     "name": "stderr",
     "output_type": "stream",
     "text": [
      " 78%|███████▊  | 3900/5000 [05:35<01:43, 10.62it/s]"
     ]
    },
    {
     "name": "stdout",
     "output_type": "stream",
     "text": [
      "Iteration: 3890/5000\t MSE eqn: 11.6543\t MSE boundary: 5580.3350\t Total Loss: 5591.9893\n"
     ]
    },
    {
     "name": "stderr",
     "output_type": "stream",
     "text": [
      " 78%|███████▊  | 3910/5000 [05:36<01:42, 10.65it/s]"
     ]
    },
    {
     "name": "stdout",
     "output_type": "stream",
     "text": [
      "Iteration: 3900/5000\t MSE eqn: 11.8022\t MSE boundary: 4654.2354\t Total Loss: 4666.0376\n"
     ]
    },
    {
     "name": "stderr",
     "output_type": "stream",
     "text": [
      " 78%|███████▊  | 3920/5000 [05:37<01:41, 10.59it/s]"
     ]
    },
    {
     "name": "stdout",
     "output_type": "stream",
     "text": [
      "Iteration: 3910/5000\t MSE eqn: 11.8343\t MSE boundary: 6482.6553\t Total Loss: 6494.4897\n"
     ]
    },
    {
     "name": "stderr",
     "output_type": "stream",
     "text": [
      " 79%|███████▊  | 3930/5000 [05:38<01:39, 10.76it/s]"
     ]
    },
    {
     "name": "stdout",
     "output_type": "stream",
     "text": [
      "Iteration: 3920/5000\t MSE eqn: 11.7475\t MSE boundary: 5922.9312\t Total Loss: 5934.6787\n"
     ]
    },
    {
     "name": "stderr",
     "output_type": "stream",
     "text": [
      " 79%|███████▉  | 3940/5000 [05:39<01:33, 11.34it/s]"
     ]
    },
    {
     "name": "stdout",
     "output_type": "stream",
     "text": [
      "Iteration: 3930/5000\t MSE eqn: 11.7810\t MSE boundary: 5800.6782\t Total Loss: 5812.4590\n"
     ]
    },
    {
     "name": "stderr",
     "output_type": "stream",
     "text": [
      " 79%|███████▉  | 3950/5000 [05:40<01:31, 11.53it/s]"
     ]
    },
    {
     "name": "stdout",
     "output_type": "stream",
     "text": [
      "Iteration: 3940/5000\t MSE eqn: 11.6636\t MSE boundary: 5491.5894\t Total Loss: 5503.2529\n"
     ]
    },
    {
     "name": "stderr",
     "output_type": "stream",
     "text": [
      " 79%|███████▉  | 3960/5000 [05:41<01:28, 11.73it/s]"
     ]
    },
    {
     "name": "stdout",
     "output_type": "stream",
     "text": [
      "Iteration: 3950/5000\t MSE eqn: 11.9049\t MSE boundary: 4834.5239\t Total Loss: 4846.4287\n"
     ]
    },
    {
     "name": "stderr",
     "output_type": "stream",
     "text": [
      " 79%|███████▉  | 3970/5000 [05:41<01:29, 11.56it/s]"
     ]
    },
    {
     "name": "stdout",
     "output_type": "stream",
     "text": [
      "Iteration: 3960/5000\t MSE eqn: 11.7844\t MSE boundary: 6768.8467\t Total Loss: 6780.6313\n"
     ]
    },
    {
     "name": "stderr",
     "output_type": "stream",
     "text": [
      " 80%|███████▉  | 3980/5000 [05:42<01:30, 11.30it/s]"
     ]
    },
    {
     "name": "stdout",
     "output_type": "stream",
     "text": [
      "Iteration: 3970/5000\t MSE eqn: 11.7194\t MSE boundary: 6117.0010\t Total Loss: 6128.7202\n"
     ]
    },
    {
     "name": "stderr",
     "output_type": "stream",
     "text": [
      " 80%|███████▉  | 3990/5000 [05:43<01:28, 11.41it/s]"
     ]
    },
    {
     "name": "stdout",
     "output_type": "stream",
     "text": [
      "Iteration: 3980/5000\t MSE eqn: 11.7258\t MSE boundary: 6031.6162\t Total Loss: 6043.3418\n"
     ]
    },
    {
     "name": "stderr",
     "output_type": "stream",
     "text": [
      " 80%|████████  | 4000/5000 [05:44<01:30, 11.04it/s]"
     ]
    },
    {
     "name": "stdout",
     "output_type": "stream",
     "text": [
      "Iteration: 3990/5000\t MSE eqn: 11.8368\t MSE boundary: 6691.3071\t Total Loss: 6703.1440\n"
     ]
    },
    {
     "name": "stderr",
     "output_type": "stream",
     "text": [
      " 80%|████████  | 4010/5000 [05:45<01:26, 11.45it/s]"
     ]
    },
    {
     "name": "stdout",
     "output_type": "stream",
     "text": [
      "Iteration: 4000/5000\t MSE eqn: 11.7380\t MSE boundary: 5513.0659\t Total Loss: 5524.8037\n"
     ]
    },
    {
     "name": "stderr",
     "output_type": "stream",
     "text": [
      " 80%|████████  | 4020/5000 [05:46<01:25, 11.45it/s]"
     ]
    },
    {
     "name": "stdout",
     "output_type": "stream",
     "text": [
      "Iteration: 4010/5000\t MSE eqn: 11.6620\t MSE boundary: 5647.3745\t Total Loss: 5659.0366\n"
     ]
    },
    {
     "name": "stderr",
     "output_type": "stream",
     "text": [
      " 81%|████████  | 4030/5000 [05:47<01:22, 11.75it/s]"
     ]
    },
    {
     "name": "stdout",
     "output_type": "stream",
     "text": [
      "Iteration: 4020/5000\t MSE eqn: 11.7306\t MSE boundary: 5961.7666\t Total Loss: 5973.4971\n"
     ]
    },
    {
     "name": "stderr",
     "output_type": "stream",
     "text": [
      " 81%|████████  | 4040/5000 [05:47<01:20, 11.96it/s]"
     ]
    },
    {
     "name": "stdout",
     "output_type": "stream",
     "text": [
      "Iteration: 4030/5000\t MSE eqn: 11.6149\t MSE boundary: 6089.0215\t Total Loss: 6100.6362\n"
     ]
    },
    {
     "name": "stderr",
     "output_type": "stream",
     "text": [
      " 81%|████████  | 4050/5000 [05:48<01:17, 12.27it/s]"
     ]
    },
    {
     "name": "stdout",
     "output_type": "stream",
     "text": [
      "Iteration: 4040/5000\t MSE eqn: 11.7056\t MSE boundary: 6081.8188\t Total Loss: 6093.5244\n"
     ]
    },
    {
     "name": "stderr",
     "output_type": "stream",
     "text": [
      " 81%|████████  | 4060/5000 [05:49<01:23, 11.31it/s]"
     ]
    },
    {
     "name": "stdout",
     "output_type": "stream",
     "text": [
      "Iteration: 4050/5000\t MSE eqn: 11.7869\t MSE boundary: 6705.3467\t Total Loss: 6717.1338\n"
     ]
    },
    {
     "name": "stderr",
     "output_type": "stream",
     "text": [
      " 81%|████████▏ | 4070/5000 [05:50<01:21, 11.48it/s]"
     ]
    },
    {
     "name": "stdout",
     "output_type": "stream",
     "text": [
      "Iteration: 4060/5000\t MSE eqn: 11.8262\t MSE boundary: 5734.7700\t Total Loss: 5746.5962\n"
     ]
    },
    {
     "name": "stderr",
     "output_type": "stream",
     "text": [
      " 82%|████████▏ | 4080/5000 [05:51<01:20, 11.43it/s]"
     ]
    },
    {
     "name": "stdout",
     "output_type": "stream",
     "text": [
      "Iteration: 4070/5000\t MSE eqn: 11.6290\t MSE boundary: 6117.3096\t Total Loss: 6128.9385\n"
     ]
    },
    {
     "name": "stderr",
     "output_type": "stream",
     "text": [
      " 82%|████████▏ | 4090/5000 [05:52<01:17, 11.71it/s]"
     ]
    },
    {
     "name": "stdout",
     "output_type": "stream",
     "text": [
      "Iteration: 4080/5000\t MSE eqn: 12.0423\t MSE boundary: 6346.0903\t Total Loss: 6358.1328\n"
     ]
    },
    {
     "name": "stderr",
     "output_type": "stream",
     "text": [
      " 82%|████████▏ | 4100/5000 [05:53<01:15, 11.94it/s]"
     ]
    },
    {
     "name": "stdout",
     "output_type": "stream",
     "text": [
      "Iteration: 4090/5000\t MSE eqn: 11.8803\t MSE boundary: 5904.1812\t Total Loss: 5916.0615\n"
     ]
    },
    {
     "name": "stderr",
     "output_type": "stream",
     "text": [
      " 82%|████████▏ | 4110/5000 [05:53<01:13, 12.17it/s]"
     ]
    },
    {
     "name": "stdout",
     "output_type": "stream",
     "text": [
      "Iteration: 4100/5000\t MSE eqn: 11.6109\t MSE boundary: 5607.7891\t Total Loss: 5619.3999\n"
     ]
    },
    {
     "name": "stderr",
     "output_type": "stream",
     "text": [
      " 82%|████████▏ | 4120/5000 [05:54<01:10, 12.48it/s]"
     ]
    },
    {
     "name": "stdout",
     "output_type": "stream",
     "text": [
      "Iteration: 4110/5000\t MSE eqn: 11.7824\t MSE boundary: 6351.8145\t Total Loss: 6363.5967\n"
     ]
    },
    {
     "name": "stderr",
     "output_type": "stream",
     "text": [
      " 83%|████████▎ | 4130/5000 [05:55<01:09, 12.50it/s]"
     ]
    },
    {
     "name": "stdout",
     "output_type": "stream",
     "text": [
      "Iteration: 4120/5000\t MSE eqn: 11.6993\t MSE boundary: 5969.9458\t Total Loss: 5981.6450\n"
     ]
    },
    {
     "name": "stderr",
     "output_type": "stream",
     "text": [
      " 83%|████████▎ | 4140/5000 [05:56<01:08, 12.48it/s]"
     ]
    },
    {
     "name": "stdout",
     "output_type": "stream",
     "text": [
      "Iteration: 4130/5000\t MSE eqn: 11.8346\t MSE boundary: 5908.1484\t Total Loss: 5919.9829\n"
     ]
    },
    {
     "name": "stderr",
     "output_type": "stream",
     "text": [
      " 83%|████████▎ | 4150/5000 [05:57<01:07, 12.53it/s]"
     ]
    },
    {
     "name": "stdout",
     "output_type": "stream",
     "text": [
      "Iteration: 4140/5000\t MSE eqn: 11.8278\t MSE boundary: 5945.0610\t Total Loss: 5956.8887\n"
     ]
    },
    {
     "name": "stderr",
     "output_type": "stream",
     "text": [
      " 83%|████████▎ | 4160/5000 [05:57<01:07, 12.43it/s]"
     ]
    },
    {
     "name": "stdout",
     "output_type": "stream",
     "text": [
      "Iteration: 4150/5000\t MSE eqn: 11.7267\t MSE boundary: 4977.2075\t Total Loss: 4988.9341\n"
     ]
    },
    {
     "name": "stderr",
     "output_type": "stream",
     "text": [
      " 83%|████████▎ | 4170/5000 [05:58<01:06, 12.55it/s]"
     ]
    },
    {
     "name": "stdout",
     "output_type": "stream",
     "text": [
      "Iteration: 4160/5000\t MSE eqn: 11.7256\t MSE boundary: 5895.6924\t Total Loss: 5907.4180\n"
     ]
    },
    {
     "name": "stderr",
     "output_type": "stream",
     "text": [
      " 84%|████████▎ | 4180/5000 [05:59<01:13, 11.23it/s]"
     ]
    },
    {
     "name": "stdout",
     "output_type": "stream",
     "text": [
      "Iteration: 4170/5000\t MSE eqn: 11.5915\t MSE boundary: 5660.6343\t Total Loss: 5672.2256\n"
     ]
    },
    {
     "name": "stderr",
     "output_type": "stream",
     "text": [
      " 84%|████████▍ | 4190/5000 [06:00<01:13, 11.09it/s]"
     ]
    },
    {
     "name": "stdout",
     "output_type": "stream",
     "text": [
      "Iteration: 4180/5000\t MSE eqn: 11.7057\t MSE boundary: 5849.8989\t Total Loss: 5861.6045\n"
     ]
    },
    {
     "name": "stderr",
     "output_type": "stream",
     "text": [
      " 84%|████████▍ | 4200/5000 [06:01<01:11, 11.19it/s]"
     ]
    },
    {
     "name": "stdout",
     "output_type": "stream",
     "text": [
      "Iteration: 4190/5000\t MSE eqn: 11.5739\t MSE boundary: 5424.0811\t Total Loss: 5435.6548\n"
     ]
    },
    {
     "name": "stderr",
     "output_type": "stream",
     "text": [
      " 84%|████████▍ | 4210/5000 [06:02<01:10, 11.19it/s]"
     ]
    },
    {
     "name": "stdout",
     "output_type": "stream",
     "text": [
      "Iteration: 4200/5000\t MSE eqn: 11.7464\t MSE boundary: 6049.8267\t Total Loss: 6061.5732\n"
     ]
    },
    {
     "name": "stderr",
     "output_type": "stream",
     "text": [
      " 84%|████████▍ | 4220/5000 [06:03<01:13, 10.64it/s]"
     ]
    },
    {
     "name": "stdout",
     "output_type": "stream",
     "text": [
      "Iteration: 4210/5000\t MSE eqn: 11.8968\t MSE boundary: 5707.7100\t Total Loss: 5719.6069\n"
     ]
    },
    {
     "name": "stderr",
     "output_type": "stream",
     "text": [
      " 85%|████████▍ | 4230/5000 [06:04<01:14, 10.39it/s]"
     ]
    },
    {
     "name": "stdout",
     "output_type": "stream",
     "text": [
      "Iteration: 4220/5000\t MSE eqn: 11.7887\t MSE boundary: 5266.3369\t Total Loss: 5278.1255\n"
     ]
    },
    {
     "name": "stderr",
     "output_type": "stream",
     "text": [
      " 85%|████████▍ | 4240/5000 [06:05<01:13, 10.37it/s]"
     ]
    },
    {
     "name": "stdout",
     "output_type": "stream",
     "text": [
      "Iteration: 4230/5000\t MSE eqn: 11.7565\t MSE boundary: 5228.7285\t Total Loss: 5240.4849\n"
     ]
    },
    {
     "name": "stderr",
     "output_type": "stream",
     "text": [
      " 85%|████████▌ | 4250/5000 [06:06<01:08, 10.97it/s]"
     ]
    },
    {
     "name": "stdout",
     "output_type": "stream",
     "text": [
      "Iteration: 4240/5000\t MSE eqn: 11.7384\t MSE boundary: 5286.0054\t Total Loss: 5297.7437\n"
     ]
    },
    {
     "name": "stderr",
     "output_type": "stream",
     "text": [
      " 85%|████████▌ | 4260/5000 [06:07<01:07, 11.02it/s]"
     ]
    },
    {
     "name": "stdout",
     "output_type": "stream",
     "text": [
      "Iteration: 4250/5000\t MSE eqn: 11.7819\t MSE boundary: 6019.3384\t Total Loss: 6031.1201\n"
     ]
    },
    {
     "name": "stderr",
     "output_type": "stream",
     "text": [
      " 85%|████████▌ | 4270/5000 [06:07<01:04, 11.39it/s]"
     ]
    },
    {
     "name": "stdout",
     "output_type": "stream",
     "text": [
      "Iteration: 4260/5000\t MSE eqn: 11.7406\t MSE boundary: 5804.7080\t Total Loss: 5816.4487\n"
     ]
    },
    {
     "name": "stderr",
     "output_type": "stream",
     "text": [
      " 86%|████████▌ | 4280/5000 [06:08<01:01, 11.64it/s]"
     ]
    },
    {
     "name": "stdout",
     "output_type": "stream",
     "text": [
      "Iteration: 4270/5000\t MSE eqn: 11.8342\t MSE boundary: 5844.9634\t Total Loss: 5856.7979\n"
     ]
    },
    {
     "name": "stderr",
     "output_type": "stream",
     "text": [
      " 86%|████████▌ | 4290/5000 [06:09<00:59, 11.92it/s]"
     ]
    },
    {
     "name": "stdout",
     "output_type": "stream",
     "text": [
      "Iteration: 4280/5000\t MSE eqn: 11.6470\t MSE boundary: 5407.0220\t Total Loss: 5418.6689\n"
     ]
    },
    {
     "name": "stderr",
     "output_type": "stream",
     "text": [
      " 86%|████████▌ | 4300/5000 [06:10<00:57, 12.11it/s]"
     ]
    },
    {
     "name": "stdout",
     "output_type": "stream",
     "text": [
      "Iteration: 4290/5000\t MSE eqn: 11.7412\t MSE boundary: 5523.6074\t Total Loss: 5535.3486\n"
     ]
    },
    {
     "name": "stderr",
     "output_type": "stream",
     "text": [
      " 86%|████████▌ | 4310/5000 [06:11<00:57, 12.10it/s]"
     ]
    },
    {
     "name": "stdout",
     "output_type": "stream",
     "text": [
      "Iteration: 4300/5000\t MSE eqn: 11.6700\t MSE boundary: 6321.9907\t Total Loss: 6333.6606\n"
     ]
    },
    {
     "name": "stderr",
     "output_type": "stream",
     "text": [
      " 86%|████████▋ | 4320/5000 [06:11<00:55, 12.29it/s]"
     ]
    },
    {
     "name": "stdout",
     "output_type": "stream",
     "text": [
      "Iteration: 4310/5000\t MSE eqn: 11.8094\t MSE boundary: 6282.6309\t Total Loss: 6294.4404\n"
     ]
    },
    {
     "name": "stderr",
     "output_type": "stream",
     "text": [
      " 87%|████████▋ | 4330/5000 [06:12<00:53, 12.44it/s]"
     ]
    },
    {
     "name": "stdout",
     "output_type": "stream",
     "text": [
      "Iteration: 4320/5000\t MSE eqn: 11.6985\t MSE boundary: 4951.4121\t Total Loss: 4963.1108\n"
     ]
    },
    {
     "name": "stderr",
     "output_type": "stream",
     "text": [
      " 87%|████████▋ | 4340/5000 [06:13<00:52, 12.54it/s]"
     ]
    },
    {
     "name": "stdout",
     "output_type": "stream",
     "text": [
      "Iteration: 4330/5000\t MSE eqn: 11.9605\t MSE boundary: 5383.4497\t Total Loss: 5395.4102\n"
     ]
    },
    {
     "name": "stderr",
     "output_type": "stream",
     "text": [
      " 87%|████████▋ | 4350/5000 [06:14<00:51, 12.59it/s]"
     ]
    },
    {
     "name": "stdout",
     "output_type": "stream",
     "text": [
      "Iteration: 4340/5000\t MSE eqn: 11.7900\t MSE boundary: 6514.2559\t Total Loss: 6526.0459\n"
     ]
    },
    {
     "name": "stderr",
     "output_type": "stream",
     "text": [
      " 87%|████████▋ | 4360/5000 [06:15<00:51, 12.52it/s]"
     ]
    },
    {
     "name": "stdout",
     "output_type": "stream",
     "text": [
      "Iteration: 4350/5000\t MSE eqn: 11.7783\t MSE boundary: 6384.0640\t Total Loss: 6395.8423\n"
     ]
    },
    {
     "name": "stderr",
     "output_type": "stream",
     "text": [
      " 87%|████████▋ | 4370/5000 [06:15<00:50, 12.55it/s]"
     ]
    },
    {
     "name": "stdout",
     "output_type": "stream",
     "text": [
      "Iteration: 4360/5000\t MSE eqn: 11.6959\t MSE boundary: 4968.6069\t Total Loss: 4980.3027\n"
     ]
    },
    {
     "name": "stderr",
     "output_type": "stream",
     "text": [
      " 88%|████████▊ | 4380/5000 [06:16<00:49, 12.55it/s]"
     ]
    },
    {
     "name": "stdout",
     "output_type": "stream",
     "text": [
      "Iteration: 4370/5000\t MSE eqn: 11.7024\t MSE boundary: 5730.9878\t Total Loss: 5742.6899\n"
     ]
    },
    {
     "name": "stderr",
     "output_type": "stream",
     "text": [
      " 88%|████████▊ | 4390/5000 [06:17<00:48, 12.53it/s]"
     ]
    },
    {
     "name": "stdout",
     "output_type": "stream",
     "text": [
      "Iteration: 4380/5000\t MSE eqn: 11.6540\t MSE boundary: 6162.0859\t Total Loss: 6173.7397\n"
     ]
    },
    {
     "name": "stderr",
     "output_type": "stream",
     "text": [
      " 88%|████████▊ | 4400/5000 [06:18<00:47, 12.64it/s]"
     ]
    },
    {
     "name": "stdout",
     "output_type": "stream",
     "text": [
      "Iteration: 4390/5000\t MSE eqn: 11.7212\t MSE boundary: 5478.4287\t Total Loss: 5490.1499\n"
     ]
    },
    {
     "name": "stderr",
     "output_type": "stream",
     "text": [
      " 88%|████████▊ | 4410/5000 [06:19<00:49, 11.81it/s]"
     ]
    },
    {
     "name": "stdout",
     "output_type": "stream",
     "text": [
      "Iteration: 4400/5000\t MSE eqn: 11.7913\t MSE boundary: 5718.7910\t Total Loss: 5730.5825\n"
     ]
    },
    {
     "name": "stderr",
     "output_type": "stream",
     "text": [
      " 88%|████████▊ | 4420/5000 [06:20<00:47, 12.12it/s]"
     ]
    },
    {
     "name": "stdout",
     "output_type": "stream",
     "text": [
      "Iteration: 4410/5000\t MSE eqn: 11.7810\t MSE boundary: 6094.8052\t Total Loss: 6106.5859\n"
     ]
    },
    {
     "name": "stderr",
     "output_type": "stream",
     "text": [
      " 89%|████████▊ | 4430/5000 [06:20<00:47, 12.06it/s]"
     ]
    },
    {
     "name": "stdout",
     "output_type": "stream",
     "text": [
      "Iteration: 4420/5000\t MSE eqn: 11.7310\t MSE boundary: 5982.4990\t Total Loss: 5994.2300\n"
     ]
    },
    {
     "name": "stderr",
     "output_type": "stream",
     "text": [
      " 89%|████████▉ | 4440/5000 [06:21<00:45, 12.18it/s]"
     ]
    },
    {
     "name": "stdout",
     "output_type": "stream",
     "text": [
      "Iteration: 4430/5000\t MSE eqn: 11.7620\t MSE boundary: 6680.7456\t Total Loss: 6692.5078\n"
     ]
    },
    {
     "name": "stderr",
     "output_type": "stream",
     "text": [
      " 89%|████████▉ | 4450/5000 [06:22<00:44, 12.28it/s]"
     ]
    },
    {
     "name": "stdout",
     "output_type": "stream",
     "text": [
      "Iteration: 4440/5000\t MSE eqn: 11.8742\t MSE boundary: 5611.5273\t Total Loss: 5623.4014\n"
     ]
    },
    {
     "name": "stderr",
     "output_type": "stream",
     "text": [
      " 89%|████████▉ | 4460/5000 [06:23<00:45, 11.95it/s]"
     ]
    },
    {
     "name": "stdout",
     "output_type": "stream",
     "text": [
      "Iteration: 4450/5000\t MSE eqn: 11.7684\t MSE boundary: 6290.8569\t Total Loss: 6302.6255\n"
     ]
    },
    {
     "name": "stderr",
     "output_type": "stream",
     "text": [
      " 89%|████████▉ | 4470/5000 [06:24<00:43, 12.05it/s]"
     ]
    },
    {
     "name": "stdout",
     "output_type": "stream",
     "text": [
      "Iteration: 4460/5000\t MSE eqn: 11.6612\t MSE boundary: 5388.7515\t Total Loss: 5400.4126\n"
     ]
    },
    {
     "name": "stderr",
     "output_type": "stream",
     "text": [
      " 90%|████████▉ | 4480/5000 [06:24<00:42, 12.35it/s]"
     ]
    },
    {
     "name": "stdout",
     "output_type": "stream",
     "text": [
      "Iteration: 4470/5000\t MSE eqn: 11.8559\t MSE boundary: 4774.4512\t Total Loss: 4786.3071\n"
     ]
    },
    {
     "name": "stderr",
     "output_type": "stream",
     "text": [
      " 90%|████████▉ | 4490/5000 [06:25<00:40, 12.56it/s]"
     ]
    },
    {
     "name": "stdout",
     "output_type": "stream",
     "text": [
      "Iteration: 4480/5000\t MSE eqn: 11.6332\t MSE boundary: 5695.7759\t Total Loss: 5707.4092\n"
     ]
    },
    {
     "name": "stderr",
     "output_type": "stream",
     "text": [
      " 90%|█████████ | 4500/5000 [06:26<00:39, 12.66it/s]"
     ]
    },
    {
     "name": "stdout",
     "output_type": "stream",
     "text": [
      "Iteration: 4490/5000\t MSE eqn: 11.7073\t MSE boundary: 6324.0522\t Total Loss: 6335.7598\n"
     ]
    },
    {
     "name": "stderr",
     "output_type": "stream",
     "text": [
      " 90%|█████████ | 4510/5000 [06:27<00:38, 12.86it/s]"
     ]
    },
    {
     "name": "stdout",
     "output_type": "stream",
     "text": [
      "Iteration: 4500/5000\t MSE eqn: 11.8346\t MSE boundary: 6084.4072\t Total Loss: 6096.2417\n"
     ]
    },
    {
     "name": "stderr",
     "output_type": "stream",
     "text": [
      " 90%|█████████ | 4520/5000 [06:28<00:37, 12.83it/s]"
     ]
    },
    {
     "name": "stdout",
     "output_type": "stream",
     "text": [
      "Iteration: 4510/5000\t MSE eqn: 11.8904\t MSE boundary: 6082.3491\t Total Loss: 6094.2397\n"
     ]
    },
    {
     "name": "stderr",
     "output_type": "stream",
     "text": [
      " 91%|█████████ | 4530/5000 [06:28<00:37, 12.66it/s]"
     ]
    },
    {
     "name": "stdout",
     "output_type": "stream",
     "text": [
      "Iteration: 4520/5000\t MSE eqn: 11.6950\t MSE boundary: 5879.8877\t Total Loss: 5891.5825\n"
     ]
    },
    {
     "name": "stderr",
     "output_type": "stream",
     "text": [
      " 91%|█████████ | 4540/5000 [06:29<00:36, 12.66it/s]"
     ]
    },
    {
     "name": "stdout",
     "output_type": "stream",
     "text": [
      "Iteration: 4530/5000\t MSE eqn: 11.7271\t MSE boundary: 6122.8174\t Total Loss: 6134.5444\n"
     ]
    },
    {
     "name": "stderr",
     "output_type": "stream",
     "text": [
      " 91%|█████████ | 4550/5000 [06:30<00:35, 12.70it/s]"
     ]
    },
    {
     "name": "stdout",
     "output_type": "stream",
     "text": [
      "Iteration: 4540/5000\t MSE eqn: 11.8039\t MSE boundary: 5558.3262\t Total Loss: 5570.1299\n"
     ]
    },
    {
     "name": "stderr",
     "output_type": "stream",
     "text": [
      " 91%|█████████ | 4560/5000 [06:31<00:34, 12.83it/s]"
     ]
    },
    {
     "name": "stdout",
     "output_type": "stream",
     "text": [
      "Iteration: 4550/5000\t MSE eqn: 11.7984\t MSE boundary: 4702.2246\t Total Loss: 4714.0229\n"
     ]
    },
    {
     "name": "stderr",
     "output_type": "stream",
     "text": [
      " 91%|█████████▏| 4570/5000 [06:31<00:33, 12.96it/s]"
     ]
    },
    {
     "name": "stdout",
     "output_type": "stream",
     "text": [
      "Iteration: 4560/5000\t MSE eqn: 11.7879\t MSE boundary: 6107.3696\t Total Loss: 6119.1577\n"
     ]
    },
    {
     "name": "stderr",
     "output_type": "stream",
     "text": [
      " 92%|█████████▏| 4580/5000 [06:32<00:32, 12.86it/s]"
     ]
    },
    {
     "name": "stdout",
     "output_type": "stream",
     "text": [
      "Iteration: 4570/5000\t MSE eqn: 11.7536\t MSE boundary: 5133.2524\t Total Loss: 5145.0059\n"
     ]
    },
    {
     "name": "stderr",
     "output_type": "stream",
     "text": [
      " 92%|█████████▏| 4590/5000 [06:33<00:31, 12.90it/s]"
     ]
    },
    {
     "name": "stdout",
     "output_type": "stream",
     "text": [
      "Iteration: 4580/5000\t MSE eqn: 11.6268\t MSE boundary: 5272.9609\t Total Loss: 5284.5879\n"
     ]
    },
    {
     "name": "stderr",
     "output_type": "stream",
     "text": [
      " 92%|█████████▏| 4600/5000 [06:34<00:30, 12.96it/s]"
     ]
    },
    {
     "name": "stdout",
     "output_type": "stream",
     "text": [
      "Iteration: 4590/5000\t MSE eqn: 11.6771\t MSE boundary: 6052.4961\t Total Loss: 6064.1733\n"
     ]
    },
    {
     "name": "stderr",
     "output_type": "stream",
     "text": [
      " 92%|█████████▏| 4610/5000 [06:35<00:30, 12.88it/s]"
     ]
    },
    {
     "name": "stdout",
     "output_type": "stream",
     "text": [
      "Iteration: 4600/5000\t MSE eqn: 11.7232\t MSE boundary: 5758.2471\t Total Loss: 5769.9702\n"
     ]
    },
    {
     "name": "stderr",
     "output_type": "stream",
     "text": [
      " 92%|█████████▏| 4620/5000 [06:35<00:29, 12.83it/s]"
     ]
    },
    {
     "name": "stdout",
     "output_type": "stream",
     "text": [
      "Iteration: 4610/5000\t MSE eqn: 11.7096\t MSE boundary: 5978.3457\t Total Loss: 5990.0552\n"
     ]
    },
    {
     "name": "stderr",
     "output_type": "stream",
     "text": [
      " 93%|█████████▎| 4630/5000 [06:36<00:28, 12.81it/s]"
     ]
    },
    {
     "name": "stdout",
     "output_type": "stream",
     "text": [
      "Iteration: 4620/5000\t MSE eqn: 11.7554\t MSE boundary: 5470.4438\t Total Loss: 5482.1992\n"
     ]
    },
    {
     "name": "stderr",
     "output_type": "stream",
     "text": [
      " 93%|█████████▎| 4640/5000 [06:37<00:28, 12.79it/s]"
     ]
    },
    {
     "name": "stdout",
     "output_type": "stream",
     "text": [
      "Iteration: 4630/5000\t MSE eqn: 11.8997\t MSE boundary: 5572.2725\t Total Loss: 5584.1724\n"
     ]
    },
    {
     "name": "stderr",
     "output_type": "stream",
     "text": [
      " 93%|█████████▎| 4650/5000 [06:38<00:27, 12.63it/s]"
     ]
    },
    {
     "name": "stdout",
     "output_type": "stream",
     "text": [
      "Iteration: 4640/5000\t MSE eqn: 11.6644\t MSE boundary: 6095.9902\t Total Loss: 6107.6548\n"
     ]
    },
    {
     "name": "stderr",
     "output_type": "stream",
     "text": [
      " 93%|█████████▎| 4660/5000 [06:39<00:27, 12.51it/s]"
     ]
    },
    {
     "name": "stdout",
     "output_type": "stream",
     "text": [
      "Iteration: 4650/5000\t MSE eqn: 11.7770\t MSE boundary: 6106.5732\t Total Loss: 6118.3501\n"
     ]
    },
    {
     "name": "stderr",
     "output_type": "stream",
     "text": [
      " 93%|█████████▎| 4670/5000 [06:39<00:26, 12.54it/s]"
     ]
    },
    {
     "name": "stdout",
     "output_type": "stream",
     "text": [
      "Iteration: 4660/5000\t MSE eqn: 11.7470\t MSE boundary: 5455.5239\t Total Loss: 5467.2710\n"
     ]
    },
    {
     "name": "stderr",
     "output_type": "stream",
     "text": [
      " 94%|█████████▎| 4680/5000 [06:40<00:25, 12.68it/s]"
     ]
    },
    {
     "name": "stdout",
     "output_type": "stream",
     "text": [
      "Iteration: 4670/5000\t MSE eqn: 11.6846\t MSE boundary: 5186.7544\t Total Loss: 5198.4390\n"
     ]
    },
    {
     "name": "stderr",
     "output_type": "stream",
     "text": [
      " 94%|█████████▍| 4690/5000 [06:41<00:24, 12.81it/s]"
     ]
    },
    {
     "name": "stdout",
     "output_type": "stream",
     "text": [
      "Iteration: 4680/5000\t MSE eqn: 11.7464\t MSE boundary: 5618.7480\t Total Loss: 5630.4946\n"
     ]
    },
    {
     "name": "stderr",
     "output_type": "stream",
     "text": [
      " 94%|█████████▍| 4700/5000 [06:42<00:23, 12.82it/s]"
     ]
    },
    {
     "name": "stdout",
     "output_type": "stream",
     "text": [
      "Iteration: 4690/5000\t MSE eqn: 11.7547\t MSE boundary: 6308.9048\t Total Loss: 6320.6597\n"
     ]
    },
    {
     "name": "stderr",
     "output_type": "stream",
     "text": [
      " 94%|█████████▍| 4710/5000 [06:43<00:23, 12.35it/s]"
     ]
    },
    {
     "name": "stdout",
     "output_type": "stream",
     "text": [
      "Iteration: 4700/5000\t MSE eqn: 11.7903\t MSE boundary: 4831.5952\t Total Loss: 4843.3853\n"
     ]
    },
    {
     "name": "stderr",
     "output_type": "stream",
     "text": [
      " 94%|█████████▍| 4720/5000 [06:43<00:22, 12.42it/s]"
     ]
    },
    {
     "name": "stdout",
     "output_type": "stream",
     "text": [
      "Iteration: 4710/5000\t MSE eqn: 11.7961\t MSE boundary: 6269.2207\t Total Loss: 6281.0166\n"
     ]
    },
    {
     "name": "stderr",
     "output_type": "stream",
     "text": [
      " 95%|█████████▍| 4730/5000 [06:44<00:21, 12.56it/s]"
     ]
    },
    {
     "name": "stdout",
     "output_type": "stream",
     "text": [
      "Iteration: 4720/5000\t MSE eqn: 11.8779\t MSE boundary: 5301.1973\t Total Loss: 5313.0752\n"
     ]
    },
    {
     "name": "stderr",
     "output_type": "stream",
     "text": [
      " 95%|█████████▍| 4740/5000 [06:45<00:20, 12.73it/s]"
     ]
    },
    {
     "name": "stdout",
     "output_type": "stream",
     "text": [
      "Iteration: 4730/5000\t MSE eqn: 11.7085\t MSE boundary: 5287.0679\t Total Loss: 5298.7764\n"
     ]
    },
    {
     "name": "stderr",
     "output_type": "stream",
     "text": [
      " 95%|█████████▌| 4750/5000 [06:46<00:19, 12.89it/s]"
     ]
    },
    {
     "name": "stdout",
     "output_type": "stream",
     "text": [
      "Iteration: 4740/5000\t MSE eqn: 11.8740\t MSE boundary: 6449.7134\t Total Loss: 6461.5874\n"
     ]
    },
    {
     "name": "stderr",
     "output_type": "stream",
     "text": [
      " 95%|█████████▌| 4760/5000 [06:46<00:18, 12.73it/s]"
     ]
    },
    {
     "name": "stdout",
     "output_type": "stream",
     "text": [
      "Iteration: 4750/5000\t MSE eqn: 11.7058\t MSE boundary: 6010.6909\t Total Loss: 6022.3965\n"
     ]
    },
    {
     "name": "stderr",
     "output_type": "stream",
     "text": [
      " 95%|█████████▌| 4770/5000 [06:47<00:18, 12.76it/s]"
     ]
    },
    {
     "name": "stdout",
     "output_type": "stream",
     "text": [
      "Iteration: 4760/5000\t MSE eqn: 11.8202\t MSE boundary: 6399.8760\t Total Loss: 6411.6963\n"
     ]
    },
    {
     "name": "stderr",
     "output_type": "stream",
     "text": [
      " 96%|█████████▌| 4780/5000 [06:48<00:17, 12.67it/s]"
     ]
    },
    {
     "name": "stdout",
     "output_type": "stream",
     "text": [
      "Iteration: 4770/5000\t MSE eqn: 11.7661\t MSE boundary: 6278.4766\t Total Loss: 6290.2427\n"
     ]
    },
    {
     "name": "stderr",
     "output_type": "stream",
     "text": [
      " 96%|█████████▌| 4790/5000 [06:49<00:16, 12.77it/s]"
     ]
    },
    {
     "name": "stdout",
     "output_type": "stream",
     "text": [
      "Iteration: 4780/5000\t MSE eqn: 11.7514\t MSE boundary: 6039.8994\t Total Loss: 6051.6509\n"
     ]
    },
    {
     "name": "stderr",
     "output_type": "stream",
     "text": [
      " 96%|█████████▌| 4800/5000 [06:50<00:15, 12.86it/s]"
     ]
    },
    {
     "name": "stdout",
     "output_type": "stream",
     "text": [
      "Iteration: 4790/5000\t MSE eqn: 11.8152\t MSE boundary: 6512.8628\t Total Loss: 6524.6777\n"
     ]
    },
    {
     "name": "stderr",
     "output_type": "stream",
     "text": [
      " 96%|█████████▌| 4810/5000 [06:50<00:14, 12.84it/s]"
     ]
    },
    {
     "name": "stdout",
     "output_type": "stream",
     "text": [
      "Iteration: 4800/5000\t MSE eqn: 11.8105\t MSE boundary: 6028.8403\t Total Loss: 6040.6509\n"
     ]
    },
    {
     "name": "stderr",
     "output_type": "stream",
     "text": [
      " 96%|█████████▋| 4820/5000 [06:51<00:14, 12.58it/s]"
     ]
    },
    {
     "name": "stdout",
     "output_type": "stream",
     "text": [
      "Iteration: 4810/5000\t MSE eqn: 11.8467\t MSE boundary: 5336.1836\t Total Loss: 5348.0303\n"
     ]
    },
    {
     "name": "stderr",
     "output_type": "stream",
     "text": [
      " 97%|█████████▋| 4830/5000 [06:52<00:13, 12.73it/s]"
     ]
    },
    {
     "name": "stdout",
     "output_type": "stream",
     "text": [
      "Iteration: 4820/5000\t MSE eqn: 11.7029\t MSE boundary: 5595.6572\t Total Loss: 5607.3604\n"
     ]
    },
    {
     "name": "stderr",
     "output_type": "stream",
     "text": [
      " 97%|█████████▋| 4840/5000 [06:53<00:12, 12.96it/s]"
     ]
    },
    {
     "name": "stdout",
     "output_type": "stream",
     "text": [
      "Iteration: 4830/5000\t MSE eqn: 11.7430\t MSE boundary: 6240.4790\t Total Loss: 6252.2222\n"
     ]
    },
    {
     "name": "stderr",
     "output_type": "stream",
     "text": [
      " 97%|█████████▋| 4850/5000 [06:53<00:11, 13.09it/s]"
     ]
    },
    {
     "name": "stdout",
     "output_type": "stream",
     "text": [
      "Iteration: 4840/5000\t MSE eqn: 11.7192\t MSE boundary: 6614.2212\t Total Loss: 6625.9404\n"
     ]
    },
    {
     "name": "stderr",
     "output_type": "stream",
     "text": [
      " 97%|█████████▋| 4860/5000 [06:54<00:10, 13.16it/s]"
     ]
    },
    {
     "name": "stdout",
     "output_type": "stream",
     "text": [
      "Iteration: 4850/5000\t MSE eqn: 11.9060\t MSE boundary: 6556.4072\t Total Loss: 6568.3130\n"
     ]
    },
    {
     "name": "stderr",
     "output_type": "stream",
     "text": [
      " 97%|█████████▋| 4870/5000 [06:55<00:10, 12.92it/s]"
     ]
    },
    {
     "name": "stdout",
     "output_type": "stream",
     "text": [
      "Iteration: 4860/5000\t MSE eqn: 11.7451\t MSE boundary: 5498.6118\t Total Loss: 5510.3569\n"
     ]
    },
    {
     "name": "stderr",
     "output_type": "stream",
     "text": [
      " 98%|█████████▊| 4880/5000 [06:56<00:09, 12.95it/s]"
     ]
    },
    {
     "name": "stdout",
     "output_type": "stream",
     "text": [
      "Iteration: 4870/5000\t MSE eqn: 11.7484\t MSE boundary: 5490.3232\t Total Loss: 5502.0718\n"
     ]
    },
    {
     "name": "stderr",
     "output_type": "stream",
     "text": [
      " 98%|█████████▊| 4890/5000 [06:56<00:08, 12.98it/s]"
     ]
    },
    {
     "name": "stdout",
     "output_type": "stream",
     "text": [
      "Iteration: 4880/5000\t MSE eqn: 11.5227\t MSE boundary: 5646.8701\t Total Loss: 5658.3926\n"
     ]
    },
    {
     "name": "stderr",
     "output_type": "stream",
     "text": [
      " 98%|█████████▊| 4900/5000 [06:57<00:07, 12.70it/s]"
     ]
    },
    {
     "name": "stdout",
     "output_type": "stream",
     "text": [
      "Iteration: 4890/5000\t MSE eqn: 11.7526\t MSE boundary: 5758.0713\t Total Loss: 5769.8237\n"
     ]
    },
    {
     "name": "stderr",
     "output_type": "stream",
     "text": [
      " 98%|█████████▊| 4910/5000 [06:58<00:07, 12.45it/s]"
     ]
    },
    {
     "name": "stdout",
     "output_type": "stream",
     "text": [
      "Iteration: 4900/5000\t MSE eqn: 11.7837\t MSE boundary: 5740.3228\t Total Loss: 5752.1064\n"
     ]
    },
    {
     "name": "stderr",
     "output_type": "stream",
     "text": [
      " 98%|█████████▊| 4920/5000 [06:59<00:06, 12.16it/s]"
     ]
    },
    {
     "name": "stdout",
     "output_type": "stream",
     "text": [
      "Iteration: 4910/5000\t MSE eqn: 11.6027\t MSE boundary: 5947.9658\t Total Loss: 5959.5684\n"
     ]
    },
    {
     "name": "stderr",
     "output_type": "stream",
     "text": [
      " 99%|█████████▊| 4930/5000 [07:00<00:05, 11.86it/s]"
     ]
    },
    {
     "name": "stdout",
     "output_type": "stream",
     "text": [
      "Iteration: 4920/5000\t MSE eqn: 11.8784\t MSE boundary: 5977.9243\t Total Loss: 5989.8027\n"
     ]
    },
    {
     "name": "stderr",
     "output_type": "stream",
     "text": [
      " 99%|█████████▉| 4940/5000 [07:01<00:05, 11.50it/s]"
     ]
    },
    {
     "name": "stdout",
     "output_type": "stream",
     "text": [
      "Iteration: 4930/5000\t MSE eqn: 11.6665\t MSE boundary: 5824.4546\t Total Loss: 5836.1211\n"
     ]
    },
    {
     "name": "stderr",
     "output_type": "stream",
     "text": [
      " 99%|█████████▉| 4950/5000 [07:02<00:04, 11.64it/s]"
     ]
    },
    {
     "name": "stdout",
     "output_type": "stream",
     "text": [
      "Iteration: 4940/5000\t MSE eqn: 11.9151\t MSE boundary: 6036.9839\t Total Loss: 6048.8989\n"
     ]
    },
    {
     "name": "stderr",
     "output_type": "stream",
     "text": [
      " 99%|█████████▉| 4960/5000 [07:03<00:03, 11.60it/s]"
     ]
    },
    {
     "name": "stdout",
     "output_type": "stream",
     "text": [
      "Iteration: 4950/5000\t MSE eqn: 11.8980\t MSE boundary: 5580.0195\t Total Loss: 5591.9175\n"
     ]
    },
    {
     "name": "stderr",
     "output_type": "stream",
     "text": [
      " 99%|█████████▉| 4970/5000 [07:03<00:02, 11.64it/s]"
     ]
    },
    {
     "name": "stdout",
     "output_type": "stream",
     "text": [
      "Iteration: 4960/5000\t MSE eqn: 11.6682\t MSE boundary: 5901.6753\t Total Loss: 5913.3433\n"
     ]
    },
    {
     "name": "stderr",
     "output_type": "stream",
     "text": [
      "100%|█████████▉| 4980/5000 [07:04<00:01, 11.71it/s]"
     ]
    },
    {
     "name": "stdout",
     "output_type": "stream",
     "text": [
      "Iteration: 4970/5000\t MSE eqn: 11.7582\t MSE boundary: 4860.5171\t Total Loss: 4872.2754\n"
     ]
    },
    {
     "name": "stderr",
     "output_type": "stream",
     "text": [
      "100%|█████████▉| 4990/5000 [07:05<00:00, 11.82it/s]"
     ]
    },
    {
     "name": "stdout",
     "output_type": "stream",
     "text": [
      "Iteration: 4980/5000\t MSE eqn: 11.9330\t MSE boundary: 6172.6680\t Total Loss: 6184.6011\n"
     ]
    },
    {
     "name": "stderr",
     "output_type": "stream",
     "text": [
      "100%|██████████| 5000/5000 [07:06<00:00, 11.88it/s]"
     ]
    },
    {
     "name": "stdout",
     "output_type": "stream",
     "text": [
      "Iteration: 4990/5000\t MSE eqn: 11.7451\t MSE boundary: 5723.8530\t Total Loss: 5735.5981\n"
     ]
    },
    {
     "data": {
      "image/png": "[encoded data removed]",
      "text/plain": [
       "<Figure size 432x288 with 1 Axes>"
      ]
     },
     "metadata": {
      "needs_background": "light"
     },
     "output_type": "display_data"
    },
    {
     "name": "stderr",
     "output_type": "stream",
     "text": [
      "100%|██████████| 5000/5000 [07:07<00:00, 11.70it/s]\n"
     ]
    }
   ],
   "source": [
    "if torch.cuda.is_available():\n",
    "    # check if a GPU is available for use with PyTorch\n",
    "    device = \"cuda\" # device is set to \"cuda\"\n",
    "else:\n",
    "    device=\"cpu\" # if not, it is set to \"cpu\"\n",
    "\n",
    "# Sets a random seed\n",
    "seed = 1\n",
    "set_seed(seed)\n",
    "# Defines the path where the results of the training will be saved.\n",
    "results_path = os.path.join('./numerical_results/', \"PDE_DGM\", \"seed{}\".format(seed))\n",
    "if not os.path.exists(results_path):\n",
    "    os.makedirs(results_path)\n",
    "\n",
    "# Calls the train function\n",
    "train(T=1,\n",
    "    n_steps=50,\n",
    "    d=2,\n",
    "    hidden_dim=100,\n",
    "    max_updates=5000,\n",
    "    batch_size=500,\n",
    "    base_dir=results_path,\n",
    "    device=device,\n",
    "    )"
   ]
  },
  {
   "cell_type": "code",
   "execution_count": null,
   "id": "794adfd7",
   "metadata": {},
   "outputs": [],
   "source": []
  }
 ],
 "metadata": {
  "kernelspec": {
   "display_name": "Python 3.9.12 ('base')",
   "language": "python",
   "name": "python3"
  },
  "language_info": {
   "codemirror_mode": {
    "name": "ipython",
    "version": 3
   },
   "file_extension": ".py",
   "mimetype": "text/x-python",
   "name": "python",
   "nbconvert_exporter": "python",
   "pygments_lexer": "ipython3",
   "version": "3.9.12"
  },
  "vscode": {
   "interpreter": {
    "hash": "f695691c7675195da2229e392149ef068beb920cff0b2fc3ea04696403466e06"
   }
  }
 },
 "nbformat": 4,
 "nbformat_minor": 5
}
