{
 "cells": [
  {
   "cell_type": "code",
   "execution_count": 5,
   "id": "0ee37bf4",
   "metadata": {},
   "outputs": [],
   "source": [
    "import numpy as np\n",
    "from scipy.integrate import solve_ivp\n",
    "import os\n",
    "import torch\n",
    "import torch.nn as nn\n",
    "import numpy as np\n",
    "import tqdm\n",
    "import matplotlib.pyplot as plt\n",
    "os.environ[\"KMP_DUPLICATE_LIB_OK\"]=\"TRUE\""
   ]
  },
  {
   "cell_type": "code",
   "execution_count": 6,
   "id": "695ad1c9",
   "metadata": {},
   "outputs": [],
   "source": [
    "\n",
    "def matrix_riccati_ode(t, S, H, M, D_inv, C):\n",
    "    S = S.reshape((H.shape[0], H.shape[1]))\n",
    "    dS_dt = -2 * H.T @ S + S @ M @ D_inv @ M.T @ S - C\n",
    "    return dS_dt.reshape(-1)\n",
    "\n",
    "class LQR:\n",
    "    def __init__(self, H, M, sigma, C, R, D, T):\n",
    "        self.H = H\n",
    "        self.M = M\n",
    "        self.sigma = sigma\n",
    "        self.C = C\n",
    "        self.R = R\n",
    "        self.D = D\n",
    "        self.T = T\n",
    "\n",
    "    def solve(self, t, t_eval = None):\n",
    "        D_inv = np.linalg.inv(self.D)\n",
    "        if t == self.T:\n",
    "            return None, None\n",
    "        if t is None:\n",
    "            t = 0\n",
    "        if t_eval is None:\n",
    "            t_eval = np.linspace(self.T, t, 101)\n",
    "        sol = solve_ivp(matrix_riccati_ode, (self.T, t), self.R.reshape(-1), t_eval = t_eval, method='RK45', args=(self.H, self.M, D_inv, self.C))\n",
    "        return sol.t, sol.y.reshape((-1, self.H.shape[0], self.H.shape[1]))  # Reshape solution to matrix form\n",
    "\n",
    "    def getValue(self, ts, data):\n",
    "        batch_size = data.shape[0]\n",
    "        values = torch.zeros((batch_size, 1))\n",
    "        for i in range(batch_size):\n",
    "            t = ts[i]\n",
    "            x = data[i][0].numpy()\n",
    "            n = 101\n",
    "            ts, sols = self.solve(t, np.linspace(self.T, t, n))\n",
    "            values[i][0] = x.T @ sols[-1] @ x\n",
    "            for sol in sols:\n",
    "                values[i][0] += abs(self.T - t) / n * np.trace(self.sigma @ self.sigma.T @ sol)\n",
    "        return values\n",
    "\n",
    "    def getMarkovControl(self, ts, data):\n",
    "        batch_size = data.shape[0]\n",
    "        values = torch.zeros((batch_size, 2))\n",
    "        for i in range(batch_size):\n",
    "            t = ts[i]\n",
    "            x = data[i][0].numpy()\n",
    "            n = 101\n",
    "            ts, sols = self.solve(t, np.linspace(self.T, t, n))\n",
    "            values[i] = torch.from_numpy(-self.D @ self.M.T @ sols[-1] @ x)\n",
    "        return values\n",
    "\n",
    "    \n",
    "    def runMonteCarlo(self, num_steps, num_samples, x):\n",
    "        res = []\n",
    "        dt = self.T / num_steps\n",
    "        ts = np.linspace(0, self.T, num_steps)\n",
    "        for i in range(num_samples):\n",
    "            cur_x = np.array(x).reshape(-1,1)\n",
    "            for j in range(num_steps - 1):\n",
    "                increments = np.random.normal(0, 1, (1,2)).T\n",
    "                _, S_tn = self.solve(ts[j])\n",
    "                S_tn = S_tn[-1]\n",
    "                cur_x = cur_x + dt * (self.H @ cur_x - self.M @ self.D @ S_tn @ cur_x) + self.sigma @ increments\n",
    "            res.append(cur_x)\n",
    "        return res\n"
   ]
  },
  {
   "cell_type": "code",
   "execution_count": 7,
   "id": "b6b2a608",
   "metadata": {
    "pycharm": {
     "is_executing": true
    }
   },
   "outputs": [],
   "source": [
    "# Example usage:\n",
    "H = np.array([[0, 1], [0, 0]])\n",
    "M = np.array([[1, 0], [0, 1]])\n",
    "D = np.array([[1, 0], [0, 1]])\n",
    "T = 10\n",
    "R = np.array([[1, 0], [0, 1]])\n",
    "C = np.array([[0, 0], [0, 0]])\n",
    "sigma = np.array([[0.2, 0], [0, 0.4]])\n",
    "lqr = LQR(H, M, sigma, C, R, D, T)\n",
    "\n",
    "t, p = lqr.solve(1, [10, 9, 8,7,6,5,4,3,2,1])"
   ]
  },
  {
   "cell_type": "code",
   "execution_count": 8,
   "id": "e36d9e70",
   "metadata": {},
   "outputs": [],
   "source": [
    "ts = torch.tensor([1, 2])\n",
    "x = torch.tensor([[[2,1]], [[3,2]]])"
   ]
  },
  {
   "cell_type": "code",
   "execution_count": 9,
   "id": "8f62440d",
   "metadata": {},
   "outputs": [
    {
     "name": "stdout",
     "output_type": "stream",
     "text": [
      "(10,)\n"
     ]
    }
   ],
   "source": [
    "print(t.shape)"
   ]
  },
  {
   "cell_type": "code",
   "execution_count": 10,
   "id": "2b102092",
   "metadata": {},
   "outputs": [
    {
     "data": {
      "text/plain": [
       "tensor([[ 1.5519],\n",
       "        [22.9790]])"
      ]
     },
     "execution_count": 10,
     "metadata": {},
     "output_type": "execute_result"
    }
   ],
   "source": [
    "lqr.getValue(ts, x)"
   ]
  },
  {
   "cell_type": "code",
   "execution_count": 11,
   "id": "d88e215c",
   "metadata": {},
   "outputs": [
    {
     "data": {
      "text/plain": [
       "tensor([[-0.3080, -0.3024],\n",
       "        [-4.5970, -4.5894]])"
      ]
     },
     "execution_count": 11,
     "metadata": {},
     "output_type": "execute_result"
    }
   ],
   "source": [
    "lqr.getMarkovControl(ts, x)"
   ]
  },
  {
   "cell_type": "markdown",
   "id": "68b70289",
   "metadata": {},
   "source": [
    "From the above code, we define the class LQR with attribute 'H, M, sigma, C, R, D, T', which is mentioned in the definition of LQR. The class has three methods - solve, getValue, getMarkovControl. 'Solve' will solve the associated Ricatti ODE on a time grid. 'getValue' will return the control problem value $v(t,x)$. 'getMarkovControl' will return the Markov control function."
   ]
  },
  {
   "cell_type": "code",
   "execution_count": null,
   "id": "7ac5f4d1",
   "metadata": {},
   "outputs": [],
   "source": []
  },
  {
   "cell_type": "markdown",
   "id": "0e5714a2",
   "metadata": {},
   "source": [
    "We can choose MSE for error measure and we write following codes to show log-log plot."
   ]
  },
  {
   "cell_type": "code",
   "execution_count": null,
   "id": "7622ef74",
   "metadata": {},
   "outputs": [],
   "source": []
  },
  {
   "cell_type": "code",
   "execution_count": 12,
   "id": "f6103198",
   "metadata": {},
   "outputs": [
    {
     "ename": "KeyboardInterrupt",
     "evalue": "",
     "output_type": "error",
     "traceback": [
      "\u001b[0;31m---------------------------------------------------------------------------\u001b[0m",
      "\u001b[0;31mKeyboardInterrupt\u001b[0m                         Traceback (most recent call last)",
      "\u001b[1;32m/Users/shenyichen/Desktop/CMF/Control/Deep-PDE-Solvers/lib/main_2.0.ipynb Cell 12\u001b[0m in \u001b[0;36m<cell line: 14>\u001b[0;34m()\u001b[0m\n\u001b[1;32m     <a href='vscode-notebook-cell:/Users/shenyichen/Desktop/CMF/Control/Deep-PDE-Solvers/lib/main_2.0.ipynb#X14sZmlsZQ%3D%3D?line=12'>13</a>\u001b[0m \u001b[39m# Loop over different numbers of time steps and compute MSE\u001b[39;00m\n\u001b[1;32m     <a href='vscode-notebook-cell:/Users/shenyichen/Desktop/CMF/Control/Deep-PDE-Solvers/lib/main_2.0.ipynb#X14sZmlsZQ%3D%3D?line=13'>14</a>\u001b[0m \u001b[39mfor\u001b[39;00m num_steps \u001b[39min\u001b[39;00m num_steps_list:\n\u001b[1;32m     <a href='vscode-notebook-cell:/Users/shenyichen/Desktop/CMF/Control/Deep-PDE-Solvers/lib/main_2.0.ipynb#X14sZmlsZQ%3D%3D?line=14'>15</a>\u001b[0m     \u001b[39m# Run Monte Carlo simulation\u001b[39;00m\n\u001b[1;32m     <a href='vscode-notebook-cell:/Users/shenyichen/Desktop/CMF/Control/Deep-PDE-Solvers/lib/main_2.0.ipynb#X14sZmlsZQ%3D%3D?line=15'>16</a>\u001b[0m     \u001b[39m# Here, we assume that the simulation returns the estimated value function as a numpy array\u001b[39;00m\n\u001b[1;32m     <a href='vscode-notebook-cell:/Users/shenyichen/Desktop/CMF/Control/Deep-PDE-Solvers/lib/main_2.0.ipynb#X14sZmlsZQ%3D%3D?line=16'>17</a>\u001b[0m     \u001b[39m# and the true value function as a dictionary with state-value pairs\u001b[39;00m\n\u001b[0;32m---> <a href='vscode-notebook-cell:/Users/shenyichen/Desktop/CMF/Control/Deep-PDE-Solvers/lib/main_2.0.ipynb#X14sZmlsZQ%3D%3D?line=17'>18</a>\u001b[0m     x_rets \u001b[39m=\u001b[39m lqr\u001b[39m.\u001b[39;49mrunMonteCarlo(num_steps, num_samples, x)\n\u001b[1;32m     <a href='vscode-notebook-cell:/Users/shenyichen/Desktop/CMF/Control/Deep-PDE-Solvers/lib/main_2.0.ipynb#X14sZmlsZQ%3D%3D?line=18'>19</a>\u001b[0m     _, x_true \u001b[39m=\u001b[39m lqr\u001b[39m.\u001b[39msolve(\u001b[39m0\u001b[39m)\n\u001b[1;32m     <a href='vscode-notebook-cell:/Users/shenyichen/Desktop/CMF/Control/Deep-PDE-Solvers/lib/main_2.0.ipynb#X14sZmlsZQ%3D%3D?line=19'>20</a>\u001b[0m     x_true \u001b[39m=\u001b[39m x_true[\u001b[39m-\u001b[39m\u001b[39m1\u001b[39m]\n",
      "\u001b[1;32m/Users/shenyichen/Desktop/CMF/Control/Deep-PDE-Solvers/lib/main_2.0.ipynb Cell 12\u001b[0m in \u001b[0;36mLQR.runMonteCarlo\u001b[0;34m(self, num_steps, num_samples, x)\u001b[0m\n\u001b[1;32m     <a href='vscode-notebook-cell:/Users/shenyichen/Desktop/CMF/Control/Deep-PDE-Solvers/lib/main_2.0.ipynb#X14sZmlsZQ%3D%3D?line=57'>58</a>\u001b[0m \u001b[39mfor\u001b[39;00m j \u001b[39min\u001b[39;00m \u001b[39mrange\u001b[39m(num_steps \u001b[39m-\u001b[39m \u001b[39m1\u001b[39m):\n\u001b[1;32m     <a href='vscode-notebook-cell:/Users/shenyichen/Desktop/CMF/Control/Deep-PDE-Solvers/lib/main_2.0.ipynb#X14sZmlsZQ%3D%3D?line=58'>59</a>\u001b[0m     increments \u001b[39m=\u001b[39m np\u001b[39m.\u001b[39mrandom\u001b[39m.\u001b[39mnormal(\u001b[39m0\u001b[39m, \u001b[39m1\u001b[39m, (\u001b[39m1\u001b[39m,\u001b[39m2\u001b[39m))\u001b[39m.\u001b[39mT\n\u001b[0;32m---> <a href='vscode-notebook-cell:/Users/shenyichen/Desktop/CMF/Control/Deep-PDE-Solvers/lib/main_2.0.ipynb#X14sZmlsZQ%3D%3D?line=59'>60</a>\u001b[0m     _, S_tn \u001b[39m=\u001b[39m \u001b[39mself\u001b[39;49m\u001b[39m.\u001b[39;49msolve(ts[j])\n\u001b[1;32m     <a href='vscode-notebook-cell:/Users/shenyichen/Desktop/CMF/Control/Deep-PDE-Solvers/lib/main_2.0.ipynb#X14sZmlsZQ%3D%3D?line=60'>61</a>\u001b[0m     S_tn \u001b[39m=\u001b[39m S_tn[\u001b[39m-\u001b[39m\u001b[39m1\u001b[39m]\n\u001b[1;32m     <a href='vscode-notebook-cell:/Users/shenyichen/Desktop/CMF/Control/Deep-PDE-Solvers/lib/main_2.0.ipynb#X14sZmlsZQ%3D%3D?line=61'>62</a>\u001b[0m     cur_x \u001b[39m=\u001b[39m cur_x \u001b[39m+\u001b[39m dt \u001b[39m*\u001b[39m (\u001b[39mself\u001b[39m\u001b[39m.\u001b[39mH \u001b[39m@\u001b[39m cur_x \u001b[39m-\u001b[39m \u001b[39mself\u001b[39m\u001b[39m.\u001b[39mM \u001b[39m@\u001b[39m \u001b[39mself\u001b[39m\u001b[39m.\u001b[39mD \u001b[39m@\u001b[39m S_tn \u001b[39m@\u001b[39m cur_x) \u001b[39m+\u001b[39m \u001b[39mself\u001b[39m\u001b[39m.\u001b[39msigma \u001b[39m@\u001b[39m increments\n",
      "\u001b[1;32m/Users/shenyichen/Desktop/CMF/Control/Deep-PDE-Solvers/lib/main_2.0.ipynb Cell 12\u001b[0m in \u001b[0;36mLQR.solve\u001b[0;34m(self, t, t_eval)\u001b[0m\n\u001b[1;32m     <a href='vscode-notebook-cell:/Users/shenyichen/Desktop/CMF/Control/Deep-PDE-Solvers/lib/main_2.0.ipynb#X14sZmlsZQ%3D%3D?line=20'>21</a>\u001b[0m     t \u001b[39m=\u001b[39m \u001b[39m0\u001b[39m\n\u001b[1;32m     <a href='vscode-notebook-cell:/Users/shenyichen/Desktop/CMF/Control/Deep-PDE-Solvers/lib/main_2.0.ipynb#X14sZmlsZQ%3D%3D?line=21'>22</a>\u001b[0m \u001b[39mif\u001b[39;00m t_eval \u001b[39mis\u001b[39;00m \u001b[39mNone\u001b[39;00m:\n\u001b[0;32m---> <a href='vscode-notebook-cell:/Users/shenyichen/Desktop/CMF/Control/Deep-PDE-Solvers/lib/main_2.0.ipynb#X14sZmlsZQ%3D%3D?line=22'>23</a>\u001b[0m     t_eval \u001b[39m=\u001b[39m np\u001b[39m.\u001b[39;49mlinspace(\u001b[39mself\u001b[39;49m\u001b[39m.\u001b[39;49mT, t, \u001b[39m101\u001b[39;49m)\n\u001b[1;32m     <a href='vscode-notebook-cell:/Users/shenyichen/Desktop/CMF/Control/Deep-PDE-Solvers/lib/main_2.0.ipynb#X14sZmlsZQ%3D%3D?line=23'>24</a>\u001b[0m sol \u001b[39m=\u001b[39m solve_ivp(matrix_riccati_ode, (\u001b[39mself\u001b[39m\u001b[39m.\u001b[39mT, t), \u001b[39mself\u001b[39m\u001b[39m.\u001b[39mR\u001b[39m.\u001b[39mreshape(\u001b[39m-\u001b[39m\u001b[39m1\u001b[39m), t_eval \u001b[39m=\u001b[39m t_eval, method\u001b[39m=\u001b[39m\u001b[39m'\u001b[39m\u001b[39mRK45\u001b[39m\u001b[39m'\u001b[39m, args\u001b[39m=\u001b[39m(\u001b[39mself\u001b[39m\u001b[39m.\u001b[39mH, \u001b[39mself\u001b[39m\u001b[39m.\u001b[39mM, D_inv, \u001b[39mself\u001b[39m\u001b[39m.\u001b[39mC))\n\u001b[1;32m     <a href='vscode-notebook-cell:/Users/shenyichen/Desktop/CMF/Control/Deep-PDE-Solvers/lib/main_2.0.ipynb#X14sZmlsZQ%3D%3D?line=24'>25</a>\u001b[0m \u001b[39mreturn\u001b[39;00m sol\u001b[39m.\u001b[39mt, sol\u001b[39m.\u001b[39my\u001b[39m.\u001b[39mreshape((\u001b[39m-\u001b[39m\u001b[39m1\u001b[39m, \u001b[39mself\u001b[39m\u001b[39m.\u001b[39mH\u001b[39m.\u001b[39mshape[\u001b[39m0\u001b[39m], \u001b[39mself\u001b[39m\u001b[39m.\u001b[39mH\u001b[39m.\u001b[39mshape[\u001b[39m1\u001b[39m]))\n",
      "File \u001b[0;32m<__array_function__ internals>:5\u001b[0m, in \u001b[0;36mlinspace\u001b[0;34m(*args, **kwargs)\u001b[0m\n",
      "File \u001b[0;32m~/opt/anaconda3/lib/python3.9/site-packages/numpy/core/function_base.py:127\u001b[0m, in \u001b[0;36mlinspace\u001b[0;34m(start, stop, num, endpoint, retstep, dtype, axis)\u001b[0m\n\u001b[1;32m    123\u001b[0m div \u001b[39m=\u001b[39m (num \u001b[39m-\u001b[39m \u001b[39m1\u001b[39m) \u001b[39mif\u001b[39;00m endpoint \u001b[39melse\u001b[39;00m num\n\u001b[1;32m    125\u001b[0m \u001b[39m# Convert float/complex array scalars to float, gh-3504\u001b[39;00m\n\u001b[1;32m    126\u001b[0m \u001b[39m# and make sure one can use variables that have an __array_interface__, gh-6634\u001b[39;00m\n\u001b[0;32m--> 127\u001b[0m start \u001b[39m=\u001b[39m asanyarray(start) \u001b[39m*\u001b[39;49m \u001b[39m1.0\u001b[39;49m\n\u001b[1;32m    128\u001b[0m stop  \u001b[39m=\u001b[39m asanyarray(stop)  \u001b[39m*\u001b[39m \u001b[39m1.0\u001b[39m\n\u001b[1;32m    130\u001b[0m dt \u001b[39m=\u001b[39m result_type(start, stop, \u001b[39mfloat\u001b[39m(num))\n",
      "\u001b[0;31mKeyboardInterrupt\u001b[0m: "
     ]
    }
   ],
   "source": [
    "\n",
    "\n",
    "# Set number of Monte Carlo samples\n",
    "num_samples = 10**5\n",
    "\n",
    "# Set different numbers of time steps to simulate\n",
    "num_steps_list = [1, 10, 50, 100, 500, 1000, 5000]\n",
    "\n",
    "# Initialize list to store MSE for each number of time steps\n",
    "mse_list = []\n",
    "\n",
    "# initial value of x\n",
    "x = [1, 2]\n",
    "\n",
    "# Loop over different numbers of time steps and compute MSE\n",
    "for num_steps in num_steps_list:\n",
    "    # Run Monte Carlo simulation\n",
    "    # Here, we assume that the simulation returns the estimated value function as a numpy array\n",
    "    # and the true value function as a dictionary with state-value pairs\n",
    "    x_rets = lqr.runMonteCarlo(num_steps, num_samples, x)\n",
    "    _, x_true = lqr.solve(0)\n",
    "    x_true = x_true[-1]\n",
    "    \n",
    "    # Compute MSE\n",
    "    mse = np.mean([np.linalg.norm(x_ret - x_true)**2 for x_ret in x_rets])\n",
    "    \n",
    "    # Append MSE to list\n",
    "    mse_list.append(mse)\n",
    "\n",
    "\n",
    "plt.loglog(num_steps_list, mse_list, '-o')\n",
    "plt.xlabel('Number of time steps')\n",
    "plt.ylabel('Mean squared error')\n",
    "plt.show()\n"
   ]
  },
  {
   "cell_type": "code",
   "execution_count": null,
   "id": "5eb79410",
   "metadata": {},
   "outputs": [],
   "source": [
    "# Set number of Monte Carlo samples\n",
    "num_samples_list = [10, 50, 100, 500, 1000, 5000, 10000, 50000, 100000]\n",
    "\n",
    "# Set different numbers of time steps to simulate\n",
    "num_steps = 5000\n",
    "\n",
    "# Initialize list to store MSE for each number of time steps\n",
    "mse_list = []\n",
    "\n",
    "# initial value of x\n",
    "x = [1, 2]\n",
    "\n",
    "# Loop over different numbers of time steps and compute MSE\n",
    "for num_samples in num_samples_list:\n",
    "    # Run Monte Carlo simulation\n",
    "    # Here, we assume that the simulation returns the estimated value function as a numpy array\n",
    "    # and the true value function as a dictionary with state-value pairs\n",
    "    x_rets = lqr.runMonteCarlo(num_steps, num_samples, x)\n",
    "    _, x_true = lqr.solve(0)\n",
    "    x_true = x_true[-1]\n",
    "    \n",
    "    # Compute MSE\n",
    "    mse = np.mean([np.linalg.norm(x_ret - x_true)**2 for x_ret in x_rets])\n",
    "    \n",
    "    # Append MSE to list\n",
    "    mse_list.append(mse)\n",
    "\n",
    "\n",
    "plt.loglog(num_steps_list, mse_list, '-o')\n",
    "plt.xlabel('Number of samples')\n",
    "plt.ylabel('Mean squared error')\n",
    "plt.show()\n"
   ]
  },
  {
   "cell_type": "code",
   "execution_count": null,
   "id": "84f0d63a",
   "metadata": {},
   "outputs": [],
   "source": []
  },
  {
   "cell_type": "markdown",
   "id": "e147471f",
   "metadata": {},
   "source": [
    "Exercise 2"
   ]
  },
  {
   "cell_type": "code",
   "execution_count": 13,
   "id": "43475ad3",
   "metadata": {},
   "outputs": [],
   "source": [
    "import torch\n",
    "from torch import nn, optim\n",
    "import numpy as np\n",
    "from tqdm import tqdm\n",
    "\n",
    "class DGM_Layer(nn.Module):\n",
    "    \n",
    "    def __init__(self, dim_x, dim_S, activation='Tanh'):\n",
    "        super(DGM_Layer, self).__init__()\n",
    "        \n",
    "        if activation == 'ReLU':\n",
    "            self.activation = nn.ReLU()\n",
    "        elif activation == 'Tanh':\n",
    "            self.activation = nn.Tanh()\n",
    "        elif activation == 'Sigmoid':\n",
    "            self.activation = nn.Sigmoid()\n",
    "        elif activation == 'LogSigmoid':\n",
    "            self.activation = nn.LogSigmoid()\n",
    "        else:\n",
    "            raise ValueError(\"Unknown activation function {}\".format(activation))\n",
    "            \n",
    "\n",
    "        self.gate_Z = self.layer(dim_x+dim_S, dim_S)\n",
    "        self.gate_G = self.layer(dim_x+dim_S, dim_S)\n",
    "        self.gate_R = self.layer(dim_x+dim_S, dim_S)\n",
    "        self.gate_H = self.layer(dim_x+dim_S, dim_S)\n",
    "            \n",
    "    def layer(self, nIn, nOut):\n",
    "        l = nn.Sequential(nn.Linear(nIn, nOut), self.activation)\n",
    "        return l\n",
    "    \n",
    "    def forward(self, x, S):\n",
    "        x_S = torch.cat([x,S],1)\n",
    "        Z = self.gate_Z(x_S)\n",
    "        G = self.gate_G(x_S)\n",
    "        R = self.gate_R(x_S)\n",
    "        \n",
    "        input_gate_H = torch.cat([x, S*R],1)\n",
    "        H = self.gate_H(input_gate_H)\n",
    "        \n",
    "        output = ((1-G))*H + Z*S\n",
    "        return output\n",
    "\n",
    "\n",
    "class Net_DGM(nn.Module):\n",
    "\n",
    "    def __init__(self, dim_x, dim_S, activation='Tanh'):\n",
    "        \"\"\"\n",
    "        dim_x is the dimension of the input tensor,\n",
    "        dim_S is the number of hidden units in each of the three DGM_Layer objects,\n",
    "        activation is the activation function used in the hidden layers, which can be ReLU, Tanh, Sigmoid, or LogSigmoid.\n",
    "        The constructor initializes the class variables using the arguments, and creates the layers of the neural network.\n",
    "        \"\"\"\n",
    "        super(Net_DGM, self).__init__()\n",
    "      \n",
    "        self.dim = dim_x\n",
    "        if activation == 'ReLU':\n",
    "            self.activation = nn.ReLU()\n",
    "        elif activation == 'Tanh':\n",
    "            self.activation = nn.Tanh()\n",
    "        elif activation == 'Sigmoid':\n",
    "            self.activation = nn.Sigmoid()\n",
    "        elif activation == 'LogSigmoid':\n",
    "            self.activation = nn.LogSigmoid()\n",
    "        else:\n",
    "            raise ValueError(\"Unknown activation function {}\".format(activation))\n",
    "\n",
    "        self.input_layer = nn.Sequential(nn.Linear(dim_x+1, dim_S), self.activation)\n",
    "        # The input_layer is a linear layer followed by an activation function, which takes a concatenation of t and x as input\n",
    "        self.DGM1 = DGM_Layer(dim_x=dim_x+1, dim_S=dim_S, activation=activation)\n",
    "        self.DGM2 = DGM_Layer(dim_x=dim_x+1, dim_S=dim_S, activation=activation)\n",
    "        self.DGM3 = DGM_Layer(dim_x=dim_x+1, dim_S=dim_S, activation=activation)\n",
    "        \"\"\"\n",
    "        DGM1, DGM2, and DGM3 are three layers of the Deep Gaussian Process (DGP) model. \n",
    "        They are initialized with \n",
    "        dim_x+1 as input dimension (where the +1 accounts for the time input t), \n",
    "        dim_S as output dimension, and the activation function specified in the constructor.\n",
    "        \"\"\"\n",
    "        self.output_layer = nn.Linear(dim_S, 1)\n",
    "        # The output_layer is a linear layer that takes the output from the last DGM layer as input and produces a single output value.\n",
    "        \n",
    "    def forward(self,t,x):\n",
    "        tx = torch.cat([t,x], 1)\n",
    "        S1 = self.input_layer(tx)\n",
    "        S2 = self.DGM1(tx,S1)\n",
    "        S3 = self.DGM2(tx,S2)\n",
    "        S4 = self.DGM3(tx,S3)\n",
    "        output = self.output_layer(S4)\n",
    "        return output\n",
    "\n",
    "        \"\"\" \n",
    "        The forward method defines the forward pass of the neural network, which takes two input tensors t and x and returns a single output tensor.\n",
    "        t and x are concatenated along the second dimension using torch.cat to create a single input tensor.\n",
    "        This input tensor is then passed through the input_layer to obtain S1, which is then passed through DGM1, DGM2, and DGM3 to obtain S4.\n",
    "        Finally, S4 is passed through the output_layer to obtain the output of the neural network, which is returned.\n",
    "\n",
    "        \"\"\""
   ]
  },
  {
   "cell_type": "code",
   "execution_count": 14,
   "id": "03e39dfa",
   "metadata": {},
   "outputs": [
    {
     "name": "stderr",
     "output_type": "stream",
     "text": [
      "  0%|          | 0/10000 [00:00<?, ?it/s]/var/folders/30/5npdvf4d7mb7d1df8ndd9dmm0000gn/T/ipykernel_99859/4034920402.py:22: UserWarning: To copy construct from a tensor, it is recommended to use sourceTensor.clone().detach() or sourceTensor.clone().detach().requires_grad_(True), rather than torch.tensor(sourceTensor).\n",
      "  y_true = torch.tensor(lqr.getValue(torch.tensor([t]), torch.tensor([[x]], dtype=torch.float32)))\n",
      "100%|██████████| 10000/10000 [00:58<00:00, 170.88it/s]\n"
     ]
    }
   ],
   "source": [
    "T = 1 # time horizon\n",
    "hidden_size = 100 # hidden layer size = 100\n",
    "lr = 0.01 # the learning rate for the optimizer\n",
    "num_epochs = 10000 # the number of iterations the optimizer will perform to train the neural network\n",
    "\n",
    "net = Net_DGM(2, hidden_size)\n",
    "# neural network is defined using the Net_DGM class with input dimension of 2 \n",
    "\n",
    "optimizer = optim.Adam(net.parameters(), lr=lr)\n",
    "# initializes the Adam optimizer with the learning rate lr and the parameters of the neural network net. \n",
    "# The net.parameters() method returns an iterable of all the trainable parameters in the neural network net. \n",
    "\n",
    "criterion = nn.MSELoss()\n",
    "# The mean squared error (MSE) loss function is defined using the nn.MSELoss() class.\n",
    "losses = []\n",
    "for epoch in tqdm(range(num_epochs)):\n",
    "    #  t is a randomly selected value between 0 and T, which can be used as a time parameter for some stochastic process.\n",
    "    t = np.random.uniform(0, T)\n",
    "    # Two random numbers between -3 and 3 are generated and stored in the list x\n",
    "    x = [np.random.uniform(-3, 3), np.random.uniform(-3, 3)]\n",
    "    # An LQR object is created\n",
    "    lqr = LQR(H, M, sigma, C, R, D, 1)\n",
    "\n",
    "    # true value of the solution to the LQR problem\n",
    "    y_true = torch.tensor(lqr.getValue(torch.tensor([t]), torch.tensor([[x]], dtype=torch.float32)))\n",
    "    # optimizer's gradient is reset to zero\n",
    "    optimizer.zero_grad()\n",
    "    \n",
    "    y_pred = net(torch.tensor([[t]], dtype=torch.float32), torch.tensor([x]))\n",
    "    loss = criterion(y_pred, y_true)\n",
    "    loss.backward()\n",
    "    optimizer.step()\n",
    "    losses.append(loss.item())\n"
   ]
  },
  {
   "cell_type": "code",
   "execution_count": 15,
   "id": "0e8a5f90",
   "metadata": {},
   "outputs": [
    {
     "data": {
      "image/png": "[encoded data removed]",
      "text/plain": [
       "<Figure size 432x288 with 1 Axes>"
      ]
     },
     "metadata": {
      "needs_background": "light"
     },
     "output_type": "display_data"
    }
   ],
   "source": [
    "plt.plot(losses, '-')\n",
    "plt.xlabel('Epoch')\n",
    "plt.ylabel('MSE Loss')\n",
    "plt.show()"
   ]
  },
  {
   "cell_type": "code",
   "execution_count": 16,
   "id": "18053401",
   "metadata": {},
   "outputs": [],
   "source": [
    "class FFN(nn.Module):\n",
    "\n",
    "    def __init__(self, sizes, activation=nn.ReLU, output_activation=nn.Identity, batch_norm=False):\n",
    "        super().__init__()\n",
    "        \n",
    "        layers = [nn.BatchNorm1d(sizes[0]),] if batch_norm else []\n",
    "        for j in range(len(sizes)-1):\n",
    "            layers.append(nn.Linear(sizes[j], sizes[j+1]))\n",
    "            if batch_norm:\n",
    "                layers.append(nn.BatchNorm1d(sizes[j+1], affine=True))\n",
    "            if j<(len(sizes)-2):\n",
    "                layers.append(activation())\n",
    "            else:\n",
    "                layers.append(output_activation())\n",
    "\n",
    "        self.net = nn.Sequential(*layers)\n",
    "\n",
    "    def freeze(self):\n",
    "        for p in self.parameters():\n",
    "            p.requires_grad=False\n",
    "\n",
    "    def unfreeze(self):\n",
    "        for p in self.parameters():\n",
    "            p.requires_grad=True\n",
    "\n",
    "    def forward(self, x):\n",
    "        return self.net(x)"
   ]
  },
  {
   "cell_type": "code",
   "execution_count": 8,
   "id": "7ef1271b",
   "metadata": {},
   "outputs": [
    {
     "name": "stderr",
     "output_type": "stream",
     "text": [
      "  0%|                                                                                        | 0/10000 [00:00<?, ?it/s]C:\\Users\\jsbhq\\AppData\\Local\\Temp\\ipykernel_7784\\792609944.py:10: UserWarning: To copy construct from a tensor, it is recommended to use sourceTensor.clone().detach() or sourceTensor.clone().detach().requires_grad_(True), rather than torch.tensor(sourceTensor).\n",
      "  y_true = torch.tensor(lqr.getValue(torch.tensor([t]), torch.tensor([[x]], dtype=torch.float32)))\n",
      "C:\\Users\\jsbhq\\.conda\\envs\\dev\\lib\\site-packages\\torch\\nn\\modules\\loss.py:536: UserWarning: Using a target size (torch.Size([1, 1])) that is different to the input size (torch.Size([1, 2])). This will likely lead to incorrect results due to broadcasting. Please ensure they have the same size.\n",
      "  return F.mse_loss(input, target, reduction=self.reduction)\n",
      "100%|████████████████████████████████████████████████████████████████████████████| 10000/10000 [01:52<00:00, 89.11it/s]\n"
     ]
    }
   ],
   "source": [
    "net = FFN([3, 100, 100, 2])\n",
    "optimizer = optim.Adam(net.parameters(), lr=lr)\n",
    "criterion = nn.MSELoss()\n",
    "\n",
    "losses = []\n",
    "for epoch in tqdm(range(num_epochs)):\n",
    "    t = np.random.uniform(0, T)\n",
    "    x = [np.random.uniform(-3, 3), np.random.uniform(-3, 3)]\n",
    "    lqr = LQR(H, M, sigma, C, R, D, 1)\n",
    "    y_true = torch.tensor(lqr.getValue(torch.tensor([t]), torch.tensor([[x]], dtype=torch.float32)))\n",
    "    optimizer.zero_grad()\n",
    "    tx = torch.cat([torch.tensor([[t]], dtype=torch.float32), torch.tensor([x])], 1)\n",
    "    y_pred = net(tx)\n",
    "    loss = criterion(y_pred, y_true)\n",
    "    loss.backward()\n",
    "    optimizer.step()\n",
    "    losses.append(loss.item())"
   ]
  },
  {
   "cell_type": "code",
   "execution_count": 9,
   "id": "5229aacb",
   "metadata": {},
   "outputs": [
    {
     "data": {
      "image/png": "[encoded data removed]",
      "text/plain": [
       "<Figure size 640x480 with 1 Axes>"
      ]
     },
     "metadata": {},
     "output_type": "display_data"
    }
   ],
   "source": [
    "plt.plot(losses, '-')\n",
    "plt.xlabel('Epoch')\n",
    "plt.ylabel('MSE Loss')\n",
    "plt.show()"
   ]
  },
  {
   "cell_type": "markdown",
   "id": "07896db2",
   "metadata": {},
   "source": [
    "Re-write"
   ]
  },
  {
   "cell_type": "code",
   "execution_count": 17,
   "id": "5f64c39f",
   "metadata": {},
   "outputs": [
    {
     "name": "stderr",
     "output_type": "stream",
     "text": [
      "  0%|          | 0/10000 [00:00<?, ?it/s]/var/folders/30/5npdvf4d7mb7d1df8ndd9dmm0000gn/T/ipykernel_99859/1686856143.py:22: UserWarning: To copy construct from a tensor, it is recommended to use sourceTensor.clone().detach() or sourceTensor.clone().detach().requires_grad_(True), rather than torch.tensor(sourceTensor).\n",
      "  y_true = torch.tensor(lqr.getValue(torch.tensor([t]), torch.tensor([[x]], dtype=torch.float32)))\n",
      "100%|██████████| 10000/10000 [01:01<00:00, 163.55it/s]\n"
     ]
    }
   ],
   "source": [
    "T = 1 # time horizon\n",
    "hidden_size = 100 # hidden layer size = 100\n",
    "lr = 0.01 # the learning rate for the optimizer\n",
    "num_epochs = 10000 # the number of iterations the optimizer will perform to train the neural network\n",
    "\n",
    "net = Net_DGM(2, hidden_size)\n",
    "# neural network is defined using the Net_DGM class with input dimension of 2 \n",
    "\n",
    "optimizer = optim.Adam(net.parameters(), lr=lr)\n",
    "# initializes the Adam optimizer with the learning rate lr and the parameters of the neural network net. \n",
    "# The net.parameters() method returns an iterable of all the trainable parameters in the neural network net. \n",
    "\n",
    "criterion = nn.MSELoss()\n",
    "# The mean squared error (MSE) loss function is defined using the nn.MSELoss() class.\n",
    "losses = []\n",
    "for epoch in tqdm(range(num_epochs)):\n",
    "    #  t is a randomly selected value between 0 and T, which can be used as a time parameter for some stochastic process.\n",
    "    t = np.random.uniform(0, T)\n",
    "    \n",
    "    x = [np.random.uniform(-3, 3), np.random.uniform(3, 3)]\n",
    "    lqr = LQR(H, M, sigma, C, R, D, 1)\n",
    "    y_true = torch.tensor(lqr.getValue(torch.tensor([t]), torch.tensor([[x]], dtype=torch.float32)))\n",
    "    optimizer.zero_grad()\n",
    "    y_pred = net(torch.tensor([[t]], dtype=torch.float32), torch.tensor([x]))\n",
    "    loss = criterion(y_pred, y_true)\n",
    "    loss.backward()\n",
    "    optimizer.step()\n",
    "    losses.append(loss.item())"
   ]
  },
  {
   "cell_type": "code",
   "execution_count": 18,
   "id": "3a772271",
   "metadata": {},
   "outputs": [
    {
     "data": {
      "image/png": "[encoded data removed]",
      "text/plain": [
       "<Figure size 432x288 with 1 Axes>"
      ]
     },
     "metadata": {
      "needs_background": "light"
     },
     "output_type": "display_data"
    }
   ],
   "source": [
    "plt.plot(losses, '-')\n",
    "plt.xlabel('Epoch')\n",
    "plt.ylabel('MSE Loss')\n",
    "plt.show()"
   ]
  },
  {
   "cell_type": "code",
   "execution_count": null,
   "id": "2ee55d98",
   "metadata": {},
   "outputs": [],
   "source": []
  },
  {
   "cell_type": "code",
   "execution_count": null,
   "id": "ad37ef24",
   "metadata": {},
   "outputs": [],
   "source": []
  }
 ],
 "metadata": {
  "kernelspec": {
   "display_name": "Python 3.9.12 ('base')",
   "language": "python",
   "name": "python3"
  },
  "language_info": {
   "codemirror_mode": {
    "name": "ipython",
    "version": 3
   },
   "file_extension": ".py",
   "mimetype": "text/x-python",
   "name": "python",
   "nbconvert_exporter": "python",
   "pygments_lexer": "ipython3",
   "version": "3.9.12"
  },
  "vscode": {
   "interpreter": {
    "hash": "f695691c7675195da2229e392149ef068beb920cff0b2fc3ea04696403466e06"
   }
  }
 },
 "nbformat": 4,
 "nbformat_minor": 5
}
