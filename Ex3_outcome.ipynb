{
 "cells": [
  {
   "cell_type": "code",
   "execution_count": 1,
   "id": "0ee37bf4",
   "metadata": {},
   "outputs": [],
   "source": [
    "import numpy as np\n",
    "from scipy.integrate import solve_ivp\n",
    "import os\n",
    "import matplotlib.pyplot as plt\n",
    "import torch\n",
    "os.environ[\"KMP_DUPLICATE_LIB_OK\"]=\"TRUE\""
   ]
  },
  {
   "cell_type": "code",
   "execution_count": 2,
   "id": "d1eea7d5",
   "metadata": {},
   "outputs": [],
   "source": [
    "import warnings\n",
    "warnings.filterwarnings('ignore')"
   ]
  },
  {
   "cell_type": "code",
   "execution_count": 3,
   "id": "695ad1c9",
   "metadata": {},
   "outputs": [],
   "source": [
    "\n",
    "def matrix_riccati_ode(t, S, H, M, D_inv, C):\n",
    "    S = S.reshape((H.shape[0], H.shape[1]))\n",
    "    dS_dt = -2 * H.T @ S + S @ M @ D_inv @ M.T @ S - C\n",
    "    return dS_dt.reshape(-1)\n",
    "\n",
    "class LQR:\n",
    "    def __init__(self, H, M, sigma, C, R, D, T):\n",
    "        self.H = H\n",
    "        self.M = M\n",
    "        self.sigma = sigma\n",
    "        self.C = C\n",
    "        self.R = R\n",
    "        self.D = D\n",
    "        self.T = T\n",
    "\n",
    "    def solve(self, t, t_eval = None):\n",
    "        D_inv = np.linalg.inv(self.D)\n",
    "        if t == self.T:\n",
    "            return None, None\n",
    "        if t is None:\n",
    "            t = 0\n",
    "        if t_eval is None:\n",
    "            t_eval = np.linspace(self.T, t, 101)\n",
    "        sol = solve_ivp(matrix_riccati_ode, (self.T, t), self.R.reshape(-1), t_eval = t_eval, method='RK45', args=(self.H, self.M, D_inv, self.C))\n",
    "        return sol.t, sol.y.reshape((-1, self.H.shape[0], self.H.shape[1]))  # Reshape solution to matrix form\n",
    "\n",
    "    def getValue(self, ts, data):\n",
    "        batch_size = data.shape[0]\n",
    "        values = torch.zeros((batch_size, 1))\n",
    "        for i in range(batch_size):\n",
    "            t = ts[i]\n",
    "            x = data[i][0].numpy()\n",
    "            n = 101\n",
    "            ts, sols = self.solve(t, np.linspace(self.T, t, n))\n",
    "            values[i][0] = x.T @ sols[-1] @ x\n",
    "            for sol in sols:\n",
    "                values[i][0] += abs(self.T - t) / n * np.trace(self.sigma @ self.sigma.T @ sol)\n",
    "        return values\n",
    "\n",
    "    def getMarkovControl(self, ts, data):\n",
    "        batch_size = data.shape[0]\n",
    "        values = torch.zeros((batch_size, 2))\n",
    "        for i in range(batch_size):\n",
    "            t = ts[i]\n",
    "            x = data[i][0].numpy()\n",
    "            n = 101\n",
    "            ts, sols = self.solve(t, np.linspace(self.T, t, n))\n",
    "            values[i] = torch.from_numpy(-self.D @ self.M.T @ sols[-1] @ x)\n",
    "        return values\n",
    "\n",
    "    \n",
    "    def runMonteCarlo(self, num_steps, num_samples, x):\n",
    "        res = []\n",
    "        dt = self.T / num_steps\n",
    "        ts = np.linspace(0, self.T, num_steps)\n",
    "        for i in range(num_samples):\n",
    "            cur_x = np.array(x).reshape(-1,1)\n",
    "            for j in range(num_steps - 1):\n",
    "                increments = np.random.normal(0, 1, (1,2)).T\n",
    "                _, S_tn = self.solve(ts[j])\n",
    "                S_tn = S_tn[-1]\n",
    "                cur_x = cur_x + dt * (self.H @ cur_x - self.M @ self.D @ S_tn @ cur_x) + self.sigma @ increments\n",
    "            res.append(cur_x)\n",
    "        return res\n"
   ]
  },
  {
   "cell_type": "code",
   "execution_count": 4,
   "id": "b6b2a608",
   "metadata": {
    "pycharm": {
     "is_executing": true
    }
   },
   "outputs": [],
   "source": [
    "# Example usage:\n",
    "H = np.array([[0, 1], [0, 0]])\n",
    "M = np.array([[1, 0], [0, 1]])\n",
    "D = np.array([[1, 0], [0, 1]])\n",
    "T = 10\n",
    "R = np.array([[1, 0], [0, 1]])\n",
    "C = np.array([[0, 0], [0, 0]])\n",
    "sigma = np.array([[0.2, 0], [0, 0.4]])\n",
    "lqr = LQR(H, M, sigma, C, R, D, T)\n",
    "\n",
    "t, p = lqr.solve(1, [10, 9, 8,7,6,5,4,3,2,1])"
   ]
  },
  {
   "cell_type": "code",
   "execution_count": 5,
   "id": "e36d9e70",
   "metadata": {},
   "outputs": [],
   "source": [
    "ts = torch.tensor([1, 2])\n",
    "x = torch.tensor([[[2,1]], [[3,2]]])"
   ]
  },
  {
   "cell_type": "code",
   "execution_count": 6,
   "id": "8f62440d",
   "metadata": {},
   "outputs": [
    {
     "name": "stdout",
     "output_type": "stream",
     "text": [
      "(10,)\n"
     ]
    }
   ],
   "source": [
    "print(t.shape)"
   ]
  },
  {
   "cell_type": "code",
   "execution_count": 7,
   "id": "2b102092",
   "metadata": {},
   "outputs": [
    {
     "data": {
      "text/plain": [
       "tensor([[ 1.5519],\n",
       "        [22.9790]])"
      ]
     },
     "execution_count": 7,
     "metadata": {},
     "output_type": "execute_result"
    }
   ],
   "source": [
    "lqr.getValue(ts, x)"
   ]
  },
  {
   "cell_type": "code",
   "execution_count": 8,
   "id": "d88e215c",
   "metadata": {},
   "outputs": [
    {
     "data": {
      "text/plain": [
       "tensor([[-0.3080, -0.3024],\n",
       "        [-4.5970, -4.5894]])"
      ]
     },
     "execution_count": 8,
     "metadata": {},
     "output_type": "execute_result"
    }
   ],
   "source": [
    "lqr.getMarkovControl(ts, x)"
   ]
  },
  {
   "cell_type": "markdown",
   "id": "68b70289",
   "metadata": {},
   "source": [
    "From the above code, we define the class LQR with attribute 'H, M, sigma, C, R, D, T', which is mentioned in the definition of LQR. The class has three methods - solve, getValue, getMarkovControl. 'Solve' will solve the associated Ricatti ODE on a time grid. 'getValue' will return the control problem value $v(t,x)$. 'getMarkovControl' will return the Markov control function."
   ]
  },
  {
   "cell_type": "code",
   "execution_count": null,
   "id": "7ac5f4d1",
   "metadata": {},
   "outputs": [],
   "source": []
  },
  {
   "cell_type": "markdown",
   "id": "0e5714a2",
   "metadata": {},
   "source": [
    "We can choose MSE for error measure and we write following codes to show log-log plot."
   ]
  },
  {
   "cell_type": "code",
   "execution_count": null,
   "id": "7622ef74",
   "metadata": {},
   "outputs": [],
   "source": []
  },
  {
   "cell_type": "code",
   "execution_count": 9,
   "id": "f6103198",
   "metadata": {},
   "outputs": [
    {
     "ename": "KeyboardInterrupt",
     "evalue": "",
     "output_type": "error",
     "traceback": [
      "\u001b[1;31m---------------------------------------------------------------------------\u001b[0m",
      "\u001b[1;31mKeyboardInterrupt\u001b[0m                         Traceback (most recent call last)",
      "Input \u001b[1;32mIn [9]\u001b[0m, in \u001b[0;36m<cell line: 14>\u001b[1;34m()\u001b[0m\n\u001b[0;32m     13\u001b[0m \u001b[38;5;66;03m# Loop over different numbers of time steps and compute MSE\u001b[39;00m\n\u001b[0;32m     14\u001b[0m \u001b[38;5;28;01mfor\u001b[39;00m num_steps \u001b[38;5;129;01min\u001b[39;00m num_steps_list:\n\u001b[0;32m     15\u001b[0m     \u001b[38;5;66;03m# Run Monte Carlo simulation\u001b[39;00m\n\u001b[0;32m     16\u001b[0m     \u001b[38;5;66;03m# Here, we assume that the simulation returns the estimated value function as a numpy array\u001b[39;00m\n\u001b[0;32m     17\u001b[0m     \u001b[38;5;66;03m# and the true value function as a dictionary with state-value pairs\u001b[39;00m\n\u001b[1;32m---> 18\u001b[0m     x_rets \u001b[38;5;241m=\u001b[39m \u001b[43mlqr\u001b[49m\u001b[38;5;241;43m.\u001b[39;49m\u001b[43mrunMonteCarlo\u001b[49m\u001b[43m(\u001b[49m\u001b[43mnum_steps\u001b[49m\u001b[43m,\u001b[49m\u001b[43m \u001b[49m\u001b[43mnum_samples\u001b[49m\u001b[43m,\u001b[49m\u001b[43m \u001b[49m\u001b[43mx\u001b[49m\u001b[43m)\u001b[49m\n\u001b[0;32m     19\u001b[0m     _, x_true \u001b[38;5;241m=\u001b[39m lqr\u001b[38;5;241m.\u001b[39msolve(\u001b[38;5;241m0\u001b[39m)\n\u001b[0;32m     20\u001b[0m     x_true \u001b[38;5;241m=\u001b[39m x_true[\u001b[38;5;241m-\u001b[39m\u001b[38;5;241m1\u001b[39m]\n",
      "Input \u001b[1;32mIn [3]\u001b[0m, in \u001b[0;36mLQR.runMonteCarlo\u001b[1;34m(self, num_steps, num_samples, x)\u001b[0m\n\u001b[0;32m     58\u001b[0m \u001b[38;5;28;01mfor\u001b[39;00m j \u001b[38;5;129;01min\u001b[39;00m \u001b[38;5;28mrange\u001b[39m(num_steps \u001b[38;5;241m-\u001b[39m \u001b[38;5;241m1\u001b[39m):\n\u001b[0;32m     59\u001b[0m     increments \u001b[38;5;241m=\u001b[39m np\u001b[38;5;241m.\u001b[39mrandom\u001b[38;5;241m.\u001b[39mnormal(\u001b[38;5;241m0\u001b[39m, \u001b[38;5;241m1\u001b[39m, (\u001b[38;5;241m1\u001b[39m,\u001b[38;5;241m2\u001b[39m))\u001b[38;5;241m.\u001b[39mT\n\u001b[1;32m---> 60\u001b[0m     _, S_tn \u001b[38;5;241m=\u001b[39m \u001b[38;5;28;43mself\u001b[39;49m\u001b[38;5;241;43m.\u001b[39;49m\u001b[43msolve\u001b[49m\u001b[43m(\u001b[49m\u001b[43mts\u001b[49m\u001b[43m[\u001b[49m\u001b[43mj\u001b[49m\u001b[43m]\u001b[49m\u001b[43m)\u001b[49m\n\u001b[0;32m     61\u001b[0m     S_tn \u001b[38;5;241m=\u001b[39m S_tn[\u001b[38;5;241m-\u001b[39m\u001b[38;5;241m1\u001b[39m]\n\u001b[0;32m     62\u001b[0m     cur_x \u001b[38;5;241m=\u001b[39m cur_x \u001b[38;5;241m+\u001b[39m dt \u001b[38;5;241m*\u001b[39m (\u001b[38;5;28mself\u001b[39m\u001b[38;5;241m.\u001b[39mH \u001b[38;5;241m@\u001b[39m cur_x \u001b[38;5;241m-\u001b[39m \u001b[38;5;28mself\u001b[39m\u001b[38;5;241m.\u001b[39mM \u001b[38;5;241m@\u001b[39m \u001b[38;5;28mself\u001b[39m\u001b[38;5;241m.\u001b[39mD \u001b[38;5;241m@\u001b[39m S_tn \u001b[38;5;241m@\u001b[39m cur_x) \u001b[38;5;241m+\u001b[39m \u001b[38;5;28mself\u001b[39m\u001b[38;5;241m.\u001b[39msigma \u001b[38;5;241m@\u001b[39m increments\n",
      "Input \u001b[1;32mIn [3]\u001b[0m, in \u001b[0;36mLQR.solve\u001b[1;34m(self, t, t_eval)\u001b[0m\n\u001b[0;32m     22\u001b[0m \u001b[38;5;28;01mif\u001b[39;00m t_eval \u001b[38;5;129;01mis\u001b[39;00m \u001b[38;5;28;01mNone\u001b[39;00m:\n\u001b[0;32m     23\u001b[0m     t_eval \u001b[38;5;241m=\u001b[39m np\u001b[38;5;241m.\u001b[39mlinspace(\u001b[38;5;28mself\u001b[39m\u001b[38;5;241m.\u001b[39mT, t, \u001b[38;5;241m101\u001b[39m)\n\u001b[1;32m---> 24\u001b[0m sol \u001b[38;5;241m=\u001b[39m \u001b[43msolve_ivp\u001b[49m\u001b[43m(\u001b[49m\u001b[43mmatrix_riccati_ode\u001b[49m\u001b[43m,\u001b[49m\u001b[43m \u001b[49m\u001b[43m(\u001b[49m\u001b[38;5;28;43mself\u001b[39;49m\u001b[38;5;241;43m.\u001b[39;49m\u001b[43mT\u001b[49m\u001b[43m,\u001b[49m\u001b[43m \u001b[49m\u001b[43mt\u001b[49m\u001b[43m)\u001b[49m\u001b[43m,\u001b[49m\u001b[43m \u001b[49m\u001b[38;5;28;43mself\u001b[39;49m\u001b[38;5;241;43m.\u001b[39;49m\u001b[43mR\u001b[49m\u001b[38;5;241;43m.\u001b[39;49m\u001b[43mreshape\u001b[49m\u001b[43m(\u001b[49m\u001b[38;5;241;43m-\u001b[39;49m\u001b[38;5;241;43m1\u001b[39;49m\u001b[43m)\u001b[49m\u001b[43m,\u001b[49m\u001b[43m \u001b[49m\u001b[43mt_eval\u001b[49m\u001b[43m \u001b[49m\u001b[38;5;241;43m=\u001b[39;49m\u001b[43m \u001b[49m\u001b[43mt_eval\u001b[49m\u001b[43m,\u001b[49m\u001b[43m \u001b[49m\u001b[43mmethod\u001b[49m\u001b[38;5;241;43m=\u001b[39;49m\u001b[38;5;124;43m'\u001b[39;49m\u001b[38;5;124;43mRK45\u001b[39;49m\u001b[38;5;124;43m'\u001b[39;49m\u001b[43m,\u001b[49m\u001b[43m \u001b[49m\u001b[43margs\u001b[49m\u001b[38;5;241;43m=\u001b[39;49m\u001b[43m(\u001b[49m\u001b[38;5;28;43mself\u001b[39;49m\u001b[38;5;241;43m.\u001b[39;49m\u001b[43mH\u001b[49m\u001b[43m,\u001b[49m\u001b[43m \u001b[49m\u001b[38;5;28;43mself\u001b[39;49m\u001b[38;5;241;43m.\u001b[39;49m\u001b[43mM\u001b[49m\u001b[43m,\u001b[49m\u001b[43m \u001b[49m\u001b[43mD_inv\u001b[49m\u001b[43m,\u001b[49m\u001b[43m \u001b[49m\u001b[38;5;28;43mself\u001b[39;49m\u001b[38;5;241;43m.\u001b[39;49m\u001b[43mC\u001b[49m\u001b[43m)\u001b[49m\u001b[43m)\u001b[49m\n\u001b[0;32m     25\u001b[0m \u001b[38;5;28;01mreturn\u001b[39;00m sol\u001b[38;5;241m.\u001b[39mt, sol\u001b[38;5;241m.\u001b[39my\u001b[38;5;241m.\u001b[39mreshape((\u001b[38;5;241m-\u001b[39m\u001b[38;5;241m1\u001b[39m, \u001b[38;5;28mself\u001b[39m\u001b[38;5;241m.\u001b[39mH\u001b[38;5;241m.\u001b[39mshape[\u001b[38;5;241m0\u001b[39m], \u001b[38;5;28mself\u001b[39m\u001b[38;5;241m.\u001b[39mH\u001b[38;5;241m.\u001b[39mshape[\u001b[38;5;241m1\u001b[39m]))\n",
      "File \u001b[1;32mD:\\Anaconda\\lib\\site-packages\\scipy\\integrate\\_ivp\\ivp.py:651\u001b[0m, in \u001b[0;36msolve_ivp\u001b[1;34m(fun, t_span, y0, method, t_eval, dense_output, events, vectorized, args, **options)\u001b[0m\n\u001b[0;32m    649\u001b[0m \u001b[38;5;28;01melse\u001b[39;00m:\n\u001b[0;32m    650\u001b[0m     ts \u001b[38;5;241m=\u001b[39m np\u001b[38;5;241m.\u001b[39mhstack(ts)\n\u001b[1;32m--> 651\u001b[0m     ys \u001b[38;5;241m=\u001b[39m \u001b[43mnp\u001b[49m\u001b[38;5;241;43m.\u001b[39;49m\u001b[43mhstack\u001b[49m\u001b[43m(\u001b[49m\u001b[43mys\u001b[49m\u001b[43m)\u001b[49m\n\u001b[0;32m    653\u001b[0m \u001b[38;5;28;01mif\u001b[39;00m dense_output:\n\u001b[0;32m    654\u001b[0m     \u001b[38;5;28;01mif\u001b[39;00m t_eval \u001b[38;5;129;01mis\u001b[39;00m \u001b[38;5;28;01mNone\u001b[39;00m:\n",
      "File \u001b[1;32m<__array_function__ internals>:5\u001b[0m, in \u001b[0;36mhstack\u001b[1;34m(*args, **kwargs)\u001b[0m\n",
      "File \u001b[1;32mD:\\Anaconda\\lib\\site-packages\\numpy\\core\\shape_base.py:345\u001b[0m, in \u001b[0;36mhstack\u001b[1;34m(tup)\u001b[0m\n\u001b[0;32m    343\u001b[0m     \u001b[38;5;28;01mreturn\u001b[39;00m _nx\u001b[38;5;241m.\u001b[39mconcatenate(arrs, \u001b[38;5;241m0\u001b[39m)\n\u001b[0;32m    344\u001b[0m \u001b[38;5;28;01melse\u001b[39;00m:\n\u001b[1;32m--> 345\u001b[0m     \u001b[38;5;28;01mreturn\u001b[39;00m \u001b[43m_nx\u001b[49m\u001b[38;5;241;43m.\u001b[39;49m\u001b[43mconcatenate\u001b[49m\u001b[43m(\u001b[49m\u001b[43marrs\u001b[49m\u001b[43m,\u001b[49m\u001b[43m \u001b[49m\u001b[38;5;241;43m1\u001b[39;49m\u001b[43m)\u001b[49m\n",
      "File \u001b[1;32m<__array_function__ internals>:5\u001b[0m, in \u001b[0;36mconcatenate\u001b[1;34m(*args, **kwargs)\u001b[0m\n",
      "\u001b[1;31mKeyboardInterrupt\u001b[0m: "
     ]
    }
   ],
   "source": [
    "\n",
    "\n",
    "# Set number of Monte Carlo samples\n",
    "num_samples = 10**5\n",
    "\n",
    "# Set different numbers of time steps to simulate\n",
    "num_steps_list = [1, 10, 50, 100, 500, 1000, 5000]\n",
    "\n",
    "# Initialize list to store MSE for each number of time steps\n",
    "mse_list = []\n",
    "\n",
    "# initial value of x\n",
    "x = [1, 2]\n",
    "\n",
    "# Loop over different numbers of time steps and compute MSE\n",
    "for num_steps in num_steps_list:\n",
    "    # Run Monte Carlo simulation\n",
    "    # Here, we assume that the simulation returns the estimated value function as a numpy array\n",
    "    # and the true value function as a dictionary with state-value pairs\n",
    "    x_rets = lqr.runMonteCarlo(num_steps, num_samples, x)\n",
    "    _, x_true = lqr.solve(0)\n",
    "    x_true = x_true[-1]\n",
    "    \n",
    "    # Compute MSE\n",
    "    mse = np.mean([np.linalg.norm(x_ret - x_true)**2 for x_ret in x_rets])\n",
    "    \n",
    "    # Append MSE to list\n",
    "    mse_list.append(mse)\n",
    "\n",
    "\n",
    "plt.loglog(num_steps_list, mse_list, '-o')\n",
    "plt.xlabel('Number of time steps')\n",
    "plt.ylabel('Mean squared error')\n",
    "plt.show()\n"
   ]
  },
  {
   "cell_type": "code",
   "execution_count": null,
   "id": "5eb79410",
   "metadata": {},
   "outputs": [],
   "source": [
    "# Set number of Monte Carlo samples\n",
    "num_samples_list = [10, 50, 100, 500, 1000, 5000, 10000, 50000, 100000]\n",
    "\n",
    "# Set different numbers of time steps to simulate\n",
    "num_steps = 5000\n",
    "\n",
    "# Initialize list to store MSE for each number of time steps\n",
    "mse_list = []\n",
    "\n",
    "# initial value of x\n",
    "x = [1, 2]\n",
    "\n",
    "# Loop over different numbers of time steps and compute MSE\n",
    "for num_samples in num_samples_list:\n",
    "    # Run Monte Carlo simulation\n",
    "    # Here, we assume that the simulation returns the estimated value function as a numpy array\n",
    "    # and the true value function as a dictionary with state-value pairs\n",
    "    x_rets = lqr.runMonteCarlo(num_steps, num_samples, x)\n",
    "    _, x_true = lqr.solve(0)\n",
    "    x_true = x_true[-1]\n",
    "    \n",
    "    # Compute MSE\n",
    "    mse = np.mean([np.linalg.norm(x_ret - x_true)**2 for x_ret in x_rets])\n",
    "    \n",
    "    # Append MSE to list\n",
    "    mse_list.append(mse)\n",
    "\n",
    "\n",
    "plt.loglog(num_steps_list, mse_list, '-o')\n",
    "plt.xlabel('Number of samples')\n",
    "plt.ylabel('Mean squared error')\n",
    "plt.show()\n"
   ]
  },
  {
   "cell_type": "code",
   "execution_count": null,
   "id": "84f0d63a",
   "metadata": {},
   "outputs": [],
   "source": []
  },
  {
   "cell_type": "markdown",
   "id": "e147471f",
   "metadata": {},
   "source": [
    "Exercise 2"
   ]
  },
  {
   "cell_type": "code",
   "execution_count": 10,
   "id": "43475ad3",
   "metadata": {},
   "outputs": [],
   "source": [
    "import torch\n",
    "from torch import nn, optim\n",
    "import numpy as np\n",
    "from tqdm import tqdm\n",
    "\n",
    "class DGM_Layer(nn.Module):\n",
    "    \n",
    "    def __init__(self, dim_x, dim_S, activation='Tanh'):\n",
    "        super(DGM_Layer, self).__init__()\n",
    "        \n",
    "        if activation == 'ReLU':\n",
    "            self.activation = nn.ReLU()\n",
    "        elif activation == 'Tanh':\n",
    "            self.activation = nn.Tanh()\n",
    "        elif activation == 'Sigmoid':\n",
    "            self.activation = nn.Sigmoid()\n",
    "        elif activation == 'LogSigmoid':\n",
    "            self.activation = nn.LogSigmoid()\n",
    "        else:\n",
    "            raise ValueError(\"Unknown activation function {}\".format(activation))\n",
    "            \n",
    "\n",
    "        self.gate_Z = self.layer(dim_x+dim_S, dim_S)\n",
    "        self.gate_G = self.layer(dim_x+dim_S, dim_S)\n",
    "        self.gate_R = self.layer(dim_x+dim_S, dim_S)\n",
    "        self.gate_H = self.layer(dim_x+dim_S, dim_S)\n",
    "            \n",
    "    def layer(self, nIn, nOut):\n",
    "        l = nn.Sequential(nn.Linear(nIn, nOut), self.activation)\n",
    "        return l\n",
    "    \n",
    "    def forward(self, x, S):\n",
    "        x_S = torch.cat([x,S],1)\n",
    "        Z = self.gate_Z(x_S)\n",
    "        G = self.gate_G(x_S)\n",
    "        R = self.gate_R(x_S)\n",
    "        \n",
    "        input_gate_H = torch.cat([x, S*R],1)\n",
    "        H = self.gate_H(input_gate_H)\n",
    "        \n",
    "        output = ((1-G))*H + Z*S\n",
    "        return output\n",
    "\n",
    "\n",
    "class Net_DGM(nn.Module):\n",
    "\n",
    "    def __init__(self, dim_x, dim_S, activation='Tanh'):\n",
    "        super(Net_DGM, self).__init__()\n",
    "\n",
    "        self.dim = dim_x\n",
    "        if activation == 'ReLU':\n",
    "            self.activation = nn.ReLU()\n",
    "        elif activation == 'Tanh':\n",
    "            self.activation = nn.Tanh()\n",
    "        elif activation == 'Sigmoid':\n",
    "            self.activation = nn.Sigmoid()\n",
    "        elif activation == 'LogSigmoid':\n",
    "            self.activation = nn.LogSigmoid()\n",
    "        else:\n",
    "            raise ValueError(\"Unknown activation function {}\".format(activation))\n",
    "\n",
    "        self.input_layer = nn.Sequential(nn.Linear(dim_x+1, dim_S), self.activation)\n",
    "\n",
    "        self.DGM1 = DGM_Layer(dim_x=dim_x+1, dim_S=dim_S, activation=activation)\n",
    "        self.DGM2 = DGM_Layer(dim_x=dim_x+1, dim_S=dim_S, activation=activation)\n",
    "        self.DGM3 = DGM_Layer(dim_x=dim_x+1, dim_S=dim_S, activation=activation)\n",
    "\n",
    "        self.output_layer = nn.Linear(dim_S, 1)\n",
    "\n",
    "    def forward(self,t,x):\n",
    "        tx = torch.cat([t,x], 1)\n",
    "        S1 = self.input_layer(tx)\n",
    "        S2 = self.DGM1(tx,S1)\n",
    "        S3 = self.DGM2(tx,S2)\n",
    "        S4 = self.DGM3(tx,S3)\n",
    "        output = self.output_layer(S4)\n",
    "        return output\n"
   ]
  },
  {
   "cell_type": "code",
   "execution_count": 11,
   "id": "03e39dfa",
   "metadata": {},
   "outputs": [
    {
     "name": "stderr",
     "output_type": "stream",
     "text": [
      "100%|██████████| 10000/10000 [01:57<00:00, 84.84it/s]\n"
     ]
    }
   ],
   "source": [
    "T = 1\n",
    "hidden_size = 100\n",
    "lr = 0.01\n",
    "num_epochs = 10000\n",
    "\n",
    "net = Net_DGM(2, hidden_size)\n",
    "optimizer = optim.Adam(net.parameters(), lr=lr)\n",
    "criterion = nn.MSELoss()\n",
    "\n",
    "losses = []\n",
    "for epoch in tqdm(range(num_epochs)):\n",
    "    t = np.random.uniform(0, T)\n",
    "    x = [np.random.uniform(-3, 3), np.random.uniform(-3, 3)]\n",
    "    lqr = LQR(H, M, sigma, C, R, D, 1)\n",
    "    y_true = torch.tensor(lqr.getValue(torch.tensor([t]), torch.tensor([[x]], dtype=torch.float32)))\n",
    "    optimizer.zero_grad()\n",
    "    y_pred = net(torch.tensor([[t]], dtype=torch.float32), torch.tensor([x]))\n",
    "    loss = criterion(y_pred, y_true)\n",
    "    loss.backward()\n",
    "    optimizer.step()\n",
    "    losses.append(loss.item())\n"
   ]
  },
  {
   "cell_type": "code",
   "execution_count": 12,
   "id": "0e8a5f90",
   "metadata": {},
   "outputs": [
    {
     "data": {
      "image/png": "[encoded data removed]",
      "text/plain": [
       "<Figure size 432x288 with 1 Axes>"
      ]
     },
     "metadata": {
      "needs_background": "light"
     },
     "output_type": "display_data"
    }
   ],
   "source": [
    "plt.plot(losses, '-')\n",
    "plt.xlabel('Epoch')\n",
    "plt.ylabel('MSE Loss')\n",
    "plt.show()"
   ]
  },
  {
   "cell_type": "code",
   "execution_count": 13,
   "id": "18053401",
   "metadata": {},
   "outputs": [],
   "source": [
    "class FFN(nn.Module):\n",
    "\n",
    "    def __init__(self, sizes, activation=nn.ReLU, output_activation=nn.Identity, batch_norm=False):\n",
    "        super().__init__()\n",
    "        \n",
    "        layers = [nn.BatchNorm1d(sizes[0]),] if batch_norm else []\n",
    "        for j in range(len(sizes)-1):\n",
    "            layers.append(nn.Linear(sizes[j], sizes[j+1]))\n",
    "            if batch_norm:\n",
    "                layers.append(nn.BatchNorm1d(sizes[j+1], affine=True))\n",
    "            if j<(len(sizes)-2):\n",
    "                layers.append(activation())\n",
    "            else:\n",
    "                layers.append(output_activation())\n",
    "\n",
    "        self.net = nn.Sequential(*layers)\n",
    "\n",
    "    def freeze(self):\n",
    "        for p in self.parameters():\n",
    "            p.requires_grad=False\n",
    "\n",
    "    def unfreeze(self):\n",
    "        for p in self.parameters():\n",
    "            p.requires_grad=True\n",
    "\n",
    "    def forward(self, x):\n",
    "        return self.net(x)"
   ]
  },
  {
   "cell_type": "code",
   "execution_count": 14,
   "id": "7ef1271b",
   "metadata": {},
   "outputs": [
    {
     "name": "stderr",
     "output_type": "stream",
     "text": [
      "100%|██████████| 10000/10000 [01:24<00:00, 118.16it/s]\n"
     ]
    }
   ],
   "source": [
    "net = FFN([3, 100, 100, 2])\n",
    "optimizer = optim.Adam(net.parameters(), lr=lr)\n",
    "criterion = nn.MSELoss()\n",
    "\n",
    "losses = []\n",
    "for epoch in tqdm(range(num_epochs)):\n",
    "    t = np.random.uniform(0, T)\n",
    "    x = [np.random.uniform(-3, 3), np.random.uniform(-3, 3)]\n",
    "    lqr = LQR(H, M, sigma, C, R, D, 1)\n",
    "    y_true = torch.tensor(lqr.getValue(torch.tensor([t]), torch.tensor([[x]], dtype=torch.float32)))\n",
    "    optimizer.zero_grad()\n",
    "    tx = torch.cat([torch.tensor([[t]], dtype=torch.float32), torch.tensor([x])], 1)\n",
    "    y_pred = net(tx)\n",
    "    loss = criterion(y_pred, y_true)\n",
    "    loss.backward()\n",
    "    optimizer.step()\n",
    "    losses.append(loss.item())"
   ]
  },
  {
   "cell_type": "code",
   "execution_count": 15,
   "id": "5229aacb",
   "metadata": {},
   "outputs": [
    {
     "data": {
      "image/png": "[encoded data removed]",
      "text/plain": [
       "<Figure size 432x288 with 1 Axes>"
      ]
     },
     "metadata": {
      "needs_background": "light"
     },
     "output_type": "display_data"
    }
   ],
   "source": [
    "plt.plot(losses, '-')\n",
    "plt.xlabel('Epoch')\n",
    "plt.ylabel('MSE Loss')\n",
    "plt.show()"
   ]
  },
  {
   "cell_type": "markdown",
   "id": "6bc4b487",
   "metadata": {},
   "source": [
    "Exercise 3"
   ]
  },
  {
   "cell_type": "code",
   "execution_count": 16,
   "id": "5f64c39f",
   "metadata": {},
   "outputs": [],
   "source": [
    "def get_gradient(output, x):\n",
    "    grad = torch.autograd.grad(output, x, grad_outputs=torch.ones_like(output), create_graph=True, retain_graph=True, only_inputs=True)[0]\n",
    "    return grad\n",
    "\n",
    "def get_laplacian(grad, x):\n",
    "    hess = []\n",
    "    for d in range(x.shape[1]):\n",
    "        v = grad[:,d].view(-1,1)\n",
    "        grad2 = torch.autograd.grad(v,x,grad_outputs=torch.ones_like(v), only_inputs=True, create_graph=True, retain_graph=True)[0]\n",
    "        hess.append(grad2)\n",
    "    return torch.cat(hess, 1)\n",
    "\n",
    "class PDE_DGM(nn.Module):\n",
    "\n",
    "    def __init__(self, d: int, hidden_dim: int, H, M, sigma, C, R, D, ts: torch.Tensor=None, device: str='cpu'):\n",
    "\n",
    "        super().__init__()\n",
    "        self.d = d\n",
    "        self.net_dgm = Net_DGM(d, hidden_dim, activation='Tanh')\n",
    "        self.H = torch.tensor(H, device=device)\n",
    "        self.M = torch.tensor(M, device=device)\n",
    "        self.sigma = torch.tensor(sigma, device=device)\n",
    "        self.C = torch.tensor(C, device=device)\n",
    "        self.R = torch.tensor(R, device=device)\n",
    "        self.D = torch.tensor(D, device=device)\n",
    "        self.alpha = torch.tensor([[1], [1]], device=device)\n",
    "        self.ts = ts\n",
    "\n",
    "    def fit(self, max_updates: int, batch_size: int, device):\n",
    "\n",
    "        optimizer = torch.optim.Adam(self.net_dgm.parameters(), lr=0.001)\n",
    "        scheduler = torch.optim.lr_scheduler.MultiStepLR(optimizer, milestones = (10000,),gamma=0.1)\n",
    "        loss_fn = nn.MSELoss()\n",
    "        \n",
    "        pbar = tqdm(total=max_updates)\n",
    "        loss_value = []\n",
    "        for it in range(max_updates):\n",
    "            optimizer.zero_grad()\n",
    "\n",
    "            input_domain = 6 * torch.rand(batch_size, self.d, device=device, requires_grad=True) - 3\n",
    "            t0, T = self.ts[0], self.ts[-1]\n",
    "            t = t0 + T*torch.rand(batch_size, 1, device=device, requires_grad=True)\n",
    "            t_T = torch.ones(batch_size, 1, device=device) * T\n",
    "            u_of_tx = self.net_dgm(t, input_domain)\n",
    "            u_of_Tx = self.net_dgm(t_T, input_domain)\n",
    "            grad_u_x = get_gradient(u_of_tx,input_domain)\n",
    "            grad_u_t = get_gradient(u_of_tx, t)\n",
    "            laplacian = get_laplacian(grad_u_x, input_domain)\n",
    "            target = torch.zeros_like(u_of_tx)\n",
    "            R1, R2 = 0, 0\n",
    "            eqn = []\n",
    "            boundary = []\n",
    "            for i in range(laplacian.shape[0]):\n",
    "                x = laplacian[i]\n",
    "                temp_x = x.cpu().detach().numpy().reshape(2,2)\n",
    "                x_i = input_domain[i].cpu().detach().numpy()\n",
    "                grad_u_x_i = grad_u_x[i].cpu().detach().numpy()\n",
    "                alpha_np = self.alpha.cpu().numpy()\n",
    "                temp_value = abs(grad_u_t[i].cpu().detach().numpy()\n",
    "                         + 1/2*np.trace(self.sigma.cpu().numpy() @ self.sigma.cpu().numpy().T @ temp_x)\n",
    "                         + grad_u_x_i.T @ self.H.cpu().numpy() @ x_i\n",
    "                         + grad_u_x_i.T @ self.M.cpu().numpy() @ alpha_np\n",
    "                         + grad_u_x_i.T @ self.M.cpu().numpy() @ alpha_np\n",
    "                         + x_i.T @ self.C.cpu().numpy() @ x_i\n",
    "                         + alpha_np.T @ self.D.cpu().numpy() @ alpha_np\n",
    "                        )**2\n",
    "                eqn.append(temp_value.tolist()[0])\n",
    "                temp_value = abs(u_of_Tx[i].cpu().detach().numpy() - x_i.T @ self.R.cpu().numpy() @ x_i)**2\n",
    "                boundary.append(temp_value.tolist()[0])\n",
    "            eqn = torch.tensor(eqn, device=device, requires_grad = True)\n",
    "            boundary = torch.tensor(boundary, device=device, requires_grad = True)\n",
    "            MSE_eqn = loss_fn(eqn, target)\n",
    "            MSE_boundary = loss_fn(boundary, target)\n",
    "\n",
    "            loss = MSE_eqn + MSE_boundary\n",
    "            loss_value.append(loss.cpu().detach().item())\n",
    "            loss.backward()\n",
    "            optimizer.step()\n",
    "            scheduler.step()\n",
    "            if it%10 == 0:\n",
    "                pbar.update(10)\n",
    "                pbar.write(\"Iteration: {}/{}\\t MSE eqn: {:.4f}\\t MSE boundary: {:.4f}\\t Total Loss: {:.4f}\".format(it, max_updates, MSE_eqn.item(), MSE_boundary.item(), loss.item()))\n",
    "        plt.plot(loss_value, '-')\n",
    "        plt.xlabel('Updates')\n",
    "        plt.ylabel('MSE Loss')\n",
    "        plt.show()"
   ]
  },
  {
   "cell_type": "code",
   "execution_count": 17,
   "id": "9dd568be",
   "metadata": {},
   "outputs": [],
   "source": [
    "def train(T,\n",
    "        n_steps,\n",
    "        d,\n",
    "        hidden_dim,\n",
    "        max_updates,\n",
    "        batch_size, \n",
    "        base_dir,\n",
    "        device,\n",
    "        ):\n",
    "    \n",
    "    logfile = os.path.join(base_dir, \"log.txt\")\n",
    "    ts = torch.linspace(0,T,n_steps+1, device=device)\n",
    "    pde_solver = PDE_DGM(d, hidden_dim, H, M, sigma, C, R, D, ts=ts, device=device)\n",
    "    pde_solver.to(device)\n",
    "    pde_solver.fit(max_updates=max_updates,\n",
    "                     batch_size=batch_size, \n",
    "                     device=device)\n",
    "    \n"
   ]
  },
  {
   "cell_type": "code",
   "execution_count": 18,
   "id": "c836c233",
   "metadata": {},
   "outputs": [],
   "source": [
    "def set_seed(seed):\n",
    "    np.random.seed(seed)\n",
    "    torch.manual_seed(seed)"
   ]
  },
  {
   "cell_type": "code",
   "execution_count": 20,
   "id": "a12b591c",
   "metadata": {},
   "outputs": [
    {
     "name": "stderr",
     "output_type": "stream",
     "text": [
      "  0%|          | 10/5000 [00:00<04:47, 17.34it/s]"
     ]
    },
    {
     "name": "stdout",
     "output_type": "stream",
     "text": [
      "Iteration: 0/5000\t MSE eqn: 11.8505\t MSE boundary: 5202.9175\t Total Loss: 5214.7681\n"
     ]
    },
    {
     "name": "stderr",
     "output_type": "stream",
     "text": [
      "  0%|          | 20/5000 [00:05<27:48,  2.98it/s]"
     ]
    },
    {
     "name": "stdout",
     "output_type": "stream",
     "text": [
      "Iteration: 10/5000\t MSE eqn: 11.6955\t MSE boundary: 7019.5146\t Total Loss: 7031.2100\n"
     ]
    },
    {
     "name": "stderr",
     "output_type": "stream",
     "text": [
      "  1%|          | 30/5000 [00:11<35:43,  2.32it/s]"
     ]
    },
    {
     "name": "stdout",
     "output_type": "stream",
     "text": [
      "Iteration: 20/5000\t MSE eqn: 11.8035\t MSE boundary: 5286.6064\t Total Loss: 5298.4102\n"
     ]
    },
    {
     "name": "stderr",
     "output_type": "stream",
     "text": [
      "  1%|          | 40/5000 [00:16<39:58,  2.07it/s]"
     ]
    },
    {
     "name": "stdout",
     "output_type": "stream",
     "text": [
      "Iteration: 30/5000\t MSE eqn: 11.7040\t MSE boundary: 5479.1909\t Total Loss: 5490.8950\n"
     ]
    },
    {
     "name": "stderr",
     "output_type": "stream",
     "text": [
      "  1%|          | 50/5000 [00:22<41:45,  1.98it/s]"
     ]
    },
    {
     "name": "stdout",
     "output_type": "stream",
     "text": [
      "Iteration: 40/5000\t MSE eqn: 11.7777\t MSE boundary: 5089.3506\t Total Loss: 5101.1284\n"
     ]
    },
    {
     "name": "stderr",
     "output_type": "stream",
     "text": [
      "  1%|          | 60/5000 [00:28<43:10,  1.91it/s]"
     ]
    },
    {
     "name": "stdout",
     "output_type": "stream",
     "text": [
      "Iteration: 50/5000\t MSE eqn: 11.9308\t MSE boundary: 6236.4570\t Total Loss: 6248.3877\n"
     ]
    },
    {
     "name": "stderr",
     "output_type": "stream",
     "text": [
      "  1%|▏         | 70/5000 [00:33<44:09,  1.86it/s]"
     ]
    },
    {
     "name": "stdout",
     "output_type": "stream",
     "text": [
      "Iteration: 60/5000\t MSE eqn: 11.7848\t MSE boundary: 5213.2236\t Total Loss: 5225.0083\n"
     ]
    },
    {
     "name": "stderr",
     "output_type": "stream",
     "text": [
      "  2%|▏         | 80/5000 [00:39<44:19,  1.85it/s]"
     ]
    },
    {
     "name": "stdout",
     "output_type": "stream",
     "text": [
      "Iteration: 70/5000\t MSE eqn: 11.8514\t MSE boundary: 5623.4907\t Total Loss: 5635.3423\n"
     ]
    },
    {
     "name": "stderr",
     "output_type": "stream",
     "text": [
      "  2%|▏         | 90/5000 [00:44<44:41,  1.83it/s]"
     ]
    },
    {
     "name": "stdout",
     "output_type": "stream",
     "text": [
      "Iteration: 80/5000\t MSE eqn: 11.8047\t MSE boundary: 4936.2314\t Total Loss: 4948.0361\n"
     ]
    },
    {
     "name": "stderr",
     "output_type": "stream",
     "text": [
      "  2%|▏         | 100/5000 [00:50<45:03,  1.81it/s]"
     ]
    },
    {
     "name": "stdout",
     "output_type": "stream",
     "text": [
      "Iteration: 90/5000\t MSE eqn: 11.6705\t MSE boundary: 5130.6396\t Total Loss: 5142.3101\n"
     ]
    },
    {
     "name": "stderr",
     "output_type": "stream",
     "text": [
      "  2%|▏         | 110/5000 [00:56<46:28,  1.75it/s]"
     ]
    },
    {
     "name": "stdout",
     "output_type": "stream",
     "text": [
      "Iteration: 100/5000\t MSE eqn: 11.8930\t MSE boundary: 5762.2139\t Total Loss: 5774.1069\n"
     ]
    },
    {
     "name": "stderr",
     "output_type": "stream",
     "text": [
      "  2%|▏         | 120/5000 [01:02<47:14,  1.72it/s]"
     ]
    },
    {
     "name": "stdout",
     "output_type": "stream",
     "text": [
      "Iteration: 110/5000\t MSE eqn: 11.6425\t MSE boundary: 5198.6045\t Total Loss: 5210.2471\n"
     ]
    },
    {
     "name": "stderr",
     "output_type": "stream",
     "text": [
      "  3%|▎         | 130/5000 [01:08<46:33,  1.74it/s]"
     ]
    },
    {
     "name": "stdout",
     "output_type": "stream",
     "text": [
      "Iteration: 120/5000\t MSE eqn: 11.6097\t MSE boundary: 5895.1099\t Total Loss: 5906.7197\n"
     ]
    },
    {
     "name": "stderr",
     "output_type": "stream",
     "text": [
      "  3%|▎         | 140/5000 [01:13<46:05,  1.76it/s]"
     ]
    },
    {
     "name": "stdout",
     "output_type": "stream",
     "text": [
      "Iteration: 130/5000\t MSE eqn: 11.7736\t MSE boundary: 6226.5103\t Total Loss: 6238.2837\n"
     ]
    },
    {
     "name": "stderr",
     "output_type": "stream",
     "text": [
      "  3%|▎         | 150/5000 [01:19<45:59,  1.76it/s]"
     ]
    },
    {
     "name": "stdout",
     "output_type": "stream",
     "text": [
      "Iteration: 140/5000\t MSE eqn: 11.8629\t MSE boundary: 5308.5557\t Total Loss: 5320.4185\n"
     ]
    },
    {
     "name": "stderr",
     "output_type": "stream",
     "text": [
      "  3%|▎         | 160/5000 [01:24<45:42,  1.76it/s]"
     ]
    },
    {
     "name": "stdout",
     "output_type": "stream",
     "text": [
      "Iteration: 150/5000\t MSE eqn: 11.8079\t MSE boundary: 6164.4355\t Total Loss: 6176.2437\n"
     ]
    },
    {
     "name": "stderr",
     "output_type": "stream",
     "text": [
      "  3%|▎         | 170/5000 [01:30<45:24,  1.77it/s]"
     ]
    },
    {
     "name": "stdout",
     "output_type": "stream",
     "text": [
      "Iteration: 160/5000\t MSE eqn: 11.7190\t MSE boundary: 5102.1855\t Total Loss: 5113.9048\n"
     ]
    },
    {
     "name": "stderr",
     "output_type": "stream",
     "text": [
      "  4%|▎         | 180/5000 [01:36<45:31,  1.76it/s]"
     ]
    },
    {
     "name": "stdout",
     "output_type": "stream",
     "text": [
      "Iteration: 170/5000\t MSE eqn: 11.5629\t MSE boundary: 5959.5444\t Total Loss: 5971.1074\n"
     ]
    },
    {
     "name": "stderr",
     "output_type": "stream",
     "text": [
      "  4%|▍         | 190/5000 [01:41<44:58,  1.78it/s]"
     ]
    },
    {
     "name": "stdout",
     "output_type": "stream",
     "text": [
      "Iteration: 180/5000\t MSE eqn: 11.9559\t MSE boundary: 4824.8623\t Total Loss: 4836.8184\n"
     ]
    },
    {
     "name": "stderr",
     "output_type": "stream",
     "text": [
      "  4%|▍         | 200/5000 [01:47<44:58,  1.78it/s]"
     ]
    },
    {
     "name": "stdout",
     "output_type": "stream",
     "text": [
      "Iteration: 190/5000\t MSE eqn: 11.7737\t MSE boundary: 6010.2549\t Total Loss: 6022.0288\n"
     ]
    },
    {
     "name": "stderr",
     "output_type": "stream",
     "text": [
      "  4%|▍         | 210/5000 [01:53<45:06,  1.77it/s]"
     ]
    },
    {
     "name": "stdout",
     "output_type": "stream",
     "text": [
      "Iteration: 200/5000\t MSE eqn: 11.6272\t MSE boundary: 6575.3257\t Total Loss: 6586.9531\n"
     ]
    },
    {
     "name": "stderr",
     "output_type": "stream",
     "text": [
      "  4%|▍         | 220/5000 [01:58<44:44,  1.78it/s]"
     ]
    },
    {
     "name": "stdout",
     "output_type": "stream",
     "text": [
      "Iteration: 210/5000\t MSE eqn: 11.7317\t MSE boundary: 5820.7417\t Total Loss: 5832.4731\n"
     ]
    },
    {
     "name": "stderr",
     "output_type": "stream",
     "text": [
      "  5%|▍         | 230/5000 [02:04<44:33,  1.78it/s]"
     ]
    },
    {
     "name": "stdout",
     "output_type": "stream",
     "text": [
      "Iteration: 220/5000\t MSE eqn: 11.7866\t MSE boundary: 6209.9600\t Total Loss: 6221.7466\n"
     ]
    },
    {
     "name": "stderr",
     "output_type": "stream",
     "text": [
      "  5%|▍         | 240/5000 [02:09<44:41,  1.77it/s]"
     ]
    },
    {
     "name": "stdout",
     "output_type": "stream",
     "text": [
      "Iteration: 230/5000\t MSE eqn: 11.7566\t MSE boundary: 6574.3696\t Total Loss: 6586.1265\n"
     ]
    },
    {
     "name": "stderr",
     "output_type": "stream",
     "text": [
      "  5%|▌         | 250/5000 [02:15<44:23,  1.78it/s]"
     ]
    },
    {
     "name": "stdout",
     "output_type": "stream",
     "text": [
      "Iteration: 240/5000\t MSE eqn: 11.9142\t MSE boundary: 6460.3247\t Total Loss: 6472.2388\n"
     ]
    },
    {
     "name": "stderr",
     "output_type": "stream",
     "text": [
      "  5%|▌         | 260/5000 [02:21<44:15,  1.79it/s]"
     ]
    },
    {
     "name": "stdout",
     "output_type": "stream",
     "text": [
      "Iteration: 250/5000\t MSE eqn: 11.6458\t MSE boundary: 4748.1733\t Total Loss: 4759.8193\n"
     ]
    },
    {
     "name": "stderr",
     "output_type": "stream",
     "text": [
      "  5%|▌         | 270/5000 [02:26<44:16,  1.78it/s]"
     ]
    },
    {
     "name": "stdout",
     "output_type": "stream",
     "text": [
      "Iteration: 260/5000\t MSE eqn: 11.7266\t MSE boundary: 6369.3423\t Total Loss: 6381.0688\n"
     ]
    },
    {
     "name": "stderr",
     "output_type": "stream",
     "text": [
      "  6%|▌         | 280/5000 [02:32<44:02,  1.79it/s]"
     ]
    },
    {
     "name": "stdout",
     "output_type": "stream",
     "text": [
      "Iteration: 270/5000\t MSE eqn: 11.9211\t MSE boundary: 5491.1089\t Total Loss: 5503.0298\n"
     ]
    },
    {
     "name": "stderr",
     "output_type": "stream",
     "text": [
      "  6%|▌         | 290/5000 [02:38<44:15,  1.77it/s]"
     ]
    },
    {
     "name": "stdout",
     "output_type": "stream",
     "text": [
      "Iteration: 280/5000\t MSE eqn: 11.7405\t MSE boundary: 6026.4844\t Total Loss: 6038.2251\n"
     ]
    },
    {
     "name": "stderr",
     "output_type": "stream",
     "text": [
      "  6%|▌         | 300/5000 [02:43<44:05,  1.78it/s]"
     ]
    },
    {
     "name": "stdout",
     "output_type": "stream",
     "text": [
      "Iteration: 290/5000\t MSE eqn: 11.7481\t MSE boundary: 5654.9443\t Total Loss: 5666.6924\n"
     ]
    },
    {
     "name": "stderr",
     "output_type": "stream",
     "text": [
      "  6%|▌         | 310/5000 [02:49<43:55,  1.78it/s]"
     ]
    },
    {
     "name": "stdout",
     "output_type": "stream",
     "text": [
      "Iteration: 300/5000\t MSE eqn: 11.7662\t MSE boundary: 5797.5737\t Total Loss: 5809.3398\n"
     ]
    },
    {
     "name": "stderr",
     "output_type": "stream",
     "text": [
      "  6%|▋         | 320/5000 [02:55<44:55,  1.74it/s]"
     ]
    },
    {
     "name": "stdout",
     "output_type": "stream",
     "text": [
      "Iteration: 310/5000\t MSE eqn: 11.7915\t MSE boundary: 5933.7510\t Total Loss: 5945.5425\n"
     ]
    },
    {
     "name": "stderr",
     "output_type": "stream",
     "text": [
      "  7%|▋         | 330/5000 [03:01<44:50,  1.74it/s]"
     ]
    },
    {
     "name": "stdout",
     "output_type": "stream",
     "text": [
      "Iteration: 320/5000\t MSE eqn: 11.8835\t MSE boundary: 4653.9058\t Total Loss: 4665.7891\n"
     ]
    },
    {
     "name": "stderr",
     "output_type": "stream",
     "text": [
      "  7%|▋         | 340/5000 [03:06<44:08,  1.76it/s]"
     ]
    },
    {
     "name": "stdout",
     "output_type": "stream",
     "text": [
      "Iteration: 330/5000\t MSE eqn: 11.9195\t MSE boundary: 4816.6152\t Total Loss: 4828.5347\n"
     ]
    },
    {
     "name": "stderr",
     "output_type": "stream",
     "text": [
      "  7%|▋         | 350/5000 [03:12<44:14,  1.75it/s]"
     ]
    },
    {
     "name": "stdout",
     "output_type": "stream",
     "text": [
      "Iteration: 340/5000\t MSE eqn: 11.8380\t MSE boundary: 5352.5693\t Total Loss: 5364.4072\n"
     ]
    },
    {
     "name": "stderr",
     "output_type": "stream",
     "text": [
      "  7%|▋         | 360/5000 [03:17<43:49,  1.76it/s]"
     ]
    },
    {
     "name": "stdout",
     "output_type": "stream",
     "text": [
      "Iteration: 350/5000\t MSE eqn: 11.8664\t MSE boundary: 6047.0811\t Total Loss: 6058.9473\n"
     ]
    },
    {
     "name": "stderr",
     "output_type": "stream",
     "text": [
      "  7%|▋         | 370/5000 [03:23<43:10,  1.79it/s]"
     ]
    },
    {
     "name": "stdout",
     "output_type": "stream",
     "text": [
      "Iteration: 360/5000\t MSE eqn: 11.7653\t MSE boundary: 6004.5537\t Total Loss: 6016.3188\n"
     ]
    },
    {
     "name": "stderr",
     "output_type": "stream",
     "text": [
      "  8%|▊         | 380/5000 [03:29<43:23,  1.77it/s]"
     ]
    },
    {
     "name": "stdout",
     "output_type": "stream",
     "text": [
      "Iteration: 370/5000\t MSE eqn: 11.7796\t MSE boundary: 6170.5278\t Total Loss: 6182.3076\n"
     ]
    },
    {
     "name": "stderr",
     "output_type": "stream",
     "text": [
      "  8%|▊         | 390/5000 [03:34<42:49,  1.79it/s]"
     ]
    },
    {
     "name": "stdout",
     "output_type": "stream",
     "text": [
      "Iteration: 380/5000\t MSE eqn: 11.7650\t MSE boundary: 6081.1377\t Total Loss: 6092.9028\n"
     ]
    },
    {
     "name": "stderr",
     "output_type": "stream",
     "text": [
      "  8%|▊         | 400/5000 [03:39<42:21,  1.81it/s]"
     ]
    },
    {
     "name": "stdout",
     "output_type": "stream",
     "text": [
      "Iteration: 390/5000\t MSE eqn: 11.7748\t MSE boundary: 6345.8423\t Total Loss: 6357.6172\n"
     ]
    },
    {
     "name": "stderr",
     "output_type": "stream",
     "text": [
      "  8%|▊         | 410/5000 [03:45<42:25,  1.80it/s]"
     ]
    },
    {
     "name": "stdout",
     "output_type": "stream",
     "text": [
      "Iteration: 400/5000\t MSE eqn: 11.8764\t MSE boundary: 5590.1855\t Total Loss: 5602.0620\n"
     ]
    },
    {
     "name": "stderr",
     "output_type": "stream",
     "text": [
      "  8%|▊         | 420/5000 [03:50<42:03,  1.82it/s]"
     ]
    },
    {
     "name": "stdout",
     "output_type": "stream",
     "text": [
      "Iteration: 410/5000\t MSE eqn: 11.8936\t MSE boundary: 5732.9756\t Total Loss: 5744.8691\n"
     ]
    },
    {
     "name": "stderr",
     "output_type": "stream",
     "text": [
      "  9%|▊         | 430/5000 [03:56<41:50,  1.82it/s]"
     ]
    },
    {
     "name": "stdout",
     "output_type": "stream",
     "text": [
      "Iteration: 420/5000\t MSE eqn: 11.7263\t MSE boundary: 5650.3867\t Total Loss: 5662.1128\n"
     ]
    },
    {
     "name": "stderr",
     "output_type": "stream",
     "text": [
      "  9%|▉         | 440/5000 [04:02<42:25,  1.79it/s]"
     ]
    },
    {
     "name": "stdout",
     "output_type": "stream",
     "text": [
      "Iteration: 430/5000\t MSE eqn: 11.6351\t MSE boundary: 5265.0762\t Total Loss: 5276.7114\n"
     ]
    },
    {
     "name": "stderr",
     "output_type": "stream",
     "text": [
      "  9%|▉         | 450/5000 [04:07<41:59,  1.81it/s]"
     ]
    },
    {
     "name": "stdout",
     "output_type": "stream",
     "text": [
      "Iteration: 440/5000\t MSE eqn: 11.7669\t MSE boundary: 5634.9663\t Total Loss: 5646.7334\n"
     ]
    },
    {
     "name": "stderr",
     "output_type": "stream",
     "text": [
      "  9%|▉         | 460/5000 [04:13<42:13,  1.79it/s]"
     ]
    },
    {
     "name": "stdout",
     "output_type": "stream",
     "text": [
      "Iteration: 450/5000\t MSE eqn: 11.6429\t MSE boundary: 5332.9932\t Total Loss: 5344.6362\n"
     ]
    },
    {
     "name": "stderr",
     "output_type": "stream",
     "text": [
      "  9%|▉         | 470/5000 [04:18<41:48,  1.81it/s]"
     ]
    },
    {
     "name": "stdout",
     "output_type": "stream",
     "text": [
      "Iteration: 460/5000\t MSE eqn: 11.6147\t MSE boundary: 5314.1069\t Total Loss: 5325.7217\n"
     ]
    },
    {
     "name": "stderr",
     "output_type": "stream",
     "text": [
      " 10%|▉         | 480/5000 [04:24<41:27,  1.82it/s]"
     ]
    },
    {
     "name": "stdout",
     "output_type": "stream",
     "text": [
      "Iteration: 470/5000\t MSE eqn: 11.6990\t MSE boundary: 6365.0288\t Total Loss: 6376.7280\n"
     ]
    },
    {
     "name": "stderr",
     "output_type": "stream",
     "text": [
      " 10%|▉         | 490/5000 [04:29<41:33,  1.81it/s]"
     ]
    },
    {
     "name": "stdout",
     "output_type": "stream",
     "text": [
      "Iteration: 480/5000\t MSE eqn: 11.7022\t MSE boundary: 5752.3193\t Total Loss: 5764.0215\n"
     ]
    },
    {
     "name": "stderr",
     "output_type": "stream",
     "text": [
      " 10%|█         | 500/5000 [04:35<41:14,  1.82it/s]"
     ]
    },
    {
     "name": "stdout",
     "output_type": "stream",
     "text": [
      "Iteration: 490/5000\t MSE eqn: 11.7742\t MSE boundary: 5783.1069\t Total Loss: 5794.8813\n"
     ]
    },
    {
     "name": "stderr",
     "output_type": "stream",
     "text": [
      " 10%|█         | 510/5000 [04:40<41:09,  1.82it/s]"
     ]
    },
    {
     "name": "stdout",
     "output_type": "stream",
     "text": [
      "Iteration: 500/5000\t MSE eqn: 11.8307\t MSE boundary: 5995.7881\t Total Loss: 6007.6187\n"
     ]
    },
    {
     "name": "stderr",
     "output_type": "stream",
     "text": [
      " 10%|█         | 520/5000 [04:46<41:29,  1.80it/s]"
     ]
    },
    {
     "name": "stdout",
     "output_type": "stream",
     "text": [
      "Iteration: 510/5000\t MSE eqn: 11.6974\t MSE boundary: 5789.5166\t Total Loss: 5801.2139\n"
     ]
    },
    {
     "name": "stderr",
     "output_type": "stream",
     "text": [
      " 11%|█         | 530/5000 [04:51<41:25,  1.80it/s]"
     ]
    },
    {
     "name": "stdout",
     "output_type": "stream",
     "text": [
      "Iteration: 520/5000\t MSE eqn: 11.7267\t MSE boundary: 5145.9067\t Total Loss: 5157.6333\n"
     ]
    },
    {
     "name": "stderr",
     "output_type": "stream",
     "text": [
      " 11%|█         | 540/5000 [04:57<41:56,  1.77it/s]"
     ]
    },
    {
     "name": "stdout",
     "output_type": "stream",
     "text": [
      "Iteration: 530/5000\t MSE eqn: 11.8692\t MSE boundary: 5666.9912\t Total Loss: 5678.8604\n"
     ]
    },
    {
     "name": "stderr",
     "output_type": "stream",
     "text": [
      " 11%|█         | 550/5000 [05:03<41:44,  1.78it/s]"
     ]
    },
    {
     "name": "stdout",
     "output_type": "stream",
     "text": [
      "Iteration: 540/5000\t MSE eqn: 11.6806\t MSE boundary: 5120.1895\t Total Loss: 5131.8701\n"
     ]
    },
    {
     "name": "stderr",
     "output_type": "stream",
     "text": [
      " 11%|█         | 560/5000 [05:08<41:27,  1.78it/s]"
     ]
    },
    {
     "name": "stdout",
     "output_type": "stream",
     "text": [
      "Iteration: 550/5000\t MSE eqn: 11.7213\t MSE boundary: 6022.6997\t Total Loss: 6034.4209\n"
     ]
    },
    {
     "name": "stderr",
     "output_type": "stream",
     "text": [
      " 11%|█▏        | 570/5000 [05:14<41:05,  1.80it/s]"
     ]
    },
    {
     "name": "stdout",
     "output_type": "stream",
     "text": [
      "Iteration: 560/5000\t MSE eqn: 11.6099\t MSE boundary: 5661.5967\t Total Loss: 5673.2065\n"
     ]
    },
    {
     "name": "stderr",
     "output_type": "stream",
     "text": [
      " 12%|█▏        | 580/5000 [05:20<41:15,  1.79it/s]"
     ]
    },
    {
     "name": "stdout",
     "output_type": "stream",
     "text": [
      "Iteration: 570/5000\t MSE eqn: 11.6238\t MSE boundary: 4854.5840\t Total Loss: 4866.2080\n"
     ]
    },
    {
     "name": "stderr",
     "output_type": "stream",
     "text": [
      " 12%|█▏        | 590/5000 [05:25<41:00,  1.79it/s]"
     ]
    },
    {
     "name": "stdout",
     "output_type": "stream",
     "text": [
      "Iteration: 580/5000\t MSE eqn: 11.5849\t MSE boundary: 6883.3120\t Total Loss: 6894.8970\n"
     ]
    },
    {
     "name": "stderr",
     "output_type": "stream",
     "text": [
      " 12%|█▏        | 600/5000 [05:31<41:18,  1.78it/s]"
     ]
    },
    {
     "name": "stdout",
     "output_type": "stream",
     "text": [
      "Iteration: 590/5000\t MSE eqn: 11.8610\t MSE boundary: 5405.5347\t Total Loss: 5417.3955\n"
     ]
    },
    {
     "name": "stderr",
     "output_type": "stream",
     "text": [
      " 12%|█▏        | 610/5000 [05:37<41:17,  1.77it/s]"
     ]
    },
    {
     "name": "stdout",
     "output_type": "stream",
     "text": [
      "Iteration: 600/5000\t MSE eqn: 11.9606\t MSE boundary: 6993.1431\t Total Loss: 7005.1035\n"
     ]
    },
    {
     "name": "stderr",
     "output_type": "stream",
     "text": [
      " 12%|█▏        | 620/5000 [05:42<40:54,  1.78it/s]"
     ]
    },
    {
     "name": "stdout",
     "output_type": "stream",
     "text": [
      "Iteration: 610/5000\t MSE eqn: 11.7868\t MSE boundary: 6516.4375\t Total Loss: 6528.2241\n"
     ]
    },
    {
     "name": "stderr",
     "output_type": "stream",
     "text": [
      " 13%|█▎        | 630/5000 [05:48<40:38,  1.79it/s]"
     ]
    },
    {
     "name": "stdout",
     "output_type": "stream",
     "text": [
      "Iteration: 620/5000\t MSE eqn: 11.7912\t MSE boundary: 5316.9004\t Total Loss: 5328.6914\n"
     ]
    },
    {
     "name": "stderr",
     "output_type": "stream",
     "text": [
      " 13%|█▎        | 640/5000 [05:53<40:36,  1.79it/s]"
     ]
    },
    {
     "name": "stdout",
     "output_type": "stream",
     "text": [
      "Iteration: 630/5000\t MSE eqn: 11.7989\t MSE boundary: 5960.6631\t Total Loss: 5972.4619\n"
     ]
    },
    {
     "name": "stderr",
     "output_type": "stream",
     "text": [
      " 13%|█▎        | 650/5000 [05:59<40:08,  1.81it/s]"
     ]
    },
    {
     "name": "stdout",
     "output_type": "stream",
     "text": [
      "Iteration: 640/5000\t MSE eqn: 11.7245\t MSE boundary: 6092.2690\t Total Loss: 6103.9937\n"
     ]
    },
    {
     "name": "stderr",
     "output_type": "stream",
     "text": [
      " 13%|█▎        | 660/5000 [06:04<39:57,  1.81it/s]"
     ]
    },
    {
     "name": "stdout",
     "output_type": "stream",
     "text": [
      "Iteration: 650/5000\t MSE eqn: 11.7330\t MSE boundary: 6322.5044\t Total Loss: 6334.2373\n"
     ]
    },
    {
     "name": "stderr",
     "output_type": "stream",
     "text": [
      " 13%|█▎        | 670/5000 [06:10<40:04,  1.80it/s]"
     ]
    },
    {
     "name": "stdout",
     "output_type": "stream",
     "text": [
      "Iteration: 660/5000\t MSE eqn: 11.8430\t MSE boundary: 5313.7480\t Total Loss: 5325.5913\n"
     ]
    },
    {
     "name": "stderr",
     "output_type": "stream",
     "text": [
      " 14%|█▎        | 680/5000 [06:15<39:55,  1.80it/s]"
     ]
    },
    {
     "name": "stdout",
     "output_type": "stream",
     "text": [
      "Iteration: 670/5000\t MSE eqn: 11.8918\t MSE boundary: 5627.4116\t Total Loss: 5639.3032\n"
     ]
    },
    {
     "name": "stderr",
     "output_type": "stream",
     "text": [
      " 14%|█▍        | 690/5000 [06:21<39:55,  1.80it/s]"
     ]
    },
    {
     "name": "stdout",
     "output_type": "stream",
     "text": [
      "Iteration: 680/5000\t MSE eqn: 11.7778\t MSE boundary: 4577.2026\t Total Loss: 4588.9805\n"
     ]
    },
    {
     "name": "stderr",
     "output_type": "stream",
     "text": [
      " 14%|█▍        | 700/5000 [06:26<39:42,  1.80it/s]"
     ]
    },
    {
     "name": "stdout",
     "output_type": "stream",
     "text": [
      "Iteration: 690/5000\t MSE eqn: 11.7383\t MSE boundary: 4884.4727\t Total Loss: 4896.2109\n"
     ]
    },
    {
     "name": "stderr",
     "output_type": "stream",
     "text": [
      " 14%|█▍        | 710/5000 [06:32<39:20,  1.82it/s]"
     ]
    },
    {
     "name": "stdout",
     "output_type": "stream",
     "text": [
      "Iteration: 700/5000\t MSE eqn: 11.7149\t MSE boundary: 6055.7539\t Total Loss: 6067.4688\n"
     ]
    },
    {
     "name": "stderr",
     "output_type": "stream",
     "text": [
      " 14%|█▍        | 720/5000 [06:37<39:41,  1.80it/s]"
     ]
    },
    {
     "name": "stdout",
     "output_type": "stream",
     "text": [
      "Iteration: 710/5000\t MSE eqn: 11.8122\t MSE boundary: 6101.9824\t Total Loss: 6113.7944\n"
     ]
    },
    {
     "name": "stderr",
     "output_type": "stream",
     "text": [
      " 15%|█▍        | 730/5000 [06:43<39:31,  1.80it/s]"
     ]
    },
    {
     "name": "stdout",
     "output_type": "stream",
     "text": [
      "Iteration: 720/5000\t MSE eqn: 11.7053\t MSE boundary: 5893.9292\t Total Loss: 5905.6343\n"
     ]
    },
    {
     "name": "stderr",
     "output_type": "stream",
     "text": [
      " 15%|█▍        | 740/5000 [06:48<39:18,  1.81it/s]"
     ]
    },
    {
     "name": "stdout",
     "output_type": "stream",
     "text": [
      "Iteration: 730/5000\t MSE eqn: 11.6749\t MSE boundary: 6261.1465\t Total Loss: 6272.8213\n"
     ]
    },
    {
     "name": "stderr",
     "output_type": "stream",
     "text": [
      " 15%|█▌        | 750/5000 [06:54<40:14,  1.76it/s]"
     ]
    },
    {
     "name": "stdout",
     "output_type": "stream",
     "text": [
      "Iteration: 740/5000\t MSE eqn: 11.8504\t MSE boundary: 5467.7642\t Total Loss: 5479.6147\n"
     ]
    },
    {
     "name": "stderr",
     "output_type": "stream",
     "text": [
      " 15%|█▌        | 760/5000 [07:00<40:42,  1.74it/s]"
     ]
    },
    {
     "name": "stdout",
     "output_type": "stream",
     "text": [
      "Iteration: 750/5000\t MSE eqn: 11.7333\t MSE boundary: 6250.1943\t Total Loss: 6261.9277\n"
     ]
    },
    {
     "name": "stderr",
     "output_type": "stream",
     "text": [
      " 15%|█▌        | 770/5000 [07:06<40:04,  1.76it/s]"
     ]
    },
    {
     "name": "stdout",
     "output_type": "stream",
     "text": [
      "Iteration: 760/5000\t MSE eqn: 11.7327\t MSE boundary: 5305.6929\t Total Loss: 5317.4258\n"
     ]
    },
    {
     "name": "stderr",
     "output_type": "stream",
     "text": [
      " 16%|█▌        | 780/5000 [07:12<39:57,  1.76it/s]"
     ]
    },
    {
     "name": "stdout",
     "output_type": "stream",
     "text": [
      "Iteration: 770/5000\t MSE eqn: 11.7585\t MSE boundary: 5804.0078\t Total Loss: 5815.7661\n"
     ]
    },
    {
     "name": "stderr",
     "output_type": "stream",
     "text": [
      " 16%|█▌        | 790/5000 [07:17<39:26,  1.78it/s]"
     ]
    },
    {
     "name": "stdout",
     "output_type": "stream",
     "text": [
      "Iteration: 780/5000\t MSE eqn: 11.7217\t MSE boundary: 5769.7720\t Total Loss: 5781.4937\n"
     ]
    },
    {
     "name": "stderr",
     "output_type": "stream",
     "text": [
      " 16%|█▌        | 800/5000 [07:23<38:57,  1.80it/s]"
     ]
    },
    {
     "name": "stdout",
     "output_type": "stream",
     "text": [
      "Iteration: 790/5000\t MSE eqn: 11.7625\t MSE boundary: 5922.6016\t Total Loss: 5934.3643\n"
     ]
    },
    {
     "name": "stderr",
     "output_type": "stream",
     "text": [
      " 16%|█▌        | 810/5000 [07:28<39:03,  1.79it/s]"
     ]
    },
    {
     "name": "stdout",
     "output_type": "stream",
     "text": [
      "Iteration: 800/5000\t MSE eqn: 11.7097\t MSE boundary: 6164.5874\t Total Loss: 6176.2969\n"
     ]
    },
    {
     "name": "stderr",
     "output_type": "stream",
     "text": [
      " 16%|█▋        | 820/5000 [07:34<38:43,  1.80it/s]"
     ]
    },
    {
     "name": "stdout",
     "output_type": "stream",
     "text": [
      "Iteration: 810/5000\t MSE eqn: 11.8067\t MSE boundary: 5928.0488\t Total Loss: 5939.8555\n"
     ]
    },
    {
     "name": "stderr",
     "output_type": "stream",
     "text": [
      " 17%|█▋        | 830/5000 [07:39<38:30,  1.80it/s]"
     ]
    },
    {
     "name": "stdout",
     "output_type": "stream",
     "text": [
      "Iteration: 820/5000\t MSE eqn: 11.7227\t MSE boundary: 5716.3599\t Total Loss: 5728.0825\n"
     ]
    },
    {
     "name": "stderr",
     "output_type": "stream",
     "text": [
      " 17%|█▋        | 840/5000 [07:45<38:36,  1.80it/s]"
     ]
    },
    {
     "name": "stdout",
     "output_type": "stream",
     "text": [
      "Iteration: 830/5000\t MSE eqn: 11.8200\t MSE boundary: 4871.3525\t Total Loss: 4883.1724\n"
     ]
    },
    {
     "name": "stderr",
     "output_type": "stream",
     "text": [
      " 17%|█▋        | 850/5000 [07:50<38:37,  1.79it/s]"
     ]
    },
    {
     "name": "stdout",
     "output_type": "stream",
     "text": [
      "Iteration: 840/5000\t MSE eqn: 11.7451\t MSE boundary: 6390.8345\t Total Loss: 6402.5796\n"
     ]
    },
    {
     "name": "stderr",
     "output_type": "stream",
     "text": [
      " 17%|█▋        | 860/5000 [07:56<38:26,  1.79it/s]"
     ]
    },
    {
     "name": "stdout",
     "output_type": "stream",
     "text": [
      "Iteration: 850/5000\t MSE eqn: 11.8249\t MSE boundary: 5946.1812\t Total Loss: 5958.0059\n"
     ]
    },
    {
     "name": "stderr",
     "output_type": "stream",
     "text": [
      " 17%|█▋        | 870/5000 [08:01<38:12,  1.80it/s]"
     ]
    },
    {
     "name": "stdout",
     "output_type": "stream",
     "text": [
      "Iteration: 860/5000\t MSE eqn: 11.9059\t MSE boundary: 6066.4219\t Total Loss: 6078.3276\n"
     ]
    },
    {
     "name": "stderr",
     "output_type": "stream",
     "text": [
      " 18%|█▊        | 880/5000 [08:07<37:56,  1.81it/s]"
     ]
    },
    {
     "name": "stdout",
     "output_type": "stream",
     "text": [
      "Iteration: 870/5000\t MSE eqn: 11.9245\t MSE boundary: 5242.3325\t Total Loss: 5254.2568\n"
     ]
    },
    {
     "name": "stderr",
     "output_type": "stream",
     "text": [
      " 18%|█▊        | 890/5000 [08:12<37:50,  1.81it/s]"
     ]
    },
    {
     "name": "stdout",
     "output_type": "stream",
     "text": [
      "Iteration: 880/5000\t MSE eqn: 11.7049\t MSE boundary: 7026.1841\t Total Loss: 7037.8892\n"
     ]
    },
    {
     "name": "stderr",
     "output_type": "stream",
     "text": [
      " 18%|█▊        | 900/5000 [08:18<37:42,  1.81it/s]"
     ]
    },
    {
     "name": "stdout",
     "output_type": "stream",
     "text": [
      "Iteration: 890/5000\t MSE eqn: 11.8349\t MSE boundary: 5776.6548\t Total Loss: 5788.4897\n"
     ]
    },
    {
     "name": "stderr",
     "output_type": "stream",
     "text": [
      " 18%|█▊        | 910/5000 [08:23<37:26,  1.82it/s]"
     ]
    },
    {
     "name": "stdout",
     "output_type": "stream",
     "text": [
      "Iteration: 900/5000\t MSE eqn: 11.8470\t MSE boundary: 5863.2720\t Total Loss: 5875.1191\n"
     ]
    },
    {
     "name": "stderr",
     "output_type": "stream",
     "text": [
      " 18%|█▊        | 920/5000 [08:29<37:23,  1.82it/s]"
     ]
    },
    {
     "name": "stdout",
     "output_type": "stream",
     "text": [
      "Iteration: 910/5000\t MSE eqn: 11.7106\t MSE boundary: 5656.6763\t Total Loss: 5668.3867\n"
     ]
    },
    {
     "name": "stderr",
     "output_type": "stream",
     "text": [
      " 19%|█▊        | 930/5000 [08:34<37:07,  1.83it/s]"
     ]
    },
    {
     "name": "stdout",
     "output_type": "stream",
     "text": [
      "Iteration: 920/5000\t MSE eqn: 11.7291\t MSE boundary: 6219.9268\t Total Loss: 6231.6558\n"
     ]
    },
    {
     "name": "stderr",
     "output_type": "stream",
     "text": [
      " 19%|█▉        | 940/5000 [08:40<37:00,  1.83it/s]"
     ]
    },
    {
     "name": "stdout",
     "output_type": "stream",
     "text": [
      "Iteration: 930/5000\t MSE eqn: 11.7472\t MSE boundary: 6062.7686\t Total Loss: 6074.5156\n"
     ]
    },
    {
     "name": "stderr",
     "output_type": "stream",
     "text": [
      " 19%|█▉        | 950/5000 [08:45<37:16,  1.81it/s]"
     ]
    },
    {
     "name": "stdout",
     "output_type": "stream",
     "text": [
      "Iteration: 940/5000\t MSE eqn: 11.8148\t MSE boundary: 4983.6006\t Total Loss: 4995.4155\n"
     ]
    },
    {
     "name": "stderr",
     "output_type": "stream",
     "text": [
      " 19%|█▉        | 960/5000 [08:51<37:09,  1.81it/s]"
     ]
    },
    {
     "name": "stdout",
     "output_type": "stream",
     "text": [
      "Iteration: 950/5000\t MSE eqn: 11.7895\t MSE boundary: 5559.8726\t Total Loss: 5571.6621\n"
     ]
    },
    {
     "name": "stderr",
     "output_type": "stream",
     "text": [
      " 19%|█▉        | 970/5000 [08:57<37:57,  1.77it/s]"
     ]
    },
    {
     "name": "stdout",
     "output_type": "stream",
     "text": [
      "Iteration: 960/5000\t MSE eqn: 11.8765\t MSE boundary: 4965.0679\t Total Loss: 4976.9443\n"
     ]
    },
    {
     "name": "stderr",
     "output_type": "stream",
     "text": [
      " 20%|█▉        | 980/5000 [09:03<38:13,  1.75it/s]"
     ]
    },
    {
     "name": "stdout",
     "output_type": "stream",
     "text": [
      "Iteration: 970/5000\t MSE eqn: 11.7906\t MSE boundary: 5623.0854\t Total Loss: 5634.8760\n"
     ]
    },
    {
     "name": "stderr",
     "output_type": "stream",
     "text": [
      " 20%|█▉        | 990/5000 [09:08<37:52,  1.76it/s]"
     ]
    },
    {
     "name": "stdout",
     "output_type": "stream",
     "text": [
      "Iteration: 980/5000\t MSE eqn: 11.8326\t MSE boundary: 6500.2920\t Total Loss: 6512.1245\n"
     ]
    },
    {
     "name": "stderr",
     "output_type": "stream",
     "text": [
      " 20%|██        | 1000/5000 [09:14<37:17,  1.79it/s]"
     ]
    },
    {
     "name": "stdout",
     "output_type": "stream",
     "text": [
      "Iteration: 990/5000\t MSE eqn: 11.7101\t MSE boundary: 5596.7422\t Total Loss: 5608.4521\n"
     ]
    },
    {
     "name": "stderr",
     "output_type": "stream",
     "text": [
      " 20%|██        | 1010/5000 [09:19<37:02,  1.80it/s]"
     ]
    },
    {
     "name": "stdout",
     "output_type": "stream",
     "text": [
      "Iteration: 1000/5000\t MSE eqn: 11.7258\t MSE boundary: 5835.7920\t Total Loss: 5847.5181\n"
     ]
    },
    {
     "name": "stderr",
     "output_type": "stream",
     "text": [
      " 20%|██        | 1020/5000 [09:25<36:40,  1.81it/s]"
     ]
    },
    {
     "name": "stdout",
     "output_type": "stream",
     "text": [
      "Iteration: 1010/5000\t MSE eqn: 11.6868\t MSE boundary: 6174.9736\t Total Loss: 6186.6606\n"
     ]
    },
    {
     "name": "stderr",
     "output_type": "stream",
     "text": [
      " 21%|██        | 1030/5000 [09:30<36:23,  1.82it/s]"
     ]
    },
    {
     "name": "stdout",
     "output_type": "stream",
     "text": [
      "Iteration: 1020/5000\t MSE eqn: 11.9046\t MSE boundary: 5910.7729\t Total Loss: 5922.6777\n"
     ]
    },
    {
     "name": "stderr",
     "output_type": "stream",
     "text": [
      " 21%|██        | 1040/5000 [09:36<36:17,  1.82it/s]"
     ]
    },
    {
     "name": "stdout",
     "output_type": "stream",
     "text": [
      "Iteration: 1030/5000\t MSE eqn: 11.6503\t MSE boundary: 6019.8901\t Total Loss: 6031.5405\n"
     ]
    },
    {
     "name": "stderr",
     "output_type": "stream",
     "text": [
      " 21%|██        | 1050/5000 [09:41<36:20,  1.81it/s]"
     ]
    },
    {
     "name": "stdout",
     "output_type": "stream",
     "text": [
      "Iteration: 1040/5000\t MSE eqn: 11.7526\t MSE boundary: 5610.8667\t Total Loss: 5622.6191\n"
     ]
    },
    {
     "name": "stderr",
     "output_type": "stream",
     "text": [
      " 21%|██        | 1060/5000 [09:47<36:08,  1.82it/s]"
     ]
    },
    {
     "name": "stdout",
     "output_type": "stream",
     "text": [
      "Iteration: 1050/5000\t MSE eqn: 11.8452\t MSE boundary: 6012.7954\t Total Loss: 6024.6406\n"
     ]
    },
    {
     "name": "stderr",
     "output_type": "stream",
     "text": [
      " 21%|██▏       | 1070/5000 [09:52<36:26,  1.80it/s]"
     ]
    },
    {
     "name": "stdout",
     "output_type": "stream",
     "text": [
      "Iteration: 1060/5000\t MSE eqn: 11.8495\t MSE boundary: 5739.5801\t Total Loss: 5751.4297\n"
     ]
    },
    {
     "name": "stderr",
     "output_type": "stream",
     "text": [
      " 22%|██▏       | 1080/5000 [09:58<36:03,  1.81it/s]"
     ]
    },
    {
     "name": "stdout",
     "output_type": "stream",
     "text": [
      "Iteration: 1070/5000\t MSE eqn: 11.6221\t MSE boundary: 5768.2432\t Total Loss: 5779.8652\n"
     ]
    },
    {
     "name": "stderr",
     "output_type": "stream",
     "text": [
      " 22%|██▏       | 1090/5000 [10:03<35:50,  1.82it/s]"
     ]
    },
    {
     "name": "stdout",
     "output_type": "stream",
     "text": [
      "Iteration: 1080/5000\t MSE eqn: 11.8566\t MSE boundary: 6139.8906\t Total Loss: 6151.7471\n"
     ]
    },
    {
     "name": "stderr",
     "output_type": "stream",
     "text": [
      " 22%|██▏       | 1100/5000 [10:09<35:54,  1.81it/s]"
     ]
    },
    {
     "name": "stdout",
     "output_type": "stream",
     "text": [
      "Iteration: 1090/5000\t MSE eqn: 11.8661\t MSE boundary: 4952.6392\t Total Loss: 4964.5054\n"
     ]
    },
    {
     "name": "stderr",
     "output_type": "stream",
     "text": [
      " 22%|██▏       | 1110/5000 [10:14<35:40,  1.82it/s]"
     ]
    },
    {
     "name": "stdout",
     "output_type": "stream",
     "text": [
      "Iteration: 1100/5000\t MSE eqn: 11.8214\t MSE boundary: 5428.4780\t Total Loss: 5440.2993\n"
     ]
    },
    {
     "name": "stderr",
     "output_type": "stream",
     "text": [
      " 22%|██▏       | 1120/5000 [10:20<35:32,  1.82it/s]"
     ]
    },
    {
     "name": "stdout",
     "output_type": "stream",
     "text": [
      "Iteration: 1110/5000\t MSE eqn: 11.6054\t MSE boundary: 5466.5469\t Total Loss: 5478.1523\n"
     ]
    },
    {
     "name": "stderr",
     "output_type": "stream",
     "text": [
      " 23%|██▎       | 1130/5000 [10:25<35:44,  1.80it/s]"
     ]
    },
    {
     "name": "stdout",
     "output_type": "stream",
     "text": [
      "Iteration: 1120/5000\t MSE eqn: 11.6271\t MSE boundary: 6376.6616\t Total Loss: 6388.2886\n"
     ]
    },
    {
     "name": "stderr",
     "output_type": "stream",
     "text": [
      " 23%|██▎       | 1140/5000 [10:31<35:25,  1.82it/s]"
     ]
    },
    {
     "name": "stdout",
     "output_type": "stream",
     "text": [
      "Iteration: 1130/5000\t MSE eqn: 11.9452\t MSE boundary: 6154.0791\t Total Loss: 6166.0244\n"
     ]
    },
    {
     "name": "stderr",
     "output_type": "stream",
     "text": [
      " 23%|██▎       | 1150/5000 [10:36<35:39,  1.80it/s]"
     ]
    },
    {
     "name": "stdout",
     "output_type": "stream",
     "text": [
      "Iteration: 1140/5000\t MSE eqn: 11.8903\t MSE boundary: 5489.1792\t Total Loss: 5501.0693\n"
     ]
    },
    {
     "name": "stderr",
     "output_type": "stream",
     "text": [
      " 23%|██▎       | 1160/5000 [10:42<35:25,  1.81it/s]"
     ]
    },
    {
     "name": "stdout",
     "output_type": "stream",
     "text": [
      "Iteration: 1150/5000\t MSE eqn: 11.8937\t MSE boundary: 6584.2646\t Total Loss: 6596.1582\n"
     ]
    },
    {
     "name": "stderr",
     "output_type": "stream",
     "text": [
      " 23%|██▎       | 1170/5000 [10:47<35:06,  1.82it/s]"
     ]
    },
    {
     "name": "stdout",
     "output_type": "stream",
     "text": [
      "Iteration: 1160/5000\t MSE eqn: 11.7706\t MSE boundary: 6997.3647\t Total Loss: 7009.1353\n"
     ]
    },
    {
     "name": "stderr",
     "output_type": "stream",
     "text": [
      " 24%|██▎       | 1180/5000 [10:53<35:44,  1.78it/s]"
     ]
    },
    {
     "name": "stdout",
     "output_type": "stream",
     "text": [
      "Iteration: 1170/5000\t MSE eqn: 11.7954\t MSE boundary: 5704.3682\t Total Loss: 5716.1636\n"
     ]
    },
    {
     "name": "stderr",
     "output_type": "stream",
     "text": [
      " 24%|██▍       | 1190/5000 [10:59<36:02,  1.76it/s]"
     ]
    },
    {
     "name": "stdout",
     "output_type": "stream",
     "text": [
      "Iteration: 1180/5000\t MSE eqn: 11.6749\t MSE boundary: 5712.1216\t Total Loss: 5723.7964\n"
     ]
    },
    {
     "name": "stderr",
     "output_type": "stream",
     "text": [
      " 24%|██▍       | 1200/5000 [11:05<35:41,  1.77it/s]"
     ]
    },
    {
     "name": "stdout",
     "output_type": "stream",
     "text": [
      "Iteration: 1190/5000\t MSE eqn: 11.8064\t MSE boundary: 5836.7476\t Total Loss: 5848.5542\n"
     ]
    },
    {
     "name": "stderr",
     "output_type": "stream",
     "text": [
      " 24%|██▍       | 1210/5000 [11:10<35:33,  1.78it/s]"
     ]
    },
    {
     "name": "stdout",
     "output_type": "stream",
     "text": [
      "Iteration: 1200/5000\t MSE eqn: 11.7375\t MSE boundary: 6320.5059\t Total Loss: 6332.2432\n"
     ]
    },
    {
     "name": "stderr",
     "output_type": "stream",
     "text": [
      " 24%|██▍       | 1220/5000 [11:16<35:07,  1.79it/s]"
     ]
    },
    {
     "name": "stdout",
     "output_type": "stream",
     "text": [
      "Iteration: 1210/5000\t MSE eqn: 11.7477\t MSE boundary: 5097.1475\t Total Loss: 5108.8950\n"
     ]
    },
    {
     "name": "stderr",
     "output_type": "stream",
     "text": [
      " 25%|██▍       | 1230/5000 [11:21<34:58,  1.80it/s]"
     ]
    },
    {
     "name": "stdout",
     "output_type": "stream",
     "text": [
      "Iteration: 1220/5000\t MSE eqn: 11.6984\t MSE boundary: 6600.4380\t Total Loss: 6612.1362\n"
     ]
    },
    {
     "name": "stderr",
     "output_type": "stream",
     "text": [
      " 25%|██▍       | 1240/5000 [11:27<35:01,  1.79it/s]"
     ]
    },
    {
     "name": "stdout",
     "output_type": "stream",
     "text": [
      "Iteration: 1230/5000\t MSE eqn: 11.7500\t MSE boundary: 4799.5259\t Total Loss: 4811.2759\n"
     ]
    },
    {
     "name": "stderr",
     "output_type": "stream",
     "text": [
      " 25%|██▌       | 1250/5000 [11:32<34:49,  1.79it/s]"
     ]
    },
    {
     "name": "stdout",
     "output_type": "stream",
     "text": [
      "Iteration: 1240/5000\t MSE eqn: 11.7276\t MSE boundary: 6343.3159\t Total Loss: 6355.0435\n"
     ]
    },
    {
     "name": "stderr",
     "output_type": "stream",
     "text": [
      " 25%|██▌       | 1260/5000 [11:38<34:21,  1.81it/s]"
     ]
    },
    {
     "name": "stdout",
     "output_type": "stream",
     "text": [
      "Iteration: 1250/5000\t MSE eqn: 11.7801\t MSE boundary: 5741.1431\t Total Loss: 5752.9233\n"
     ]
    },
    {
     "name": "stderr",
     "output_type": "stream",
     "text": [
      " 25%|██▌       | 1270/5000 [11:43<34:32,  1.80it/s]"
     ]
    },
    {
     "name": "stdout",
     "output_type": "stream",
     "text": [
      "Iteration: 1260/5000\t MSE eqn: 11.8929\t MSE boundary: 4849.3130\t Total Loss: 4861.2061\n"
     ]
    },
    {
     "name": "stderr",
     "output_type": "stream",
     "text": [
      " 26%|██▌       | 1280/5000 [11:49<34:33,  1.79it/s]"
     ]
    },
    {
     "name": "stdout",
     "output_type": "stream",
     "text": [
      "Iteration: 1270/5000\t MSE eqn: 11.7484\t MSE boundary: 5366.2695\t Total Loss: 5378.0181\n"
     ]
    },
    {
     "name": "stderr",
     "output_type": "stream",
     "text": [
      " 26%|██▌       | 1290/5000 [11:54<34:12,  1.81it/s]"
     ]
    },
    {
     "name": "stdout",
     "output_type": "stream",
     "text": [
      "Iteration: 1280/5000\t MSE eqn: 11.9433\t MSE boundary: 5865.4058\t Total Loss: 5877.3491\n"
     ]
    },
    {
     "name": "stderr",
     "output_type": "stream",
     "text": [
      " 26%|██▌       | 1300/5000 [12:00<34:23,  1.79it/s]"
     ]
    },
    {
     "name": "stdout",
     "output_type": "stream",
     "text": [
      "Iteration: 1290/5000\t MSE eqn: 11.7141\t MSE boundary: 6109.0625\t Total Loss: 6120.7769\n"
     ]
    },
    {
     "name": "stderr",
     "output_type": "stream",
     "text": [
      " 26%|██▌       | 1310/5000 [12:06<34:01,  1.81it/s]"
     ]
    },
    {
     "name": "stdout",
     "output_type": "stream",
     "text": [
      "Iteration: 1300/5000\t MSE eqn: 11.7718\t MSE boundary: 5417.6133\t Total Loss: 5429.3853\n"
     ]
    },
    {
     "name": "stderr",
     "output_type": "stream",
     "text": [
      " 26%|██▋       | 1320/5000 [12:11<33:56,  1.81it/s]"
     ]
    },
    {
     "name": "stdout",
     "output_type": "stream",
     "text": [
      "Iteration: 1310/5000\t MSE eqn: 11.9361\t MSE boundary: 5495.9580\t Total Loss: 5507.8940\n"
     ]
    },
    {
     "name": "stderr",
     "output_type": "stream",
     "text": [
      " 27%|██▋       | 1330/5000 [12:17<34:14,  1.79it/s]"
     ]
    },
    {
     "name": "stdout",
     "output_type": "stream",
     "text": [
      "Iteration: 1320/5000\t MSE eqn: 11.6972\t MSE boundary: 5838.4434\t Total Loss: 5850.1406\n"
     ]
    },
    {
     "name": "stderr",
     "output_type": "stream",
     "text": [
      " 27%|██▋       | 1340/5000 [12:22<33:51,  1.80it/s]"
     ]
    },
    {
     "name": "stdout",
     "output_type": "stream",
     "text": [
      "Iteration: 1330/5000\t MSE eqn: 11.7807\t MSE boundary: 5458.4727\t Total Loss: 5470.2534\n"
     ]
    },
    {
     "name": "stderr",
     "output_type": "stream",
     "text": [
      " 27%|██▋       | 1350/5000 [12:28<33:26,  1.82it/s]"
     ]
    },
    {
     "name": "stdout",
     "output_type": "stream",
     "text": [
      "Iteration: 1340/5000\t MSE eqn: 11.7533\t MSE boundary: 5357.7827\t Total Loss: 5369.5361\n"
     ]
    },
    {
     "name": "stderr",
     "output_type": "stream",
     "text": [
      " 27%|██▋       | 1360/5000 [12:33<33:34,  1.81it/s]"
     ]
    },
    {
     "name": "stdout",
     "output_type": "stream",
     "text": [
      "Iteration: 1350/5000\t MSE eqn: 11.6631\t MSE boundary: 5286.6304\t Total Loss: 5298.2935\n"
     ]
    },
    {
     "name": "stderr",
     "output_type": "stream",
     "text": [
      " 27%|██▋       | 1370/5000 [12:39<33:16,  1.82it/s]"
     ]
    },
    {
     "name": "stdout",
     "output_type": "stream",
     "text": [
      "Iteration: 1360/5000\t MSE eqn: 11.7922\t MSE boundary: 5454.2314\t Total Loss: 5466.0234\n"
     ]
    },
    {
     "name": "stderr",
     "output_type": "stream",
     "text": [
      " 28%|██▊       | 1380/5000 [12:44<33:11,  1.82it/s]"
     ]
    },
    {
     "name": "stdout",
     "output_type": "stream",
     "text": [
      "Iteration: 1370/5000\t MSE eqn: 11.7249\t MSE boundary: 5119.5166\t Total Loss: 5131.2417\n"
     ]
    },
    {
     "name": "stderr",
     "output_type": "stream",
     "text": [
      " 28%|██▊       | 1390/5000 [12:50<33:17,  1.81it/s]"
     ]
    },
    {
     "name": "stdout",
     "output_type": "stream",
     "text": [
      "Iteration: 1380/5000\t MSE eqn: 11.8750\t MSE boundary: 5192.3745\t Total Loss: 5204.2495\n"
     ]
    },
    {
     "name": "stderr",
     "output_type": "stream",
     "text": [
      " 28%|██▊       | 1400/5000 [12:56<34:04,  1.76it/s]"
     ]
    },
    {
     "name": "stdout",
     "output_type": "stream",
     "text": [
      "Iteration: 1390/5000\t MSE eqn: 11.8265\t MSE boundary: 5262.7832\t Total Loss: 5274.6099\n"
     ]
    },
    {
     "name": "stderr",
     "output_type": "stream",
     "text": [
      " 28%|██▊       | 1410/5000 [13:02<33:56,  1.76it/s]"
     ]
    },
    {
     "name": "stdout",
     "output_type": "stream",
     "text": [
      "Iteration: 1400/5000\t MSE eqn: 11.7722\t MSE boundary: 5900.4141\t Total Loss: 5912.1860\n"
     ]
    },
    {
     "name": "stderr",
     "output_type": "stream",
     "text": [
      " 28%|██▊       | 1420/5000 [13:07<33:37,  1.77it/s]"
     ]
    },
    {
     "name": "stdout",
     "output_type": "stream",
     "text": [
      "Iteration: 1410/5000\t MSE eqn: 11.8121\t MSE boundary: 5279.3042\t Total Loss: 5291.1162\n"
     ]
    },
    {
     "name": "stderr",
     "output_type": "stream",
     "text": [
      " 29%|██▊       | 1430/5000 [13:12<33:07,  1.80it/s]"
     ]
    },
    {
     "name": "stdout",
     "output_type": "stream",
     "text": [
      "Iteration: 1420/5000\t MSE eqn: 11.7643\t MSE boundary: 5808.5806\t Total Loss: 5820.3447\n"
     ]
    },
    {
     "name": "stderr",
     "output_type": "stream",
     "text": [
      " 29%|██▉       | 1440/5000 [13:18<33:07,  1.79it/s]"
     ]
    },
    {
     "name": "stdout",
     "output_type": "stream",
     "text": [
      "Iteration: 1430/5000\t MSE eqn: 11.6526\t MSE boundary: 6570.2261\t Total Loss: 6581.8789\n"
     ]
    },
    {
     "name": "stderr",
     "output_type": "stream",
     "text": [
      " 29%|██▉       | 1450/5000 [13:24<32:55,  1.80it/s]"
     ]
    },
    {
     "name": "stdout",
     "output_type": "stream",
     "text": [
      "Iteration: 1440/5000\t MSE eqn: 11.8137\t MSE boundary: 5754.7529\t Total Loss: 5766.5669\n"
     ]
    },
    {
     "name": "stderr",
     "output_type": "stream",
     "text": [
      " 29%|██▉       | 1460/5000 [13:29<32:36,  1.81it/s]"
     ]
    },
    {
     "name": "stdout",
     "output_type": "stream",
     "text": [
      "Iteration: 1450/5000\t MSE eqn: 11.6938\t MSE boundary: 6437.4839\t Total Loss: 6449.1777\n"
     ]
    },
    {
     "name": "stderr",
     "output_type": "stream",
     "text": [
      " 29%|██▉       | 1470/5000 [13:35<32:40,  1.80it/s]"
     ]
    },
    {
     "name": "stdout",
     "output_type": "stream",
     "text": [
      "Iteration: 1460/5000\t MSE eqn: 11.9347\t MSE boundary: 5438.6904\t Total Loss: 5450.6250\n"
     ]
    },
    {
     "name": "stderr",
     "output_type": "stream",
     "text": [
      " 30%|██▉       | 1480/5000 [13:40<32:23,  1.81it/s]"
     ]
    },
    {
     "name": "stdout",
     "output_type": "stream",
     "text": [
      "Iteration: 1470/5000\t MSE eqn: 11.7131\t MSE boundary: 6015.6353\t Total Loss: 6027.3481\n"
     ]
    },
    {
     "name": "stderr",
     "output_type": "stream",
     "text": [
      " 30%|██▉       | 1490/5000 [13:46<32:10,  1.82it/s]"
     ]
    },
    {
     "name": "stdout",
     "output_type": "stream",
     "text": [
      "Iteration: 1480/5000\t MSE eqn: 11.8083\t MSE boundary: 5514.4644\t Total Loss: 5526.2725\n"
     ]
    },
    {
     "name": "stderr",
     "output_type": "stream",
     "text": [
      " 30%|███       | 1500/5000 [13:51<32:08,  1.82it/s]"
     ]
    },
    {
     "name": "stdout",
     "output_type": "stream",
     "text": [
      "Iteration: 1490/5000\t MSE eqn: 11.6722\t MSE boundary: 5230.7583\t Total Loss: 5242.4307\n"
     ]
    },
    {
     "name": "stderr",
     "output_type": "stream",
     "text": [
      " 30%|███       | 1510/5000 [13:57<31:54,  1.82it/s]"
     ]
    },
    {
     "name": "stdout",
     "output_type": "stream",
     "text": [
      "Iteration: 1500/5000\t MSE eqn: 11.6883\t MSE boundary: 6356.9160\t Total Loss: 6368.6045\n"
     ]
    },
    {
     "name": "stderr",
     "output_type": "stream",
     "text": [
      " 30%|███       | 1520/5000 [14:02<31:53,  1.82it/s]"
     ]
    },
    {
     "name": "stdout",
     "output_type": "stream",
     "text": [
      "Iteration: 1510/5000\t MSE eqn: 11.8710\t MSE boundary: 5307.6875\t Total Loss: 5319.5586\n"
     ]
    },
    {
     "name": "stderr",
     "output_type": "stream",
     "text": [
      " 31%|███       | 1530/5000 [14:08<32:00,  1.81it/s]"
     ]
    },
    {
     "name": "stdout",
     "output_type": "stream",
     "text": [
      "Iteration: 1520/5000\t MSE eqn: 11.6723\t MSE boundary: 6192.5063\t Total Loss: 6204.1787\n"
     ]
    },
    {
     "name": "stderr",
     "output_type": "stream",
     "text": [
      " 31%|███       | 1540/5000 [14:13<31:43,  1.82it/s]"
     ]
    },
    {
     "name": "stdout",
     "output_type": "stream",
     "text": [
      "Iteration: 1530/5000\t MSE eqn: 11.6006\t MSE boundary: 5851.8120\t Total Loss: 5863.4126\n"
     ]
    },
    {
     "name": "stderr",
     "output_type": "stream",
     "text": [
      " 31%|███       | 1550/5000 [14:19<31:37,  1.82it/s]"
     ]
    },
    {
     "name": "stdout",
     "output_type": "stream",
     "text": [
      "Iteration: 1540/5000\t MSE eqn: 11.7305\t MSE boundary: 5794.4302\t Total Loss: 5806.1606\n"
     ]
    },
    {
     "name": "stderr",
     "output_type": "stream",
     "text": [
      " 31%|███       | 1560/5000 [14:24<31:53,  1.80it/s]"
     ]
    },
    {
     "name": "stdout",
     "output_type": "stream",
     "text": [
      "Iteration: 1550/5000\t MSE eqn: 11.7577\t MSE boundary: 5808.3286\t Total Loss: 5820.0864\n"
     ]
    },
    {
     "name": "stderr",
     "output_type": "stream",
     "text": [
      " 31%|███▏      | 1570/5000 [14:30<31:33,  1.81it/s]"
     ]
    },
    {
     "name": "stdout",
     "output_type": "stream",
     "text": [
      "Iteration: 1560/5000\t MSE eqn: 11.8012\t MSE boundary: 5598.4614\t Total Loss: 5610.2627\n"
     ]
    },
    {
     "name": "stderr",
     "output_type": "stream",
     "text": [
      " 32%|███▏      | 1580/5000 [14:35<31:20,  1.82it/s]"
     ]
    },
    {
     "name": "stdout",
     "output_type": "stream",
     "text": [
      "Iteration: 1570/5000\t MSE eqn: 11.6835\t MSE boundary: 5510.8740\t Total Loss: 5522.5576\n"
     ]
    },
    {
     "name": "stderr",
     "output_type": "stream",
     "text": [
      " 32%|███▏      | 1590/5000 [14:41<31:39,  1.80it/s]"
     ]
    },
    {
     "name": "stdout",
     "output_type": "stream",
     "text": [
      "Iteration: 1580/5000\t MSE eqn: 11.7859\t MSE boundary: 4963.6997\t Total Loss: 4975.4858\n"
     ]
    },
    {
     "name": "stderr",
     "output_type": "stream",
     "text": [
      " 32%|███▏      | 1600/5000 [14:46<31:28,  1.80it/s]"
     ]
    },
    {
     "name": "stdout",
     "output_type": "stream",
     "text": [
      "Iteration: 1590/5000\t MSE eqn: 11.7727\t MSE boundary: 5040.4922\t Total Loss: 5052.2646\n"
     ]
    },
    {
     "name": "stderr",
     "output_type": "stream",
     "text": [
      " 32%|███▏      | 1610/5000 [14:52<31:24,  1.80it/s]"
     ]
    },
    {
     "name": "stdout",
     "output_type": "stream",
     "text": [
      "Iteration: 1600/5000\t MSE eqn: 11.6217\t MSE boundary: 5522.7148\t Total Loss: 5534.3364\n"
     ]
    },
    {
     "name": "stderr",
     "output_type": "stream",
     "text": [
      " 32%|███▏      | 1620/5000 [14:58<32:19,  1.74it/s]"
     ]
    },
    {
     "name": "stdout",
     "output_type": "stream",
     "text": [
      "Iteration: 1610/5000\t MSE eqn: 11.7696\t MSE boundary: 5247.3418\t Total Loss: 5259.1113\n"
     ]
    },
    {
     "name": "stderr",
     "output_type": "stream",
     "text": [
      " 33%|███▎      | 1630/5000 [15:04<31:50,  1.76it/s]"
     ]
    },
    {
     "name": "stdout",
     "output_type": "stream",
     "text": [
      "Iteration: 1620/5000\t MSE eqn: 11.7227\t MSE boundary: 5497.8911\t Total Loss: 5509.6138\n"
     ]
    },
    {
     "name": "stderr",
     "output_type": "stream",
     "text": [
      " 33%|███▎      | 1640/5000 [15:09<31:40,  1.77it/s]"
     ]
    },
    {
     "name": "stdout",
     "output_type": "stream",
     "text": [
      "Iteration: 1630/5000\t MSE eqn: 11.7207\t MSE boundary: 5617.0474\t Total Loss: 5628.7681\n"
     ]
    },
    {
     "name": "stderr",
     "output_type": "stream",
     "text": [
      " 33%|███▎      | 1650/5000 [15:15<31:13,  1.79it/s]"
     ]
    },
    {
     "name": "stdout",
     "output_type": "stream",
     "text": [
      "Iteration: 1640/5000\t MSE eqn: 11.7834\t MSE boundary: 6573.1763\t Total Loss: 6584.9595\n"
     ]
    },
    {
     "name": "stderr",
     "output_type": "stream",
     "text": [
      " 33%|███▎      | 1660/5000 [15:20<30:55,  1.80it/s]"
     ]
    },
    {
     "name": "stdout",
     "output_type": "stream",
     "text": [
      "Iteration: 1650/5000\t MSE eqn: 11.6970\t MSE boundary: 5821.4448\t Total Loss: 5833.1416\n"
     ]
    },
    {
     "name": "stderr",
     "output_type": "stream",
     "text": [
      " 33%|███▎      | 1670/5000 [15:26<30:52,  1.80it/s]"
     ]
    },
    {
     "name": "stdout",
     "output_type": "stream",
     "text": [
      "Iteration: 1660/5000\t MSE eqn: 11.7739\t MSE boundary: 5586.4814\t Total Loss: 5598.2554\n"
     ]
    },
    {
     "name": "stderr",
     "output_type": "stream",
     "text": [
      " 34%|███▎      | 1680/5000 [15:31<30:57,  1.79it/s]"
     ]
    },
    {
     "name": "stdout",
     "output_type": "stream",
     "text": [
      "Iteration: 1670/5000\t MSE eqn: 11.8740\t MSE boundary: 5595.1431\t Total Loss: 5607.0171\n"
     ]
    },
    {
     "name": "stderr",
     "output_type": "stream",
     "text": [
      " 34%|███▍      | 1690/5000 [15:37<30:42,  1.80it/s]"
     ]
    },
    {
     "name": "stdout",
     "output_type": "stream",
     "text": [
      "Iteration: 1680/5000\t MSE eqn: 11.7018\t MSE boundary: 5428.8823\t Total Loss: 5440.5840\n"
     ]
    },
    {
     "name": "stderr",
     "output_type": "stream",
     "text": [
      " 34%|███▍      | 1700/5000 [15:43<30:39,  1.79it/s]"
     ]
    },
    {
     "name": "stdout",
     "output_type": "stream",
     "text": [
      "Iteration: 1690/5000\t MSE eqn: 11.7165\t MSE boundary: 6601.9668\t Total Loss: 6613.6831\n"
     ]
    },
    {
     "name": "stderr",
     "output_type": "stream",
     "text": [
      " 34%|███▍      | 1710/5000 [15:48<30:29,  1.80it/s]"
     ]
    },
    {
     "name": "stdout",
     "output_type": "stream",
     "text": [
      "Iteration: 1700/5000\t MSE eqn: 11.7879\t MSE boundary: 5629.7065\t Total Loss: 5641.4946\n"
     ]
    },
    {
     "name": "stderr",
     "output_type": "stream",
     "text": [
      " 34%|███▍      | 1720/5000 [15:53<30:08,  1.81it/s]"
     ]
    },
    {
     "name": "stdout",
     "output_type": "stream",
     "text": [
      "Iteration: 1710/5000\t MSE eqn: 11.8367\t MSE boundary: 5911.1948\t Total Loss: 5923.0312\n"
     ]
    },
    {
     "name": "stderr",
     "output_type": "stream",
     "text": [
      " 35%|███▍      | 1730/5000 [15:59<30:19,  1.80it/s]"
     ]
    },
    {
     "name": "stdout",
     "output_type": "stream",
     "text": [
      "Iteration: 1720/5000\t MSE eqn: 11.7242\t MSE boundary: 6193.4888\t Total Loss: 6205.2129\n"
     ]
    },
    {
     "name": "stderr",
     "output_type": "stream",
     "text": [
      " 35%|███▍      | 1740/5000 [16:05<30:12,  1.80it/s]"
     ]
    },
    {
     "name": "stdout",
     "output_type": "stream",
     "text": [
      "Iteration: 1730/5000\t MSE eqn: 11.7163\t MSE boundary: 5820.9502\t Total Loss: 5832.6665\n"
     ]
    },
    {
     "name": "stderr",
     "output_type": "stream",
     "text": [
      " 35%|███▌      | 1750/5000 [16:10<29:55,  1.81it/s]"
     ]
    },
    {
     "name": "stdout",
     "output_type": "stream",
     "text": [
      "Iteration: 1740/5000\t MSE eqn: 11.5438\t MSE boundary: 6175.7334\t Total Loss: 6187.2773\n"
     ]
    },
    {
     "name": "stderr",
     "output_type": "stream",
     "text": [
      " 35%|███▌      | 1760/5000 [16:16<29:50,  1.81it/s]"
     ]
    },
    {
     "name": "stdout",
     "output_type": "stream",
     "text": [
      "Iteration: 1750/5000\t MSE eqn: 11.6860\t MSE boundary: 6422.4258\t Total Loss: 6434.1118\n"
     ]
    },
    {
     "name": "stderr",
     "output_type": "stream",
     "text": [
      " 35%|███▌      | 1770/5000 [16:21<29:40,  1.81it/s]"
     ]
    },
    {
     "name": "stdout",
     "output_type": "stream",
     "text": [
      "Iteration: 1760/5000\t MSE eqn: 11.7693\t MSE boundary: 5663.7993\t Total Loss: 5675.5684\n"
     ]
    },
    {
     "name": "stderr",
     "output_type": "stream",
     "text": [
      " 36%|███▌      | 1780/5000 [16:27<29:31,  1.82it/s]"
     ]
    },
    {
     "name": "stdout",
     "output_type": "stream",
     "text": [
      "Iteration: 1770/5000\t MSE eqn: 11.7885\t MSE boundary: 5951.9834\t Total Loss: 5963.7720\n"
     ]
    },
    {
     "name": "stderr",
     "output_type": "stream",
     "text": [
      " 36%|███▌      | 1790/5000 [16:32<29:39,  1.80it/s]"
     ]
    },
    {
     "name": "stdout",
     "output_type": "stream",
     "text": [
      "Iteration: 1780/5000\t MSE eqn: 11.6429\t MSE boundary: 6093.9434\t Total Loss: 6105.5864\n"
     ]
    },
    {
     "name": "stderr",
     "output_type": "stream",
     "text": [
      " 36%|███▌      | 1800/5000 [16:38<29:31,  1.81it/s]"
     ]
    },
    {
     "name": "stdout",
     "output_type": "stream",
     "text": [
      "Iteration: 1790/5000\t MSE eqn: 11.9064\t MSE boundary: 5232.2847\t Total Loss: 5244.1909\n"
     ]
    },
    {
     "name": "stderr",
     "output_type": "stream",
     "text": [
      " 36%|███▌      | 1810/5000 [16:43<29:20,  1.81it/s]"
     ]
    },
    {
     "name": "stdout",
     "output_type": "stream",
     "text": [
      "Iteration: 1800/5000\t MSE eqn: 11.8039\t MSE boundary: 6599.5283\t Total Loss: 6611.3320\n"
     ]
    },
    {
     "name": "stderr",
     "output_type": "stream",
     "text": [
      " 36%|███▋      | 1820/5000 [16:49<29:21,  1.81it/s]"
     ]
    },
    {
     "name": "stdout",
     "output_type": "stream",
     "text": [
      "Iteration: 1810/5000\t MSE eqn: 11.8312\t MSE boundary: 6217.5459\t Total Loss: 6229.3770\n"
     ]
    },
    {
     "name": "stderr",
     "output_type": "stream",
     "text": [
      " 37%|███▋      | 1830/5000 [16:55<29:47,  1.77it/s]"
     ]
    },
    {
     "name": "stdout",
     "output_type": "stream",
     "text": [
      "Iteration: 1820/5000\t MSE eqn: 11.6527\t MSE boundary: 5433.9028\t Total Loss: 5445.5557\n"
     ]
    },
    {
     "name": "stderr",
     "output_type": "stream",
     "text": [
      " 37%|███▋      | 1840/5000 [17:00<29:42,  1.77it/s]"
     ]
    },
    {
     "name": "stdout",
     "output_type": "stream",
     "text": [
      "Iteration: 1830/5000\t MSE eqn: 11.7473\t MSE boundary: 6586.0723\t Total Loss: 6597.8193\n"
     ]
    },
    {
     "name": "stderr",
     "output_type": "stream",
     "text": [
      " 37%|███▋      | 1850/5000 [17:06<29:29,  1.78it/s]"
     ]
    },
    {
     "name": "stdout",
     "output_type": "stream",
     "text": [
      "Iteration: 1840/5000\t MSE eqn: 11.7587\t MSE boundary: 6353.6138\t Total Loss: 6365.3726\n"
     ]
    },
    {
     "name": "stderr",
     "output_type": "stream",
     "text": [
      " 37%|███▋      | 1860/5000 [17:11<29:08,  1.80it/s]"
     ]
    },
    {
     "name": "stdout",
     "output_type": "stream",
     "text": [
      "Iteration: 1850/5000\t MSE eqn: 11.7999\t MSE boundary: 6311.2480\t Total Loss: 6323.0479\n"
     ]
    },
    {
     "name": "stderr",
     "output_type": "stream",
     "text": [
      " 37%|███▋      | 1870/5000 [17:17<29:00,  1.80it/s]"
     ]
    },
    {
     "name": "stdout",
     "output_type": "stream",
     "text": [
      "Iteration: 1860/5000\t MSE eqn: 11.7401\t MSE boundary: 5986.3462\t Total Loss: 5998.0864\n"
     ]
    },
    {
     "name": "stderr",
     "output_type": "stream",
     "text": [
      " 38%|███▊      | 1880/5000 [17:23<28:55,  1.80it/s]"
     ]
    },
    {
     "name": "stdout",
     "output_type": "stream",
     "text": [
      "Iteration: 1870/5000\t MSE eqn: 11.8725\t MSE boundary: 4950.2407\t Total Loss: 4962.1133\n"
     ]
    },
    {
     "name": "stderr",
     "output_type": "stream",
     "text": [
      " 38%|███▊      | 1890/5000 [17:28<28:49,  1.80it/s]"
     ]
    },
    {
     "name": "stdout",
     "output_type": "stream",
     "text": [
      "Iteration: 1880/5000\t MSE eqn: 11.7339\t MSE boundary: 5241.9360\t Total Loss: 5253.6699\n"
     ]
    },
    {
     "name": "stderr",
     "output_type": "stream",
     "text": [
      " 38%|███▊      | 1900/5000 [17:34<28:54,  1.79it/s]"
     ]
    },
    {
     "name": "stdout",
     "output_type": "stream",
     "text": [
      "Iteration: 1890/5000\t MSE eqn: 11.7844\t MSE boundary: 5648.7158\t Total Loss: 5660.5005\n"
     ]
    },
    {
     "name": "stderr",
     "output_type": "stream",
     "text": [
      " 38%|███▊      | 1910/5000 [17:39<28:45,  1.79it/s]"
     ]
    },
    {
     "name": "stdout",
     "output_type": "stream",
     "text": [
      "Iteration: 1900/5000\t MSE eqn: 11.7287\t MSE boundary: 6617.0815\t Total Loss: 6628.8101\n"
     ]
    },
    {
     "name": "stderr",
     "output_type": "stream",
     "text": [
      " 38%|███▊      | 1920/5000 [17:45<28:27,  1.80it/s]"
     ]
    },
    {
     "name": "stdout",
     "output_type": "stream",
     "text": [
      "Iteration: 1910/5000\t MSE eqn: 11.7209\t MSE boundary: 5394.7471\t Total Loss: 5406.4678\n"
     ]
    },
    {
     "name": "stderr",
     "output_type": "stream",
     "text": [
      " 39%|███▊      | 1930/5000 [17:50<28:21,  1.80it/s]"
     ]
    },
    {
     "name": "stdout",
     "output_type": "stream",
     "text": [
      "Iteration: 1920/5000\t MSE eqn: 11.7756\t MSE boundary: 5822.4907\t Total Loss: 5834.2666\n"
     ]
    },
    {
     "name": "stderr",
     "output_type": "stream",
     "text": [
      " 39%|███▉      | 1940/5000 [17:56<28:06,  1.81it/s]"
     ]
    },
    {
     "name": "stdout",
     "output_type": "stream",
     "text": [
      "Iteration: 1930/5000\t MSE eqn: 11.8059\t MSE boundary: 6825.6064\t Total Loss: 6837.4126\n"
     ]
    },
    {
     "name": "stderr",
     "output_type": "stream",
     "text": [
      " 39%|███▉      | 1950/5000 [18:01<27:54,  1.82it/s]"
     ]
    },
    {
     "name": "stdout",
     "output_type": "stream",
     "text": [
      "Iteration: 1940/5000\t MSE eqn: 11.7700\t MSE boundary: 5705.7754\t Total Loss: 5717.5454\n"
     ]
    },
    {
     "name": "stderr",
     "output_type": "stream",
     "text": [
      " 39%|███▉      | 1960/5000 [18:07<27:58,  1.81it/s]"
     ]
    },
    {
     "name": "stdout",
     "output_type": "stream",
     "text": [
      "Iteration: 1950/5000\t MSE eqn: 11.7780\t MSE boundary: 5469.7583\t Total Loss: 5481.5361\n"
     ]
    },
    {
     "name": "stderr",
     "output_type": "stream",
     "text": [
      " 39%|███▉      | 1970/5000 [18:12<27:47,  1.82it/s]"
     ]
    },
    {
     "name": "stdout",
     "output_type": "stream",
     "text": [
      "Iteration: 1960/5000\t MSE eqn: 11.8062\t MSE boundary: 5381.6494\t Total Loss: 5393.4556\n"
     ]
    },
    {
     "name": "stderr",
     "output_type": "stream",
     "text": [
      " 40%|███▉      | 1980/5000 [18:18<27:48,  1.81it/s]"
     ]
    },
    {
     "name": "stdout",
     "output_type": "stream",
     "text": [
      "Iteration: 1970/5000\t MSE eqn: 11.7113\t MSE boundary: 5967.6318\t Total Loss: 5979.3433\n"
     ]
    },
    {
     "name": "stderr",
     "output_type": "stream",
     "text": [
      " 40%|███▉      | 1990/5000 [18:23<27:50,  1.80it/s]"
     ]
    },
    {
     "name": "stdout",
     "output_type": "stream",
     "text": [
      "Iteration: 1980/5000\t MSE eqn: 11.7212\t MSE boundary: 5430.0972\t Total Loss: 5441.8184\n"
     ]
    },
    {
     "name": "stderr",
     "output_type": "stream",
     "text": [
      " 40%|████      | 2000/5000 [18:29<27:43,  1.80it/s]"
     ]
    },
    {
     "name": "stdout",
     "output_type": "stream",
     "text": [
      "Iteration: 1990/5000\t MSE eqn: 11.6992\t MSE boundary: 6224.9976\t Total Loss: 6236.6968\n"
     ]
    },
    {
     "name": "stderr",
     "output_type": "stream",
     "text": [
      " 40%|████      | 2010/5000 [18:34<27:31,  1.81it/s]"
     ]
    },
    {
     "name": "stdout",
     "output_type": "stream",
     "text": [
      "Iteration: 2000/5000\t MSE eqn: 11.7219\t MSE boundary: 7057.0420\t Total Loss: 7068.7637\n"
     ]
    },
    {
     "name": "stderr",
     "output_type": "stream",
     "text": [
      " 40%|████      | 2020/5000 [18:40<27:45,  1.79it/s]"
     ]
    },
    {
     "name": "stdout",
     "output_type": "stream",
     "text": [
      "Iteration: 2010/5000\t MSE eqn: 11.8280\t MSE boundary: 6143.3926\t Total Loss: 6155.2207\n"
     ]
    },
    {
     "name": "stderr",
     "output_type": "stream",
     "text": [
      " 41%|████      | 2030/5000 [18:46<27:36,  1.79it/s]"
     ]
    },
    {
     "name": "stdout",
     "output_type": "stream",
     "text": [
      "Iteration: 2020/5000\t MSE eqn: 11.6628\t MSE boundary: 5569.9512\t Total Loss: 5581.6138\n"
     ]
    },
    {
     "name": "stderr",
     "output_type": "stream",
     "text": [
      " 41%|████      | 2040/5000 [18:51<27:35,  1.79it/s]"
     ]
    },
    {
     "name": "stdout",
     "output_type": "stream",
     "text": [
      "Iteration: 2030/5000\t MSE eqn: 11.8022\t MSE boundary: 5080.8501\t Total Loss: 5092.6523\n"
     ]
    },
    {
     "name": "stderr",
     "output_type": "stream",
     "text": [
      " 41%|████      | 2050/5000 [18:57<28:14,  1.74it/s]"
     ]
    },
    {
     "name": "stdout",
     "output_type": "stream",
     "text": [
      "Iteration: 2040/5000\t MSE eqn: 11.6267\t MSE boundary: 5588.9302\t Total Loss: 5600.5571\n"
     ]
    },
    {
     "name": "stderr",
     "output_type": "stream",
     "text": [
      " 41%|████      | 2060/5000 [19:03<27:59,  1.75it/s]"
     ]
    },
    {
     "name": "stdout",
     "output_type": "stream",
     "text": [
      "Iteration: 2050/5000\t MSE eqn: 11.7977\t MSE boundary: 5654.5596\t Total Loss: 5666.3574\n"
     ]
    },
    {
     "name": "stderr",
     "output_type": "stream",
     "text": [
      " 41%|████▏     | 2070/5000 [19:09<27:37,  1.77it/s]"
     ]
    },
    {
     "name": "stdout",
     "output_type": "stream",
     "text": [
      "Iteration: 2060/5000\t MSE eqn: 11.8258\t MSE boundary: 5431.8354\t Total Loss: 5443.6611\n"
     ]
    },
    {
     "name": "stderr",
     "output_type": "stream",
     "text": [
      " 42%|████▏     | 2080/5000 [19:14<27:22,  1.78it/s]"
     ]
    },
    {
     "name": "stdout",
     "output_type": "stream",
     "text": [
      "Iteration: 2070/5000\t MSE eqn: 11.7955\t MSE boundary: 6232.2720\t Total Loss: 6244.0674\n"
     ]
    },
    {
     "name": "stderr",
     "output_type": "stream",
     "text": [
      " 42%|████▏     | 2090/5000 [19:20<27:06,  1.79it/s]"
     ]
    },
    {
     "name": "stdout",
     "output_type": "stream",
     "text": [
      "Iteration: 2080/5000\t MSE eqn: 11.8244\t MSE boundary: 6183.0029\t Total Loss: 6194.8271\n"
     ]
    },
    {
     "name": "stderr",
     "output_type": "stream",
     "text": [
      " 42%|████▏     | 2100/5000 [19:25<27:00,  1.79it/s]"
     ]
    },
    {
     "name": "stdout",
     "output_type": "stream",
     "text": [
      "Iteration: 2090/5000\t MSE eqn: 11.6209\t MSE boundary: 6459.0244\t Total Loss: 6470.6455\n"
     ]
    },
    {
     "name": "stderr",
     "output_type": "stream",
     "text": [
      " 42%|████▏     | 2110/5000 [19:31<26:51,  1.79it/s]"
     ]
    },
    {
     "name": "stdout",
     "output_type": "stream",
     "text": [
      "Iteration: 2100/5000\t MSE eqn: 11.7065\t MSE boundary: 5499.0972\t Total Loss: 5510.8037\n"
     ]
    },
    {
     "name": "stderr",
     "output_type": "stream",
     "text": [
      " 42%|████▏     | 2120/5000 [19:36<26:34,  1.81it/s]"
     ]
    },
    {
     "name": "stdout",
     "output_type": "stream",
     "text": [
      "Iteration: 2110/5000\t MSE eqn: 11.8459\t MSE boundary: 5472.0776\t Total Loss: 5483.9233\n"
     ]
    },
    {
     "name": "stderr",
     "output_type": "stream",
     "text": [
      " 43%|████▎     | 2130/5000 [19:42<26:50,  1.78it/s]"
     ]
    },
    {
     "name": "stdout",
     "output_type": "stream",
     "text": [
      "Iteration: 2120/5000\t MSE eqn: 11.9173\t MSE boundary: 5501.6714\t Total Loss: 5513.5889\n"
     ]
    },
    {
     "name": "stderr",
     "output_type": "stream",
     "text": [
      " 43%|████▎     | 2140/5000 [19:48<26:35,  1.79it/s]"
     ]
    },
    {
     "name": "stdout",
     "output_type": "stream",
     "text": [
      "Iteration: 2130/5000\t MSE eqn: 11.5836\t MSE boundary: 6023.0449\t Total Loss: 6034.6284\n"
     ]
    },
    {
     "name": "stderr",
     "output_type": "stream",
     "text": [
      " 43%|████▎     | 2150/5000 [19:53<26:24,  1.80it/s]"
     ]
    },
    {
     "name": "stdout",
     "output_type": "stream",
     "text": [
      "Iteration: 2140/5000\t MSE eqn: 11.7106\t MSE boundary: 6347.2720\t Total Loss: 6358.9824\n"
     ]
    },
    {
     "name": "stderr",
     "output_type": "stream",
     "text": [
      " 43%|████▎     | 2160/5000 [19:59<26:26,  1.79it/s]"
     ]
    },
    {
     "name": "stdout",
     "output_type": "stream",
     "text": [
      "Iteration: 2150/5000\t MSE eqn: 11.7782\t MSE boundary: 6262.9243\t Total Loss: 6274.7026\n"
     ]
    },
    {
     "name": "stderr",
     "output_type": "stream",
     "text": [
      " 43%|████▎     | 2170/5000 [20:04<26:11,  1.80it/s]"
     ]
    },
    {
     "name": "stdout",
     "output_type": "stream",
     "text": [
      "Iteration: 2160/5000\t MSE eqn: 11.7764\t MSE boundary: 5487.5049\t Total Loss: 5499.2812\n"
     ]
    },
    {
     "name": "stderr",
     "output_type": "stream",
     "text": [
      " 44%|████▎     | 2180/5000 [20:10<26:04,  1.80it/s]"
     ]
    },
    {
     "name": "stdout",
     "output_type": "stream",
     "text": [
      "Iteration: 2170/5000\t MSE eqn: 11.8865\t MSE boundary: 6114.7656\t Total Loss: 6126.6523\n"
     ]
    },
    {
     "name": "stderr",
     "output_type": "stream",
     "text": [
      " 44%|████▍     | 2190/5000 [20:15<26:00,  1.80it/s]"
     ]
    },
    {
     "name": "stdout",
     "output_type": "stream",
     "text": [
      "Iteration: 2180/5000\t MSE eqn: 11.7388\t MSE boundary: 6542.4312\t Total Loss: 6554.1699\n"
     ]
    },
    {
     "name": "stderr",
     "output_type": "stream",
     "text": [
      " 44%|████▍     | 2200/5000 [20:21<25:54,  1.80it/s]"
     ]
    },
    {
     "name": "stdout",
     "output_type": "stream",
     "text": [
      "Iteration: 2190/5000\t MSE eqn: 11.6922\t MSE boundary: 5438.1074\t Total Loss: 5449.7998\n"
     ]
    },
    {
     "name": "stderr",
     "output_type": "stream",
     "text": [
      " 44%|████▍     | 2210/5000 [20:26<25:38,  1.81it/s]"
     ]
    },
    {
     "name": "stdout",
     "output_type": "stream",
     "text": [
      "Iteration: 2200/5000\t MSE eqn: 11.6663\t MSE boundary: 6138.2559\t Total Loss: 6149.9224\n"
     ]
    },
    {
     "name": "stderr",
     "output_type": "stream",
     "text": [
      " 44%|████▍     | 2220/5000 [20:32<25:43,  1.80it/s]"
     ]
    },
    {
     "name": "stdout",
     "output_type": "stream",
     "text": [
      "Iteration: 2210/5000\t MSE eqn: 11.7971\t MSE boundary: 5352.5186\t Total Loss: 5364.3159\n"
     ]
    },
    {
     "name": "stderr",
     "output_type": "stream",
     "text": [
      " 45%|████▍     | 2230/5000 [20:37<25:32,  1.81it/s]"
     ]
    },
    {
     "name": "stdout",
     "output_type": "stream",
     "text": [
      "Iteration: 2220/5000\t MSE eqn: 11.7702\t MSE boundary: 6189.5645\t Total Loss: 6201.3345\n"
     ]
    },
    {
     "name": "stderr",
     "output_type": "stream",
     "text": [
      " 45%|████▍     | 2240/5000 [20:43<25:26,  1.81it/s]"
     ]
    },
    {
     "name": "stdout",
     "output_type": "stream",
     "text": [
      "Iteration: 2230/5000\t MSE eqn: 11.7770\t MSE boundary: 6011.7988\t Total Loss: 6023.5757\n"
     ]
    },
    {
     "name": "stderr",
     "output_type": "stream",
     "text": [
      " 45%|████▌     | 2250/5000 [20:48<25:25,  1.80it/s]"
     ]
    },
    {
     "name": "stdout",
     "output_type": "stream",
     "text": [
      "Iteration: 2240/5000\t MSE eqn: 11.6459\t MSE boundary: 6892.7944\t Total Loss: 6904.4404\n"
     ]
    },
    {
     "name": "stderr",
     "output_type": "stream",
     "text": [
      " 45%|████▌     | 2260/5000 [20:54<25:37,  1.78it/s]"
     ]
    },
    {
     "name": "stdout",
     "output_type": "stream",
     "text": [
      "Iteration: 2250/5000\t MSE eqn: 11.8750\t MSE boundary: 4962.3706\t Total Loss: 4974.2456\n"
     ]
    },
    {
     "name": "stderr",
     "output_type": "stream",
     "text": [
      " 45%|████▌     | 2270/5000 [21:00<25:34,  1.78it/s]"
     ]
    },
    {
     "name": "stdout",
     "output_type": "stream",
     "text": [
      "Iteration: 2260/5000\t MSE eqn: 11.6927\t MSE boundary: 5604.3999\t Total Loss: 5616.0928\n"
     ]
    },
    {
     "name": "stderr",
     "output_type": "stream",
     "text": [
      " 46%|████▌     | 2280/5000 [21:06<25:32,  1.77it/s]"
     ]
    },
    {
     "name": "stdout",
     "output_type": "stream",
     "text": [
      "Iteration: 2270/5000\t MSE eqn: 11.9099\t MSE boundary: 5505.7300\t Total Loss: 5517.6401\n"
     ]
    },
    {
     "name": "stderr",
     "output_type": "stream",
     "text": [
      " 46%|████▌     | 2290/5000 [21:11<25:17,  1.79it/s]"
     ]
    },
    {
     "name": "stdout",
     "output_type": "stream",
     "text": [
      "Iteration: 2280/5000\t MSE eqn: 11.8245\t MSE boundary: 6513.0508\t Total Loss: 6524.8755\n"
     ]
    },
    {
     "name": "stderr",
     "output_type": "stream",
     "text": [
      " 46%|████▌     | 2300/5000 [21:17<25:04,  1.79it/s]"
     ]
    },
    {
     "name": "stdout",
     "output_type": "stream",
     "text": [
      "Iteration: 2290/5000\t MSE eqn: 11.7915\t MSE boundary: 5899.4976\t Total Loss: 5911.2891\n"
     ]
    },
    {
     "name": "stderr",
     "output_type": "stream",
     "text": [
      " 46%|████▌     | 2310/5000 [21:22<24:57,  1.80it/s]"
     ]
    },
    {
     "name": "stdout",
     "output_type": "stream",
     "text": [
      "Iteration: 2300/5000\t MSE eqn: 11.7442\t MSE boundary: 6680.5073\t Total Loss: 6692.2515\n"
     ]
    },
    {
     "name": "stderr",
     "output_type": "stream",
     "text": [
      " 46%|████▋     | 2320/5000 [21:28<24:46,  1.80it/s]"
     ]
    },
    {
     "name": "stdout",
     "output_type": "stream",
     "text": [
      "Iteration: 2310/5000\t MSE eqn: 11.7815\t MSE boundary: 5820.2329\t Total Loss: 5832.0142\n"
     ]
    },
    {
     "name": "stderr",
     "output_type": "stream",
     "text": [
      " 47%|████▋     | 2330/5000 [21:33<24:50,  1.79it/s]"
     ]
    },
    {
     "name": "stdout",
     "output_type": "stream",
     "text": [
      "Iteration: 2320/5000\t MSE eqn: 11.8289\t MSE boundary: 6222.5308\t Total Loss: 6234.3599\n"
     ]
    },
    {
     "name": "stderr",
     "output_type": "stream",
     "text": [
      " 47%|████▋     | 2340/5000 [21:39<24:35,  1.80it/s]"
     ]
    },
    {
     "name": "stdout",
     "output_type": "stream",
     "text": [
      "Iteration: 2330/5000\t MSE eqn: 11.6918\t MSE boundary: 5640.2729\t Total Loss: 5651.9648\n"
     ]
    },
    {
     "name": "stderr",
     "output_type": "stream",
     "text": [
      " 47%|████▋     | 2350/5000 [21:44<24:23,  1.81it/s]"
     ]
    },
    {
     "name": "stdout",
     "output_type": "stream",
     "text": [
      "Iteration: 2340/5000\t MSE eqn: 11.7349\t MSE boundary: 6003.3247\t Total Loss: 6015.0596\n"
     ]
    },
    {
     "name": "stderr",
     "output_type": "stream",
     "text": [
      " 47%|████▋     | 2360/5000 [21:50<24:34,  1.79it/s]"
     ]
    },
    {
     "name": "stdout",
     "output_type": "stream",
     "text": [
      "Iteration: 2350/5000\t MSE eqn: 11.7959\t MSE boundary: 5138.4131\t Total Loss: 5150.2090\n"
     ]
    },
    {
     "name": "stderr",
     "output_type": "stream",
     "text": [
      " 47%|████▋     | 2370/5000 [21:55<24:16,  1.81it/s]"
     ]
    },
    {
     "name": "stdout",
     "output_type": "stream",
     "text": [
      "Iteration: 2360/5000\t MSE eqn: 11.8381\t MSE boundary: 6096.6055\t Total Loss: 6108.4434\n"
     ]
    },
    {
     "name": "stderr",
     "output_type": "stream",
     "text": [
      " 48%|████▊     | 2380/5000 [22:01<24:13,  1.80it/s]"
     ]
    },
    {
     "name": "stdout",
     "output_type": "stream",
     "text": [
      "Iteration: 2370/5000\t MSE eqn: 11.8014\t MSE boundary: 5671.2695\t Total Loss: 5683.0708\n"
     ]
    },
    {
     "name": "stderr",
     "output_type": "stream",
     "text": [
      " 48%|████▊     | 2390/5000 [22:07<24:19,  1.79it/s]"
     ]
    },
    {
     "name": "stdout",
     "output_type": "stream",
     "text": [
      "Iteration: 2380/5000\t MSE eqn: 11.7142\t MSE boundary: 5031.0747\t Total Loss: 5042.7891\n"
     ]
    },
    {
     "name": "stderr",
     "output_type": "stream",
     "text": [
      " 48%|████▊     | 2400/5000 [22:12<23:54,  1.81it/s]"
     ]
    },
    {
     "name": "stdout",
     "output_type": "stream",
     "text": [
      "Iteration: 2390/5000\t MSE eqn: 11.7748\t MSE boundary: 5642.0952\t Total Loss: 5653.8701\n"
     ]
    },
    {
     "name": "stderr",
     "output_type": "stream",
     "text": [
      " 48%|████▊     | 2410/5000 [22:17<23:42,  1.82it/s]"
     ]
    },
    {
     "name": "stdout",
     "output_type": "stream",
     "text": [
      "Iteration: 2400/5000\t MSE eqn: 11.8601\t MSE boundary: 5817.1387\t Total Loss: 5828.9990\n"
     ]
    },
    {
     "name": "stderr",
     "output_type": "stream",
     "text": [
      " 48%|████▊     | 2420/5000 [22:23<23:50,  1.80it/s]"
     ]
    },
    {
     "name": "stdout",
     "output_type": "stream",
     "text": [
      "Iteration: 2410/5000\t MSE eqn: 11.8364\t MSE boundary: 5789.5903\t Total Loss: 5801.4268\n"
     ]
    },
    {
     "name": "stderr",
     "output_type": "stream",
     "text": [
      " 49%|████▊     | 2430/5000 [22:28<23:34,  1.82it/s]"
     ]
    },
    {
     "name": "stdout",
     "output_type": "stream",
     "text": [
      "Iteration: 2420/5000\t MSE eqn: 12.0196\t MSE boundary: 5567.8452\t Total Loss: 5579.8647\n"
     ]
    },
    {
     "name": "stderr",
     "output_type": "stream",
     "text": [
      " 49%|████▉     | 2440/5000 [22:34<23:33,  1.81it/s]"
     ]
    },
    {
     "name": "stdout",
     "output_type": "stream",
     "text": [
      "Iteration: 2430/5000\t MSE eqn: 11.8393\t MSE boundary: 5360.6533\t Total Loss: 5372.4927\n"
     ]
    },
    {
     "name": "stderr",
     "output_type": "stream",
     "text": [
      " 49%|████▉     | 2450/5000 [22:40<23:43,  1.79it/s]"
     ]
    },
    {
     "name": "stdout",
     "output_type": "stream",
     "text": [
      "Iteration: 2440/5000\t MSE eqn: 11.7332\t MSE boundary: 5131.4390\t Total Loss: 5143.1724\n"
     ]
    },
    {
     "name": "stderr",
     "output_type": "stream",
     "text": [
      " 49%|████▉     | 2460/5000 [22:45<23:31,  1.80it/s]"
     ]
    },
    {
     "name": "stdout",
     "output_type": "stream",
     "text": [
      "Iteration: 2450/5000\t MSE eqn: 11.6493\t MSE boundary: 5439.1421\t Total Loss: 5450.7915\n"
     ]
    },
    {
     "name": "stderr",
     "output_type": "stream",
     "text": [
      " 49%|████▉     | 2470/5000 [22:51<23:23,  1.80it/s]"
     ]
    },
    {
     "name": "stdout",
     "output_type": "stream",
     "text": [
      "Iteration: 2460/5000\t MSE eqn: 11.6796\t MSE boundary: 5833.6426\t Total Loss: 5845.3223\n"
     ]
    },
    {
     "name": "stderr",
     "output_type": "stream",
     "text": [
      " 50%|████▉     | 2480/5000 [22:57<24:01,  1.75it/s]"
     ]
    },
    {
     "name": "stdout",
     "output_type": "stream",
     "text": [
      "Iteration: 2470/5000\t MSE eqn: 11.8107\t MSE boundary: 5429.9805\t Total Loss: 5441.7910\n"
     ]
    },
    {
     "name": "stderr",
     "output_type": "stream",
     "text": [
      " 50%|████▉     | 2490/5000 [23:03<23:55,  1.75it/s]"
     ]
    },
    {
     "name": "stdout",
     "output_type": "stream",
     "text": [
      "Iteration: 2480/5000\t MSE eqn: 11.7503\t MSE boundary: 6087.1284\t Total Loss: 6098.8789\n"
     ]
    },
    {
     "name": "stderr",
     "output_type": "stream",
     "text": [
      " 50%|█████     | 2500/5000 [23:08<23:37,  1.76it/s]"
     ]
    },
    {
     "name": "stdout",
     "output_type": "stream",
     "text": [
      "Iteration: 2490/5000\t MSE eqn: 11.8591\t MSE boundary: 6077.5034\t Total Loss: 6089.3623\n"
     ]
    },
    {
     "name": "stderr",
     "output_type": "stream",
     "text": [
      " 50%|█████     | 2510/5000 [23:14<23:20,  1.78it/s]"
     ]
    },
    {
     "name": "stdout",
     "output_type": "stream",
     "text": [
      "Iteration: 2500/5000\t MSE eqn: 11.7237\t MSE boundary: 6321.3037\t Total Loss: 6333.0273\n"
     ]
    },
    {
     "name": "stderr",
     "output_type": "stream",
     "text": [
      " 50%|█████     | 2520/5000 [23:19<23:05,  1.79it/s]"
     ]
    },
    {
     "name": "stdout",
     "output_type": "stream",
     "text": [
      "Iteration: 2510/5000\t MSE eqn: 11.8024\t MSE boundary: 6023.4658\t Total Loss: 6035.2681\n"
     ]
    },
    {
     "name": "stderr",
     "output_type": "stream",
     "text": [
      " 51%|█████     | 2530/5000 [23:25<23:07,  1.78it/s]"
     ]
    },
    {
     "name": "stdout",
     "output_type": "stream",
     "text": [
      "Iteration: 2520/5000\t MSE eqn: 11.7542\t MSE boundary: 5340.9497\t Total Loss: 5352.7041\n"
     ]
    },
    {
     "name": "stderr",
     "output_type": "stream",
     "text": [
      " 51%|█████     | 2540/5000 [23:30<22:55,  1.79it/s]"
     ]
    },
    {
     "name": "stdout",
     "output_type": "stream",
     "text": [
      "Iteration: 2530/5000\t MSE eqn: 11.6379\t MSE boundary: 7518.1724\t Total Loss: 7529.8101\n"
     ]
    },
    {
     "name": "stderr",
     "output_type": "stream",
     "text": [
      " 51%|█████     | 2550/5000 [23:36<22:40,  1.80it/s]"
     ]
    },
    {
     "name": "stdout",
     "output_type": "stream",
     "text": [
      "Iteration: 2540/5000\t MSE eqn: 11.7757\t MSE boundary: 6154.2656\t Total Loss: 6166.0415\n"
     ]
    },
    {
     "name": "stderr",
     "output_type": "stream",
     "text": [
      " 51%|█████     | 2560/5000 [23:42<22:40,  1.79it/s]"
     ]
    },
    {
     "name": "stdout",
     "output_type": "stream",
     "text": [
      "Iteration: 2550/5000\t MSE eqn: 11.7058\t MSE boundary: 5888.3062\t Total Loss: 5900.0117\n"
     ]
    },
    {
     "name": "stderr",
     "output_type": "stream",
     "text": [
      " 51%|█████▏    | 2570/5000 [23:47<22:26,  1.80it/s]"
     ]
    },
    {
     "name": "stdout",
     "output_type": "stream",
     "text": [
      "Iteration: 2560/5000\t MSE eqn: 11.8195\t MSE boundary: 6517.6553\t Total Loss: 6529.4746\n"
     ]
    },
    {
     "name": "stderr",
     "output_type": "stream",
     "text": [
      " 52%|█████▏    | 2580/5000 [23:52<22:16,  1.81it/s]"
     ]
    },
    {
     "name": "stdout",
     "output_type": "stream",
     "text": [
      "Iteration: 2570/5000\t MSE eqn: 11.8832\t MSE boundary: 5514.0190\t Total Loss: 5525.9023\n"
     ]
    },
    {
     "name": "stderr",
     "output_type": "stream",
     "text": [
      " 52%|█████▏    | 2590/5000 [23:58<22:12,  1.81it/s]"
     ]
    },
    {
     "name": "stdout",
     "output_type": "stream",
     "text": [
      "Iteration: 2580/5000\t MSE eqn: 11.7429\t MSE boundary: 5740.4302\t Total Loss: 5752.1729\n"
     ]
    },
    {
     "name": "stderr",
     "output_type": "stream",
     "text": [
      " 52%|█████▏    | 2600/5000 [24:04<22:07,  1.81it/s]"
     ]
    },
    {
     "name": "stdout",
     "output_type": "stream",
     "text": [
      "Iteration: 2590/5000\t MSE eqn: 11.7775\t MSE boundary: 6558.6650\t Total Loss: 6570.4424\n"
     ]
    },
    {
     "name": "stderr",
     "output_type": "stream",
     "text": [
      " 52%|█████▏    | 2610/5000 [24:09<22:06,  1.80it/s]"
     ]
    },
    {
     "name": "stdout",
     "output_type": "stream",
     "text": [
      "Iteration: 2600/5000\t MSE eqn: 11.7484\t MSE boundary: 6005.6055\t Total Loss: 6017.3540\n"
     ]
    },
    {
     "name": "stderr",
     "output_type": "stream",
     "text": [
      " 52%|█████▏    | 2620/5000 [24:15<22:11,  1.79it/s]"
     ]
    },
    {
     "name": "stdout",
     "output_type": "stream",
     "text": [
      "Iteration: 2610/5000\t MSE eqn: 11.8735\t MSE boundary: 6327.5010\t Total Loss: 6339.3745\n"
     ]
    },
    {
     "name": "stderr",
     "output_type": "stream",
     "text": [
      " 53%|█████▎    | 2630/5000 [24:20<21:54,  1.80it/s]"
     ]
    },
    {
     "name": "stdout",
     "output_type": "stream",
     "text": [
      "Iteration: 2620/5000\t MSE eqn: 11.6590\t MSE boundary: 5388.3179\t Total Loss: 5399.9771\n"
     ]
    },
    {
     "name": "stderr",
     "output_type": "stream",
     "text": [
      " 53%|█████▎    | 2640/5000 [24:26<21:37,  1.82it/s]"
     ]
    },
    {
     "name": "stdout",
     "output_type": "stream",
     "text": [
      "Iteration: 2630/5000\t MSE eqn: 11.8994\t MSE boundary: 6435.9844\t Total Loss: 6447.8838\n"
     ]
    },
    {
     "name": "stderr",
     "output_type": "stream",
     "text": [
      " 53%|█████▎    | 2650/5000 [24:31<21:36,  1.81it/s]"
     ]
    },
    {
     "name": "stdout",
     "output_type": "stream",
     "text": [
      "Iteration: 2640/5000\t MSE eqn: 11.7107\t MSE boundary: 6643.0366\t Total Loss: 6654.7471\n"
     ]
    },
    {
     "name": "stderr",
     "output_type": "stream",
     "text": [
      " 53%|█████▎    | 2660/5000 [24:37<21:23,  1.82it/s]"
     ]
    },
    {
     "name": "stdout",
     "output_type": "stream",
     "text": [
      "Iteration: 2650/5000\t MSE eqn: 11.8174\t MSE boundary: 5138.3599\t Total Loss: 5150.1772\n"
     ]
    },
    {
     "name": "stderr",
     "output_type": "stream",
     "text": [
      " 53%|█████▎    | 2670/5000 [24:42<21:16,  1.83it/s]"
     ]
    },
    {
     "name": "stdout",
     "output_type": "stream",
     "text": [
      "Iteration: 2660/5000\t MSE eqn: 11.8222\t MSE boundary: 5719.6416\t Total Loss: 5731.4639\n"
     ]
    },
    {
     "name": "stderr",
     "output_type": "stream",
     "text": [
      " 54%|█████▎    | 2680/5000 [24:48<21:19,  1.81it/s]"
     ]
    },
    {
     "name": "stdout",
     "output_type": "stream",
     "text": [
      "Iteration: 2670/5000\t MSE eqn: 11.7372\t MSE boundary: 6331.3306\t Total Loss: 6343.0679\n"
     ]
    },
    {
     "name": "stderr",
     "output_type": "stream",
     "text": [
      " 54%|█████▍    | 2690/5000 [24:54<21:35,  1.78it/s]"
     ]
    },
    {
     "name": "stdout",
     "output_type": "stream",
     "text": [
      "Iteration: 2680/5000\t MSE eqn: 11.7876\t MSE boundary: 5934.1362\t Total Loss: 5945.9238\n"
     ]
    },
    {
     "name": "stderr",
     "output_type": "stream",
     "text": [
      " 54%|█████▍    | 2700/5000 [24:59<21:44,  1.76it/s]"
     ]
    },
    {
     "name": "stdout",
     "output_type": "stream",
     "text": [
      "Iteration: 2690/5000\t MSE eqn: 11.8694\t MSE boundary: 4887.5762\t Total Loss: 4899.4458\n"
     ]
    },
    {
     "name": "stderr",
     "output_type": "stream",
     "text": [
      " 54%|█████▍    | 2710/5000 [25:05<21:33,  1.77it/s]"
     ]
    },
    {
     "name": "stdout",
     "output_type": "stream",
     "text": [
      "Iteration: 2700/5000\t MSE eqn: 11.7990\t MSE boundary: 6124.9468\t Total Loss: 6136.7456\n"
     ]
    },
    {
     "name": "stderr",
     "output_type": "stream",
     "text": [
      " 54%|█████▍    | 2720/5000 [25:10<21:12,  1.79it/s]"
     ]
    },
    {
     "name": "stdout",
     "output_type": "stream",
     "text": [
      "Iteration: 2710/5000\t MSE eqn: 11.7859\t MSE boundary: 6408.6211\t Total Loss: 6420.4067\n"
     ]
    },
    {
     "name": "stderr",
     "output_type": "stream",
     "text": [
      " 55%|█████▍    | 2730/5000 [25:16<20:59,  1.80it/s]"
     ]
    },
    {
     "name": "stdout",
     "output_type": "stream",
     "text": [
      "Iteration: 2720/5000\t MSE eqn: 11.7753\t MSE boundary: 5558.8408\t Total Loss: 5570.6162\n"
     ]
    },
    {
     "name": "stderr",
     "output_type": "stream",
     "text": [
      " 55%|█████▍    | 2740/5000 [25:21<20:54,  1.80it/s]"
     ]
    },
    {
     "name": "stdout",
     "output_type": "stream",
     "text": [
      "Iteration: 2730/5000\t MSE eqn: 11.8176\t MSE boundary: 6776.8599\t Total Loss: 6788.6772\n"
     ]
    },
    {
     "name": "stderr",
     "output_type": "stream",
     "text": [
      " 55%|█████▌    | 2750/5000 [25:27<20:41,  1.81it/s]"
     ]
    },
    {
     "name": "stdout",
     "output_type": "stream",
     "text": [
      "Iteration: 2740/5000\t MSE eqn: 11.6194\t MSE boundary: 6275.1265\t Total Loss: 6286.7461\n"
     ]
    },
    {
     "name": "stderr",
     "output_type": "stream",
     "text": [
      " 55%|█████▌    | 2760/5000 [25:34<21:55,  1.70it/s]"
     ]
    },
    {
     "name": "stdout",
     "output_type": "stream",
     "text": [
      "Iteration: 2750/5000\t MSE eqn: 11.9101\t MSE boundary: 6217.4609\t Total Loss: 6229.3711\n"
     ]
    },
    {
     "name": "stderr",
     "output_type": "stream",
     "text": [
      " 55%|█████▌    | 2770/5000 [25:39<21:30,  1.73it/s]"
     ]
    },
    {
     "name": "stdout",
     "output_type": "stream",
     "text": [
      "Iteration: 2760/5000\t MSE eqn: 11.6955\t MSE boundary: 6022.2476\t Total Loss: 6033.9429\n"
     ]
    },
    {
     "name": "stderr",
     "output_type": "stream",
     "text": [
      " 56%|█████▌    | 2780/5000 [25:45<21:04,  1.76it/s]"
     ]
    },
    {
     "name": "stdout",
     "output_type": "stream",
     "text": [
      "Iteration: 2770/5000\t MSE eqn: 11.8847\t MSE boundary: 5744.1055\t Total Loss: 5755.9902\n"
     ]
    },
    {
     "name": "stderr",
     "output_type": "stream",
     "text": [
      " 56%|█████▌    | 2790/5000 [25:50<21:04,  1.75it/s]"
     ]
    },
    {
     "name": "stdout",
     "output_type": "stream",
     "text": [
      "Iteration: 2780/5000\t MSE eqn: 11.8292\t MSE boundary: 5215.5649\t Total Loss: 5227.3940\n"
     ]
    },
    {
     "name": "stderr",
     "output_type": "stream",
     "text": [
      " 56%|█████▌    | 2800/5000 [25:56<20:43,  1.77it/s]"
     ]
    },
    {
     "name": "stdout",
     "output_type": "stream",
     "text": [
      "Iteration: 2790/5000\t MSE eqn: 11.6647\t MSE boundary: 5730.7075\t Total Loss: 5742.3721\n"
     ]
    },
    {
     "name": "stderr",
     "output_type": "stream",
     "text": [
      " 56%|█████▌    | 2810/5000 [26:01<20:26,  1.79it/s]"
     ]
    },
    {
     "name": "stdout",
     "output_type": "stream",
     "text": [
      "Iteration: 2800/5000\t MSE eqn: 11.7073\t MSE boundary: 5302.0537\t Total Loss: 5313.7612\n"
     ]
    },
    {
     "name": "stderr",
     "output_type": "stream",
     "text": [
      " 56%|█████▋    | 2820/5000 [26:07<20:18,  1.79it/s]"
     ]
    },
    {
     "name": "stdout",
     "output_type": "stream",
     "text": [
      "Iteration: 2810/5000\t MSE eqn: 11.7411\t MSE boundary: 6178.2671\t Total Loss: 6190.0083\n"
     ]
    },
    {
     "name": "stderr",
     "output_type": "stream",
     "text": [
      " 57%|█████▋    | 2830/5000 [26:12<19:57,  1.81it/s]"
     ]
    },
    {
     "name": "stdout",
     "output_type": "stream",
     "text": [
      "Iteration: 2820/5000\t MSE eqn: 11.8556\t MSE boundary: 5804.8550\t Total Loss: 5816.7104\n"
     ]
    },
    {
     "name": "stderr",
     "output_type": "stream",
     "text": [
      " 57%|█████▋    | 2840/5000 [26:18<19:52,  1.81it/s]"
     ]
    },
    {
     "name": "stdout",
     "output_type": "stream",
     "text": [
      "Iteration: 2830/5000\t MSE eqn: 11.7282\t MSE boundary: 6608.1748\t Total Loss: 6619.9028\n"
     ]
    },
    {
     "name": "stderr",
     "output_type": "stream",
     "text": [
      " 57%|█████▋    | 2850/5000 [26:23<19:54,  1.80it/s]"
     ]
    },
    {
     "name": "stdout",
     "output_type": "stream",
     "text": [
      "Iteration: 2840/5000\t MSE eqn: 11.6643\t MSE boundary: 5518.6367\t Total Loss: 5530.3013\n"
     ]
    },
    {
     "name": "stderr",
     "output_type": "stream",
     "text": [
      " 57%|█████▋    | 2860/5000 [26:29<19:45,  1.80it/s]"
     ]
    },
    {
     "name": "stdout",
     "output_type": "stream",
     "text": [
      "Iteration: 2850/5000\t MSE eqn: 11.7923\t MSE boundary: 5959.4585\t Total Loss: 5971.2510\n"
     ]
    },
    {
     "name": "stderr",
     "output_type": "stream",
     "text": [
      " 57%|█████▋    | 2870/5000 [26:34<19:36,  1.81it/s]"
     ]
    },
    {
     "name": "stdout",
     "output_type": "stream",
     "text": [
      "Iteration: 2860/5000\t MSE eqn: 11.6591\t MSE boundary: 6307.1929\t Total Loss: 6318.8521\n"
     ]
    },
    {
     "name": "stderr",
     "output_type": "stream",
     "text": [
      " 58%|█████▊    | 2880/5000 [26:40<19:41,  1.79it/s]"
     ]
    },
    {
     "name": "stdout",
     "output_type": "stream",
     "text": [
      "Iteration: 2870/5000\t MSE eqn: 11.7478\t MSE boundary: 5425.2251\t Total Loss: 5436.9731\n"
     ]
    },
    {
     "name": "stderr",
     "output_type": "stream",
     "text": [
      " 58%|█████▊    | 2890/5000 [26:46<19:32,  1.80it/s]"
     ]
    },
    {
     "name": "stdout",
     "output_type": "stream",
     "text": [
      "Iteration: 2880/5000\t MSE eqn: 11.7936\t MSE boundary: 5832.6509\t Total Loss: 5844.4443\n"
     ]
    },
    {
     "name": "stderr",
     "output_type": "stream",
     "text": [
      " 58%|█████▊    | 2900/5000 [26:51<19:22,  1.81it/s]"
     ]
    },
    {
     "name": "stdout",
     "output_type": "stream",
     "text": [
      "Iteration: 2890/5000\t MSE eqn: 11.7573\t MSE boundary: 5566.1499\t Total Loss: 5577.9072\n"
     ]
    },
    {
     "name": "stderr",
     "output_type": "stream",
     "text": [
      " 58%|█████▊    | 2910/5000 [26:57<19:55,  1.75it/s]"
     ]
    },
    {
     "name": "stdout",
     "output_type": "stream",
     "text": [
      "Iteration: 2900/5000\t MSE eqn: 11.7417\t MSE boundary: 5855.8433\t Total Loss: 5867.5850\n"
     ]
    },
    {
     "name": "stderr",
     "output_type": "stream",
     "text": [
      " 58%|█████▊    | 2920/5000 [27:03<19:45,  1.75it/s]"
     ]
    },
    {
     "name": "stdout",
     "output_type": "stream",
     "text": [
      "Iteration: 2910/5000\t MSE eqn: 11.7236\t MSE boundary: 5444.6196\t Total Loss: 5456.3433\n"
     ]
    },
    {
     "name": "stderr",
     "output_type": "stream",
     "text": [
      " 59%|█████▊    | 2930/5000 [27:08<19:28,  1.77it/s]"
     ]
    },
    {
     "name": "stdout",
     "output_type": "stream",
     "text": [
      "Iteration: 2920/5000\t MSE eqn: 11.9260\t MSE boundary: 6198.1973\t Total Loss: 6210.1230\n"
     ]
    },
    {
     "name": "stderr",
     "output_type": "stream",
     "text": [
      " 59%|█████▉    | 2940/5000 [27:14<19:24,  1.77it/s]"
     ]
    },
    {
     "name": "stdout",
     "output_type": "stream",
     "text": [
      "Iteration: 2930/5000\t MSE eqn: 11.8092\t MSE boundary: 5790.8721\t Total Loss: 5802.6812\n"
     ]
    },
    {
     "name": "stderr",
     "output_type": "stream",
     "text": [
      " 59%|█████▉    | 2950/5000 [27:20<19:06,  1.79it/s]"
     ]
    },
    {
     "name": "stdout",
     "output_type": "stream",
     "text": [
      "Iteration: 2940/5000\t MSE eqn: 11.7727\t MSE boundary: 5238.1797\t Total Loss: 5249.9526\n"
     ]
    },
    {
     "name": "stderr",
     "output_type": "stream",
     "text": [
      " 59%|█████▉    | 2960/5000 [27:25<19:03,  1.78it/s]"
     ]
    },
    {
     "name": "stdout",
     "output_type": "stream",
     "text": [
      "Iteration: 2950/5000\t MSE eqn: 11.7171\t MSE boundary: 5045.3896\t Total Loss: 5057.1069\n"
     ]
    },
    {
     "name": "stderr",
     "output_type": "stream",
     "text": [
      " 59%|█████▉    | 2970/5000 [27:31<18:52,  1.79it/s]"
     ]
    },
    {
     "name": "stdout",
     "output_type": "stream",
     "text": [
      "Iteration: 2960/5000\t MSE eqn: 11.7461\t MSE boundary: 6944.1128\t Total Loss: 6955.8589\n"
     ]
    },
    {
     "name": "stderr",
     "output_type": "stream",
     "text": [
      " 60%|█████▉    | 2980/5000 [27:36<18:35,  1.81it/s]"
     ]
    },
    {
     "name": "stdout",
     "output_type": "stream",
     "text": [
      "Iteration: 2970/5000\t MSE eqn: 11.6902\t MSE boundary: 6128.1851\t Total Loss: 6139.8755\n"
     ]
    },
    {
     "name": "stderr",
     "output_type": "stream",
     "text": [
      " 60%|█████▉    | 2990/5000 [27:42<18:39,  1.79it/s]"
     ]
    },
    {
     "name": "stdout",
     "output_type": "stream",
     "text": [
      "Iteration: 2980/5000\t MSE eqn: 11.6022\t MSE boundary: 6593.6509\t Total Loss: 6605.2529\n"
     ]
    },
    {
     "name": "stderr",
     "output_type": "stream",
     "text": [
      " 60%|██████    | 3000/5000 [27:47<18:29,  1.80it/s]"
     ]
    },
    {
     "name": "stdout",
     "output_type": "stream",
     "text": [
      "Iteration: 2990/5000\t MSE eqn: 11.9289\t MSE boundary: 5612.4609\t Total Loss: 5624.3896\n"
     ]
    },
    {
     "name": "stderr",
     "output_type": "stream",
     "text": [
      " 60%|██████    | 3010/5000 [27:53<18:23,  1.80it/s]"
     ]
    },
    {
     "name": "stdout",
     "output_type": "stream",
     "text": [
      "Iteration: 3000/5000\t MSE eqn: 11.7314\t MSE boundary: 5915.9409\t Total Loss: 5927.6724\n"
     ]
    },
    {
     "name": "stderr",
     "output_type": "stream",
     "text": [
      " 60%|██████    | 3020/5000 [27:58<18:19,  1.80it/s]"
     ]
    },
    {
     "name": "stdout",
     "output_type": "stream",
     "text": [
      "Iteration: 3010/5000\t MSE eqn: 11.7536\t MSE boundary: 6362.4014\t Total Loss: 6374.1548\n"
     ]
    },
    {
     "name": "stderr",
     "output_type": "stream",
     "text": [
      " 61%|██████    | 3030/5000 [28:04<18:08,  1.81it/s]"
     ]
    },
    {
     "name": "stdout",
     "output_type": "stream",
     "text": [
      "Iteration: 3020/5000\t MSE eqn: 11.7312\t MSE boundary: 5146.8906\t Total Loss: 5158.6216\n"
     ]
    },
    {
     "name": "stderr",
     "output_type": "stream",
     "text": [
      " 61%|██████    | 3040/5000 [28:09<18:00,  1.81it/s]"
     ]
    },
    {
     "name": "stdout",
     "output_type": "stream",
     "text": [
      "Iteration: 3030/5000\t MSE eqn: 11.6910\t MSE boundary: 5901.1797\t Total Loss: 5912.8706\n"
     ]
    },
    {
     "name": "stderr",
     "output_type": "stream",
     "text": [
      " 61%|██████    | 3050/5000 [28:15<17:55,  1.81it/s]"
     ]
    },
    {
     "name": "stdout",
     "output_type": "stream",
     "text": [
      "Iteration: 3040/5000\t MSE eqn: 11.6832\t MSE boundary: 6385.4863\t Total Loss: 6397.1694\n"
     ]
    },
    {
     "name": "stderr",
     "output_type": "stream",
     "text": [
      " 61%|██████    | 3060/5000 [28:20<17:42,  1.83it/s]"
     ]
    },
    {
     "name": "stdout",
     "output_type": "stream",
     "text": [
      "Iteration: 3050/5000\t MSE eqn: 11.8332\t MSE boundary: 6729.5825\t Total Loss: 6741.4155\n"
     ]
    },
    {
     "name": "stderr",
     "output_type": "stream",
     "text": [
      " 61%|██████▏   | 3070/5000 [28:26<17:38,  1.82it/s]"
     ]
    },
    {
     "name": "stdout",
     "output_type": "stream",
     "text": [
      "Iteration: 3060/5000\t MSE eqn: 11.7733\t MSE boundary: 6229.6050\t Total Loss: 6241.3784\n"
     ]
    },
    {
     "name": "stderr",
     "output_type": "stream",
     "text": [
      " 62%|██████▏   | 3080/5000 [28:31<17:42,  1.81it/s]"
     ]
    },
    {
     "name": "stdout",
     "output_type": "stream",
     "text": [
      "Iteration: 3070/5000\t MSE eqn: 11.6361\t MSE boundary: 5783.4253\t Total Loss: 5795.0615\n"
     ]
    },
    {
     "name": "stderr",
     "output_type": "stream",
     "text": [
      " 62%|██████▏   | 3090/5000 [28:37<17:38,  1.81it/s]"
     ]
    },
    {
     "name": "stdout",
     "output_type": "stream",
     "text": [
      "Iteration: 3080/5000\t MSE eqn: 11.7266\t MSE boundary: 5868.6152\t Total Loss: 5880.3418\n"
     ]
    },
    {
     "name": "stderr",
     "output_type": "stream",
     "text": [
      " 62%|██████▏   | 3100/5000 [28:42<17:32,  1.81it/s]"
     ]
    },
    {
     "name": "stdout",
     "output_type": "stream",
     "text": [
      "Iteration: 3090/5000\t MSE eqn: 11.8136\t MSE boundary: 5018.0015\t Total Loss: 5029.8149\n"
     ]
    },
    {
     "name": "stderr",
     "output_type": "stream",
     "text": [
      " 62%|██████▏   | 3110/5000 [28:48<17:30,  1.80it/s]"
     ]
    },
    {
     "name": "stdout",
     "output_type": "stream",
     "text": [
      "Iteration: 3100/5000\t MSE eqn: 11.8159\t MSE boundary: 5888.9204\t Total Loss: 5900.7363\n"
     ]
    },
    {
     "name": "stderr",
     "output_type": "stream",
     "text": [
      " 62%|██████▏   | 3120/5000 [28:54<17:32,  1.79it/s]"
     ]
    },
    {
     "name": "stdout",
     "output_type": "stream",
     "text": [
      "Iteration: 3110/5000\t MSE eqn: 11.7350\t MSE boundary: 6157.4502\t Total Loss: 6169.1851\n"
     ]
    },
    {
     "name": "stderr",
     "output_type": "stream",
     "text": [
      " 63%|██████▎   | 3130/5000 [28:59<17:33,  1.77it/s]"
     ]
    },
    {
     "name": "stdout",
     "output_type": "stream",
     "text": [
      "Iteration: 3120/5000\t MSE eqn: 11.7878\t MSE boundary: 6537.3247\t Total Loss: 6549.1123\n"
     ]
    },
    {
     "name": "stderr",
     "output_type": "stream",
     "text": [
      " 63%|██████▎   | 3140/5000 [29:05<17:30,  1.77it/s]"
     ]
    },
    {
     "name": "stdout",
     "output_type": "stream",
     "text": [
      "Iteration: 3130/5000\t MSE eqn: 11.7389\t MSE boundary: 5268.9546\t Total Loss: 5280.6934\n"
     ]
    },
    {
     "name": "stderr",
     "output_type": "stream",
     "text": [
      " 63%|██████▎   | 3150/5000 [29:11<17:14,  1.79it/s]"
     ]
    },
    {
     "name": "stdout",
     "output_type": "stream",
     "text": [
      "Iteration: 3140/5000\t MSE eqn: 11.7179\t MSE boundary: 6161.9966\t Total Loss: 6173.7144\n"
     ]
    },
    {
     "name": "stderr",
     "output_type": "stream",
     "text": [
      " 63%|██████▎   | 3160/5000 [29:16<17:00,  1.80it/s]"
     ]
    },
    {
     "name": "stdout",
     "output_type": "stream",
     "text": [
      "Iteration: 3150/5000\t MSE eqn: 11.7159\t MSE boundary: 6563.5615\t Total Loss: 6575.2773\n"
     ]
    },
    {
     "name": "stderr",
     "output_type": "stream",
     "text": [
      " 63%|██████▎   | 3170/5000 [29:22<16:55,  1.80it/s]"
     ]
    },
    {
     "name": "stdout",
     "output_type": "stream",
     "text": [
      "Iteration: 3160/5000\t MSE eqn: 11.7898\t MSE boundary: 5642.0210\t Total Loss: 5653.8110\n"
     ]
    },
    {
     "name": "stderr",
     "output_type": "stream",
     "text": [
      " 64%|██████▎   | 3180/5000 [29:27<16:40,  1.82it/s]"
     ]
    },
    {
     "name": "stdout",
     "output_type": "stream",
     "text": [
      "Iteration: 3170/5000\t MSE eqn: 11.7792\t MSE boundary: 6512.0088\t Total Loss: 6523.7881\n"
     ]
    },
    {
     "name": "stderr",
     "output_type": "stream",
     "text": [
      " 64%|██████▍   | 3190/5000 [29:32<16:33,  1.82it/s]"
     ]
    },
    {
     "name": "stdout",
     "output_type": "stream",
     "text": [
      "Iteration: 3180/5000\t MSE eqn: 11.7404\t MSE boundary: 5986.0532\t Total Loss: 5997.7935\n"
     ]
    },
    {
     "name": "stderr",
     "output_type": "stream",
     "text": [
      " 64%|██████▍   | 3200/5000 [29:38<16:28,  1.82it/s]"
     ]
    },
    {
     "name": "stdout",
     "output_type": "stream",
     "text": [
      "Iteration: 3190/5000\t MSE eqn: 11.6568\t MSE boundary: 5915.0190\t Total Loss: 5926.6758\n"
     ]
    },
    {
     "name": "stderr",
     "output_type": "stream",
     "text": [
      " 64%|██████▍   | 3210/5000 [29:43<16:21,  1.82it/s]"
     ]
    },
    {
     "name": "stdout",
     "output_type": "stream",
     "text": [
      "Iteration: 3200/5000\t MSE eqn: 11.7853\t MSE boundary: 6571.4126\t Total Loss: 6583.1978\n"
     ]
    },
    {
     "name": "stderr",
     "output_type": "stream",
     "text": [
      " 64%|██████▍   | 3220/5000 [29:49<16:26,  1.80it/s]"
     ]
    },
    {
     "name": "stdout",
     "output_type": "stream",
     "text": [
      "Iteration: 3210/5000\t MSE eqn: 11.7981\t MSE boundary: 6406.7783\t Total Loss: 6418.5767\n"
     ]
    },
    {
     "name": "stderr",
     "output_type": "stream",
     "text": [
      " 65%|██████▍   | 3230/5000 [29:55<16:20,  1.81it/s]"
     ]
    },
    {
     "name": "stdout",
     "output_type": "stream",
     "text": [
      "Iteration: 3220/5000\t MSE eqn: 11.8183\t MSE boundary: 5648.7808\t Total Loss: 5660.5991\n"
     ]
    },
    {
     "name": "stderr",
     "output_type": "stream",
     "text": [
      " 65%|██████▍   | 3240/5000 [30:00<16:07,  1.82it/s]"
     ]
    },
    {
     "name": "stdout",
     "output_type": "stream",
     "text": [
      "Iteration: 3230/5000\t MSE eqn: 11.7946\t MSE boundary: 5872.7637\t Total Loss: 5884.5581\n"
     ]
    },
    {
     "name": "stderr",
     "output_type": "stream",
     "text": [
      " 65%|██████▌   | 3250/5000 [30:06<16:06,  1.81it/s]"
     ]
    },
    {
     "name": "stdout",
     "output_type": "stream",
     "text": [
      "Iteration: 3240/5000\t MSE eqn: 11.7359\t MSE boundary: 6011.7983\t Total Loss: 6023.5342\n"
     ]
    },
    {
     "name": "stderr",
     "output_type": "stream",
     "text": [
      " 65%|██████▌   | 3260/5000 [30:11<15:55,  1.82it/s]"
     ]
    },
    {
     "name": "stdout",
     "output_type": "stream",
     "text": [
      "Iteration: 3250/5000\t MSE eqn: 11.9121\t MSE boundary: 6041.1182\t Total Loss: 6053.0303\n"
     ]
    },
    {
     "name": "stderr",
     "output_type": "stream",
     "text": [
      " 65%|██████▌   | 3270/5000 [30:17<15:50,  1.82it/s]"
     ]
    },
    {
     "name": "stdout",
     "output_type": "stream",
     "text": [
      "Iteration: 3260/5000\t MSE eqn: 11.7965\t MSE boundary: 5535.7090\t Total Loss: 5547.5054\n"
     ]
    },
    {
     "name": "stderr",
     "output_type": "stream",
     "text": [
      " 66%|██████▌   | 3280/5000 [30:22<15:54,  1.80it/s]"
     ]
    },
    {
     "name": "stdout",
     "output_type": "stream",
     "text": [
      "Iteration: 3270/5000\t MSE eqn: 11.7113\t MSE boundary: 6297.2090\t Total Loss: 6308.9204\n"
     ]
    },
    {
     "name": "stderr",
     "output_type": "stream",
     "text": [
      " 66%|██████▌   | 3290/5000 [30:28<15:46,  1.81it/s]"
     ]
    },
    {
     "name": "stdout",
     "output_type": "stream",
     "text": [
      "Iteration: 3280/5000\t MSE eqn: 11.6827\t MSE boundary: 5557.8530\t Total Loss: 5569.5356\n"
     ]
    },
    {
     "name": "stderr",
     "output_type": "stream",
     "text": [
      " 66%|██████▌   | 3300/5000 [30:33<15:41,  1.81it/s]"
     ]
    },
    {
     "name": "stdout",
     "output_type": "stream",
     "text": [
      "Iteration: 3290/5000\t MSE eqn: 11.7950\t MSE boundary: 6646.1660\t Total Loss: 6657.9609\n"
     ]
    },
    {
     "name": "stderr",
     "output_type": "stream",
     "text": [
      " 66%|██████▌   | 3310/5000 [30:39<15:42,  1.79it/s]"
     ]
    },
    {
     "name": "stdout",
     "output_type": "stream",
     "text": [
      "Iteration: 3300/5000\t MSE eqn: 11.8046\t MSE boundary: 5078.6768\t Total Loss: 5090.4814\n"
     ]
    },
    {
     "name": "stderr",
     "output_type": "stream",
     "text": [
      " 66%|██████▋   | 3320/5000 [30:44<15:30,  1.81it/s]"
     ]
    },
    {
     "name": "stdout",
     "output_type": "stream",
     "text": [
      "Iteration: 3310/5000\t MSE eqn: 11.5555\t MSE boundary: 6318.9307\t Total Loss: 6330.4863\n"
     ]
    },
    {
     "name": "stderr",
     "output_type": "stream",
     "text": [
      " 67%|██████▋   | 3330/5000 [30:50<15:20,  1.81it/s]"
     ]
    },
    {
     "name": "stdout",
     "output_type": "stream",
     "text": [
      "Iteration: 3320/5000\t MSE eqn: 11.7928\t MSE boundary: 6252.5205\t Total Loss: 6264.3135\n"
     ]
    },
    {
     "name": "stderr",
     "output_type": "stream",
     "text": [
      " 67%|██████▋   | 3340/5000 [30:56<15:40,  1.77it/s]"
     ]
    },
    {
     "name": "stdout",
     "output_type": "stream",
     "text": [
      "Iteration: 3330/5000\t MSE eqn: 11.5867\t MSE boundary: 6005.5054\t Total Loss: 6017.0918\n"
     ]
    },
    {
     "name": "stderr",
     "output_type": "stream",
     "text": [
      " 67%|██████▋   | 3350/5000 [31:01<15:28,  1.78it/s]"
     ]
    },
    {
     "name": "stdout",
     "output_type": "stream",
     "text": [
      "Iteration: 3340/5000\t MSE eqn: 11.6194\t MSE boundary: 4937.9033\t Total Loss: 4949.5229\n"
     ]
    },
    {
     "name": "stderr",
     "output_type": "stream",
     "text": [
      " 67%|██████▋   | 3360/5000 [31:07<15:13,  1.79it/s]"
     ]
    },
    {
     "name": "stdout",
     "output_type": "stream",
     "text": [
      "Iteration: 3350/5000\t MSE eqn: 11.7609\t MSE boundary: 5772.2715\t Total Loss: 5784.0322\n"
     ]
    },
    {
     "name": "stderr",
     "output_type": "stream",
     "text": [
      " 67%|██████▋   | 3370/5000 [31:13<15:14,  1.78it/s]"
     ]
    },
    {
     "name": "stdout",
     "output_type": "stream",
     "text": [
      "Iteration: 3360/5000\t MSE eqn: 11.6488\t MSE boundary: 6012.5825\t Total Loss: 6024.2314\n"
     ]
    },
    {
     "name": "stderr",
     "output_type": "stream",
     "text": [
      " 68%|██████▊   | 3380/5000 [31:18<15:02,  1.80it/s]"
     ]
    },
    {
     "name": "stdout",
     "output_type": "stream",
     "text": [
      "Iteration: 3370/5000\t MSE eqn: 11.7265\t MSE boundary: 5107.1699\t Total Loss: 5118.8965\n"
     ]
    },
    {
     "name": "stderr",
     "output_type": "stream",
     "text": [
      " 68%|██████▊   | 3390/5000 [31:23<14:51,  1.81it/s]"
     ]
    },
    {
     "name": "stdout",
     "output_type": "stream",
     "text": [
      "Iteration: 3380/5000\t MSE eqn: 11.8265\t MSE boundary: 6390.3813\t Total Loss: 6402.2080\n"
     ]
    },
    {
     "name": "stderr",
     "output_type": "stream",
     "text": [
      " 68%|██████▊   | 3400/5000 [31:29<14:49,  1.80it/s]"
     ]
    },
    {
     "name": "stdout",
     "output_type": "stream",
     "text": [
      "Iteration: 3390/5000\t MSE eqn: 11.7068\t MSE boundary: 5639.8081\t Total Loss: 5651.5151\n"
     ]
    },
    {
     "name": "stderr",
     "output_type": "stream",
     "text": [
      " 68%|██████▊   | 3410/5000 [31:34<14:34,  1.82it/s]"
     ]
    },
    {
     "name": "stdout",
     "output_type": "stream",
     "text": [
      "Iteration: 3400/5000\t MSE eqn: 11.9601\t MSE boundary: 5304.8506\t Total Loss: 5316.8105\n"
     ]
    },
    {
     "name": "stderr",
     "output_type": "stream",
     "text": [
      " 68%|██████▊   | 3420/5000 [31:40<14:24,  1.83it/s]"
     ]
    },
    {
     "name": "stdout",
     "output_type": "stream",
     "text": [
      "Iteration: 3410/5000\t MSE eqn: 11.6475\t MSE boundary: 6638.3359\t Total Loss: 6649.9834\n"
     ]
    },
    {
     "name": "stderr",
     "output_type": "stream",
     "text": [
      " 69%|██████▊   | 3430/5000 [31:45<14:24,  1.82it/s]"
     ]
    },
    {
     "name": "stdout",
     "output_type": "stream",
     "text": [
      "Iteration: 3420/5000\t MSE eqn: 11.7356\t MSE boundary: 5633.9639\t Total Loss: 5645.6992\n"
     ]
    },
    {
     "name": "stderr",
     "output_type": "stream",
     "text": [
      " 69%|██████▉   | 3440/5000 [31:51<14:35,  1.78it/s]"
     ]
    },
    {
     "name": "stdout",
     "output_type": "stream",
     "text": [
      "Iteration: 3430/5000\t MSE eqn: 11.7377\t MSE boundary: 6598.1890\t Total Loss: 6609.9268\n"
     ]
    },
    {
     "name": "stderr",
     "output_type": "stream",
     "text": [
      " 69%|██████▉   | 3450/5000 [31:57<14:42,  1.76it/s]"
     ]
    },
    {
     "name": "stdout",
     "output_type": "stream",
     "text": [
      "Iteration: 3440/5000\t MSE eqn: 11.8228\t MSE boundary: 5425.8311\t Total Loss: 5437.6538\n"
     ]
    },
    {
     "name": "stderr",
     "output_type": "stream",
     "text": [
      " 69%|██████▉   | 3460/5000 [32:03<14:27,  1.78it/s]"
     ]
    },
    {
     "name": "stdout",
     "output_type": "stream",
     "text": [
      "Iteration: 3450/5000\t MSE eqn: 11.8079\t MSE boundary: 5953.6089\t Total Loss: 5965.4170\n"
     ]
    },
    {
     "name": "stderr",
     "output_type": "stream",
     "text": [
      " 69%|██████▉   | 3470/5000 [32:08<14:12,  1.79it/s]"
     ]
    },
    {
     "name": "stdout",
     "output_type": "stream",
     "text": [
      "Iteration: 3460/5000\t MSE eqn: 11.7450\t MSE boundary: 5796.6626\t Total Loss: 5808.4077\n"
     ]
    },
    {
     "name": "stderr",
     "output_type": "stream",
     "text": [
      " 70%|██████▉   | 3480/5000 [32:14<14:06,  1.79it/s]"
     ]
    },
    {
     "name": "stdout",
     "output_type": "stream",
     "text": [
      "Iteration: 3470/5000\t MSE eqn: 11.7602\t MSE boundary: 6260.8462\t Total Loss: 6272.6064\n"
     ]
    },
    {
     "name": "stderr",
     "output_type": "stream",
     "text": [
      " 70%|██████▉   | 3490/5000 [32:19<13:54,  1.81it/s]"
     ]
    },
    {
     "name": "stdout",
     "output_type": "stream",
     "text": [
      "Iteration: 3480/5000\t MSE eqn: 11.6802\t MSE boundary: 5396.8164\t Total Loss: 5408.4966\n"
     ]
    },
    {
     "name": "stderr",
     "output_type": "stream",
     "text": [
      " 70%|███████   | 3500/5000 [32:25<13:46,  1.82it/s]"
     ]
    },
    {
     "name": "stdout",
     "output_type": "stream",
     "text": [
      "Iteration: 3490/5000\t MSE eqn: 11.7893\t MSE boundary: 5811.9971\t Total Loss: 5823.7861\n"
     ]
    },
    {
     "name": "stderr",
     "output_type": "stream",
     "text": [
      " 70%|███████   | 3510/5000 [32:30<13:42,  1.81it/s]"
     ]
    },
    {
     "name": "stdout",
     "output_type": "stream",
     "text": [
      "Iteration: 3500/5000\t MSE eqn: 11.7184\t MSE boundary: 5855.5337\t Total Loss: 5867.2520\n"
     ]
    },
    {
     "name": "stderr",
     "output_type": "stream",
     "text": [
      " 70%|███████   | 3520/5000 [32:36<13:37,  1.81it/s]"
     ]
    },
    {
     "name": "stdout",
     "output_type": "stream",
     "text": [
      "Iteration: 3510/5000\t MSE eqn: 11.8280\t MSE boundary: 5916.7065\t Total Loss: 5928.5347\n"
     ]
    },
    {
     "name": "stderr",
     "output_type": "stream",
     "text": [
      " 71%|███████   | 3530/5000 [32:41<13:28,  1.82it/s]"
     ]
    },
    {
     "name": "stdout",
     "output_type": "stream",
     "text": [
      "Iteration: 3520/5000\t MSE eqn: 11.6504\t MSE boundary: 6694.0903\t Total Loss: 6705.7407\n"
     ]
    },
    {
     "name": "stderr",
     "output_type": "stream",
     "text": [
      " 71%|███████   | 3540/5000 [32:47<13:27,  1.81it/s]"
     ]
    },
    {
     "name": "stdout",
     "output_type": "stream",
     "text": [
      "Iteration: 3530/5000\t MSE eqn: 11.8536\t MSE boundary: 5681.7876\t Total Loss: 5693.6411\n"
     ]
    },
    {
     "name": "stderr",
     "output_type": "stream",
     "text": [
      " 71%|███████   | 3550/5000 [32:52<13:17,  1.82it/s]"
     ]
    },
    {
     "name": "stdout",
     "output_type": "stream",
     "text": [
      "Iteration: 3540/5000\t MSE eqn: 11.8770\t MSE boundary: 5718.2593\t Total Loss: 5730.1362\n"
     ]
    },
    {
     "name": "stderr",
     "output_type": "stream",
     "text": [
      " 71%|███████   | 3560/5000 [32:58<13:34,  1.77it/s]"
     ]
    },
    {
     "name": "stdout",
     "output_type": "stream",
     "text": [
      "Iteration: 3550/5000\t MSE eqn: 11.8821\t MSE boundary: 5721.0757\t Total Loss: 5732.9580\n"
     ]
    },
    {
     "name": "stderr",
     "output_type": "stream",
     "text": [
      " 71%|███████▏  | 3570/5000 [33:04<13:29,  1.77it/s]"
     ]
    },
    {
     "name": "stdout",
     "output_type": "stream",
     "text": [
      "Iteration: 3560/5000\t MSE eqn: 11.7327\t MSE boundary: 5531.9194\t Total Loss: 5543.6523\n"
     ]
    },
    {
     "name": "stderr",
     "output_type": "stream",
     "text": [
      " 72%|███████▏  | 3580/5000 [33:09<13:17,  1.78it/s]"
     ]
    },
    {
     "name": "stdout",
     "output_type": "stream",
     "text": [
      "Iteration: 3570/5000\t MSE eqn: 11.7584\t MSE boundary: 5721.9243\t Total Loss: 5733.6826\n"
     ]
    },
    {
     "name": "stderr",
     "output_type": "stream",
     "text": [
      " 72%|███████▏  | 3590/5000 [33:15<13:11,  1.78it/s]"
     ]
    },
    {
     "name": "stdout",
     "output_type": "stream",
     "text": [
      "Iteration: 3580/5000\t MSE eqn: 11.7597\t MSE boundary: 6319.0405\t Total Loss: 6330.8003\n"
     ]
    },
    {
     "name": "stderr",
     "output_type": "stream",
     "text": [
      " 72%|███████▏  | 3600/5000 [33:21<13:08,  1.78it/s]"
     ]
    },
    {
     "name": "stdout",
     "output_type": "stream",
     "text": [
      "Iteration: 3590/5000\t MSE eqn: 11.9347\t MSE boundary: 5317.1812\t Total Loss: 5329.1157\n"
     ]
    },
    {
     "name": "stderr",
     "output_type": "stream",
     "text": [
      " 72%|███████▏  | 3610/5000 [33:26<12:57,  1.79it/s]"
     ]
    },
    {
     "name": "stdout",
     "output_type": "stream",
     "text": [
      "Iteration: 3600/5000\t MSE eqn: 11.7987\t MSE boundary: 5863.9595\t Total Loss: 5875.7583\n"
     ]
    },
    {
     "name": "stderr",
     "output_type": "stream",
     "text": [
      " 72%|███████▏  | 3620/5000 [33:32<12:44,  1.81it/s]"
     ]
    },
    {
     "name": "stdout",
     "output_type": "stream",
     "text": [
      "Iteration: 3610/5000\t MSE eqn: 11.6681\t MSE boundary: 6580.3369\t Total Loss: 6592.0049\n"
     ]
    },
    {
     "name": "stderr",
     "output_type": "stream",
     "text": [
      " 73%|███████▎  | 3630/5000 [33:37<12:42,  1.80it/s]"
     ]
    },
    {
     "name": "stdout",
     "output_type": "stream",
     "text": [
      "Iteration: 3620/5000\t MSE eqn: 11.9283\t MSE boundary: 5818.0791\t Total Loss: 5830.0073\n"
     ]
    },
    {
     "name": "stderr",
     "output_type": "stream",
     "text": [
      " 73%|███████▎  | 3640/5000 [33:43<12:32,  1.81it/s]"
     ]
    },
    {
     "name": "stdout",
     "output_type": "stream",
     "text": [
      "Iteration: 3630/5000\t MSE eqn: 11.8389\t MSE boundary: 5767.2026\t Total Loss: 5779.0415\n"
     ]
    },
    {
     "name": "stderr",
     "output_type": "stream",
     "text": [
      " 73%|███████▎  | 3650/5000 [33:48<12:24,  1.81it/s]"
     ]
    },
    {
     "name": "stdout",
     "output_type": "stream",
     "text": [
      "Iteration: 3640/5000\t MSE eqn: 11.7969\t MSE boundary: 5913.1699\t Total Loss: 5924.9668\n"
     ]
    },
    {
     "name": "stderr",
     "output_type": "stream",
     "text": [
      " 73%|███████▎  | 3660/5000 [33:54<12:19,  1.81it/s]"
     ]
    },
    {
     "name": "stdout",
     "output_type": "stream",
     "text": [
      "Iteration: 3650/5000\t MSE eqn: 11.9225\t MSE boundary: 5490.8096\t Total Loss: 5502.7319\n"
     ]
    },
    {
     "name": "stderr",
     "output_type": "stream",
     "text": [
      " 73%|███████▎  | 3670/5000 [33:59<12:14,  1.81it/s]"
     ]
    },
    {
     "name": "stdout",
     "output_type": "stream",
     "text": [
      "Iteration: 3660/5000\t MSE eqn: 11.7996\t MSE boundary: 5118.3691\t Total Loss: 5130.1689\n"
     ]
    },
    {
     "name": "stderr",
     "output_type": "stream",
     "text": [
      " 74%|███████▎  | 3680/5000 [34:05<12:07,  1.81it/s]"
     ]
    },
    {
     "name": "stdout",
     "output_type": "stream",
     "text": [
      "Iteration: 3670/5000\t MSE eqn: 11.8181\t MSE boundary: 5900.4746\t Total Loss: 5912.2925\n"
     ]
    },
    {
     "name": "stderr",
     "output_type": "stream",
     "text": [
      " 74%|███████▍  | 3690/5000 [34:10<12:05,  1.80it/s]"
     ]
    },
    {
     "name": "stdout",
     "output_type": "stream",
     "text": [
      "Iteration: 3680/5000\t MSE eqn: 11.6744\t MSE boundary: 5344.7397\t Total Loss: 5356.4141\n"
     ]
    },
    {
     "name": "stderr",
     "output_type": "stream",
     "text": [
      " 74%|███████▍  | 3700/5000 [34:16<11:58,  1.81it/s]"
     ]
    },
    {
     "name": "stdout",
     "output_type": "stream",
     "text": [
      "Iteration: 3690/5000\t MSE eqn: 11.8424\t MSE boundary: 5671.6226\t Total Loss: 5683.4648\n"
     ]
    },
    {
     "name": "stderr",
     "output_type": "stream",
     "text": [
      " 74%|███████▍  | 3710/5000 [34:21<11:58,  1.80it/s]"
     ]
    },
    {
     "name": "stdout",
     "output_type": "stream",
     "text": [
      "Iteration: 3700/5000\t MSE eqn: 11.7252\t MSE boundary: 5169.4873\t Total Loss: 5181.2124\n"
     ]
    },
    {
     "name": "stderr",
     "output_type": "stream",
     "text": [
      " 74%|███████▍  | 3720/5000 [34:27<11:51,  1.80it/s]"
     ]
    },
    {
     "name": "stdout",
     "output_type": "stream",
     "text": [
      "Iteration: 3710/5000\t MSE eqn: 11.7714\t MSE boundary: 5119.1699\t Total Loss: 5130.9414\n"
     ]
    },
    {
     "name": "stderr",
     "output_type": "stream",
     "text": [
      " 75%|███████▍  | 3730/5000 [34:32<11:43,  1.81it/s]"
     ]
    },
    {
     "name": "stdout",
     "output_type": "stream",
     "text": [
      "Iteration: 3720/5000\t MSE eqn: 11.8053\t MSE boundary: 6285.8774\t Total Loss: 6297.6826\n"
     ]
    },
    {
     "name": "stderr",
     "output_type": "stream",
     "text": [
      " 75%|███████▍  | 3740/5000 [34:38<11:42,  1.79it/s]"
     ]
    },
    {
     "name": "stdout",
     "output_type": "stream",
     "text": [
      "Iteration: 3730/5000\t MSE eqn: 11.7307\t MSE boundary: 6466.4902\t Total Loss: 6478.2207\n"
     ]
    },
    {
     "name": "stderr",
     "output_type": "stream",
     "text": [
      " 75%|███████▌  | 3750/5000 [34:44<11:33,  1.80it/s]"
     ]
    },
    {
     "name": "stdout",
     "output_type": "stream",
     "text": [
      "Iteration: 3740/5000\t MSE eqn: 11.7370\t MSE boundary: 5383.5635\t Total Loss: 5395.3003\n"
     ]
    },
    {
     "name": "stderr",
     "output_type": "stream",
     "text": [
      " 75%|███████▌  | 3760/5000 [34:49<11:23,  1.82it/s]"
     ]
    },
    {
     "name": "stdout",
     "output_type": "stream",
     "text": [
      "Iteration: 3750/5000\t MSE eqn: 11.7604\t MSE boundary: 5954.8047\t Total Loss: 5966.5649\n"
     ]
    },
    {
     "name": "stderr",
     "output_type": "stream",
     "text": [
      " 75%|███████▌  | 3770/5000 [34:55<11:39,  1.76it/s]"
     ]
    },
    {
     "name": "stdout",
     "output_type": "stream",
     "text": [
      "Iteration: 3760/5000\t MSE eqn: 11.9094\t MSE boundary: 5796.5986\t Total Loss: 5808.5078\n"
     ]
    },
    {
     "name": "stderr",
     "output_type": "stream",
     "text": [
      " 76%|███████▌  | 3780/5000 [35:01<11:34,  1.76it/s]"
     ]
    },
    {
     "name": "stdout",
     "output_type": "stream",
     "text": [
      "Iteration: 3770/5000\t MSE eqn: 11.7718\t MSE boundary: 5506.3740\t Total Loss: 5518.1460\n"
     ]
    },
    {
     "name": "stderr",
     "output_type": "stream",
     "text": [
      " 76%|███████▌  | 3790/5000 [35:06<11:19,  1.78it/s]"
     ]
    },
    {
     "name": "stdout",
     "output_type": "stream",
     "text": [
      "Iteration: 3780/5000\t MSE eqn: 11.6147\t MSE boundary: 5815.4565\t Total Loss: 5827.0713\n"
     ]
    },
    {
     "name": "stderr",
     "output_type": "stream",
     "text": [
      " 76%|███████▌  | 3800/5000 [35:12<11:15,  1.78it/s]"
     ]
    },
    {
     "name": "stdout",
     "output_type": "stream",
     "text": [
      "Iteration: 3790/5000\t MSE eqn: 11.9250\t MSE boundary: 6249.9043\t Total Loss: 6261.8291\n"
     ]
    },
    {
     "name": "stderr",
     "output_type": "stream",
     "text": [
      " 76%|███████▌  | 3810/5000 [35:17<11:06,  1.79it/s]"
     ]
    },
    {
     "name": "stdout",
     "output_type": "stream",
     "text": [
      "Iteration: 3800/5000\t MSE eqn: 11.7858\t MSE boundary: 6022.9419\t Total Loss: 6034.7275\n"
     ]
    },
    {
     "name": "stderr",
     "output_type": "stream",
     "text": [
      " 76%|███████▋  | 3820/5000 [35:23<10:54,  1.80it/s]"
     ]
    },
    {
     "name": "stdout",
     "output_type": "stream",
     "text": [
      "Iteration: 3810/5000\t MSE eqn: 11.7026\t MSE boundary: 6148.0723\t Total Loss: 6159.7749\n"
     ]
    },
    {
     "name": "stderr",
     "output_type": "stream",
     "text": [
      " 77%|███████▋  | 3830/5000 [35:29<10:53,  1.79it/s]"
     ]
    },
    {
     "name": "stdout",
     "output_type": "stream",
     "text": [
      "Iteration: 3820/5000\t MSE eqn: 11.8895\t MSE boundary: 6106.9609\t Total Loss: 6118.8506\n"
     ]
    },
    {
     "name": "stderr",
     "output_type": "stream",
     "text": [
      " 77%|███████▋  | 3840/5000 [35:34<10:49,  1.79it/s]"
     ]
    },
    {
     "name": "stdout",
     "output_type": "stream",
     "text": [
      "Iteration: 3830/5000\t MSE eqn: 11.7955\t MSE boundary: 5756.6265\t Total Loss: 5768.4219\n"
     ]
    },
    {
     "name": "stderr",
     "output_type": "stream",
     "text": [
      " 77%|███████▋  | 3850/5000 [35:40<10:37,  1.81it/s]"
     ]
    },
    {
     "name": "stdout",
     "output_type": "stream",
     "text": [
      "Iteration: 3840/5000\t MSE eqn: 11.8131\t MSE boundary: 5262.0288\t Total Loss: 5273.8418\n"
     ]
    },
    {
     "name": "stderr",
     "output_type": "stream",
     "text": [
      " 77%|███████▋  | 3860/5000 [35:45<10:34,  1.80it/s]"
     ]
    },
    {
     "name": "stdout",
     "output_type": "stream",
     "text": [
      "Iteration: 3850/5000\t MSE eqn: 11.7067\t MSE boundary: 5618.3965\t Total Loss: 5630.1030\n"
     ]
    },
    {
     "name": "stderr",
     "output_type": "stream",
     "text": [
      " 77%|███████▋  | 3870/5000 [35:51<10:24,  1.81it/s]"
     ]
    },
    {
     "name": "stdout",
     "output_type": "stream",
     "text": [
      "Iteration: 3860/5000\t MSE eqn: 11.7653\t MSE boundary: 5165.7729\t Total Loss: 5177.5381\n"
     ]
    },
    {
     "name": "stderr",
     "output_type": "stream",
     "text": [
      " 78%|███████▊  | 3880/5000 [35:56<10:18,  1.81it/s]"
     ]
    },
    {
     "name": "stdout",
     "output_type": "stream",
     "text": [
      "Iteration: 3870/5000\t MSE eqn: 11.7289\t MSE boundary: 6518.7939\t Total Loss: 6530.5229\n"
     ]
    },
    {
     "name": "stderr",
     "output_type": "stream",
     "text": [
      " 78%|███████▊  | 3890/5000 [36:02<10:15,  1.80it/s]"
     ]
    },
    {
     "name": "stdout",
     "output_type": "stream",
     "text": [
      "Iteration: 3880/5000\t MSE eqn: 11.7372\t MSE boundary: 6520.2134\t Total Loss: 6531.9507\n"
     ]
    },
    {
     "name": "stderr",
     "output_type": "stream",
     "text": [
      " 78%|███████▊  | 3900/5000 [36:07<10:07,  1.81it/s]"
     ]
    },
    {
     "name": "stdout",
     "output_type": "stream",
     "text": [
      "Iteration: 3890/5000\t MSE eqn: 11.6543\t MSE boundary: 5580.3350\t Total Loss: 5591.9893\n"
     ]
    },
    {
     "name": "stderr",
     "output_type": "stream",
     "text": [
      " 78%|███████▊  | 3910/5000 [36:13<10:01,  1.81it/s]"
     ]
    },
    {
     "name": "stdout",
     "output_type": "stream",
     "text": [
      "Iteration: 3900/5000\t MSE eqn: 11.8022\t MSE boundary: 4654.2354\t Total Loss: 4666.0376\n"
     ]
    },
    {
     "name": "stderr",
     "output_type": "stream",
     "text": [
      " 78%|███████▊  | 3920/5000 [36:18<09:57,  1.81it/s]"
     ]
    },
    {
     "name": "stdout",
     "output_type": "stream",
     "text": [
      "Iteration: 3910/5000\t MSE eqn: 11.8343\t MSE boundary: 6482.6548\t Total Loss: 6494.4893\n"
     ]
    },
    {
     "name": "stderr",
     "output_type": "stream",
     "text": [
      " 79%|███████▊  | 3930/5000 [36:24<09:51,  1.81it/s]"
     ]
    },
    {
     "name": "stdout",
     "output_type": "stream",
     "text": [
      "Iteration: 3920/5000\t MSE eqn: 11.7475\t MSE boundary: 5922.9316\t Total Loss: 5934.6792\n"
     ]
    },
    {
     "name": "stderr",
     "output_type": "stream",
     "text": [
      " 79%|███████▉  | 3940/5000 [36:29<09:50,  1.79it/s]"
     ]
    },
    {
     "name": "stdout",
     "output_type": "stream",
     "text": [
      "Iteration: 3930/5000\t MSE eqn: 11.7810\t MSE boundary: 5800.6777\t Total Loss: 5812.4585\n"
     ]
    },
    {
     "name": "stderr",
     "output_type": "stream",
     "text": [
      " 79%|███████▉  | 3950/5000 [36:35<09:38,  1.82it/s]"
     ]
    },
    {
     "name": "stdout",
     "output_type": "stream",
     "text": [
      "Iteration: 3940/5000\t MSE eqn: 11.6636\t MSE boundary: 5491.5898\t Total Loss: 5503.2534\n"
     ]
    },
    {
     "name": "stderr",
     "output_type": "stream",
     "text": [
      " 79%|███████▉  | 3960/5000 [36:40<09:28,  1.83it/s]"
     ]
    },
    {
     "name": "stdout",
     "output_type": "stream",
     "text": [
      "Iteration: 3950/5000\t MSE eqn: 11.9049\t MSE boundary: 4834.5239\t Total Loss: 4846.4287\n"
     ]
    },
    {
     "name": "stderr",
     "output_type": "stream",
     "text": [
      " 79%|███████▉  | 3970/5000 [36:46<09:30,  1.81it/s]"
     ]
    },
    {
     "name": "stdout",
     "output_type": "stream",
     "text": [
      "Iteration: 3960/5000\t MSE eqn: 11.7844\t MSE boundary: 6768.8472\t Total Loss: 6780.6318\n"
     ]
    },
    {
     "name": "stderr",
     "output_type": "stream",
     "text": [
      " 80%|███████▉  | 3980/5000 [36:51<09:21,  1.82it/s]"
     ]
    },
    {
     "name": "stdout",
     "output_type": "stream",
     "text": [
      "Iteration: 3970/5000\t MSE eqn: 11.7194\t MSE boundary: 6117.0005\t Total Loss: 6128.7197\n"
     ]
    },
    {
     "name": "stderr",
     "output_type": "stream",
     "text": [
      " 80%|███████▉  | 3990/5000 [36:57<09:27,  1.78it/s]"
     ]
    },
    {
     "name": "stdout",
     "output_type": "stream",
     "text": [
      "Iteration: 3980/5000\t MSE eqn: 11.7258\t MSE boundary: 6031.6162\t Total Loss: 6043.3418\n"
     ]
    },
    {
     "name": "stderr",
     "output_type": "stream",
     "text": [
      " 80%|████████  | 4000/5000 [37:03<09:22,  1.78it/s]"
     ]
    },
    {
     "name": "stdout",
     "output_type": "stream",
     "text": [
      "Iteration: 3990/5000\t MSE eqn: 11.8368\t MSE boundary: 6691.3076\t Total Loss: 6703.1445\n"
     ]
    },
    {
     "name": "stderr",
     "output_type": "stream",
     "text": [
      " 80%|████████  | 4010/5000 [37:08<09:13,  1.79it/s]"
     ]
    },
    {
     "name": "stdout",
     "output_type": "stream",
     "text": [
      "Iteration: 4000/5000\t MSE eqn: 11.7380\t MSE boundary: 5513.0659\t Total Loss: 5524.8037\n"
     ]
    },
    {
     "name": "stderr",
     "output_type": "stream",
     "text": [
      " 80%|████████  | 4020/5000 [37:14<09:04,  1.80it/s]"
     ]
    },
    {
     "name": "stdout",
     "output_type": "stream",
     "text": [
      "Iteration: 4010/5000\t MSE eqn: 11.6620\t MSE boundary: 5647.3745\t Total Loss: 5659.0366\n"
     ]
    },
    {
     "name": "stderr",
     "output_type": "stream",
     "text": [
      " 81%|████████  | 4030/5000 [37:19<08:58,  1.80it/s]"
     ]
    },
    {
     "name": "stdout",
     "output_type": "stream",
     "text": [
      "Iteration: 4020/5000\t MSE eqn: 11.7306\t MSE boundary: 5961.7666\t Total Loss: 5973.4971\n"
     ]
    },
    {
     "name": "stderr",
     "output_type": "stream",
     "text": [
      " 81%|████████  | 4040/5000 [37:25<08:50,  1.81it/s]"
     ]
    },
    {
     "name": "stdout",
     "output_type": "stream",
     "text": [
      "Iteration: 4030/5000\t MSE eqn: 11.6149\t MSE boundary: 6089.0220\t Total Loss: 6100.6367\n"
     ]
    },
    {
     "name": "stderr",
     "output_type": "stream",
     "text": [
      " 81%|████████  | 4050/5000 [37:30<08:42,  1.82it/s]"
     ]
    },
    {
     "name": "stdout",
     "output_type": "stream",
     "text": [
      "Iteration: 4040/5000\t MSE eqn: 11.7056\t MSE boundary: 6081.8198\t Total Loss: 6093.5254\n"
     ]
    },
    {
     "name": "stderr",
     "output_type": "stream",
     "text": [
      " 81%|████████  | 4060/5000 [37:36<08:43,  1.80it/s]"
     ]
    },
    {
     "name": "stdout",
     "output_type": "stream",
     "text": [
      "Iteration: 4050/5000\t MSE eqn: 11.7869\t MSE boundary: 6705.3462\t Total Loss: 6717.1333\n"
     ]
    },
    {
     "name": "stderr",
     "output_type": "stream",
     "text": [
      " 81%|████████▏ | 4070/5000 [37:41<08:32,  1.81it/s]"
     ]
    },
    {
     "name": "stdout",
     "output_type": "stream",
     "text": [
      "Iteration: 4060/5000\t MSE eqn: 11.8262\t MSE boundary: 5734.7700\t Total Loss: 5746.5962\n"
     ]
    },
    {
     "name": "stderr",
     "output_type": "stream",
     "text": [
      " 82%|████████▏ | 4080/5000 [37:47<08:28,  1.81it/s]"
     ]
    },
    {
     "name": "stdout",
     "output_type": "stream",
     "text": [
      "Iteration: 4070/5000\t MSE eqn: 11.6290\t MSE boundary: 6117.3096\t Total Loss: 6128.9385\n"
     ]
    },
    {
     "name": "stderr",
     "output_type": "stream",
     "text": [
      " 82%|████████▏ | 4090/5000 [37:53<08:25,  1.80it/s]"
     ]
    },
    {
     "name": "stdout",
     "output_type": "stream",
     "text": [
      "Iteration: 4080/5000\t MSE eqn: 12.0423\t MSE boundary: 6346.0903\t Total Loss: 6358.1328\n"
     ]
    },
    {
     "name": "stderr",
     "output_type": "stream",
     "text": [
      " 82%|████████▏ | 4100/5000 [37:58<08:17,  1.81it/s]"
     ]
    },
    {
     "name": "stdout",
     "output_type": "stream",
     "text": [
      "Iteration: 4090/5000\t MSE eqn: 11.8803\t MSE boundary: 5904.1812\t Total Loss: 5916.0615\n"
     ]
    },
    {
     "name": "stderr",
     "output_type": "stream",
     "text": [
      " 82%|████████▏ | 4110/5000 [38:04<08:11,  1.81it/s]"
     ]
    },
    {
     "name": "stdout",
     "output_type": "stream",
     "text": [
      "Iteration: 4100/5000\t MSE eqn: 11.6109\t MSE boundary: 5607.7891\t Total Loss: 5619.3999\n"
     ]
    },
    {
     "name": "stderr",
     "output_type": "stream",
     "text": [
      " 82%|████████▏ | 4120/5000 [38:09<08:10,  1.80it/s]"
     ]
    },
    {
     "name": "stdout",
     "output_type": "stream",
     "text": [
      "Iteration: 4110/5000\t MSE eqn: 11.7824\t MSE boundary: 6351.8149\t Total Loss: 6363.5972\n"
     ]
    },
    {
     "name": "stderr",
     "output_type": "stream",
     "text": [
      " 83%|████████▎ | 4130/5000 [38:15<08:01,  1.81it/s]"
     ]
    },
    {
     "name": "stdout",
     "output_type": "stream",
     "text": [
      "Iteration: 4120/5000\t MSE eqn: 11.6993\t MSE boundary: 5969.9458\t Total Loss: 5981.6450\n"
     ]
    },
    {
     "name": "stderr",
     "output_type": "stream",
     "text": [
      " 83%|████████▎ | 4140/5000 [38:20<07:53,  1.81it/s]"
     ]
    },
    {
     "name": "stdout",
     "output_type": "stream",
     "text": [
      "Iteration: 4130/5000\t MSE eqn: 11.8346\t MSE boundary: 5908.1484\t Total Loss: 5919.9829\n"
     ]
    },
    {
     "name": "stderr",
     "output_type": "stream",
     "text": [
      " 83%|████████▎ | 4150/5000 [38:26<07:49,  1.81it/s]"
     ]
    },
    {
     "name": "stdout",
     "output_type": "stream",
     "text": [
      "Iteration: 4140/5000\t MSE eqn: 11.8278\t MSE boundary: 5945.0605\t Total Loss: 5956.8882\n"
     ]
    },
    {
     "name": "stderr",
     "output_type": "stream",
     "text": [
      " 83%|████████▎ | 4160/5000 [38:31<07:41,  1.82it/s]"
     ]
    },
    {
     "name": "stdout",
     "output_type": "stream",
     "text": [
      "Iteration: 4150/5000\t MSE eqn: 11.7267\t MSE boundary: 4977.2065\t Total Loss: 4988.9331\n"
     ]
    },
    {
     "name": "stderr",
     "output_type": "stream",
     "text": [
      " 83%|████████▎ | 4170/5000 [38:37<07:39,  1.81it/s]"
     ]
    },
    {
     "name": "stdout",
     "output_type": "stream",
     "text": [
      "Iteration: 4160/5000\t MSE eqn: 11.7256\t MSE boundary: 5895.6929\t Total Loss: 5907.4185\n"
     ]
    },
    {
     "name": "stderr",
     "output_type": "stream",
     "text": [
      " 84%|████████▎ | 4180/5000 [38:42<07:31,  1.82it/s]"
     ]
    },
    {
     "name": "stdout",
     "output_type": "stream",
     "text": [
      "Iteration: 4170/5000\t MSE eqn: 11.5915\t MSE boundary: 5660.6343\t Total Loss: 5672.2256\n"
     ]
    },
    {
     "name": "stderr",
     "output_type": "stream",
     "text": [
      " 84%|████████▍ | 4190/5000 [38:48<07:25,  1.82it/s]"
     ]
    },
    {
     "name": "stdout",
     "output_type": "stream",
     "text": [
      "Iteration: 4180/5000\t MSE eqn: 11.7057\t MSE boundary: 5849.8984\t Total Loss: 5861.6040\n"
     ]
    },
    {
     "name": "stderr",
     "output_type": "stream",
     "text": [
      " 84%|████████▍ | 4200/5000 [38:53<07:27,  1.79it/s]"
     ]
    },
    {
     "name": "stdout",
     "output_type": "stream",
     "text": [
      "Iteration: 4190/5000\t MSE eqn: 11.5739\t MSE boundary: 5424.0811\t Total Loss: 5435.6548\n"
     ]
    },
    {
     "name": "stderr",
     "output_type": "stream",
     "text": [
      " 84%|████████▍ | 4210/5000 [38:59<07:28,  1.76it/s]"
     ]
    },
    {
     "name": "stdout",
     "output_type": "stream",
     "text": [
      "Iteration: 4200/5000\t MSE eqn: 11.7464\t MSE boundary: 6049.8271\t Total Loss: 6061.5737\n"
     ]
    },
    {
     "name": "stderr",
     "output_type": "stream",
     "text": [
      " 84%|████████▍ | 4220/5000 [39:05<07:19,  1.78it/s]"
     ]
    },
    {
     "name": "stdout",
     "output_type": "stream",
     "text": [
      "Iteration: 4210/5000\t MSE eqn: 11.8968\t MSE boundary: 5707.7095\t Total Loss: 5719.6064\n"
     ]
    },
    {
     "name": "stderr",
     "output_type": "stream",
     "text": [
      " 85%|████████▍ | 4230/5000 [39:10<07:13,  1.78it/s]"
     ]
    },
    {
     "name": "stdout",
     "output_type": "stream",
     "text": [
      "Iteration: 4220/5000\t MSE eqn: 11.7887\t MSE boundary: 5266.3369\t Total Loss: 5278.1255\n"
     ]
    },
    {
     "name": "stderr",
     "output_type": "stream",
     "text": [
      " 85%|████████▍ | 4240/5000 [39:16<07:09,  1.77it/s]"
     ]
    },
    {
     "name": "stdout",
     "output_type": "stream",
     "text": [
      "Iteration: 4230/5000\t MSE eqn: 11.7565\t MSE boundary: 5228.7280\t Total Loss: 5240.4844\n"
     ]
    },
    {
     "name": "stderr",
     "output_type": "stream",
     "text": [
      " 85%|████████▌ | 4250/5000 [39:22<06:58,  1.79it/s]"
     ]
    },
    {
     "name": "stdout",
     "output_type": "stream",
     "text": [
      "Iteration: 4240/5000\t MSE eqn: 11.7384\t MSE boundary: 5286.0063\t Total Loss: 5297.7446\n"
     ]
    },
    {
     "name": "stderr",
     "output_type": "stream",
     "text": [
      " 85%|████████▌ | 4260/5000 [39:27<06:55,  1.78it/s]"
     ]
    },
    {
     "name": "stdout",
     "output_type": "stream",
     "text": [
      "Iteration: 4250/5000\t MSE eqn: 11.7819\t MSE boundary: 6019.3384\t Total Loss: 6031.1201\n"
     ]
    },
    {
     "name": "stderr",
     "output_type": "stream",
     "text": [
      " 85%|████████▌ | 4270/5000 [39:33<06:46,  1.80it/s]"
     ]
    },
    {
     "name": "stdout",
     "output_type": "stream",
     "text": [
      "Iteration: 4260/5000\t MSE eqn: 11.7406\t MSE boundary: 5804.7085\t Total Loss: 5816.4492\n"
     ]
    },
    {
     "name": "stderr",
     "output_type": "stream",
     "text": [
      " 86%|████████▌ | 4280/5000 [39:38<06:38,  1.80it/s]"
     ]
    },
    {
     "name": "stdout",
     "output_type": "stream",
     "text": [
      "Iteration: 4270/5000\t MSE eqn: 11.8342\t MSE boundary: 5844.9639\t Total Loss: 5856.7983\n"
     ]
    },
    {
     "name": "stderr",
     "output_type": "stream",
     "text": [
      " 86%|████████▌ | 4290/5000 [39:44<06:35,  1.80it/s]"
     ]
    },
    {
     "name": "stdout",
     "output_type": "stream",
     "text": [
      "Iteration: 4280/5000\t MSE eqn: 11.6470\t MSE boundary: 5407.0220\t Total Loss: 5418.6689\n"
     ]
    },
    {
     "name": "stderr",
     "output_type": "stream",
     "text": [
      " 86%|████████▌ | 4300/5000 [39:49<06:26,  1.81it/s]"
     ]
    },
    {
     "name": "stdout",
     "output_type": "stream",
     "text": [
      "Iteration: 4290/5000\t MSE eqn: 11.7412\t MSE boundary: 5523.6084\t Total Loss: 5535.3496\n"
     ]
    },
    {
     "name": "stderr",
     "output_type": "stream",
     "text": [
      " 86%|████████▌ | 4310/5000 [39:55<06:20,  1.82it/s]"
     ]
    },
    {
     "name": "stdout",
     "output_type": "stream",
     "text": [
      "Iteration: 4300/5000\t MSE eqn: 11.6700\t MSE boundary: 6321.9907\t Total Loss: 6333.6606\n"
     ]
    },
    {
     "name": "stderr",
     "output_type": "stream",
     "text": [
      " 86%|████████▋ | 4320/5000 [40:00<06:18,  1.80it/s]"
     ]
    },
    {
     "name": "stdout",
     "output_type": "stream",
     "text": [
      "Iteration: 4310/5000\t MSE eqn: 11.8094\t MSE boundary: 6282.6309\t Total Loss: 6294.4404\n"
     ]
    },
    {
     "name": "stderr",
     "output_type": "stream",
     "text": [
      " 87%|████████▋ | 4330/5000 [40:06<06:14,  1.79it/s]"
     ]
    },
    {
     "name": "stdout",
     "output_type": "stream",
     "text": [
      "Iteration: 4320/5000\t MSE eqn: 11.6985\t MSE boundary: 4951.4121\t Total Loss: 4963.1108\n"
     ]
    },
    {
     "name": "stderr",
     "output_type": "stream",
     "text": [
      " 87%|████████▋ | 4340/5000 [40:12<06:05,  1.80it/s]"
     ]
    },
    {
     "name": "stdout",
     "output_type": "stream",
     "text": [
      "Iteration: 4330/5000\t MSE eqn: 11.9605\t MSE boundary: 5383.4497\t Total Loss: 5395.4102\n"
     ]
    },
    {
     "name": "stderr",
     "output_type": "stream",
     "text": [
      " 87%|████████▋ | 4350/5000 [40:17<06:01,  1.80it/s]"
     ]
    },
    {
     "name": "stdout",
     "output_type": "stream",
     "text": [
      "Iteration: 4340/5000\t MSE eqn: 11.7900\t MSE boundary: 6514.2559\t Total Loss: 6526.0459\n"
     ]
    },
    {
     "name": "stderr",
     "output_type": "stream",
     "text": [
      " 87%|████████▋ | 4360/5000 [40:23<05:53,  1.81it/s]"
     ]
    },
    {
     "name": "stdout",
     "output_type": "stream",
     "text": [
      "Iteration: 4350/5000\t MSE eqn: 11.7783\t MSE boundary: 6384.0640\t Total Loss: 6395.8423\n"
     ]
    },
    {
     "name": "stderr",
     "output_type": "stream",
     "text": [
      " 87%|████████▋ | 4370/5000 [40:28<05:48,  1.81it/s]"
     ]
    },
    {
     "name": "stdout",
     "output_type": "stream",
     "text": [
      "Iteration: 4360/5000\t MSE eqn: 11.6959\t MSE boundary: 4968.6069\t Total Loss: 4980.3027\n"
     ]
    },
    {
     "name": "stderr",
     "output_type": "stream",
     "text": [
      " 88%|████████▊ | 4380/5000 [40:34<05:42,  1.81it/s]"
     ]
    },
    {
     "name": "stdout",
     "output_type": "stream",
     "text": [
      "Iteration: 4370/5000\t MSE eqn: 11.7024\t MSE boundary: 5730.9878\t Total Loss: 5742.6899\n"
     ]
    },
    {
     "name": "stderr",
     "output_type": "stream",
     "text": [
      " 88%|████████▊ | 4390/5000 [40:39<05:35,  1.82it/s]"
     ]
    },
    {
     "name": "stdout",
     "output_type": "stream",
     "text": [
      "Iteration: 4380/5000\t MSE eqn: 11.6540\t MSE boundary: 6162.0859\t Total Loss: 6173.7397\n"
     ]
    },
    {
     "name": "stderr",
     "output_type": "stream",
     "text": [
      " 88%|████████▊ | 4400/5000 [40:45<05:32,  1.80it/s]"
     ]
    },
    {
     "name": "stdout",
     "output_type": "stream",
     "text": [
      "Iteration: 4390/5000\t MSE eqn: 11.7212\t MSE boundary: 5478.4282\t Total Loss: 5490.1494\n"
     ]
    },
    {
     "name": "stderr",
     "output_type": "stream",
     "text": [
      " 88%|████████▊ | 4410/5000 [40:50<05:27,  1.80it/s]"
     ]
    },
    {
     "name": "stdout",
     "output_type": "stream",
     "text": [
      "Iteration: 4400/5000\t MSE eqn: 11.7913\t MSE boundary: 5718.7910\t Total Loss: 5730.5825\n"
     ]
    },
    {
     "name": "stderr",
     "output_type": "stream",
     "text": [
      " 88%|████████▊ | 4420/5000 [40:56<05:26,  1.78it/s]"
     ]
    },
    {
     "name": "stdout",
     "output_type": "stream",
     "text": [
      "Iteration: 4410/5000\t MSE eqn: 11.7810\t MSE boundary: 6094.8057\t Total Loss: 6106.5864\n"
     ]
    },
    {
     "name": "stderr",
     "output_type": "stream",
     "text": [
      " 89%|████████▊ | 4430/5000 [41:02<05:23,  1.76it/s]"
     ]
    },
    {
     "name": "stdout",
     "output_type": "stream",
     "text": [
      "Iteration: 4420/5000\t MSE eqn: 11.7310\t MSE boundary: 5982.4995\t Total Loss: 5994.2305\n"
     ]
    },
    {
     "name": "stderr",
     "output_type": "stream",
     "text": [
      " 89%|████████▉ | 4440/5000 [41:07<05:13,  1.78it/s]"
     ]
    },
    {
     "name": "stdout",
     "output_type": "stream",
     "text": [
      "Iteration: 4430/5000\t MSE eqn: 11.7620\t MSE boundary: 6680.7451\t Total Loss: 6692.5073\n"
     ]
    },
    {
     "name": "stderr",
     "output_type": "stream",
     "text": [
      " 89%|████████▉ | 4450/5000 [41:13<05:03,  1.81it/s]"
     ]
    },
    {
     "name": "stdout",
     "output_type": "stream",
     "text": [
      "Iteration: 4440/5000\t MSE eqn: 11.8742\t MSE boundary: 5611.5269\t Total Loss: 5623.4009\n"
     ]
    },
    {
     "name": "stderr",
     "output_type": "stream",
     "text": [
      " 89%|████████▉ | 4460/5000 [41:18<04:59,  1.80it/s]"
     ]
    },
    {
     "name": "stdout",
     "output_type": "stream",
     "text": [
      "Iteration: 4450/5000\t MSE eqn: 11.7684\t MSE boundary: 6290.8579\t Total Loss: 6302.6265\n"
     ]
    },
    {
     "name": "stderr",
     "output_type": "stream",
     "text": [
      " 89%|████████▉ | 4470/5000 [41:24<04:52,  1.81it/s]"
     ]
    },
    {
     "name": "stdout",
     "output_type": "stream",
     "text": [
      "Iteration: 4460/5000\t MSE eqn: 11.6612\t MSE boundary: 5388.7520\t Total Loss: 5400.4131\n"
     ]
    },
    {
     "name": "stderr",
     "output_type": "stream",
     "text": [
      " 90%|████████▉ | 4480/5000 [41:30<04:51,  1.78it/s]"
     ]
    },
    {
     "name": "stdout",
     "output_type": "stream",
     "text": [
      "Iteration: 4470/5000\t MSE eqn: 11.8559\t MSE boundary: 4774.4517\t Total Loss: 4786.3076\n"
     ]
    },
    {
     "name": "stderr",
     "output_type": "stream",
     "text": [
      " 90%|████████▉ | 4490/5000 [41:35<04:44,  1.79it/s]"
     ]
    },
    {
     "name": "stdout",
     "output_type": "stream",
     "text": [
      "Iteration: 4480/5000\t MSE eqn: 11.6332\t MSE boundary: 5695.7759\t Total Loss: 5707.4092\n"
     ]
    },
    {
     "name": "stderr",
     "output_type": "stream",
     "text": [
      " 90%|█████████ | 4500/5000 [41:41<04:37,  1.80it/s]"
     ]
    },
    {
     "name": "stdout",
     "output_type": "stream",
     "text": [
      "Iteration: 4490/5000\t MSE eqn: 11.7073\t MSE boundary: 6324.0522\t Total Loss: 6335.7598\n"
     ]
    },
    {
     "name": "stderr",
     "output_type": "stream",
     "text": [
      " 90%|█████████ | 4510/5000 [41:46<04:31,  1.81it/s]"
     ]
    },
    {
     "name": "stdout",
     "output_type": "stream",
     "text": [
      "Iteration: 4500/5000\t MSE eqn: 11.8346\t MSE boundary: 6084.4072\t Total Loss: 6096.2417\n"
     ]
    },
    {
     "name": "stderr",
     "output_type": "stream",
     "text": [
      " 90%|█████████ | 4520/5000 [41:52<04:25,  1.81it/s]"
     ]
    },
    {
     "name": "stdout",
     "output_type": "stream",
     "text": [
      "Iteration: 4510/5000\t MSE eqn: 11.8904\t MSE boundary: 6082.3491\t Total Loss: 6094.2397\n"
     ]
    },
    {
     "name": "stderr",
     "output_type": "stream",
     "text": [
      " 91%|█████████ | 4530/5000 [41:57<04:20,  1.80it/s]"
     ]
    },
    {
     "name": "stdout",
     "output_type": "stream",
     "text": [
      "Iteration: 4520/5000\t MSE eqn: 11.6950\t MSE boundary: 5879.8882\t Total Loss: 5891.5830\n"
     ]
    },
    {
     "name": "stderr",
     "output_type": "stream",
     "text": [
      " 91%|█████████ | 4540/5000 [42:03<04:14,  1.81it/s]"
     ]
    },
    {
     "name": "stdout",
     "output_type": "stream",
     "text": [
      "Iteration: 4530/5000\t MSE eqn: 11.7271\t MSE boundary: 6122.8169\t Total Loss: 6134.5439\n"
     ]
    },
    {
     "name": "stderr",
     "output_type": "stream",
     "text": [
      " 91%|█████████ | 4550/5000 [42:08<04:10,  1.80it/s]"
     ]
    },
    {
     "name": "stdout",
     "output_type": "stream",
     "text": [
      "Iteration: 4540/5000\t MSE eqn: 11.8039\t MSE boundary: 5558.3257\t Total Loss: 5570.1294\n"
     ]
    },
    {
     "name": "stderr",
     "output_type": "stream",
     "text": [
      " 91%|█████████ | 4560/5000 [42:14<04:04,  1.80it/s]"
     ]
    },
    {
     "name": "stdout",
     "output_type": "stream",
     "text": [
      "Iteration: 4550/5000\t MSE eqn: 11.7984\t MSE boundary: 4702.2236\t Total Loss: 4714.0220\n"
     ]
    },
    {
     "name": "stderr",
     "output_type": "stream",
     "text": [
      " 91%|█████████▏| 4570/5000 [42:19<03:56,  1.82it/s]"
     ]
    },
    {
     "name": "stdout",
     "output_type": "stream",
     "text": [
      "Iteration: 4560/5000\t MSE eqn: 11.7879\t MSE boundary: 6107.3687\t Total Loss: 6119.1567\n"
     ]
    },
    {
     "name": "stderr",
     "output_type": "stream",
     "text": [
      " 92%|█████████▏| 4580/5000 [42:25<03:51,  1.81it/s]"
     ]
    },
    {
     "name": "stdout",
     "output_type": "stream",
     "text": [
      "Iteration: 4570/5000\t MSE eqn: 11.7536\t MSE boundary: 5133.2524\t Total Loss: 5145.0059\n"
     ]
    },
    {
     "name": "stderr",
     "output_type": "stream",
     "text": [
      " 92%|█████████▏| 4590/5000 [42:30<03:45,  1.82it/s]"
     ]
    },
    {
     "name": "stdout",
     "output_type": "stream",
     "text": [
      "Iteration: 4580/5000\t MSE eqn: 11.6268\t MSE boundary: 5272.9604\t Total Loss: 5284.5874\n"
     ]
    },
    {
     "name": "stderr",
     "output_type": "stream",
     "text": [
      " 92%|█████████▏| 4600/5000 [42:36<03:39,  1.82it/s]"
     ]
    },
    {
     "name": "stdout",
     "output_type": "stream",
     "text": [
      "Iteration: 4590/5000\t MSE eqn: 11.6771\t MSE boundary: 6052.4961\t Total Loss: 6064.1733\n"
     ]
    },
    {
     "name": "stderr",
     "output_type": "stream",
     "text": [
      " 92%|█████████▏| 4610/5000 [42:41<03:34,  1.82it/s]"
     ]
    },
    {
     "name": "stdout",
     "output_type": "stream",
     "text": [
      "Iteration: 4600/5000\t MSE eqn: 11.7232\t MSE boundary: 5758.2471\t Total Loss: 5769.9702\n"
     ]
    },
    {
     "name": "stderr",
     "output_type": "stream",
     "text": [
      " 92%|█████████▏| 4620/5000 [42:47<03:28,  1.82it/s]"
     ]
    },
    {
     "name": "stdout",
     "output_type": "stream",
     "text": [
      "Iteration: 4610/5000\t MSE eqn: 11.7096\t MSE boundary: 5978.3447\t Total Loss: 5990.0542\n"
     ]
    },
    {
     "name": "stderr",
     "output_type": "stream",
     "text": [
      " 93%|█████████▎| 4630/5000 [42:52<03:21,  1.84it/s]"
     ]
    },
    {
     "name": "stdout",
     "output_type": "stream",
     "text": [
      "Iteration: 4620/5000\t MSE eqn: 11.7554\t MSE boundary: 5470.4438\t Total Loss: 5482.1992\n"
     ]
    },
    {
     "name": "stderr",
     "output_type": "stream",
     "text": [
      " 93%|█████████▎| 4640/5000 [42:58<03:24,  1.76it/s]"
     ]
    },
    {
     "name": "stdout",
     "output_type": "stream",
     "text": [
      "Iteration: 4630/5000\t MSE eqn: 11.8997\t MSE boundary: 5572.2725\t Total Loss: 5584.1724\n"
     ]
    },
    {
     "name": "stderr",
     "output_type": "stream",
     "text": [
      " 93%|█████████▎| 4650/5000 [43:04<03:17,  1.77it/s]"
     ]
    },
    {
     "name": "stdout",
     "output_type": "stream",
     "text": [
      "Iteration: 4640/5000\t MSE eqn: 11.6644\t MSE boundary: 6095.9897\t Total Loss: 6107.6543\n"
     ]
    },
    {
     "name": "stderr",
     "output_type": "stream",
     "text": [
      " 93%|█████████▎| 4660/5000 [43:09<03:11,  1.77it/s]"
     ]
    },
    {
     "name": "stdout",
     "output_type": "stream",
     "text": [
      "Iteration: 4650/5000\t MSE eqn: 11.7770\t MSE boundary: 6106.5732\t Total Loss: 6118.3501\n"
     ]
    },
    {
     "name": "stderr",
     "output_type": "stream",
     "text": [
      " 93%|█████████▎| 4670/5000 [43:15<03:04,  1.79it/s]"
     ]
    },
    {
     "name": "stdout",
     "output_type": "stream",
     "text": [
      "Iteration: 4660/5000\t MSE eqn: 11.7470\t MSE boundary: 5455.5239\t Total Loss: 5467.2710\n"
     ]
    },
    {
     "name": "stderr",
     "output_type": "stream",
     "text": [
      " 94%|█████████▎| 4680/5000 [43:20<02:58,  1.80it/s]"
     ]
    },
    {
     "name": "stdout",
     "output_type": "stream",
     "text": [
      "Iteration: 4670/5000\t MSE eqn: 11.6846\t MSE boundary: 5186.7544\t Total Loss: 5198.4390\n"
     ]
    },
    {
     "name": "stderr",
     "output_type": "stream",
     "text": [
      " 94%|█████████▍| 4690/5000 [43:26<02:53,  1.79it/s]"
     ]
    },
    {
     "name": "stdout",
     "output_type": "stream",
     "text": [
      "Iteration: 4680/5000\t MSE eqn: 11.7464\t MSE boundary: 5618.7485\t Total Loss: 5630.4951\n"
     ]
    },
    {
     "name": "stderr",
     "output_type": "stream",
     "text": [
      " 94%|█████████▍| 4700/5000 [43:31<02:46,  1.80it/s]"
     ]
    },
    {
     "name": "stdout",
     "output_type": "stream",
     "text": [
      "Iteration: 4690/5000\t MSE eqn: 11.7547\t MSE boundary: 6308.9043\t Total Loss: 6320.6592\n"
     ]
    },
    {
     "name": "stderr",
     "output_type": "stream",
     "text": [
      " 94%|█████████▍| 4710/5000 [43:37<02:39,  1.82it/s]"
     ]
    },
    {
     "name": "stdout",
     "output_type": "stream",
     "text": [
      "Iteration: 4700/5000\t MSE eqn: 11.7903\t MSE boundary: 4831.5952\t Total Loss: 4843.3853\n"
     ]
    },
    {
     "name": "stderr",
     "output_type": "stream",
     "text": [
      " 94%|█████████▍| 4720/5000 [43:43<02:35,  1.80it/s]"
     ]
    },
    {
     "name": "stdout",
     "output_type": "stream",
     "text": [
      "Iteration: 4710/5000\t MSE eqn: 11.7961\t MSE boundary: 6269.2202\t Total Loss: 6281.0161\n"
     ]
    },
    {
     "name": "stderr",
     "output_type": "stream",
     "text": [
      " 95%|█████████▍| 4730/5000 [43:48<02:28,  1.82it/s]"
     ]
    },
    {
     "name": "stdout",
     "output_type": "stream",
     "text": [
      "Iteration: 4720/5000\t MSE eqn: 11.8779\t MSE boundary: 5301.1978\t Total Loss: 5313.0757\n"
     ]
    },
    {
     "name": "stderr",
     "output_type": "stream",
     "text": [
      " 95%|█████████▍| 4740/5000 [43:53<02:22,  1.83it/s]"
     ]
    },
    {
     "name": "stdout",
     "output_type": "stream",
     "text": [
      "Iteration: 4730/5000\t MSE eqn: 11.7085\t MSE boundary: 5287.0679\t Total Loss: 5298.7764\n"
     ]
    },
    {
     "name": "stderr",
     "output_type": "stream",
     "text": [
      " 95%|█████████▌| 4750/5000 [43:59<02:18,  1.81it/s]"
     ]
    },
    {
     "name": "stdout",
     "output_type": "stream",
     "text": [
      "Iteration: 4740/5000\t MSE eqn: 11.8740\t MSE boundary: 6449.7134\t Total Loss: 6461.5874\n"
     ]
    },
    {
     "name": "stderr",
     "output_type": "stream",
     "text": [
      " 95%|█████████▌| 4760/5000 [44:04<02:12,  1.82it/s]"
     ]
    },
    {
     "name": "stdout",
     "output_type": "stream",
     "text": [
      "Iteration: 4750/5000\t MSE eqn: 11.7058\t MSE boundary: 6010.6914\t Total Loss: 6022.3970\n"
     ]
    },
    {
     "name": "stderr",
     "output_type": "stream",
     "text": [
      " 95%|█████████▌| 4770/5000 [44:10<02:06,  1.82it/s]"
     ]
    },
    {
     "name": "stdout",
     "output_type": "stream",
     "text": [
      "Iteration: 4760/5000\t MSE eqn: 11.8202\t MSE boundary: 6399.8755\t Total Loss: 6411.6958\n"
     ]
    },
    {
     "name": "stderr",
     "output_type": "stream",
     "text": [
      " 96%|█████████▌| 4780/5000 [44:15<02:01,  1.81it/s]"
     ]
    },
    {
     "name": "stdout",
     "output_type": "stream",
     "text": [
      "Iteration: 4770/5000\t MSE eqn: 11.7661\t MSE boundary: 6278.4775\t Total Loss: 6290.2437\n"
     ]
    },
    {
     "name": "stderr",
     "output_type": "stream",
     "text": [
      " 96%|█████████▌| 4790/5000 [44:21<01:54,  1.83it/s]"
     ]
    },
    {
     "name": "stdout",
     "output_type": "stream",
     "text": [
      "Iteration: 4780/5000\t MSE eqn: 11.7514\t MSE boundary: 6039.8989\t Total Loss: 6051.6504\n"
     ]
    },
    {
     "name": "stderr",
     "output_type": "stream",
     "text": [
      " 96%|█████████▌| 4800/5000 [44:26<01:48,  1.84it/s]"
     ]
    },
    {
     "name": "stdout",
     "output_type": "stream",
     "text": [
      "Iteration: 4790/5000\t MSE eqn: 11.8152\t MSE boundary: 6512.8623\t Total Loss: 6524.6772\n"
     ]
    },
    {
     "name": "stderr",
     "output_type": "stream",
     "text": [
      " 96%|█████████▌| 4810/5000 [44:32<01:44,  1.83it/s]"
     ]
    },
    {
     "name": "stdout",
     "output_type": "stream",
     "text": [
      "Iteration: 4800/5000\t MSE eqn: 11.8105\t MSE boundary: 6028.8408\t Total Loss: 6040.6514\n"
     ]
    },
    {
     "name": "stderr",
     "output_type": "stream",
     "text": [
      " 96%|█████████▋| 4820/5000 [44:37<01:38,  1.83it/s]"
     ]
    },
    {
     "name": "stdout",
     "output_type": "stream",
     "text": [
      "Iteration: 4810/5000\t MSE eqn: 11.8467\t MSE boundary: 5336.1841\t Total Loss: 5348.0308\n"
     ]
    },
    {
     "name": "stderr",
     "output_type": "stream",
     "text": [
      " 97%|█████████▋| 4830/5000 [44:43<01:32,  1.83it/s]"
     ]
    },
    {
     "name": "stdout",
     "output_type": "stream",
     "text": [
      "Iteration: 4820/5000\t MSE eqn: 11.7029\t MSE boundary: 5595.6572\t Total Loss: 5607.3604\n"
     ]
    },
    {
     "name": "stderr",
     "output_type": "stream",
     "text": [
      " 97%|█████████▋| 4840/5000 [44:48<01:28,  1.82it/s]"
     ]
    },
    {
     "name": "stdout",
     "output_type": "stream",
     "text": [
      "Iteration: 4830/5000\t MSE eqn: 11.7430\t MSE boundary: 6240.4800\t Total Loss: 6252.2231\n"
     ]
    },
    {
     "name": "stderr",
     "output_type": "stream",
     "text": [
      " 97%|█████████▋| 4850/5000 [44:54<01:23,  1.80it/s]"
     ]
    },
    {
     "name": "stdout",
     "output_type": "stream",
     "text": [
      "Iteration: 4840/5000\t MSE eqn: 11.7192\t MSE boundary: 6614.2212\t Total Loss: 6625.9404\n"
     ]
    },
    {
     "name": "stderr",
     "output_type": "stream",
     "text": [
      " 97%|█████████▋| 4860/5000 [45:00<01:18,  1.77it/s]"
     ]
    },
    {
     "name": "stdout",
     "output_type": "stream",
     "text": [
      "Iteration: 4850/5000\t MSE eqn: 11.9060\t MSE boundary: 6556.4077\t Total Loss: 6568.3135\n"
     ]
    },
    {
     "name": "stderr",
     "output_type": "stream",
     "text": [
      " 97%|█████████▋| 4870/5000 [45:05<01:13,  1.78it/s]"
     ]
    },
    {
     "name": "stdout",
     "output_type": "stream",
     "text": [
      "Iteration: 4860/5000\t MSE eqn: 11.7451\t MSE boundary: 5498.6118\t Total Loss: 5510.3569\n"
     ]
    },
    {
     "name": "stderr",
     "output_type": "stream",
     "text": [
      " 98%|█████████▊| 4880/5000 [45:11<01:06,  1.80it/s]"
     ]
    },
    {
     "name": "stdout",
     "output_type": "stream",
     "text": [
      "Iteration: 4870/5000\t MSE eqn: 11.7484\t MSE boundary: 5490.3232\t Total Loss: 5502.0718\n"
     ]
    },
    {
     "name": "stderr",
     "output_type": "stream",
     "text": [
      " 98%|█████████▊| 4890/5000 [45:16<01:01,  1.80it/s]"
     ]
    },
    {
     "name": "stdout",
     "output_type": "stream",
     "text": [
      "Iteration: 4880/5000\t MSE eqn: 11.5227\t MSE boundary: 5646.8696\t Total Loss: 5658.3921\n"
     ]
    },
    {
     "name": "stderr",
     "output_type": "stream",
     "text": [
      " 98%|█████████▊| 4900/5000 [45:22<00:55,  1.80it/s]"
     ]
    },
    {
     "name": "stdout",
     "output_type": "stream",
     "text": [
      "Iteration: 4890/5000\t MSE eqn: 11.7526\t MSE boundary: 5758.0708\t Total Loss: 5769.8232\n"
     ]
    },
    {
     "name": "stderr",
     "output_type": "stream",
     "text": [
      " 98%|█████████▊| 4910/5000 [45:27<00:50,  1.80it/s]"
     ]
    },
    {
     "name": "stdout",
     "output_type": "stream",
     "text": [
      "Iteration: 4900/5000\t MSE eqn: 11.7837\t MSE boundary: 5740.3228\t Total Loss: 5752.1064\n"
     ]
    },
    {
     "name": "stderr",
     "output_type": "stream",
     "text": [
      " 98%|█████████▊| 4920/5000 [45:33<00:44,  1.78it/s]"
     ]
    },
    {
     "name": "stdout",
     "output_type": "stream",
     "text": [
      "Iteration: 4910/5000\t MSE eqn: 11.6027\t MSE boundary: 5947.9658\t Total Loss: 5959.5684\n"
     ]
    },
    {
     "name": "stderr",
     "output_type": "stream",
     "text": [
      " 99%|█████████▊| 4930/5000 [45:39<00:38,  1.80it/s]"
     ]
    },
    {
     "name": "stdout",
     "output_type": "stream",
     "text": [
      "Iteration: 4920/5000\t MSE eqn: 11.8784\t MSE boundary: 5977.9248\t Total Loss: 5989.8032\n"
     ]
    },
    {
     "name": "stderr",
     "output_type": "stream",
     "text": [
      " 99%|█████████▉| 4940/5000 [45:44<00:33,  1.80it/s]"
     ]
    },
    {
     "name": "stdout",
     "output_type": "stream",
     "text": [
      "Iteration: 4930/5000\t MSE eqn: 11.6665\t MSE boundary: 5824.4546\t Total Loss: 5836.1211\n"
     ]
    },
    {
     "name": "stderr",
     "output_type": "stream",
     "text": [
      " 99%|█████████▉| 4950/5000 [45:50<00:27,  1.79it/s]"
     ]
    },
    {
     "name": "stdout",
     "output_type": "stream",
     "text": [
      "Iteration: 4940/5000\t MSE eqn: 11.9151\t MSE boundary: 6036.9839\t Total Loss: 6048.8989\n"
     ]
    },
    {
     "name": "stderr",
     "output_type": "stream",
     "text": [
      " 99%|█████████▉| 4960/5000 [45:55<00:22,  1.81it/s]"
     ]
    },
    {
     "name": "stdout",
     "output_type": "stream",
     "text": [
      "Iteration: 4950/5000\t MSE eqn: 11.8980\t MSE boundary: 5580.0190\t Total Loss: 5591.9170\n"
     ]
    },
    {
     "name": "stderr",
     "output_type": "stream",
     "text": [
      " 99%|█████████▉| 4970/5000 [46:01<00:16,  1.80it/s]"
     ]
    },
    {
     "name": "stdout",
     "output_type": "stream",
     "text": [
      "Iteration: 4960/5000\t MSE eqn: 11.6682\t MSE boundary: 5901.6748\t Total Loss: 5913.3428\n"
     ]
    },
    {
     "name": "stderr",
     "output_type": "stream",
     "text": [
      "100%|█████████▉| 4980/5000 [46:06<00:11,  1.79it/s]"
     ]
    },
    {
     "name": "stdout",
     "output_type": "stream",
     "text": [
      "Iteration: 4970/5000\t MSE eqn: 11.7582\t MSE boundary: 4860.5161\t Total Loss: 4872.2744\n"
     ]
    },
    {
     "name": "stderr",
     "output_type": "stream",
     "text": [
      "100%|█████████▉| 4990/5000 [46:12<00:05,  1.80it/s]"
     ]
    },
    {
     "name": "stdout",
     "output_type": "stream",
     "text": [
      "Iteration: 4980/5000\t MSE eqn: 11.9330\t MSE boundary: 6172.6675\t Total Loss: 6184.6006\n"
     ]
    },
    {
     "name": "stderr",
     "output_type": "stream",
     "text": [
      "100%|██████████| 5000/5000 [46:17<00:00,  1.81it/s]"
     ]
    },
    {
     "name": "stdout",
     "output_type": "stream",
     "text": [
      "Iteration: 4990/5000\t MSE eqn: 11.7451\t MSE boundary: 5723.8535\t Total Loss: 5735.5986\n"
     ]
    },
    {
     "data": {
      "image/png": "[encoded data removed]",
      "text/plain": [
       "<Figure size 432x288 with 1 Axes>"
      ]
     },
     "metadata": {
      "needs_background": "light"
     },
     "output_type": "display_data"
    },
    {
     "name": "stderr",
     "output_type": "stream",
     "text": [
      "100%|██████████| 5000/5000 [46:23<00:00,  1.80it/s]\n"
     ]
    }
   ],
   "source": [
    "if torch.cuda.is_available():\n",
    "    device = \"cuda\"\n",
    "else:\n",
    "    device=\"cpu\"\n",
    "\n",
    "\n",
    "seed = 1\n",
    "set_seed(seed)\n",
    "results_path = os.path.join('./numerical_results/', \"PDE_DGM\", \"seed{}\".format(seed))\n",
    "if not os.path.exists(results_path):\n",
    "    os.makedirs(results_path)\n",
    "\n",
    "train(T=1,\n",
    "    n_steps=50,\n",
    "    d=2,\n",
    "    hidden_dim=100,\n",
    "    max_updates=5000,\n",
    "    batch_size=500,\n",
    "    base_dir=results_path,\n",
    "    device=device,\n",
    "    )"
   ]
  },
  {
   "cell_type": "code",
   "execution_count": null,
   "id": "2cf9845f",
   "metadata": {},
   "outputs": [],
   "source": []
  },
  {
   "cell_type": "code",
   "execution_count": null,
   "id": "6cc45511",
   "metadata": {},
   "outputs": [],
   "source": []
  },
  {
   "cell_type": "code",
   "execution_count": null,
   "id": "3a772271",
   "metadata": {},
   "outputs": [],
   "source": []
  },
  {
   "cell_type": "code",
   "execution_count": null,
   "id": "2ee55d98",
   "metadata": {},
   "outputs": [],
   "source": []
  },
  {
   "cell_type": "code",
   "execution_count": null,
   "id": "ad37ef24",
   "metadata": {},
   "outputs": [],
   "source": []
  }
 ],
 "metadata": {
  "kernelspec": {
   "display_name": "Python 3 (ipykernel)",
   "language": "python",
   "name": "python3"
  },
  "language_info": {
   "codemirror_mode": {
    "name": "ipython",
    "version": 3
   },
   "file_extension": ".py",
   "mimetype": "text/x-python",
   "name": "python",
   "nbconvert_exporter": "python",
   "pygments_lexer": "ipython3",
   "version": "3.9.12"
  }
 },
 "nbformat": 4,
 "nbformat_minor": 5
}
