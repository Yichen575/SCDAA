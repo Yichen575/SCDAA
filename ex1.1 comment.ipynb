{
 "cells": [
  {
   "cell_type": "markdown",
   "id": "748bc55e-88e1-4774-a119-60bc1b5dab03",
   "metadata": {},
   "source": [
    "Sure, here's an example class in Python that can be used to solve an LQR problem using the Riccati ODE approach"
   ]
  },
  {
   "cell_type": "code",
   "execution_count": 1,
   "id": "334cafc0-3248-4c13-bc3d-b06f2a21adb4",
   "metadata": {},
   "outputs": [],
   "source": [
    "import numpy as np\n",
    "import torch\n",
    "from scipy.integrate import solve_ivp"
   ]
  },
  {
   "cell_type": "code",
   "execution_count": 7,
   "id": "df38af41-cd46-4de1-b808-74795cbb804d",
   "metadata": {},
   "outputs": [],
   "source": [
    "class LQR_Riccati:\n",
    "    def __init__(self, A, B, Q, R, T):\n",
    "        self.A = A\n",
    "        self.B = B\n",
    "        self.Q = Q\n",
    "        self.R = R\n",
    "        self.T = T\n",
    "        \n",
    "    def solve(self, t_span=None, t_eval=None):\n",
    "        def riccati_ode(t, P_vec):\n",
    "            P = P_vec.reshape((self.A.shape[0], self.A.shape[0]))\n",
    "            dP_dt = -self.Q + P @ self.B @ np.linalg.inv(self.R) @ self.B.T @ P - P @ self.A - self.A.T @ P\n",
    "            return dP_dt.reshape((self.A.shape[0] ** 2,))\n",
    "        \n",
    "        P0 = self.Q\n",
    "        if t_span is None:\n",
    "            t_span = (0, self.T)\n",
    "        if t_eval is None:\n",
    "            t_eval = np.linspace(t_span[0], t_span[1], num=101)\n",
    "        P_vec = solve_ivp(riccati_ode, t_span, P0.reshape((self.A.shape[0] ** 2,)), t_eval=t_eval, method='RK45', rtol=1e-6, atol=1e-8).y\n",
    "        P = P_vec.reshape((self.A.shape[0], self.A.shape[0], -1))\n",
    "        K = np.linalg.inv(self.R) @ self.B.T @ P\n",
    "        \n",
    "        return K\n",
    "    \n",
    "    def value_function(self, x):\n",
    "        x = torch.tensor(x, dtype=torch.float32)\n",
    "        K = torch.tensor(self.solve(), dtype=torch.float32)\n",
    "        A_cl = self.A - self.B @ K\n",
    "        Q_cl = self.Q - self.B @ K @ self.R @ K.T @ self.B.T\n",
    "        v = torch.sum(x.unsqueeze(-1) @ Q_cl @ x.unsqueeze(-2), dim=(-1, -2))\n",
    "        return v"
   ]
  },
  {
   "cell_type": "code",
   "execution_count": null,
   "id": "91115335-9043-4614-86a4-841aee6e5a82",
   "metadata": {},
   "outputs": [],
   "source": []
  }
 ],
 "metadata": {
  "kernelspec": {
   "display_name": "Python 3 (ipykernel)",
   "language": "python",
   "name": "python3"
  },
  "language_info": {
   "codemirror_mode": {
    "name": "ipython",
    "version": 3
   },
   "file_extension": ".py",
   "mimetype": "text/x-python",
   "name": "python",
   "nbconvert_exporter": "python",
   "pygments_lexer": "ipython3",
   "version": "3.9.12"
  }
 },
 "nbformat": 4,
 "nbformat_minor": 5
}
